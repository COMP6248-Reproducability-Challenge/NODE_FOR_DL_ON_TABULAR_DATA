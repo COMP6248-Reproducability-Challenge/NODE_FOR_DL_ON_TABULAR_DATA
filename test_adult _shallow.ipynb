{
 "cells": [
  {
   "cell_type": "code",
   "execution_count": 1,
   "metadata": {},
   "outputs": [],
   "source": [
    "import os\n",
    "data_name = 'ADULT'\n",
    "trial_name ='ADULT_shallow'\n",
    "log_path = os.path.join('logs',trial_name)\n",
    "device ='cuda:0'"
   ]
  },
  {
   "cell_type": "code",
   "execution_count": 5,
   "metadata": {},
   "outputs": [],
   "source": [
    "from data_loader import data_processing\n",
    "data = data_processing(data_name,random_state=1337)"
   ]
  },
  {
   "cell_type": "code",
   "execution_count": 6,
   "metadata": {},
   "outputs": [],
   "source": [
    "import pandas as pd\n",
    "import os\n",
    "path = 'saved_data'\n",
    "if os.path.exists(path) != True:\n",
    "    os.mkdir(path)\n",
    "saved_folder =  os.path.join(path, data_name)\n",
    "\n",
    "if os.path.exists(saved_folder) != True:\n",
    "    os.mkdir(saved_folder)"
   ]
  },
  {
   "cell_type": "code",
   "execution_count": 7,
   "metadata": {},
   "outputs": [],
   "source": [
    "pd.to_pickle(data, os.path.join( saved_folder, data_name +'.all'))"
   ]
  },
  {
   "cell_type": "code",
   "execution_count": 8,
   "metadata": {},
   "outputs": [],
   "source": [
    "data = pd.read_pickle(os.path.join( saved_folder, data_name +'.all'))"
   ]
  },
  {
   "cell_type": "code",
   "execution_count": 9,
   "metadata": {},
   "outputs": [
    {
     "output_type": "stream",
     "name": "stdout",
     "text": "tensor(190192.1094)\n"
    }
   ],
   "source": [
    "import torch.nn.functional as F\n",
    "import torch\n",
    "def to_tensor(input):\n",
    "        return torch.from_numpy(input).float()\n",
    "\n",
    "X = to_tensor(data['X_valid'])\n",
    "y = to_tensor(data['y_valid'])\n",
    "\n",
    "print(F.cross_entropy(X,y.long(),reduction='mean'))"
   ]
  },
  {
   "cell_type": "code",
   "execution_count": 10,
   "metadata": {},
   "outputs": [
    {
     "output_type": "stream",
     "name": "stdout",
     "text": "14\n2\n"
    }
   ],
   "source": [
    "from net import DenseBlock\n",
    "from nn_utils import entmax15,entmoid15,Lambda\n",
    "from torch import nn\n",
    "\n",
    "in_features = data['X_train'].shape[1]\n",
    "print(in_features)\n",
    "num_classes = len(set(data['y_train']))\n",
    "print(num_classes)\n",
    "model = nn.Sequential(\n",
    "    DenseBlock(in_features, 2048, num_layers=1, tree_dim=num_classes+1, depth=6, flatten = False,\n",
    "                   choice_function= entmax15, bin_function= entmoid15),\n",
    "    Lambda(lambda x: x.mean(dim=-2)),   # mean over trees, first 3 columnstree\n",
    ").to(device)"
   ]
  },
  {
   "cell_type": "code",
   "execution_count": 11,
   "metadata": {},
   "outputs": [],
   "source": [
    "from qhoptim.pyt import QHAdam\n",
    "opt_params = { 'nus':(0.7, 1.0), 'betas':(0.95, 0.998) }"
   ]
  },
  {
   "cell_type": "code",
   "execution_count": 12,
   "metadata": {},
   "outputs": [],
   "source": [
    "import torchbearer\n",
    "import torch\n",
    "from torchbearer import Trial\n",
    "from torchbearer.callbacks.decorators import on_end_epoch\n",
    "from torchbearer.callbacks.decorators import on_backward\n",
    "from torchbearer.callbacks.decorators import on_end_validation\n",
    "from torchbearer.callbacks.decorators import on_start_validation\n",
    "from torch.utils.tensorboard import SummaryWriter\n",
    "import os\n",
    "from trial import eval_model\n",
    "import torch.nn.functional as F\n",
    "import torch.nn\n",
    "def cross_entropy(X,y):\n",
    "    return F.cross_entropy(X,y.long())\n",
    "m = eval_model(model,loss_f=cross_entropy,device=device,metrics=['loss','accuracy'], opt =QHAdam, trial_name=trial_name, opt_params=opt_params)\n",
    "\n",
    "writer = SummaryWriter(os.path.join('writer',data_name),filename_suffix='.loss')\n",
    "loss_his,val_loss = [],[]\n",
    "settings = { 'stop_rounds':2000, 'best_step': 0,'c_val_loss': 1,}\n",
    "@on_backward\n",
    "def save_loss(state):\n",
    "    tem = state[torchbearer.LOSS].data\n",
    "    writer.add_scalar('Loss/train', tem, len(loss_his))\n",
    "    loss_his.append(tem)\n",
    "    if len(loss_his) > settings['stop_rounds']  + settings['best_step']:\n",
    "        state[torchbearer.STOP_TRAINING] = True \n",
    "        print('No improvement, stop early!')\n",
    "\n",
    "@on_end_validation\n",
    "def best_mse(state):\n",
    "    tem = state[torchbearer.LOSS].data\n",
    "    writer.add_scalar('Loss/val',tem, len(val_loss))\n",
    "    val_loss.append(tem)\n",
    "    if settings['c_val_loss'] > tem.cpu():\n",
    "        settings['c_val_loss'] = tem.cpu()\n",
    "        settings['best_step'] = len(loss_his)\n",
    "        m.best_step = len(loss_his)\n",
    "        m.save_model('best')\n",
    "m.call_backs = [save_loss, best_mse]\n",
    "m.init_trial()"
   ]
  },
  {
   "cell_type": "code",
   "execution_count": 13,
   "metadata": {},
   "outputs": [
    {
     "output_type": "stream",
     "name": "stdout",
     "text": "train data: 20839\nval data: 5210\ntest data: 6512\n"
    }
   ],
   "source": [
    "from data_set import MyDataset\n",
    "params = {'batch_size': 128,\n",
    "          'shuffle': True,}\n",
    "          #'num_workers': 6}\n",
    "\n",
    "test = MyDataset(data)\n",
    "test.quantile_transform(noise=1e-3,random_state=1337)\n",
    "#test.normalised()\n",
    "tr_loader = test.get_loader('train', params)\n",
    "val_loader = test.get_loader('vaild',params)\n",
    "t_loader = test.get_loader('test', params)\n",
    "print('train data:', len(tr_loader.dataset))\n",
    "print('val data:', len(val_loader.dataset))\n",
    "print('test data:', len(t_loader.dataset))"
   ]
  },
  {
   "cell_type": "code",
   "execution_count": 14,
   "metadata": {},
   "outputs": [],
   "source": [
    "torch.save(tr_loader, os.path.join(saved_folder,'tr_'))\n",
    "torch.save(val_loader, os.path.join(saved_folder,'val_'))\n",
    "torch.save(t_loader,os.path.join(saved_folder,'t_'))"
   ]
  },
  {
   "cell_type": "code",
   "execution_count": 15,
   "metadata": {},
   "outputs": [],
   "source": [
    "tr_loader = torch.load(os.path.join(saved_folder,'tr_'))\n",
    "val_loader = torch.load(os.path.join(saved_folder,'val_'))\n",
    "t_loader = torch.load(os.path.join(saved_folder,'t_'))"
   ]
  },
  {
   "cell_type": "code",
   "execution_count": 16,
   "metadata": {},
   "outputs": [
    {
     "output_type": "display_data",
     "data": {
      "text/plain": "HBox(children=(FloatProgress(value=0.0, description='0/50(t)', max=163.0, style=ProgressStyle(description_widt…",
      "application/vnd.jupyter.widget-view+json": {
       "version_major": 2,
       "version_minor": 0,
       "model_id": "3c441a5e7d3847fe8f0cf8a212d993f5"
      }
     },
     "metadata": {}
    },
    {
     "output_type": "stream",
     "name": "stdout",
     "text": "\n"
    },
    {
     "output_type": "display_data",
     "data": {
      "text/plain": "HBox(children=(FloatProgress(value=0.0, description='0/50(v)', max=41.0, style=ProgressStyle(description_width…",
      "application/vnd.jupyter.widget-view+json": {
       "version_major": 2,
       "version_minor": 0,
       "model_id": "6891c0bcc27348be9a2ea2ec9abffaff"
      }
     },
     "metadata": {}
    },
    {
     "output_type": "stream",
     "name": "stdout",
     "text": "\n"
    },
    {
     "output_type": "display_data",
     "data": {
      "text/plain": "HBox(children=(FloatProgress(value=0.0, description='1/50(t)', max=163.0, style=ProgressStyle(description_widt…",
      "application/vnd.jupyter.widget-view+json": {
       "version_major": 2,
       "version_minor": 0,
       "model_id": "4a4da7ad3e8c416a8aaabe7ccb556322"
      }
     },
     "metadata": {}
    },
    {
     "output_type": "stream",
     "name": "stdout",
     "text": "\n"
    },
    {
     "output_type": "display_data",
     "data": {
      "text/plain": "HBox(children=(FloatProgress(value=0.0, description='1/50(v)', max=41.0, style=ProgressStyle(description_width…",
      "application/vnd.jupyter.widget-view+json": {
       "version_major": 2,
       "version_minor": 0,
       "model_id": "6bde64e79c2a4e55bc4f72672a97e1b7"
      }
     },
     "metadata": {}
    },
    {
     "output_type": "stream",
     "name": "stdout",
     "text": "\n"
    },
    {
     "output_type": "display_data",
     "data": {
      "text/plain": "HBox(children=(FloatProgress(value=0.0, description='2/50(t)', max=163.0, style=ProgressStyle(description_widt…",
      "application/vnd.jupyter.widget-view+json": {
       "version_major": 2,
       "version_minor": 0,
       "model_id": "7902fe7f8b9d40b38aacbf8774cb2119"
      }
     },
     "metadata": {}
    },
    {
     "output_type": "stream",
     "name": "stdout",
     "text": "\n"
    },
    {
     "output_type": "display_data",
     "data": {
      "text/plain": "HBox(children=(FloatProgress(value=0.0, description='2/50(v)', max=41.0, style=ProgressStyle(description_width…",
      "application/vnd.jupyter.widget-view+json": {
       "version_major": 2,
       "version_minor": 0,
       "model_id": "6fa37009d3a64ed5ad08f16ca9d4f3a7"
      }
     },
     "metadata": {}
    },
    {
     "output_type": "stream",
     "name": "stdout",
     "text": "\n"
    },
    {
     "output_type": "display_data",
     "data": {
      "text/plain": "HBox(children=(FloatProgress(value=0.0, description='3/50(t)', max=163.0, style=ProgressStyle(description_widt…",
      "application/vnd.jupyter.widget-view+json": {
       "version_major": 2,
       "version_minor": 0,
       "model_id": "f98b025a9c514994969613a61c048022"
      }
     },
     "metadata": {}
    },
    {
     "output_type": "stream",
     "name": "stdout",
     "text": "\n"
    },
    {
     "output_type": "display_data",
     "data": {
      "text/plain": "HBox(children=(FloatProgress(value=0.0, description='3/50(v)', max=41.0, style=ProgressStyle(description_width…",
      "application/vnd.jupyter.widget-view+json": {
       "version_major": 2,
       "version_minor": 0,
       "model_id": "8d870a06616f41aca52e2c67c48de7ab"
      }
     },
     "metadata": {}
    },
    {
     "output_type": "stream",
     "name": "stdout",
     "text": "\n"
    },
    {
     "output_type": "display_data",
     "data": {
      "text/plain": "HBox(children=(FloatProgress(value=0.0, description='4/50(t)', max=163.0, style=ProgressStyle(description_widt…",
      "application/vnd.jupyter.widget-view+json": {
       "version_major": 2,
       "version_minor": 0,
       "model_id": "335bdba3ded8464e8ce837979945b729"
      }
     },
     "metadata": {}
    },
    {
     "output_type": "stream",
     "name": "stdout",
     "text": "\n"
    },
    {
     "output_type": "display_data",
     "data": {
      "text/plain": "HBox(children=(FloatProgress(value=0.0, description='4/50(v)', max=41.0, style=ProgressStyle(description_width…",
      "application/vnd.jupyter.widget-view+json": {
       "version_major": 2,
       "version_minor": 0,
       "model_id": "eb5957a2f46746be9e4ff20a9367f083"
      }
     },
     "metadata": {}
    },
    {
     "output_type": "stream",
     "name": "stdout",
     "text": "\n"
    },
    {
     "output_type": "display_data",
     "data": {
      "text/plain": "HBox(children=(FloatProgress(value=0.0, description='5/50(t)', max=163.0, style=ProgressStyle(description_widt…",
      "application/vnd.jupyter.widget-view+json": {
       "version_major": 2,
       "version_minor": 0,
       "model_id": "f2ab835945ea434f8d99311b7591b399"
      }
     },
     "metadata": {}
    },
    {
     "output_type": "stream",
     "name": "stdout",
     "text": "\n"
    },
    {
     "output_type": "display_data",
     "data": {
      "text/plain": "HBox(children=(FloatProgress(value=0.0, description='5/50(v)', max=41.0, style=ProgressStyle(description_width…",
      "application/vnd.jupyter.widget-view+json": {
       "version_major": 2,
       "version_minor": 0,
       "model_id": "7e96537178f84dcc8cf7ca8e11e4ed5d"
      }
     },
     "metadata": {}
    },
    {
     "output_type": "stream",
     "name": "stdout",
     "text": "\n"
    },
    {
     "output_type": "display_data",
     "data": {
      "text/plain": "HBox(children=(FloatProgress(value=0.0, description='6/50(t)', max=163.0, style=ProgressStyle(description_widt…",
      "application/vnd.jupyter.widget-view+json": {
       "version_major": 2,
       "version_minor": 0,
       "model_id": "efa4642e987246bb80bf8397d7dca3e3"
      }
     },
     "metadata": {}
    },
    {
     "output_type": "stream",
     "name": "stdout",
     "text": "\n"
    },
    {
     "output_type": "display_data",
     "data": {
      "text/plain": "HBox(children=(FloatProgress(value=0.0, description='6/50(v)', max=41.0, style=ProgressStyle(description_width…",
      "application/vnd.jupyter.widget-view+json": {
       "version_major": 2,
       "version_minor": 0,
       "model_id": "567a48019fd24cadb2d59e729c4a0751"
      }
     },
     "metadata": {}
    },
    {
     "output_type": "stream",
     "name": "stdout",
     "text": "\n"
    },
    {
     "output_type": "display_data",
     "data": {
      "text/plain": "HBox(children=(FloatProgress(value=0.0, description='7/50(t)', max=163.0, style=ProgressStyle(description_widt…",
      "application/vnd.jupyter.widget-view+json": {
       "version_major": 2,
       "version_minor": 0,
       "model_id": "e5168310740b4fb6b68a7927947a19f8"
      }
     },
     "metadata": {}
    },
    {
     "output_type": "stream",
     "name": "stdout",
     "text": "\n"
    },
    {
     "output_type": "display_data",
     "data": {
      "text/plain": "HBox(children=(FloatProgress(value=0.0, description='7/50(v)', max=41.0, style=ProgressStyle(description_width…",
      "application/vnd.jupyter.widget-view+json": {
       "version_major": 2,
       "version_minor": 0,
       "model_id": "c2c76228d6794abc9f52ed2b3dbc8e32"
      }
     },
     "metadata": {}
    },
    {
     "output_type": "stream",
     "name": "stdout",
     "text": "\n"
    },
    {
     "output_type": "display_data",
     "data": {
      "text/plain": "HBox(children=(FloatProgress(value=0.0, description='8/50(t)', max=163.0, style=ProgressStyle(description_widt…",
      "application/vnd.jupyter.widget-view+json": {
       "version_major": 2,
       "version_minor": 0,
       "model_id": "736b4c50e6fb40c59f38e461543496e2"
      }
     },
     "metadata": {}
    },
    {
     "output_type": "stream",
     "name": "stdout",
     "text": "\n"
    },
    {
     "output_type": "display_data",
     "data": {
      "text/plain": "HBox(children=(FloatProgress(value=0.0, description='8/50(v)', max=41.0, style=ProgressStyle(description_width…",
      "application/vnd.jupyter.widget-view+json": {
       "version_major": 2,
       "version_minor": 0,
       "model_id": "6dfd75f9b6064e78954402316af67ccb"
      }
     },
     "metadata": {}
    },
    {
     "output_type": "stream",
     "name": "stdout",
     "text": "\n"
    },
    {
     "output_type": "display_data",
     "data": {
      "text/plain": "HBox(children=(FloatProgress(value=0.0, description='9/50(t)', max=163.0, style=ProgressStyle(description_widt…",
      "application/vnd.jupyter.widget-view+json": {
       "version_major": 2,
       "version_minor": 0,
       "model_id": "aa38c36d0720488fb79c43b9a7a32058"
      }
     },
     "metadata": {}
    },
    {
     "output_type": "stream",
     "name": "stdout",
     "text": "\n"
    },
    {
     "output_type": "display_data",
     "data": {
      "text/plain": "HBox(children=(FloatProgress(value=0.0, description='9/50(v)', max=41.0, style=ProgressStyle(description_width…",
      "application/vnd.jupyter.widget-view+json": {
       "version_major": 2,
       "version_minor": 0,
       "model_id": "0eaf89fc978046b1bca1bd18142757a3"
      }
     },
     "metadata": {}
    },
    {
     "output_type": "stream",
     "name": "stdout",
     "text": "\n"
    },
    {
     "output_type": "display_data",
     "data": {
      "text/plain": "HBox(children=(FloatProgress(value=0.0, description='10/50(t)', max=163.0, style=ProgressStyle(description_wid…",
      "application/vnd.jupyter.widget-view+json": {
       "version_major": 2,
       "version_minor": 0,
       "model_id": "c2cda4f16ede477ebe29cac7e54b1efc"
      }
     },
     "metadata": {}
    },
    {
     "output_type": "stream",
     "name": "stdout",
     "text": "\n"
    },
    {
     "output_type": "display_data",
     "data": {
      "text/plain": "HBox(children=(FloatProgress(value=0.0, description='10/50(v)', max=41.0, style=ProgressStyle(description_widt…",
      "application/vnd.jupyter.widget-view+json": {
       "version_major": 2,
       "version_minor": 0,
       "model_id": "1410680d849e467ba428a3dd62f425df"
      }
     },
     "metadata": {}
    },
    {
     "output_type": "stream",
     "name": "stdout",
     "text": "\n"
    },
    {
     "output_type": "display_data",
     "data": {
      "text/plain": "HBox(children=(FloatProgress(value=0.0, description='11/50(t)', max=163.0, style=ProgressStyle(description_wid…",
      "application/vnd.jupyter.widget-view+json": {
       "version_major": 2,
       "version_minor": 0,
       "model_id": "7e921e9a57554467b2272e4ab7138ed4"
      }
     },
     "metadata": {}
    },
    {
     "output_type": "stream",
     "name": "stdout",
     "text": "\n"
    },
    {
     "output_type": "display_data",
     "data": {
      "text/plain": "HBox(children=(FloatProgress(value=0.0, description='11/50(v)', max=41.0, style=ProgressStyle(description_widt…",
      "application/vnd.jupyter.widget-view+json": {
       "version_major": 2,
       "version_minor": 0,
       "model_id": "63652e787d1047e8ace3c239a6925e44"
      }
     },
     "metadata": {}
    },
    {
     "output_type": "stream",
     "name": "stdout",
     "text": "\n"
    },
    {
     "output_type": "display_data",
     "data": {
      "text/plain": "HBox(children=(FloatProgress(value=0.0, description='12/50(t)', max=163.0, style=ProgressStyle(description_wid…",
      "application/vnd.jupyter.widget-view+json": {
       "version_major": 2,
       "version_minor": 0,
       "model_id": "25961289daca4fd5bf269cb248964f72"
      }
     },
     "metadata": {}
    },
    {
     "output_type": "stream",
     "name": "stdout",
     "text": "\n"
    },
    {
     "output_type": "display_data",
     "data": {
      "text/plain": "HBox(children=(FloatProgress(value=0.0, description='12/50(v)', max=41.0, style=ProgressStyle(description_widt…",
      "application/vnd.jupyter.widget-view+json": {
       "version_major": 2,
       "version_minor": 0,
       "model_id": "2343a77f1db945d3b0531c035a428000"
      }
     },
     "metadata": {}
    },
    {
     "output_type": "stream",
     "name": "stdout",
     "text": "\n"
    },
    {
     "output_type": "display_data",
     "data": {
      "text/plain": "HBox(children=(FloatProgress(value=0.0, description='13/50(t)', max=163.0, style=ProgressStyle(description_wid…",
      "application/vnd.jupyter.widget-view+json": {
       "version_major": 2,
       "version_minor": 0,
       "model_id": "1170f7f31e9045a9a07eb723cd7c902e"
      }
     },
     "metadata": {}
    },
    {
     "output_type": "stream",
     "name": "stdout",
     "text": "\n"
    },
    {
     "output_type": "display_data",
     "data": {
      "text/plain": "HBox(children=(FloatProgress(value=0.0, description='13/50(v)', max=41.0, style=ProgressStyle(description_widt…",
      "application/vnd.jupyter.widget-view+json": {
       "version_major": 2,
       "version_minor": 0,
       "model_id": "c34b18ee1bc94cd29648038afda90f10"
      }
     },
     "metadata": {}
    },
    {
     "output_type": "stream",
     "name": "stdout",
     "text": "\n"
    },
    {
     "output_type": "display_data",
     "data": {
      "text/plain": "HBox(children=(FloatProgress(value=0.0, description='14/50(t)', max=163.0, style=ProgressStyle(description_wid…",
      "application/vnd.jupyter.widget-view+json": {
       "version_major": 2,
       "version_minor": 0,
       "model_id": "95a81ab0710540f49b905aef3df0eb0e"
      }
     },
     "metadata": {}
    },
    {
     "output_type": "stream",
     "name": "stdout",
     "text": "\n"
    },
    {
     "output_type": "display_data",
     "data": {
      "text/plain": "HBox(children=(FloatProgress(value=0.0, description='14/50(v)', max=41.0, style=ProgressStyle(description_widt…",
      "application/vnd.jupyter.widget-view+json": {
       "version_major": 2,
       "version_minor": 0,
       "model_id": "344c77fb0494487995d71b8843aa5edf"
      }
     },
     "metadata": {}
    },
    {
     "output_type": "stream",
     "name": "stdout",
     "text": "\n"
    },
    {
     "output_type": "display_data",
     "data": {
      "text/plain": "HBox(children=(FloatProgress(value=0.0, description='15/50(t)', max=163.0, style=ProgressStyle(description_wid…",
      "application/vnd.jupyter.widget-view+json": {
       "version_major": 2,
       "version_minor": 0,
       "model_id": "70aeee9a86ba45bf8723af6800413b14"
      }
     },
     "metadata": {}
    },
    {
     "output_type": "stream",
     "name": "stdout",
     "text": "\n"
    },
    {
     "output_type": "display_data",
     "data": {
      "text/plain": "HBox(children=(FloatProgress(value=0.0, description='15/50(v)', max=41.0, style=ProgressStyle(description_widt…",
      "application/vnd.jupyter.widget-view+json": {
       "version_major": 2,
       "version_minor": 0,
       "model_id": "1248b1b991834cd087d3307f478d4601"
      }
     },
     "metadata": {}
    },
    {
     "output_type": "stream",
     "name": "stdout",
     "text": "\n"
    },
    {
     "output_type": "display_data",
     "data": {
      "text/plain": "HBox(children=(FloatProgress(value=0.0, description='16/50(t)', max=163.0, style=ProgressStyle(description_wid…",
      "application/vnd.jupyter.widget-view+json": {
       "version_major": 2,
       "version_minor": 0,
       "model_id": "f1bc6706f3b243248de6ee933a4827ae"
      }
     },
     "metadata": {}
    },
    {
     "output_type": "stream",
     "name": "stdout",
     "text": "\n"
    },
    {
     "output_type": "display_data",
     "data": {
      "text/plain": "HBox(children=(FloatProgress(value=0.0, description='16/50(v)', max=41.0, style=ProgressStyle(description_widt…",
      "application/vnd.jupyter.widget-view+json": {
       "version_major": 2,
       "version_minor": 0,
       "model_id": "3fec5ac469db49b6b309e2235f3b1dd1"
      }
     },
     "metadata": {}
    },
    {
     "output_type": "stream",
     "name": "stdout",
     "text": "\n"
    },
    {
     "output_type": "display_data",
     "data": {
      "text/plain": "HBox(children=(FloatProgress(value=0.0, description='17/50(t)', max=163.0, style=ProgressStyle(description_wid…",
      "application/vnd.jupyter.widget-view+json": {
       "version_major": 2,
       "version_minor": 0,
       "model_id": "080fdf960ae4423faf2e934ea983c4e2"
      }
     },
     "metadata": {}
    },
    {
     "output_type": "stream",
     "name": "stdout",
     "text": "\n"
    },
    {
     "output_type": "display_data",
     "data": {
      "text/plain": "HBox(children=(FloatProgress(value=0.0, description='17/50(v)', max=41.0, style=ProgressStyle(description_widt…",
      "application/vnd.jupyter.widget-view+json": {
       "version_major": 2,
       "version_minor": 0,
       "model_id": "c5aaea2eb7154778927735f270b5512a"
      }
     },
     "metadata": {}
    },
    {
     "output_type": "stream",
     "name": "stdout",
     "text": "\n"
    },
    {
     "output_type": "display_data",
     "data": {
      "text/plain": "HBox(children=(FloatProgress(value=0.0, description='18/50(t)', max=163.0, style=ProgressStyle(description_wid…",
      "application/vnd.jupyter.widget-view+json": {
       "version_major": 2,
       "version_minor": 0,
       "model_id": "80dcb45ea6624eef8c4b76d2888f976e"
      }
     },
     "metadata": {}
    },
    {
     "output_type": "stream",
     "name": "stdout",
     "text": "\n"
    },
    {
     "output_type": "display_data",
     "data": {
      "text/plain": "HBox(children=(FloatProgress(value=0.0, description='18/50(v)', max=41.0, style=ProgressStyle(description_widt…",
      "application/vnd.jupyter.widget-view+json": {
       "version_major": 2,
       "version_minor": 0,
       "model_id": "9f6163de221d4bb1bd1898c4703d0f5d"
      }
     },
     "metadata": {}
    },
    {
     "output_type": "stream",
     "name": "stdout",
     "text": "\n"
    },
    {
     "output_type": "display_data",
     "data": {
      "text/plain": "HBox(children=(FloatProgress(value=0.0, description='19/50(t)', max=163.0, style=ProgressStyle(description_wid…",
      "application/vnd.jupyter.widget-view+json": {
       "version_major": 2,
       "version_minor": 0,
       "model_id": "64d894e96b284ea98dfa8c12d569636d"
      }
     },
     "metadata": {}
    },
    {
     "output_type": "stream",
     "name": "stdout",
     "text": "\n"
    },
    {
     "output_type": "display_data",
     "data": {
      "text/plain": "HBox(children=(FloatProgress(value=0.0, description='19/50(v)', max=41.0, style=ProgressStyle(description_widt…",
      "application/vnd.jupyter.widget-view+json": {
       "version_major": 2,
       "version_minor": 0,
       "model_id": "8e6c53497d814a419ec493553547a4cf"
      }
     },
     "metadata": {}
    },
    {
     "output_type": "stream",
     "name": "stdout",
     "text": "\n"
    },
    {
     "output_type": "display_data",
     "data": {
      "text/plain": "HBox(children=(FloatProgress(value=0.0, description='20/50(t)', max=163.0, style=ProgressStyle(description_wid…",
      "application/vnd.jupyter.widget-view+json": {
       "version_major": 2,
       "version_minor": 0,
       "model_id": "4bfbd96a6d5a476dbd27ab04f4099865"
      }
     },
     "metadata": {}
    },
    {
     "output_type": "stream",
     "name": "stdout",
     "text": "\n"
    },
    {
     "output_type": "display_data",
     "data": {
      "text/plain": "HBox(children=(FloatProgress(value=0.0, description='20/50(v)', max=41.0, style=ProgressStyle(description_widt…",
      "application/vnd.jupyter.widget-view+json": {
       "version_major": 2,
       "version_minor": 0,
       "model_id": "472bc8bab0b54de688100e47b2b4cbd9"
      }
     },
     "metadata": {}
    },
    {
     "output_type": "stream",
     "name": "stdout",
     "text": "\n"
    },
    {
     "output_type": "display_data",
     "data": {
      "text/plain": "HBox(children=(FloatProgress(value=0.0, description='21/50(t)', max=163.0, style=ProgressStyle(description_wid…",
      "application/vnd.jupyter.widget-view+json": {
       "version_major": 2,
       "version_minor": 0,
       "model_id": "2b3e6005900f4dea848f0b9c47d51c64"
      }
     },
     "metadata": {}
    },
    {
     "output_type": "stream",
     "name": "stdout",
     "text": "\n"
    },
    {
     "output_type": "display_data",
     "data": {
      "text/plain": "HBox(children=(FloatProgress(value=0.0, description='21/50(v)', max=41.0, style=ProgressStyle(description_widt…",
      "application/vnd.jupyter.widget-view+json": {
       "version_major": 2,
       "version_minor": 0,
       "model_id": "2e36b65f1fa644578a06a299e8a4098f"
      }
     },
     "metadata": {}
    },
    {
     "output_type": "stream",
     "name": "stdout",
     "text": "\n"
    },
    {
     "output_type": "display_data",
     "data": {
      "text/plain": "HBox(children=(FloatProgress(value=0.0, description='22/50(t)', max=163.0, style=ProgressStyle(description_wid…",
      "application/vnd.jupyter.widget-view+json": {
       "version_major": 2,
       "version_minor": 0,
       "model_id": "a87fd14f08164256a2f643071c3ed0ca"
      }
     },
     "metadata": {}
    },
    {
     "output_type": "stream",
     "name": "stdout",
     "text": "\n"
    },
    {
     "output_type": "display_data",
     "data": {
      "text/plain": "HBox(children=(FloatProgress(value=0.0, description='22/50(v)', max=41.0, style=ProgressStyle(description_widt…",
      "application/vnd.jupyter.widget-view+json": {
       "version_major": 2,
       "version_minor": 0,
       "model_id": "deaabfd17b8448bfbd704c02e4a76ad0"
      }
     },
     "metadata": {}
    },
    {
     "output_type": "stream",
     "name": "stdout",
     "text": "\n"
    },
    {
     "output_type": "display_data",
     "data": {
      "text/plain": "HBox(children=(FloatProgress(value=0.0, description='23/50(t)', max=163.0, style=ProgressStyle(description_wid…",
      "application/vnd.jupyter.widget-view+json": {
       "version_major": 2,
       "version_minor": 0,
       "model_id": "37a8827af4494ad585d36b650be19793"
      }
     },
     "metadata": {}
    },
    {
     "output_type": "stream",
     "name": "stdout",
     "text": "No improvement, stop early!\n\n"
    }
   ],
   "source": [
    "out = m.run(50,tr_loader=tr_loader,val_loader=val_loader)\n",
    "\n",
    "writer.close()"
   ]
  },
  {
   "cell_type": "code",
   "execution_count": 51,
   "metadata": {},
   "outputs": [
    {
     "output_type": "execute_result",
     "data": {
      "text/plain": "{'stop_rounds': 2000, 'best_step': 5216, 'c_val_loss': tensor(0.2195)}"
     },
     "metadata": {},
     "execution_count": 51
    }
   ],
   "source": [
    "settings"
   ]
  },
  {
   "cell_type": "code",
   "execution_count": 26,
   "metadata": {},
   "outputs": [],
   "source": [
    "import pickle\n",
    "with open(os.path.join(log_path,'loss_his'), 'wb') as f:\n",
    "    pickle.dump(loss_his, f)   \n",
    "with open(os.path.join(log_path,'val_loss'), 'wb') as f:\n",
    "    pickle.dump(val_loss, f)"
   ]
  },
  {
   "cell_type": "code",
   "execution_count": 27,
   "metadata": {},
   "outputs": [],
   "source": [
    "import pickle\n",
    "loss_his =  pickle.load(open(os.path.join(log_path,'loss_his'),\"rb\"))\n",
    "val_loss =  pickle.load(open(os.path.join(log_path,'val_loss'),\"rb\"))"
   ]
  },
  {
   "cell_type": "code",
   "execution_count": 17,
   "metadata": {},
   "outputs": [
    {
     "output_type": "stream",
     "name": "stderr",
     "text": "No handles with labels found to put in legend.\n"
    },
    {
     "output_type": "display_data",
     "data": {
      "text/plain": "<Figure size 432x288 with 1 Axes>",
      "image/svg+xml": "<?xml version=\"1.0\" encoding=\"utf-8\" standalone=\"no\"?>\r\n<!DOCTYPE svg PUBLIC \"-//W3C//DTD SVG 1.1//EN\"\r\n  \"http://www.w3.org/Graphics/SVG/1.1/DTD/svg11.dtd\">\r\n<!-- Created with matplotlib (https://matplotlib.org/) -->\r\n<svg height=\"277.314375pt\" version=\"1.1\" viewBox=\"0 0 385.78125 277.314375\" width=\"385.78125pt\" xmlns=\"http://www.w3.org/2000/svg\" xmlns:xlink=\"http://www.w3.org/1999/xlink\">\r\n <defs>\r\n  <style type=\"text/css\">\r\n*{stroke-linecap:butt;stroke-linejoin:round;}\r\n  </style>\r\n </defs>\r\n <g id=\"figure_1\">\r\n  <g id=\"patch_1\">\r\n   <path d=\"M 0 277.314375 \r\nL 385.78125 277.314375 \r\nL 385.78125 0 \r\nL 0 0 \r\nz\r\n\" style=\"fill:none;\"/>\r\n  </g>\r\n  <g id=\"axes_1\">\r\n   <g id=\"patch_2\">\r\n    <path d=\"M 43.78125 239.758125 \r\nL 378.58125 239.758125 \r\nL 378.58125 22.318125 \r\nL 43.78125 22.318125 \r\nz\r\n\" style=\"fill:#ffffff;\"/>\r\n   </g>\r\n   <g id=\"matplotlib.axis_1\">\r\n    <g id=\"xtick_1\">\r\n     <g id=\"line2d_1\">\r\n      <defs>\r\n       <path d=\"M 0 0 \r\nL 0 3.5 \r\n\" id=\"m924a2acec0\" style=\"stroke:#000000;stroke-width:0.8;\"/>\r\n      </defs>\r\n      <g>\r\n       <use style=\"stroke:#000000;stroke-width:0.8;\" x=\"58.999432\" xlink:href=\"#m924a2acec0\" y=\"239.758125\"/>\r\n      </g>\r\n     </g>\r\n     <g id=\"text_1\">\r\n      <!-- 0 -->\r\n      <defs>\r\n       <path d=\"M 31.78125 66.40625 \r\nQ 24.171875 66.40625 20.328125 58.90625 \r\nQ 16.5 51.421875 16.5 36.375 \r\nQ 16.5 21.390625 20.328125 13.890625 \r\nQ 24.171875 6.390625 31.78125 6.390625 \r\nQ 39.453125 6.390625 43.28125 13.890625 \r\nQ 47.125 21.390625 47.125 36.375 \r\nQ 47.125 51.421875 43.28125 58.90625 \r\nQ 39.453125 66.40625 31.78125 66.40625 \r\nz\r\nM 31.78125 74.21875 \r\nQ 44.046875 74.21875 50.515625 64.515625 \r\nQ 56.984375 54.828125 56.984375 36.375 \r\nQ 56.984375 17.96875 50.515625 8.265625 \r\nQ 44.046875 -1.421875 31.78125 -1.421875 \r\nQ 19.53125 -1.421875 13.0625 8.265625 \r\nQ 6.59375 17.96875 6.59375 36.375 \r\nQ 6.59375 54.828125 13.0625 64.515625 \r\nQ 19.53125 74.21875 31.78125 74.21875 \r\nz\r\n\" id=\"DejaVuSans-48\"/>\r\n      </defs>\r\n      <g transform=\"translate(55.818182 254.356562)scale(0.1 -0.1)\">\r\n       <use xlink:href=\"#DejaVuSans-48\"/>\r\n      </g>\r\n     </g>\r\n    </g>\r\n    <g id=\"xtick_2\">\r\n     <g id=\"line2d_2\">\r\n      <g>\r\n       <use style=\"stroke:#000000;stroke-width:0.8;\" x=\"99.121187\" xlink:href=\"#m924a2acec0\" y=\"239.758125\"/>\r\n      </g>\r\n     </g>\r\n     <g id=\"text_2\">\r\n      <!-- 500 -->\r\n      <defs>\r\n       <path d=\"M 10.796875 72.90625 \r\nL 49.515625 72.90625 \r\nL 49.515625 64.59375 \r\nL 19.828125 64.59375 \r\nL 19.828125 46.734375 \r\nQ 21.96875 47.46875 24.109375 47.828125 \r\nQ 26.265625 48.1875 28.421875 48.1875 \r\nQ 40.625 48.1875 47.75 41.5 \r\nQ 54.890625 34.8125 54.890625 23.390625 \r\nQ 54.890625 11.625 47.5625 5.09375 \r\nQ 40.234375 -1.421875 26.90625 -1.421875 \r\nQ 22.3125 -1.421875 17.546875 -0.640625 \r\nQ 12.796875 0.140625 7.71875 1.703125 \r\nL 7.71875 11.625 \r\nQ 12.109375 9.234375 16.796875 8.0625 \r\nQ 21.484375 6.890625 26.703125 6.890625 \r\nQ 35.15625 6.890625 40.078125 11.328125 \r\nQ 45.015625 15.765625 45.015625 23.390625 \r\nQ 45.015625 31 40.078125 35.4375 \r\nQ 35.15625 39.890625 26.703125 39.890625 \r\nQ 22.75 39.890625 18.8125 39.015625 \r\nQ 14.890625 38.140625 10.796875 36.28125 \r\nz\r\n\" id=\"DejaVuSans-53\"/>\r\n      </defs>\r\n      <g transform=\"translate(89.577437 254.356562)scale(0.1 -0.1)\">\r\n       <use xlink:href=\"#DejaVuSans-53\"/>\r\n       <use x=\"63.623047\" xlink:href=\"#DejaVuSans-48\"/>\r\n       <use x=\"127.246094\" xlink:href=\"#DejaVuSans-48\"/>\r\n      </g>\r\n     </g>\r\n    </g>\r\n    <g id=\"xtick_3\">\r\n     <g id=\"line2d_3\">\r\n      <g>\r\n       <use style=\"stroke:#000000;stroke-width:0.8;\" x=\"139.242943\" xlink:href=\"#m924a2acec0\" y=\"239.758125\"/>\r\n      </g>\r\n     </g>\r\n     <g id=\"text_3\">\r\n      <!-- 1000 -->\r\n      <defs>\r\n       <path d=\"M 12.40625 8.296875 \r\nL 28.515625 8.296875 \r\nL 28.515625 63.921875 \r\nL 10.984375 60.40625 \r\nL 10.984375 69.390625 \r\nL 28.421875 72.90625 \r\nL 38.28125 72.90625 \r\nL 38.28125 8.296875 \r\nL 54.390625 8.296875 \r\nL 54.390625 0 \r\nL 12.40625 0 \r\nz\r\n\" id=\"DejaVuSans-49\"/>\r\n      </defs>\r\n      <g transform=\"translate(126.517943 254.356562)scale(0.1 -0.1)\">\r\n       <use xlink:href=\"#DejaVuSans-49\"/>\r\n       <use x=\"63.623047\" xlink:href=\"#DejaVuSans-48\"/>\r\n       <use x=\"127.246094\" xlink:href=\"#DejaVuSans-48\"/>\r\n       <use x=\"190.869141\" xlink:href=\"#DejaVuSans-48\"/>\r\n      </g>\r\n     </g>\r\n    </g>\r\n    <g id=\"xtick_4\">\r\n     <g id=\"line2d_4\">\r\n      <g>\r\n       <use style=\"stroke:#000000;stroke-width:0.8;\" x=\"179.364698\" xlink:href=\"#m924a2acec0\" y=\"239.758125\"/>\r\n      </g>\r\n     </g>\r\n     <g id=\"text_4\">\r\n      <!-- 1500 -->\r\n      <g transform=\"translate(166.639698 254.356562)scale(0.1 -0.1)\">\r\n       <use xlink:href=\"#DejaVuSans-49\"/>\r\n       <use x=\"63.623047\" xlink:href=\"#DejaVuSans-53\"/>\r\n       <use x=\"127.246094\" xlink:href=\"#DejaVuSans-48\"/>\r\n       <use x=\"190.869141\" xlink:href=\"#DejaVuSans-48\"/>\r\n      </g>\r\n     </g>\r\n    </g>\r\n    <g id=\"xtick_5\">\r\n     <g id=\"line2d_5\">\r\n      <g>\r\n       <use style=\"stroke:#000000;stroke-width:0.8;\" x=\"219.486453\" xlink:href=\"#m924a2acec0\" y=\"239.758125\"/>\r\n      </g>\r\n     </g>\r\n     <g id=\"text_5\">\r\n      <!-- 2000 -->\r\n      <defs>\r\n       <path d=\"M 19.1875 8.296875 \r\nL 53.609375 8.296875 \r\nL 53.609375 0 \r\nL 7.328125 0 \r\nL 7.328125 8.296875 \r\nQ 12.9375 14.109375 22.625 23.890625 \r\nQ 32.328125 33.6875 34.8125 36.53125 \r\nQ 39.546875 41.84375 41.421875 45.53125 \r\nQ 43.3125 49.21875 43.3125 52.78125 \r\nQ 43.3125 58.59375 39.234375 62.25 \r\nQ 35.15625 65.921875 28.609375 65.921875 \r\nQ 23.96875 65.921875 18.8125 64.3125 \r\nQ 13.671875 62.703125 7.8125 59.421875 \r\nL 7.8125 69.390625 \r\nQ 13.765625 71.78125 18.9375 73 \r\nQ 24.125 74.21875 28.421875 74.21875 \r\nQ 39.75 74.21875 46.484375 68.546875 \r\nQ 53.21875 62.890625 53.21875 53.421875 \r\nQ 53.21875 48.921875 51.53125 44.890625 \r\nQ 49.859375 40.875 45.40625 35.40625 \r\nQ 44.1875 33.984375 37.640625 27.21875 \r\nQ 31.109375 20.453125 19.1875 8.296875 \r\nz\r\n\" id=\"DejaVuSans-50\"/>\r\n      </defs>\r\n      <g transform=\"translate(206.761453 254.356562)scale(0.1 -0.1)\">\r\n       <use xlink:href=\"#DejaVuSans-50\"/>\r\n       <use x=\"63.623047\" xlink:href=\"#DejaVuSans-48\"/>\r\n       <use x=\"127.246094\" xlink:href=\"#DejaVuSans-48\"/>\r\n       <use x=\"190.869141\" xlink:href=\"#DejaVuSans-48\"/>\r\n      </g>\r\n     </g>\r\n    </g>\r\n    <g id=\"xtick_6\">\r\n     <g id=\"line2d_6\">\r\n      <g>\r\n       <use style=\"stroke:#000000;stroke-width:0.8;\" x=\"259.608209\" xlink:href=\"#m924a2acec0\" y=\"239.758125\"/>\r\n      </g>\r\n     </g>\r\n     <g id=\"text_6\">\r\n      <!-- 2500 -->\r\n      <g transform=\"translate(246.883209 254.356562)scale(0.1 -0.1)\">\r\n       <use xlink:href=\"#DejaVuSans-50\"/>\r\n       <use x=\"63.623047\" xlink:href=\"#DejaVuSans-53\"/>\r\n       <use x=\"127.246094\" xlink:href=\"#DejaVuSans-48\"/>\r\n       <use x=\"190.869141\" xlink:href=\"#DejaVuSans-48\"/>\r\n      </g>\r\n     </g>\r\n    </g>\r\n    <g id=\"xtick_7\">\r\n     <g id=\"line2d_7\">\r\n      <g>\r\n       <use style=\"stroke:#000000;stroke-width:0.8;\" x=\"299.729964\" xlink:href=\"#m924a2acec0\" y=\"239.758125\"/>\r\n      </g>\r\n     </g>\r\n     <g id=\"text_7\">\r\n      <!-- 3000 -->\r\n      <defs>\r\n       <path d=\"M 40.578125 39.3125 \r\nQ 47.65625 37.796875 51.625 33 \r\nQ 55.609375 28.21875 55.609375 21.1875 \r\nQ 55.609375 10.40625 48.1875 4.484375 \r\nQ 40.765625 -1.421875 27.09375 -1.421875 \r\nQ 22.515625 -1.421875 17.65625 -0.515625 \r\nQ 12.796875 0.390625 7.625 2.203125 \r\nL 7.625 11.71875 \r\nQ 11.71875 9.328125 16.59375 8.109375 \r\nQ 21.484375 6.890625 26.8125 6.890625 \r\nQ 36.078125 6.890625 40.9375 10.546875 \r\nQ 45.796875 14.203125 45.796875 21.1875 \r\nQ 45.796875 27.640625 41.28125 31.265625 \r\nQ 36.765625 34.90625 28.71875 34.90625 \r\nL 20.21875 34.90625 \r\nL 20.21875 43.015625 \r\nL 29.109375 43.015625 \r\nQ 36.375 43.015625 40.234375 45.921875 \r\nQ 44.09375 48.828125 44.09375 54.296875 \r\nQ 44.09375 59.90625 40.109375 62.90625 \r\nQ 36.140625 65.921875 28.71875 65.921875 \r\nQ 24.65625 65.921875 20.015625 65.03125 \r\nQ 15.375 64.15625 9.8125 62.3125 \r\nL 9.8125 71.09375 \r\nQ 15.4375 72.65625 20.34375 73.4375 \r\nQ 25.25 74.21875 29.59375 74.21875 \r\nQ 40.828125 74.21875 47.359375 69.109375 \r\nQ 53.90625 64.015625 53.90625 55.328125 \r\nQ 53.90625 49.265625 50.4375 45.09375 \r\nQ 46.96875 40.921875 40.578125 39.3125 \r\nz\r\n\" id=\"DejaVuSans-51\"/>\r\n      </defs>\r\n      <g transform=\"translate(287.004964 254.356562)scale(0.1 -0.1)\">\r\n       <use xlink:href=\"#DejaVuSans-51\"/>\r\n       <use x=\"63.623047\" xlink:href=\"#DejaVuSans-48\"/>\r\n       <use x=\"127.246094\" xlink:href=\"#DejaVuSans-48\"/>\r\n       <use x=\"190.869141\" xlink:href=\"#DejaVuSans-48\"/>\r\n      </g>\r\n     </g>\r\n    </g>\r\n    <g id=\"xtick_8\">\r\n     <g id=\"line2d_8\">\r\n      <g>\r\n       <use style=\"stroke:#000000;stroke-width:0.8;\" x=\"339.85172\" xlink:href=\"#m924a2acec0\" y=\"239.758125\"/>\r\n      </g>\r\n     </g>\r\n     <g id=\"text_8\">\r\n      <!-- 3500 -->\r\n      <g transform=\"translate(327.12672 254.356562)scale(0.1 -0.1)\">\r\n       <use xlink:href=\"#DejaVuSans-51\"/>\r\n       <use x=\"63.623047\" xlink:href=\"#DejaVuSans-53\"/>\r\n       <use x=\"127.246094\" xlink:href=\"#DejaVuSans-48\"/>\r\n       <use x=\"190.869141\" xlink:href=\"#DejaVuSans-48\"/>\r\n      </g>\r\n     </g>\r\n    </g>\r\n    <g id=\"text_9\">\r\n     <!-- data num -->\r\n     <defs>\r\n      <path d=\"M 45.40625 46.390625 \r\nL 45.40625 75.984375 \r\nL 54.390625 75.984375 \r\nL 54.390625 0 \r\nL 45.40625 0 \r\nL 45.40625 8.203125 \r\nQ 42.578125 3.328125 38.25 0.953125 \r\nQ 33.9375 -1.421875 27.875 -1.421875 \r\nQ 17.96875 -1.421875 11.734375 6.484375 \r\nQ 5.515625 14.40625 5.515625 27.296875 \r\nQ 5.515625 40.1875 11.734375 48.09375 \r\nQ 17.96875 56 27.875 56 \r\nQ 33.9375 56 38.25 53.625 \r\nQ 42.578125 51.265625 45.40625 46.390625 \r\nz\r\nM 14.796875 27.296875 \r\nQ 14.796875 17.390625 18.875 11.75 \r\nQ 22.953125 6.109375 30.078125 6.109375 \r\nQ 37.203125 6.109375 41.296875 11.75 \r\nQ 45.40625 17.390625 45.40625 27.296875 \r\nQ 45.40625 37.203125 41.296875 42.84375 \r\nQ 37.203125 48.484375 30.078125 48.484375 \r\nQ 22.953125 48.484375 18.875 42.84375 \r\nQ 14.796875 37.203125 14.796875 27.296875 \r\nz\r\n\" id=\"DejaVuSans-100\"/>\r\n      <path d=\"M 34.28125 27.484375 \r\nQ 23.390625 27.484375 19.1875 25 \r\nQ 14.984375 22.515625 14.984375 16.5 \r\nQ 14.984375 11.71875 18.140625 8.90625 \r\nQ 21.296875 6.109375 26.703125 6.109375 \r\nQ 34.1875 6.109375 38.703125 11.40625 \r\nQ 43.21875 16.703125 43.21875 25.484375 \r\nL 43.21875 27.484375 \r\nz\r\nM 52.203125 31.203125 \r\nL 52.203125 0 \r\nL 43.21875 0 \r\nL 43.21875 8.296875 \r\nQ 40.140625 3.328125 35.546875 0.953125 \r\nQ 30.953125 -1.421875 24.3125 -1.421875 \r\nQ 15.921875 -1.421875 10.953125 3.296875 \r\nQ 6 8.015625 6 15.921875 \r\nQ 6 25.140625 12.171875 29.828125 \r\nQ 18.359375 34.515625 30.609375 34.515625 \r\nL 43.21875 34.515625 \r\nL 43.21875 35.40625 \r\nQ 43.21875 41.609375 39.140625 45 \r\nQ 35.0625 48.390625 27.6875 48.390625 \r\nQ 23 48.390625 18.546875 47.265625 \r\nQ 14.109375 46.140625 10.015625 43.890625 \r\nL 10.015625 52.203125 \r\nQ 14.9375 54.109375 19.578125 55.046875 \r\nQ 24.21875 56 28.609375 56 \r\nQ 40.484375 56 46.34375 49.84375 \r\nQ 52.203125 43.703125 52.203125 31.203125 \r\nz\r\n\" id=\"DejaVuSans-97\"/>\r\n      <path d=\"M 18.3125 70.21875 \r\nL 18.3125 54.6875 \r\nL 36.8125 54.6875 \r\nL 36.8125 47.703125 \r\nL 18.3125 47.703125 \r\nL 18.3125 18.015625 \r\nQ 18.3125 11.328125 20.140625 9.421875 \r\nQ 21.96875 7.515625 27.59375 7.515625 \r\nL 36.8125 7.515625 \r\nL 36.8125 0 \r\nL 27.59375 0 \r\nQ 17.1875 0 13.234375 3.875 \r\nQ 9.28125 7.765625 9.28125 18.015625 \r\nL 9.28125 47.703125 \r\nL 2.6875 47.703125 \r\nL 2.6875 54.6875 \r\nL 9.28125 54.6875 \r\nL 9.28125 70.21875 \r\nz\r\n\" id=\"DejaVuSans-116\"/>\r\n      <path id=\"DejaVuSans-32\"/>\r\n      <path d=\"M 54.890625 33.015625 \r\nL 54.890625 0 \r\nL 45.90625 0 \r\nL 45.90625 32.71875 \r\nQ 45.90625 40.484375 42.875 44.328125 \r\nQ 39.84375 48.1875 33.796875 48.1875 \r\nQ 26.515625 48.1875 22.3125 43.546875 \r\nQ 18.109375 38.921875 18.109375 30.90625 \r\nL 18.109375 0 \r\nL 9.078125 0 \r\nL 9.078125 54.6875 \r\nL 18.109375 54.6875 \r\nL 18.109375 46.1875 \r\nQ 21.34375 51.125 25.703125 53.5625 \r\nQ 30.078125 56 35.796875 56 \r\nQ 45.21875 56 50.046875 50.171875 \r\nQ 54.890625 44.34375 54.890625 33.015625 \r\nz\r\n\" id=\"DejaVuSans-110\"/>\r\n      <path d=\"M 8.5 21.578125 \r\nL 8.5 54.6875 \r\nL 17.484375 54.6875 \r\nL 17.484375 21.921875 \r\nQ 17.484375 14.15625 20.5 10.265625 \r\nQ 23.53125 6.390625 29.59375 6.390625 \r\nQ 36.859375 6.390625 41.078125 11.03125 \r\nQ 45.3125 15.671875 45.3125 23.6875 \r\nL 45.3125 54.6875 \r\nL 54.296875 54.6875 \r\nL 54.296875 0 \r\nL 45.3125 0 \r\nL 45.3125 8.40625 \r\nQ 42.046875 3.421875 37.71875 1 \r\nQ 33.40625 -1.421875 27.6875 -1.421875 \r\nQ 18.265625 -1.421875 13.375 4.4375 \r\nQ 8.5 10.296875 8.5 21.578125 \r\nz\r\nM 31.109375 56 \r\nz\r\n\" id=\"DejaVuSans-117\"/>\r\n      <path d=\"M 52 44.1875 \r\nQ 55.375 50.25 60.0625 53.125 \r\nQ 64.75 56 71.09375 56 \r\nQ 79.640625 56 84.28125 50.015625 \r\nQ 88.921875 44.046875 88.921875 33.015625 \r\nL 88.921875 0 \r\nL 79.890625 0 \r\nL 79.890625 32.71875 \r\nQ 79.890625 40.578125 77.09375 44.375 \r\nQ 74.3125 48.1875 68.609375 48.1875 \r\nQ 61.625 48.1875 57.5625 43.546875 \r\nQ 53.515625 38.921875 53.515625 30.90625 \r\nL 53.515625 0 \r\nL 44.484375 0 \r\nL 44.484375 32.71875 \r\nQ 44.484375 40.625 41.703125 44.40625 \r\nQ 38.921875 48.1875 33.109375 48.1875 \r\nQ 26.21875 48.1875 22.15625 43.53125 \r\nQ 18.109375 38.875 18.109375 30.90625 \r\nL 18.109375 0 \r\nL 9.078125 0 \r\nL 9.078125 54.6875 \r\nL 18.109375 54.6875 \r\nL 18.109375 46.1875 \r\nQ 21.1875 51.21875 25.484375 53.609375 \r\nQ 29.78125 56 35.6875 56 \r\nQ 41.65625 56 45.828125 52.96875 \r\nQ 50 49.953125 52 44.1875 \r\nz\r\n\" id=\"DejaVuSans-109\"/>\r\n     </defs>\r\n     <g transform=\"translate(187.121875 268.034687)scale(0.1 -0.1)\">\r\n      <use xlink:href=\"#DejaVuSans-100\"/>\r\n      <use x=\"63.476562\" xlink:href=\"#DejaVuSans-97\"/>\r\n      <use x=\"124.755859\" xlink:href=\"#DejaVuSans-116\"/>\r\n      <use x=\"163.964844\" xlink:href=\"#DejaVuSans-97\"/>\r\n      <use x=\"225.244141\" xlink:href=\"#DejaVuSans-32\"/>\r\n      <use x=\"257.03125\" xlink:href=\"#DejaVuSans-110\"/>\r\n      <use x=\"320.410156\" xlink:href=\"#DejaVuSans-117\"/>\r\n      <use x=\"383.789062\" xlink:href=\"#DejaVuSans-109\"/>\r\n     </g>\r\n    </g>\r\n   </g>\r\n   <g id=\"matplotlib.axis_2\">\r\n    <g id=\"ytick_1\">\r\n     <g id=\"line2d_9\">\r\n      <defs>\r\n       <path d=\"M 0 0 \r\nL -3.5 0 \r\n\" id=\"m5216aafa82\" style=\"stroke:#000000;stroke-width:0.8;\"/>\r\n      </defs>\r\n      <g>\r\n       <use style=\"stroke:#000000;stroke-width:0.8;\" x=\"43.78125\" xlink:href=\"#m5216aafa82\" y=\"230.152266\"/>\r\n      </g>\r\n     </g>\r\n     <g id=\"text_10\">\r\n      <!-- 0.2 -->\r\n      <defs>\r\n       <path d=\"M 10.6875 12.40625 \r\nL 21 12.40625 \r\nL 21 0 \r\nL 10.6875 0 \r\nz\r\n\" id=\"DejaVuSans-46\"/>\r\n      </defs>\r\n      <g transform=\"translate(20.878125 233.951485)scale(0.1 -0.1)\">\r\n       <use xlink:href=\"#DejaVuSans-48\"/>\r\n       <use x=\"63.623047\" xlink:href=\"#DejaVuSans-46\"/>\r\n       <use x=\"95.410156\" xlink:href=\"#DejaVuSans-50\"/>\r\n      </g>\r\n     </g>\r\n    </g>\r\n    <g id=\"ytick_2\">\r\n     <g id=\"line2d_10\">\r\n      <g>\r\n       <use style=\"stroke:#000000;stroke-width:0.8;\" x=\"43.78125\" xlink:href=\"#m5216aafa82\" y=\"186.193666\"/>\r\n      </g>\r\n     </g>\r\n     <g id=\"text_11\">\r\n      <!-- 0.4 -->\r\n      <defs>\r\n       <path d=\"M 37.796875 64.3125 \r\nL 12.890625 25.390625 \r\nL 37.796875 25.390625 \r\nz\r\nM 35.203125 72.90625 \r\nL 47.609375 72.90625 \r\nL 47.609375 25.390625 \r\nL 58.015625 25.390625 \r\nL 58.015625 17.1875 \r\nL 47.609375 17.1875 \r\nL 47.609375 0 \r\nL 37.796875 0 \r\nL 37.796875 17.1875 \r\nL 4.890625 17.1875 \r\nL 4.890625 26.703125 \r\nz\r\n\" id=\"DejaVuSans-52\"/>\r\n      </defs>\r\n      <g transform=\"translate(20.878125 189.992885)scale(0.1 -0.1)\">\r\n       <use xlink:href=\"#DejaVuSans-48\"/>\r\n       <use x=\"63.623047\" xlink:href=\"#DejaVuSans-46\"/>\r\n       <use x=\"95.410156\" xlink:href=\"#DejaVuSans-52\"/>\r\n      </g>\r\n     </g>\r\n    </g>\r\n    <g id=\"ytick_3\">\r\n     <g id=\"line2d_11\">\r\n      <g>\r\n       <use style=\"stroke:#000000;stroke-width:0.8;\" x=\"43.78125\" xlink:href=\"#m5216aafa82\" y=\"142.235065\"/>\r\n      </g>\r\n     </g>\r\n     <g id=\"text_12\">\r\n      <!-- 0.6 -->\r\n      <defs>\r\n       <path d=\"M 33.015625 40.375 \r\nQ 26.375 40.375 22.484375 35.828125 \r\nQ 18.609375 31.296875 18.609375 23.390625 \r\nQ 18.609375 15.53125 22.484375 10.953125 \r\nQ 26.375 6.390625 33.015625 6.390625 \r\nQ 39.65625 6.390625 43.53125 10.953125 \r\nQ 47.40625 15.53125 47.40625 23.390625 \r\nQ 47.40625 31.296875 43.53125 35.828125 \r\nQ 39.65625 40.375 33.015625 40.375 \r\nz\r\nM 52.59375 71.296875 \r\nL 52.59375 62.3125 \r\nQ 48.875 64.0625 45.09375 64.984375 \r\nQ 41.3125 65.921875 37.59375 65.921875 \r\nQ 27.828125 65.921875 22.671875 59.328125 \r\nQ 17.53125 52.734375 16.796875 39.40625 \r\nQ 19.671875 43.65625 24.015625 45.921875 \r\nQ 28.375 48.1875 33.59375 48.1875 \r\nQ 44.578125 48.1875 50.953125 41.515625 \r\nQ 57.328125 34.859375 57.328125 23.390625 \r\nQ 57.328125 12.15625 50.6875 5.359375 \r\nQ 44.046875 -1.421875 33.015625 -1.421875 \r\nQ 20.359375 -1.421875 13.671875 8.265625 \r\nQ 6.984375 17.96875 6.984375 36.375 \r\nQ 6.984375 53.65625 15.1875 63.9375 \r\nQ 23.390625 74.21875 37.203125 74.21875 \r\nQ 40.921875 74.21875 44.703125 73.484375 \r\nQ 48.484375 72.75 52.59375 71.296875 \r\nz\r\n\" id=\"DejaVuSans-54\"/>\r\n      </defs>\r\n      <g transform=\"translate(20.878125 146.034284)scale(0.1 -0.1)\">\r\n       <use xlink:href=\"#DejaVuSans-48\"/>\r\n       <use x=\"63.623047\" xlink:href=\"#DejaVuSans-46\"/>\r\n       <use x=\"95.410156\" xlink:href=\"#DejaVuSans-54\"/>\r\n      </g>\r\n     </g>\r\n    </g>\r\n    <g id=\"ytick_4\">\r\n     <g id=\"line2d_12\">\r\n      <g>\r\n       <use style=\"stroke:#000000;stroke-width:0.8;\" x=\"43.78125\" xlink:href=\"#m5216aafa82\" y=\"98.276465\"/>\r\n      </g>\r\n     </g>\r\n     <g id=\"text_13\">\r\n      <!-- 0.8 -->\r\n      <defs>\r\n       <path d=\"M 31.78125 34.625 \r\nQ 24.75 34.625 20.71875 30.859375 \r\nQ 16.703125 27.09375 16.703125 20.515625 \r\nQ 16.703125 13.921875 20.71875 10.15625 \r\nQ 24.75 6.390625 31.78125 6.390625 \r\nQ 38.8125 6.390625 42.859375 10.171875 \r\nQ 46.921875 13.96875 46.921875 20.515625 \r\nQ 46.921875 27.09375 42.890625 30.859375 \r\nQ 38.875 34.625 31.78125 34.625 \r\nz\r\nM 21.921875 38.8125 \r\nQ 15.578125 40.375 12.03125 44.71875 \r\nQ 8.5 49.078125 8.5 55.328125 \r\nQ 8.5 64.0625 14.71875 69.140625 \r\nQ 20.953125 74.21875 31.78125 74.21875 \r\nQ 42.671875 74.21875 48.875 69.140625 \r\nQ 55.078125 64.0625 55.078125 55.328125 \r\nQ 55.078125 49.078125 51.53125 44.71875 \r\nQ 48 40.375 41.703125 38.8125 \r\nQ 48.828125 37.15625 52.796875 32.3125 \r\nQ 56.78125 27.484375 56.78125 20.515625 \r\nQ 56.78125 9.90625 50.3125 4.234375 \r\nQ 43.84375 -1.421875 31.78125 -1.421875 \r\nQ 19.734375 -1.421875 13.25 4.234375 \r\nQ 6.78125 9.90625 6.78125 20.515625 \r\nQ 6.78125 27.484375 10.78125 32.3125 \r\nQ 14.796875 37.15625 21.921875 38.8125 \r\nz\r\nM 18.3125 54.390625 \r\nQ 18.3125 48.734375 21.84375 45.5625 \r\nQ 25.390625 42.390625 31.78125 42.390625 \r\nQ 38.140625 42.390625 41.71875 45.5625 \r\nQ 45.3125 48.734375 45.3125 54.390625 \r\nQ 45.3125 60.0625 41.71875 63.234375 \r\nQ 38.140625 66.40625 31.78125 66.40625 \r\nQ 25.390625 66.40625 21.84375 63.234375 \r\nQ 18.3125 60.0625 18.3125 54.390625 \r\nz\r\n\" id=\"DejaVuSans-56\"/>\r\n      </defs>\r\n      <g transform=\"translate(20.878125 102.075684)scale(0.1 -0.1)\">\r\n       <use xlink:href=\"#DejaVuSans-48\"/>\r\n       <use x=\"63.623047\" xlink:href=\"#DejaVuSans-46\"/>\r\n       <use x=\"95.410156\" xlink:href=\"#DejaVuSans-56\"/>\r\n      </g>\r\n     </g>\r\n    </g>\r\n    <g id=\"ytick_5\">\r\n     <g id=\"line2d_13\">\r\n      <g>\r\n       <use style=\"stroke:#000000;stroke-width:0.8;\" x=\"43.78125\" xlink:href=\"#m5216aafa82\" y=\"54.317864\"/>\r\n      </g>\r\n     </g>\r\n     <g id=\"text_14\">\r\n      <!-- 1.0 -->\r\n      <g transform=\"translate(20.878125 58.117083)scale(0.1 -0.1)\">\r\n       <use xlink:href=\"#DejaVuSans-49\"/>\r\n       <use x=\"63.623047\" xlink:href=\"#DejaVuSans-46\"/>\r\n       <use x=\"95.410156\" xlink:href=\"#DejaVuSans-48\"/>\r\n      </g>\r\n     </g>\r\n    </g>\r\n    <g id=\"text_15\">\r\n     <!-- loss -->\r\n     <defs>\r\n      <path d=\"M 9.421875 75.984375 \r\nL 18.40625 75.984375 \r\nL 18.40625 0 \r\nL 9.421875 0 \r\nz\r\n\" id=\"DejaVuSans-108\"/>\r\n      <path d=\"M 30.609375 48.390625 \r\nQ 23.390625 48.390625 19.1875 42.75 \r\nQ 14.984375 37.109375 14.984375 27.296875 \r\nQ 14.984375 17.484375 19.15625 11.84375 \r\nQ 23.34375 6.203125 30.609375 6.203125 \r\nQ 37.796875 6.203125 41.984375 11.859375 \r\nQ 46.1875 17.53125 46.1875 27.296875 \r\nQ 46.1875 37.015625 41.984375 42.703125 \r\nQ 37.796875 48.390625 30.609375 48.390625 \r\nz\r\nM 30.609375 56 \r\nQ 42.328125 56 49.015625 48.375 \r\nQ 55.71875 40.765625 55.71875 27.296875 \r\nQ 55.71875 13.875 49.015625 6.21875 \r\nQ 42.328125 -1.421875 30.609375 -1.421875 \r\nQ 18.84375 -1.421875 12.171875 6.21875 \r\nQ 5.515625 13.875 5.515625 27.296875 \r\nQ 5.515625 40.765625 12.171875 48.375 \r\nQ 18.84375 56 30.609375 56 \r\nz\r\n\" id=\"DejaVuSans-111\"/>\r\n      <path d=\"M 44.28125 53.078125 \r\nL 44.28125 44.578125 \r\nQ 40.484375 46.53125 36.375 47.5 \r\nQ 32.28125 48.484375 27.875 48.484375 \r\nQ 21.1875 48.484375 17.84375 46.4375 \r\nQ 14.5 44.390625 14.5 40.28125 \r\nQ 14.5 37.15625 16.890625 35.375 \r\nQ 19.28125 33.59375 26.515625 31.984375 \r\nL 29.59375 31.296875 \r\nQ 39.15625 29.25 43.1875 25.515625 \r\nQ 47.21875 21.78125 47.21875 15.09375 \r\nQ 47.21875 7.46875 41.1875 3.015625 \r\nQ 35.15625 -1.421875 24.609375 -1.421875 \r\nQ 20.21875 -1.421875 15.453125 -0.5625 \r\nQ 10.6875 0.296875 5.421875 2 \r\nL 5.421875 11.28125 \r\nQ 10.40625 8.6875 15.234375 7.390625 \r\nQ 20.0625 6.109375 24.8125 6.109375 \r\nQ 31.15625 6.109375 34.5625 8.28125 \r\nQ 37.984375 10.453125 37.984375 14.40625 \r\nQ 37.984375 18.0625 35.515625 20.015625 \r\nQ 33.0625 21.96875 24.703125 23.78125 \r\nL 21.578125 24.515625 \r\nQ 13.234375 26.265625 9.515625 29.90625 \r\nQ 5.8125 33.546875 5.8125 39.890625 \r\nQ 5.8125 47.609375 11.28125 51.796875 \r\nQ 16.75 56 26.8125 56 \r\nQ 31.78125 56 36.171875 55.265625 \r\nQ 40.578125 54.546875 44.28125 53.078125 \r\nz\r\n\" id=\"DejaVuSans-115\"/>\r\n     </defs>\r\n     <g transform=\"translate(14.798438 140.695937)rotate(-90)scale(0.1 -0.1)\">\r\n      <use xlink:href=\"#DejaVuSans-108\"/>\r\n      <use x=\"27.783203\" xlink:href=\"#DejaVuSans-111\"/>\r\n      <use x=\"88.964844\" xlink:href=\"#DejaVuSans-115\"/>\r\n      <use x=\"141.064453\" xlink:href=\"#DejaVuSans-115\"/>\r\n     </g>\r\n    </g>\r\n   </g>\r\n   <g id=\"line2d_14\">\r\n    <path clip-path=\"url(#p701d97455a)\" d=\"M 58.999432 32.201761 \r\nL 59.320406 33.267816 \r\nL 60.122841 36.021056 \r\nL 60.203084 36.089258 \r\nL 60.845033 38.765833 \r\nL 60.925276 38.411879 \r\nL 61.085763 39.304874 \r\nL 61.24625 39.369591 \r\nL 61.647468 40.946599 \r\nL 61.807955 41.110803 \r\nL 62.048685 42.330686 \r\nL 62.128929 42.357149 \r\nL 62.289416 43.312294 \r\nL 62.369659 43.190091 \r\nL 62.449903 42.641225 \r\nL 62.530146 44.337213 \r\nL 62.61039 43.160614 \r\nL 62.770877 44.665621 \r\nL 62.85112 44.569593 \r\nL 62.931364 45.636696 \r\nL 63.011607 45.537367 \r\nL 63.091851 44.975269 \r\nL 63.412825 47.089116 \r\nL 63.493068 47.125458 \r\nL 63.573312 46.15226 \r\nL 63.653555 47.205713 \r\nL 63.733799 47.098104 \r\nL 63.814042 46.859095 \r\nL 63.894286 46.957088 \r\nL 63.974529 48.315812 \r\nL 64.054773 46.707467 \r\nL 64.135017 48.82328 \r\nL 64.21526 48.16484 \r\nL 64.295504 47.112803 \r\nL 64.455991 50.278557 \r\nL 64.536234 48.833001 \r\nL 64.696721 50.922141 \r\nL 64.776965 48.718789 \r\nL 64.857208 52.259432 \r\nL 64.937452 50.880219 \r\nL 65.017695 51.031872 \r\nL 65.097939 51.554825 \r\nL 65.178182 49.533285 \r\nL 65.418913 51.954003 \r\nL 65.499156 51.756314 \r\nL 65.739887 55.695244 \r\nL 65.82013 55.230602 \r\nL 65.900374 53.236246 \r\nL 65.980617 53.597091 \r\nL 66.221348 56.952307 \r\nL 66.301591 54.834503 \r\nL 66.381835 55.393312 \r\nL 66.462078 56.716246 \r\nL 66.542322 54.762279 \r\nL 66.622565 57.993916 \r\nL 66.783052 56.006333 \r\nL 66.943539 58.406509 \r\nL 67.104026 55.790617 \r\nL 67.344757 61.482681 \r\nL 67.425 60.841245 \r\nL 67.585487 58.536036 \r\nL 67.665731 59.440035 \r\nL 67.745974 57.71026 \r\nL 67.826218 60.191228 \r\nL 67.906462 59.534976 \r\nL 67.986705 59.252394 \r\nL 68.066949 59.907258 \r\nL 68.147192 59.258027 \r\nL 68.227436 60.959557 \r\nL 68.307679 57.536624 \r\nL 68.54841 65.113797 \r\nL 68.708897 60.102838 \r\nL 68.78914 62.705656 \r\nL 68.869384 59.40651 \r\nL 69.029871 64.786712 \r\nL 69.110114 65.843662 \r\nL 69.350845 58.939785 \r\nL 69.431088 67.24934 \r\nL 69.511332 63.766431 \r\nL 69.591575 67.83701 \r\nL 69.671819 66.467438 \r\nL 69.752062 66.594921 \r\nL 69.832306 66.187988 \r\nL 70.073036 70.219016 \r\nL 70.15328 67.214308 \r\nL 70.233523 67.892151 \r\nL 70.313767 67.716589 \r\nL 70.39401 69.138039 \r\nL 70.554497 67.503493 \r\nL 70.634741 69.358065 \r\nL 70.795228 68.092028 \r\nL 70.875471 68.262389 \r\nL 71.035958 71.022048 \r\nL 71.116202 69.837288 \r\nL 71.196445 72.078881 \r\nL 71.437176 65.498289 \r\nL 71.597663 75.641467 \r\nL 71.75815 69.661333 \r\nL 71.838394 73.378311 \r\nL 71.918637 70.693575 \r\nL 72.079124 76.117219 \r\nL 72.159368 69.665866 \r\nL 72.319855 75.156349 \r\nL 72.400098 70.110503 \r\nL 72.560585 74.709878 \r\nL 72.640829 73.8925 \r\nL 72.881559 76.677116 \r\nL 72.961803 75.823973 \r\nL 73.042046 73.60232 \r\nL 73.12229 76.279248 \r\nL 73.202533 73.207059 \r\nL 73.36302 80.086228 \r\nL 73.523507 77.1713 \r\nL 73.603751 71.515001 \r\nL 73.683994 79.286785 \r\nL 73.764238 76.530991 \r\nL 73.844481 79.513794 \r\nL 74.004968 76.063506 \r\nL 74.085212 78.407572 \r\nL 74.165455 78.246342 \r\nL 74.325942 74.600356 \r\nL 74.406186 79.478081 \r\nL 74.486429 78.491875 \r\nL 74.566673 79.505056 \r\nL 74.646916 82.970828 \r\nL 74.807403 76.200251 \r\nL 74.887647 81.386157 \r\nL 74.96789 76.596586 \r\nL 75.128377 81.425354 \r\nL 75.208621 78.254228 \r\nL 75.369108 86.208138 \r\nL 75.529595 81.609864 \r\nL 75.609839 82.851966 \r\nL 75.690082 80.101595 \r\nL 75.770326 86.16526 \r\nL 76.011056 80.044581 \r\nL 76.251787 89.059659 \r\nL 76.33203 80.225239 \r\nL 76.492517 87.825981 \r\nL 76.572761 87.558766 \r\nL 76.653004 86.095001 \r\nL 76.733248 78.395965 \r\nL 76.813491 80.540704 \r\nL 77.054222 89.779935 \r\nL 77.134465 89.587486 \r\nL 77.214709 87.456896 \r\nL 77.294952 91.826838 \r\nL 77.375196 91.608109 \r\nL 77.535683 86.390618 \r\nL 77.615926 82.530868 \r\nL 77.69617 92.328359 \r\nL 77.776413 87.425428 \r\nL 77.9369 94.372786 \r\nL 78.017144 87.753364 \r\nL 78.097387 88.011867 \r\nL 78.257874 90.800544 \r\nL 78.338118 88.557209 \r\nL 78.418361 90.060408 \r\nL 78.498605 96.013214 \r\nL 78.578848 85.598865 \r\nL 78.659092 96.87444 \r\nL 78.819579 88.194045 \r\nL 78.899822 88.188857 \r\nL 79.06031 97.375725 \r\nL 79.140553 90.51901 \r\nL 79.220797 99.842518 \r\nL 79.30104 92.594774 \r\nL 79.381284 94.924508 \r\nL 79.461527 102.342521 \r\nL 79.541771 91.455355 \r\nL 79.622014 96.742123 \r\nL 79.782501 90.560867 \r\nL 79.862745 91.232683 \r\nL 79.942988 97.985732 \r\nL 80.023232 97.9575 \r\nL 80.103475 93.5337 \r\nL 80.183719 101.380682 \r\nL 80.344206 90.625872 \r\nL 80.424449 102.565587 \r\nL 80.584936 94.266644 \r\nL 80.66518 94.620153 \r\nL 80.745423 98.372595 \r\nL 80.825667 95.528463 \r\nL 80.90591 103.370807 \r\nL 80.986154 94.461871 \r\nL 81.146641 102.326172 \r\nL 81.226884 104.243797 \r\nL 81.387371 100.589597 \r\nL 81.467615 101.565612 \r\nL 81.547858 98.833398 \r\nL 81.628102 98.895915 \r\nL 81.788589 104.172412 \r\nL 81.868832 101.38646 \r\nL 81.949076 101.468431 \r\nL 82.029319 104.206002 \r\nL 82.109563 102.972835 \r\nL 82.189806 107.991497 \r\nL 82.27005 101.275706 \r\nL 82.350293 107.478527 \r\nL 82.430537 106.175231 \r\nL 82.51078 106.71118 \r\nL 82.591024 105.019083 \r\nL 82.671267 100.835786 \r\nL 82.751511 109.518408 \r\nL 82.911998 103.807401 \r\nL 83.152729 108.737384 \r\nL 83.313216 100.655179 \r\nL 83.393459 111.093031 \r\nL 83.473703 102.69941 \r\nL 83.63419 110.706103 \r\nL 83.714433 108.290992 \r\nL 83.794677 111.98524 \r\nL 84.035407 106.503312 \r\nL 84.115651 116.01243 \r\nL 84.195894 107.89801 \r\nL 84.276138 115.417724 \r\nL 84.516868 107.404796 \r\nL 84.597112 115.318696 \r\nL 84.677355 114.070961 \r\nL 84.757599 112.415676 \r\nL 84.837842 104.831284 \r\nL 84.918086 113.247124 \r\nL 84.998329 102.589836 \r\nL 85.078573 113.747833 \r\nL 85.158816 108.82398 \r\nL 85.23906 112.638152 \r\nL 85.319303 112.4489 \r\nL 85.399547 103.133934 \r\nL 85.560034 119.953587 \r\nL 85.720521 104.871464 \r\nL 86.041495 119.242875 \r\nL 86.201982 108.860714 \r\nL 86.282225 114.784647 \r\nL 86.362469 111.677466 \r\nL 86.442713 115.374387 \r\nL 86.522956 111.757315 \r\nL 86.6032 119.949526 \r\nL 86.683443 118.517071 \r\nL 86.763687 116.288723 \r\nL 86.924174 124.832007 \r\nL 87.084661 119.807397 \r\nL 87.245148 119.137768 \r\nL 87.485878 116.241522 \r\nL 87.646365 121.51735 \r\nL 87.806852 119.336401 \r\nL 87.887096 120.632124 \r\nL 87.967339 118.123304 \r\nL 88.127826 125.527548 \r\nL 88.20807 116.409145 \r\nL 88.288313 119.081108 \r\nL 88.368557 118.711957 \r\nL 88.4488 111.255847 \r\nL 88.529044 124.985521 \r\nL 88.609287 121.066137 \r\nL 88.689531 112.554609 \r\nL 88.769774 115.729141 \r\nL 88.850018 126.11966 \r\nL 88.930261 113.784253 \r\nL 89.010505 129.176194 \r\nL 89.090748 123.958545 \r\nL 89.170992 123.068498 \r\nL 89.251235 129.504733 \r\nL 89.331479 117.784966 \r\nL 89.411722 125.704539 \r\nL 89.491966 123.712134 \r\nL 89.572209 123.976034 \r\nL 89.652453 122.397179 \r\nL 89.732696 123.413059 \r\nL 89.81294 123.254684 \r\nL 89.973427 131.361754 \r\nL 90.133914 126.287349 \r\nL 90.214158 130.238947 \r\nL 90.294401 120.274292 \r\nL 90.454888 135.993082 \r\nL 90.535132 130.906768 \r\nL 90.615375 121.197288 \r\nL 90.695619 122.27457 \r\nL 90.856106 137.75536 \r\nL 90.936349 133.902685 \r\nL 91.016593 123.817084 \r\nL 91.17708 138.209416 \r\nL 91.257323 131.694132 \r\nL 91.337567 138.084698 \r\nL 91.578297 113.328794 \r\nL 91.658541 138.309283 \r\nL 91.738784 126.314231 \r\nL 91.819028 131.348064 \r\nL 91.899271 128.908298 \r\nL 91.979515 137.159619 \r\nL 92.059758 137.022206 \r\nL 92.140002 130.705043 \r\nL 92.220245 131.831283 \r\nL 92.300489 132.07827 \r\nL 92.380732 121.800312 \r\nL 92.541219 144.012757 \r\nL 92.78195 122.305972 \r\nL 92.862193 133.848854 \r\nL 92.942437 127.736232 \r\nL 93.02268 128.584121 \r\nL 93.183167 142.687034 \r\nL 93.263411 133.036624 \r\nL 93.343654 134.864694 \r\nL 93.423898 133.841531 \r\nL 93.664628 143.521167 \r\nL 93.744872 141.415835 \r\nL 93.825115 132.314213 \r\nL 93.905359 135.130756 \r\nL 94.065846 142.939772 \r\nL 94.14609 141.535601 \r\nL 94.226333 144.02291 \r\nL 94.38682 132.282222 \r\nL 94.547307 141.342812 \r\nL 94.627551 130.676445 \r\nL 94.707794 137.665607 \r\nL 94.788038 136.19347 \r\nL 94.868281 138.43201 \r\nL 94.948525 131.054386 \r\nL 95.109012 136.538018 \r\nL 95.189255 121.076683 \r\nL 95.269499 141.59538 \r\nL 95.349742 137.309242 \r\nL 95.429986 142.042401 \r\nL 95.510229 141.397717 \r\nL 95.590473 139.132006 \r\nL 95.75096 143.840025 \r\nL 95.831203 141.804152 \r\nL 95.911447 152.369906 \r\nL 95.99169 134.090129 \r\nL 96.071934 139.708135 \r\nL 96.152177 133.584207 \r\nL 96.392908 148.219046 \r\nL 96.473151 148.057593 \r\nL 96.633638 135.314729 \r\nL 96.713882 138.361725 \r\nL 96.794125 147.813423 \r\nL 96.874369 136.393439 \r\nL 96.954612 136.967301 \r\nL 97.034856 152.361116 \r\nL 97.115099 148.008807 \r\nL 97.275586 141.313728 \r\nL 97.35583 143.253586 \r\nL 97.436073 131.074391 \r\nL 97.596561 145.232614 \r\nL 97.676804 152.185907 \r\nL 97.757048 150.055356 \r\nL 97.837291 142.367194 \r\nL 97.917535 157.926941 \r\nL 98.078022 139.002322 \r\nL 98.238509 152.149906 \r\nL 98.318752 131.749653 \r\nL 98.479239 156.835314 \r\nL 98.639726 137.657511 \r\nL 98.71997 155.458419 \r\nL 98.800213 152.386963 \r\nL 98.9607 138.183805 \r\nL 99.040944 152.694489 \r\nL 99.121187 133.482244 \r\nL 99.281674 155.76728 \r\nL 99.361918 144.149083 \r\nL 99.522405 153.928102 \r\nL 99.682892 145.158137 \r\nL 99.763135 154.389219 \r\nL 99.843379 147.412935 \r\nL 99.923622 152.972066 \r\nL 100.003866 152.59102 \r\nL 100.084109 155.713777 \r\nL 100.164353 144.319785 \r\nL 100.244596 161.364626 \r\nL 100.485327 129.001561 \r\nL 100.645814 153.189983 \r\nL 100.726057 150.992762 \r\nL 100.886544 155.710266 \r\nL 100.966788 154.800489 \r\nL 101.047031 161.464087 \r\nL 101.127275 154.245584 \r\nL 101.207518 155.861068 \r\nL 101.287762 164.332946 \r\nL 101.368006 158.985673 \r\nL 101.448249 140.574994 \r\nL 101.528493 155.275376 \r\nL 101.608736 140.930717 \r\nL 101.68898 159.252468 \r\nL 101.769223 156.496595 \r\nL 101.92971 141.071156 \r\nL 102.090197 156.452761 \r\nL 102.170441 152.017629 \r\nL 102.250684 161.894824 \r\nL 102.330928 149.840361 \r\nL 102.411171 153.533902 \r\nL 102.491415 151.238754 \r\nL 102.571658 157.895211 \r\nL 102.651902 151.297144 \r\nL 102.732145 163.398167 \r\nL 102.972876 154.084602 \r\nL 103.053119 154.388866 \r\nL 103.133363 165.82423 \r\nL 103.213606 148.340817 \r\nL 103.29385 156.816475 \r\nL 103.374093 153.342593 \r\nL 103.53458 162.410008 \r\nL 103.614824 160.043121 \r\nL 103.695067 160.652041 \r\nL 103.775311 163.793676 \r\nL 103.935798 140.698835 \r\nL 104.176528 164.760585 \r\nL 104.256772 154.745086 \r\nL 104.337015 160.555345 \r\nL 104.417259 139.803036 \r\nL 104.497502 165.52055 \r\nL 104.577746 163.553934 \r\nL 104.738233 159.424664 \r\nL 104.818476 176.069508 \r\nL 104.89872 137.455603 \r\nL 104.978963 151.261628 \r\nL 105.059207 152.01907 \r\nL 105.219694 157.693775 \r\nL 105.299938 176.960984 \r\nL 105.380181 159.736565 \r\nL 105.460425 168.969174 \r\nL 105.620912 144.735522 \r\nL 105.701155 161.099337 \r\nL 105.781399 158.094263 \r\nL 105.941886 166.57896 \r\nL 106.022129 159.300273 \r\nL 106.102373 165.744853 \r\nL 106.182616 145.794411 \r\nL 106.26286 164.087341 \r\nL 106.343103 160.994741 \r\nL 106.423347 162.618715 \r\nL 106.50359 168.287434 \r\nL 106.583834 165.014025 \r\nL 106.664077 154.915684 \r\nL 106.744321 166.932345 \r\nL 106.904808 159.000359 \r\nL 106.985051 159.123584 \r\nL 107.065295 172.975756 \r\nL 107.225782 159.318208 \r\nL 107.386269 169.404974 \r\nL 107.466512 165.110629 \r\nL 107.546756 155.168553 \r\nL 107.626999 170.938953 \r\nL 107.707243 151.835149 \r\nL 107.787486 170.539684 \r\nL 107.86773 167.78947 \r\nL 107.947973 169.941598 \r\nL 108.028217 148.766799 \r\nL 108.188704 171.072783 \r\nL 108.268947 169.376074 \r\nL 108.429434 156.063513 \r\nL 108.589921 164.244995 \r\nL 108.670165 149.135059 \r\nL 108.830652 162.127833 \r\nL 108.991139 155.456558 \r\nL 109.23187 178.297483 \r\nL 109.312113 178.027393 \r\nL 109.713331 151.776367 \r\nL 109.873818 178.286544 \r\nL 110.034305 165.217157 \r\nL 110.114548 172.440881 \r\nL 110.194792 158.081673 \r\nL 110.275035 182.627141 \r\nL 110.355279 174.818891 \r\nL 110.435522 170.588529 \r\nL 110.515766 172.592901 \r\nL 110.596009 156.686595 \r\nL 110.756496 176.262187 \r\nL 110.83674 172.518398 \r\nL 110.916983 174.929828 \r\nL 110.997227 171.632962 \r\nL 111.157714 179.305423 \r\nL 111.237957 157.64829 \r\nL 111.318201 174.990281 \r\nL 111.398444 160.69919 \r\nL 111.478688 179.490706 \r\nL 111.639175 165.450677 \r\nL 111.799662 174.384138 \r\nL 111.879905 174.222247 \r\nL 111.960149 167.690514 \r\nL 112.040392 168.265228 \r\nL 112.120636 165.241112 \r\nL 112.200879 173.961445 \r\nL 112.281123 162.191961 \r\nL 112.521854 186.012325 \r\nL 112.682341 168.223718 \r\nL 112.842828 180.283514 \r\nL 112.923071 172.897597 \r\nL 113.083558 178.423721 \r\nL 113.163802 158.419226 \r\nL 113.244045 180.550231 \r\nL 113.324289 160.848485 \r\nL 113.404532 163.139009 \r\nL 113.484776 174.951621 \r\nL 113.565019 162.216236 \r\nL 113.725506 175.304717 \r\nL 113.80575 175.171208 \r\nL 113.966237 162.029748 \r\nL 114.126724 173.387975 \r\nL 114.206967 159.37868 \r\nL 114.287211 170.120612 \r\nL 114.367454 166.073241 \r\nL 114.447698 158.176234 \r\nL 114.527941 169.719627 \r\nL 114.608185 165.072185 \r\nL 114.768672 180.861529 \r\nL 114.929159 168.603363 \r\nL 115.009402 169.40204 \r\nL 115.169889 183.024118 \r\nL 115.330376 169.407274 \r\nL 115.41062 166.050361 \r\nL 115.571107 189.054395 \r\nL 115.65135 160.711767 \r\nL 115.731594 181.532906 \r\nL 115.972324 162.750731 \r\nL 116.052568 162.648244 \r\nL 116.132811 173.392469 \r\nL 116.213055 173.368927 \r\nL 116.373542 166.328953 \r\nL 116.453786 175.094058 \r\nL 116.534029 162.181375 \r\nL 116.614273 177.81691 \r\nL 116.77476 168.549015 \r\nL 117.01549 176.366403 \r\nL 117.095734 171.166361 \r\nL 117.175977 184.598401 \r\nL 117.336464 174.791825 \r\nL 117.416708 178.414911 \r\nL 117.496951 171.10767 \r\nL 117.577195 185.066259 \r\nL 117.657438 165.55729 \r\nL 117.737682 166.448556 \r\nL 117.898169 174.28946 \r\nL 118.058656 162.009389 \r\nL 118.219143 185.728217 \r\nL 118.299386 179.07322 \r\nL 118.37963 178.997498 \r\nL 118.459873 167.719336 \r\nL 118.540117 168.005251 \r\nL 118.700604 189.858921 \r\nL 118.780847 165.729892 \r\nL 118.861091 185.161252 \r\nL 118.941334 178.512969 \r\nL 119.021578 189.162666 \r\nL 119.101821 161.071839 \r\nL 119.182065 170.196957 \r\nL 119.262308 171.604075 \r\nL 119.342552 185.508885 \r\nL 119.503039 169.768715 \r\nL 119.583282 170.672963 \r\nL 119.663526 176.172657 \r\nL 119.743769 161.585844 \r\nL 119.904256 192.658236 \r\nL 119.9845 159.69197 \r\nL 120.064744 176.187303 \r\nL 120.144987 172.139886 \r\nL 120.225231 178.572099 \r\nL 120.305474 166.762593 \r\nL 120.465961 180.064529 \r\nL 120.546205 182.731514 \r\nL 120.626448 166.00648 \r\nL 120.706692 178.911145 \r\nL 120.786935 172.261336 \r\nL 120.867179 189.895073 \r\nL 120.947422 171.567603 \r\nL 121.027666 179.081788 \r\nL 121.107909 177.983944 \r\nL 121.188153 179.43531 \r\nL 121.268396 194.871813 \r\nL 121.509127 177.20972 \r\nL 121.669614 188.591201 \r\nL 121.830101 178.092326 \r\nL 121.910344 177.042922 \r\nL 121.990588 180.348434 \r\nL 122.070831 171.957243 \r\nL 122.151075 180.748542 \r\nL 122.231318 165.955898 \r\nL 122.311562 185.151603 \r\nL 122.472049 177.417451 \r\nL 122.552292 180.641713 \r\nL 122.712779 165.655637 \r\nL 122.793023 184.785721 \r\nL 122.873266 178.339353 \r\nL 122.95351 163.101973 \r\nL 123.033753 190.367117 \r\nL 123.113997 172.393791 \r\nL 123.19424 184.274473 \r\nL 123.354727 170.949715 \r\nL 123.434971 170.244361 \r\nL 123.515214 193.149623 \r\nL 123.595458 185.95309 \r\nL 123.675702 188.274577 \r\nL 123.755945 172.450811 \r\nL 123.836189 178.372661 \r\nL 123.916432 181.202238 \r\nL 123.996676 190.258551 \r\nL 124.076919 188.0255 \r\nL 124.157163 177.274241 \r\nL 124.237406 188.142404 \r\nL 124.31765 181.598547 \r\nL 124.397893 197.052723 \r\nL 124.55838 173.596315 \r\nL 124.718867 180.25348 \r\nL 124.799111 193.604466 \r\nL 124.879354 167.744306 \r\nL 125.039841 196.818535 \r\nL 125.120085 171.773663 \r\nL 125.200328 184.923173 \r\nL 125.280572 178.512858 \r\nL 125.360815 196.222493 \r\nL 125.441059 167.403426 \r\nL 125.521302 201.840316 \r\nL 125.601546 190.472413 \r\nL 125.681789 195.377408 \r\nL 125.762033 163.003915 \r\nL 125.92252 179.22621 \r\nL 126.002763 181.237191 \r\nL 126.083007 173.774832 \r\nL 126.243494 185.150654 \r\nL 126.323737 168.613221 \r\nL 126.403981 173.507598 \r\nL 126.564468 182.485418 \r\nL 126.644711 181.27777 \r\nL 126.724955 181.628698 \r\nL 126.805198 182.960763 \r\nL 126.885442 190.990971 \r\nL 126.965685 186.776029 \r\nL 127.045929 189.183129 \r\nL 127.126172 186.256626 \r\nL 127.206416 179.269855 \r\nL 127.286659 182.013734 \r\nL 127.366903 192.766658 \r\nL 127.447147 191.387077 \r\nL 127.52739 185.333723 \r\nL 127.607634 191.528669 \r\nL 127.768121 180.081364 \r\nL 127.848364 182.986801 \r\nL 127.928608 172.983407 \r\nL 128.008851 174.238766 \r\nL 128.089095 200.476181 \r\nL 128.169338 172.859441 \r\nL 128.249582 202.385815 \r\nL 128.329825 165.774592 \r\nL 128.490312 185.298187 \r\nL 128.650799 175.786874 \r\nL 128.731043 188.110321 \r\nL 128.811286 167.703313 \r\nL 128.89153 187.018392 \r\nL 128.971773 181.738076 \r\nL 129.212504 169.170243 \r\nL 129.292747 187.54747 \r\nL 129.372991 184.538432 \r\nL 129.453234 187.252442 \r\nL 129.533478 196.338828 \r\nL 129.693965 185.185423 \r\nL 129.934695 193.57028 \r\nL 130.014939 182.205587 \r\nL 130.095182 183.347089 \r\nL 130.175426 196.147223 \r\nL 130.255669 188.40844 \r\nL 130.335913 193.04641 \r\nL 130.4964 178.577313 \r\nL 130.576643 179.455858 \r\nL 130.656887 178.926499 \r\nL 130.73713 180.239561 \r\nL 130.817374 178.564999 \r\nL 130.897617 181.339429 \r\nL 130.977861 173.775625 \r\nL 131.138348 184.86122 \r\nL 131.218592 182.736584 \r\nL 131.298835 168.595346 \r\nL 131.459322 191.048994 \r\nL 131.539566 182.194818 \r\nL 131.619809 185.577428 \r\nL 131.780296 175.813685 \r\nL 131.86054 196.05996 \r\nL 131.940783 174.277597 \r\nL 132.021027 186.478231 \r\nL 132.10127 182.158654 \r\nL 132.261757 194.460255 \r\nL 132.342001 193.341463 \r\nL 132.422244 178.87893 \r\nL 132.502488 179.409063 \r\nL 132.582731 189.569612 \r\nL 132.662975 185.854291 \r\nL 132.743218 178.347495 \r\nL 132.823462 194.475262 \r\nL 132.903705 191.687109 \r\nL 132.983949 170.040443 \r\nL 133.144436 192.158465 \r\nL 133.224679 174.977671 \r\nL 133.304923 181.266661 \r\nL 133.385166 182.254643 \r\nL 133.545653 188.800484 \r\nL 133.70614 169.190975 \r\nL 133.786384 199.419427 \r\nL 133.866627 191.460107 \r\nL 133.946871 181.243119 \r\nL 134.027114 191.881602 \r\nL 134.107358 181.223933 \r\nL 134.267845 189.736489 \r\nL 134.348088 183.096545 \r\nL 134.428332 193.011405 \r\nL 134.588819 170.808438 \r\nL 134.829549 192.528736 \r\nL 134.990037 173.631838 \r\nL 135.230767 192.743961 \r\nL 135.311011 192.425431 \r\nL 135.391254 193.459585 \r\nL 135.551741 178.838993 \r\nL 135.631985 192.620703 \r\nL 135.712228 160.174246 \r\nL 135.872715 194.415575 \r\nL 136.033202 173.851635 \r\nL 136.113446 186.223842 \r\nL 136.193689 176.798503 \r\nL 136.273933 178.741963 \r\nL 136.354176 198.657904 \r\nL 136.514663 187.167733 \r\nL 136.67515 188.380005 \r\nL 136.755394 196.698579 \r\nL 136.835637 194.144902 \r\nL 136.915881 174.540148 \r\nL 136.996124 194.548724 \r\nL 137.076368 188.276975 \r\nL 137.156611 180.45094 \r\nL 137.317098 195.824108 \r\nL 137.477585 190.489176 \r\nL 137.718316 175.774317 \r\nL 137.878803 193.349088 \r\nL 138.03929 169.986022 \r\nL 138.119533 173.255855 \r\nL 138.199777 171.167396 \r\nL 138.28002 193.473413 \r\nL 138.360264 167.319116 \r\nL 138.520751 185.959457 \r\nL 138.600995 183.793921 \r\nL 138.681238 184.947658 \r\nL 138.761482 184.300779 \r\nL 138.841725 197.346709 \r\nL 138.921969 168.423805 \r\nL 139.082456 192.109232 \r\nL 139.162699 186.436139 \r\nL 139.242943 195.595737 \r\nL 139.40343 186.463303 \r\nL 139.483673 183.86716 \r\nL 139.563917 184.234267 \r\nL 139.64416 201.510742 \r\nL 139.804647 191.584858 \r\nL 139.884891 201.286884 \r\nL 139.965134 171.37349 \r\nL 140.125621 190.26404 \r\nL 140.205865 184.069028 \r\nL 140.286108 185.562067 \r\nL 140.366352 195.512246 \r\nL 140.446595 193.588522 \r\nL 140.526839 178.017633 \r\nL 140.607082 201.906022 \r\nL 140.687326 179.226845 \r\nL 140.767569 202.603457 \r\nL 140.847813 185.848442 \r\nL 140.928056 194.718961 \r\nL 141.0083 193.584533 \r\nL 141.088543 186.653643 \r\nL 141.168787 194.915353 \r\nL 141.24903 190.514925 \r\nL 141.329274 201.136049 \r\nL 141.489761 185.746545 \r\nL 141.570004 186.509496 \r\nL 141.650248 194.083597 \r\nL 141.730491 193.993412 \r\nL 141.810735 183.276332 \r\nL 141.890978 191.99282 \r\nL 142.051465 169.394979 \r\nL 142.131709 185.560895 \r\nL 142.292196 176.082196 \r\nL 142.37244 176.866449 \r\nL 142.532927 200.948703 \r\nL 142.61317 172.864937 \r\nL 142.773657 195.368984 \r\nL 142.853901 176.601494 \r\nL 142.934144 179.755111 \r\nL 143.094631 198.600156 \r\nL 143.174875 197.78342 \r\nL 143.255118 195.307882 \r\nL 143.415605 207.984969 \r\nL 143.495849 180.716347 \r\nL 143.576092 185.913506 \r\nL 143.656336 208.4322 \r\nL 143.897066 178.047607 \r\nL 143.97731 177.710913 \r\nL 144.057553 203.519928 \r\nL 144.137797 180.193335 \r\nL 144.21804 194.395393 \r\nL 144.298284 173.749764 \r\nL 144.378527 192.175247 \r\nL 144.458771 185.464913 \r\nL 144.539014 174.631479 \r\nL 144.619258 193.150586 \r\nL 144.699501 192.67963 \r\nL 144.779745 187.689881 \r\nL 144.859988 189.929095 \r\nL 145.020475 169.910183 \r\nL 145.180962 194.947934 \r\nL 145.341449 176.550454 \r\nL 145.421693 198.770701 \r\nL 145.501936 197.3889 \r\nL 145.58218 179.596566 \r\nL 145.662423 208.223637 \r\nL 145.82291 185.310397 \r\nL 145.903154 192.96831 \r\nL 145.983397 186.430217 \r\nL 146.063641 198.724004 \r\nL 146.143885 198.059995 \r\nL 146.224128 183.745245 \r\nL 146.304372 194.252891 \r\nL 146.384615 193.231142 \r\nL 146.545102 198.970205 \r\nL 146.625346 173.633168 \r\nL 146.705589 175.689942 \r\nL 146.785833 195.45161 \r\nL 146.866076 181.323675 \r\nL 147.026563 194.762252 \r\nL 147.106807 197.273895 \r\nL 147.347537 184.297321 \r\nL 147.427781 187.289596 \r\nL 147.508024 176.609158 \r\nL 147.748755 209.900452 \r\nL 147.828998 191.634863 \r\nL 147.909242 205.208377 \r\nL 147.989485 193.798474 \r\nL 148.069729 195.608628 \r\nL 148.149972 202.073187 \r\nL 148.310459 186.716958 \r\nL 148.470946 200.306658 \r\nL 148.55119 171.513641 \r\nL 148.711677 202.33467 \r\nL 148.79192 196.670727 \r\nL 148.872164 201.331295 \r\nL 148.952407 195.128056 \r\nL 149.032651 202.392916 \r\nL 149.112894 185.105607 \r\nL 149.193138 199.42322 \r\nL 149.273381 184.932717 \r\nL 149.433868 192.703486 \r\nL 149.514112 191.900375 \r\nL 149.674599 186.675455 \r\nL 149.754843 191.969546 \r\nL 149.835086 181.481722 \r\nL 149.91533 205.637136 \r\nL 149.995573 202.259505 \r\nL 150.075817 172.728231 \r\nL 150.15606 209.083618 \r\nL 150.236304 208.315034 \r\nL 150.396791 181.455049 \r\nL 150.477034 198.798749 \r\nL 150.557278 197.147788 \r\nL 150.637521 177.977086 \r\nL 150.798008 205.659807 \r\nL 150.878252 205.420398 \r\nL 150.958495 192.83786 \r\nL 151.038739 202.111749 \r\nL 151.118982 187.08159 \r\nL 151.199226 193.342478 \r\nL 151.279469 189.857932 \r\nL 151.359713 190.909753 \r\nL 151.439956 206.576927 \r\nL 151.600443 174.536931 \r\nL 151.680687 202.811423 \r\nL 151.76093 182.389383 \r\nL 151.841174 189.664665 \r\nL 152.081904 179.595485 \r\nL 152.162148 202.984988 \r\nL 152.322635 189.781418 \r\nL 152.402878 202.03885 \r\nL 152.483122 170.641443 \r\nL 152.563365 179.849141 \r\nL 152.643609 178.8495 \r\nL 152.723852 206.021229 \r\nL 152.884339 179.878421 \r\nL 152.964583 186.579355 \r\nL 153.044826 218.516373 \r\nL 153.205313 186.296439 \r\nL 153.285557 212.092334 \r\nL 153.3658 188.729033 \r\nL 153.446044 191.440331 \r\nL 153.606531 173.865476 \r\nL 153.686775 192.601654 \r\nL 153.767018 185.665 \r\nL 153.927505 178.467182 \r\nL 154.087992 199.723658 \r\nL 154.328723 178.082127 \r\nL 154.408966 171.321657 \r\nL 154.48921 202.092071 \r\nL 154.649697 180.52568 \r\nL 154.72994 188.720465 \r\nL 154.810184 168.208168 \r\nL 154.890427 198.627818 \r\nL 154.970671 186.99128 \r\nL 155.050914 182.967732 \r\nL 155.211401 196.394938 \r\nL 155.291645 195.10699 \r\nL 155.371888 191.782908 \r\nL 155.452132 197.526621 \r\nL 155.532375 186.671073 \r\nL 155.692862 206.501002 \r\nL 155.853349 180.273472 \r\nL 155.933593 194.887377 \r\nL 156.013836 193.31574 \r\nL 156.09408 188.166575 \r\nL 156.174323 190.342743 \r\nL 156.254567 200.625555 \r\nL 156.33481 187.102269 \r\nL 156.495297 208.987702 \r\nL 156.736028 176.899895 \r\nL 156.816271 196.106782 \r\nL 156.896515 195.629275 \r\nL 156.976758 189.336211 \r\nL 157.057002 204.816883 \r\nL 157.137245 204.363422 \r\nL 157.217489 201.215498 \r\nL 157.297733 206.495388 \r\nL 157.377976 174.266599 \r\nL 157.45822 193.154588 \r\nL 157.538463 187.860058 \r\nL 157.618707 202.829961 \r\nL 157.69895 185.110225 \r\nL 157.859437 206.341468 \r\nL 158.019924 184.89185 \r\nL 158.100168 204.380158 \r\nL 158.180411 188.058154 \r\nL 158.340898 202.421586 \r\nL 158.421142 200.490434 \r\nL 158.501385 206.061474 \r\nL 158.581629 174.262701 \r\nL 158.661872 204.799701 \r\nL 158.742116 187.503373 \r\nL 158.822359 201.399792 \r\nL 158.902603 192.997767 \r\nL 159.06309 201.697492 \r\nL 159.223577 172.696168 \r\nL 159.30382 201.436212 \r\nL 159.384064 198.311267 \r\nL 159.464307 182.691544 \r\nL 159.544551 207.5958 \r\nL 159.624794 182.266787 \r\nL 159.705038 185.416683 \r\nL 159.945768 201.309561 \r\nL 160.106255 190.914463 \r\nL 160.186499 185.280684 \r\nL 160.266742 197.284887 \r\nL 160.346986 183.909645 \r\nL 160.427229 184.071138 \r\nL 160.507473 186.97362 \r\nL 160.587716 175.602397 \r\nL 160.66796 203.741474 \r\nL 160.748203 191.64256 \r\nL 160.828447 199.665484 \r\nL 160.908691 195.76412 \r\nL 160.988934 182.398554 \r\nL 161.149421 202.233153 \r\nL 161.229665 201.492918 \r\nL 161.309908 210.500621 \r\nL 161.390152 195.210118 \r\nL 161.470395 201.633233 \r\nL 161.711126 189.954242 \r\nL 161.791369 201.607628 \r\nL 161.951856 194.428086 \r\nL 162.0321 205.437004 \r\nL 162.192587 181.287006 \r\nL 162.27283 186.429038 \r\nL 162.353074 209.189367 \r\nL 162.433317 186.250148 \r\nL 162.513561 186.643254 \r\nL 162.593804 199.290818 \r\nL 162.674048 190.239313 \r\nL 162.754291 195.03286 \r\nL 162.834535 191.033372 \r\nL 162.914778 194.057605 \r\nL 163.075265 184.135337 \r\nL 163.235752 205.717908 \r\nL 163.315996 183.817043 \r\nL 163.396239 194.400149 \r\nL 163.476483 227.658865 \r\nL 163.63697 196.195192 \r\nL 163.717213 202.315071 \r\nL 163.797457 187.006208 \r\nL 163.957944 204.276257 \r\nL 164.038187 196.184318 \r\nL 164.118431 196.331151 \r\nL 164.198674 203.848002 \r\nL 164.359161 180.741802 \r\nL 164.680136 210.047678 \r\nL 164.760379 204.032519 \r\nL 164.840623 199.255557 \r\nL 164.920866 209.330553 \r\nL 165.00111 169.84743 \r\nL 165.081353 217.119211 \r\nL 165.24184 183.514614 \r\nL 165.322084 197.27476 \r\nL 165.402327 196.422737 \r\nL 165.482571 194.544112 \r\nL 165.562814 197.122091 \r\nL 165.643058 184.362687 \r\nL 165.723301 194.028057 \r\nL 165.803545 176.669297 \r\nL 165.883788 182.719795 \r\nL 165.964032 205.501754 \r\nL 166.044275 201.013846 \r\nL 166.124519 187.873827 \r\nL 166.204762 190.84203 \r\nL 166.285006 189.347897 \r\nL 166.445493 203.561267 \r\nL 166.525736 200.382092 \r\nL 166.60598 187.329494 \r\nL 166.686223 198.209271 \r\nL 166.766467 185.813018 \r\nL 166.926954 198.230959 \r\nL 167.007197 195.601521 \r\nL 167.087441 198.000924 \r\nL 167.167684 197.369347 \r\nL 167.247928 182.831846 \r\nL 167.328171 197.22651 \r\nL 167.408415 184.693282 \r\nL 167.568902 200.17231 \r\nL 167.649145 182.547449 \r\nL 167.729389 203.911625 \r\nL 167.809632 189.275541 \r\nL 167.889876 191.721361 \r\nL 168.050363 207.051814 \r\nL 168.21085 190.514683 \r\nL 168.371337 205.434921 \r\nL 168.451581 200.231015 \r\nL 168.531824 195.629249 \r\nL 168.612068 212.489495 \r\nL 168.692311 182.733669 \r\nL 168.772555 207.836656 \r\nL 168.852798 194.796288 \r\nL 168.933042 204.015199 \r\nL 169.013285 195.357056 \r\nL 169.093529 202.967348 \r\nL 169.254016 190.070845 \r\nL 169.334259 198.265408 \r\nL 169.414503 194.876857 \r\nL 169.494746 196.718964 \r\nL 169.57499 186.929248 \r\nL 169.655233 216.502097 \r\nL 169.735477 207.238197 \r\nL 169.81572 189.576831 \r\nL 169.895964 207.034553 \r\nL 169.976207 202.98523 \r\nL 170.136694 194.012415 \r\nL 170.216938 186.274004 \r\nL 170.297181 189.167625 \r\nL 170.377425 192.037906 \r\nL 170.457668 207.765984 \r\nL 170.537912 191.225061 \r\nL 170.618155 196.290722 \r\nL 170.698399 204.929778 \r\nL 170.778642 193.157222 \r\nL 170.858886 200.215143 \r\nL 170.939129 174.28306 \r\nL 171.099616 214.430859 \r\nL 171.17986 206.407869 \r\nL 171.340347 185.612564 \r\nL 171.42059 195.567774 \r\nL 171.500834 195.480222 \r\nL 171.581077 195.124735 \r\nL 171.741564 206.895896 \r\nL 171.902051 169.327641 \r\nL 172.142782 201.83706 \r\nL 172.223026 201.697813 \r\nL 172.303269 203.490393 \r\nL 172.383513 198.145792 \r\nL 172.463756 203.244047 \r\nL 172.704487 178.995323 \r\nL 172.78473 183.794235 \r\nL 172.864974 213.21372 \r\nL 172.945217 167.85027 \r\nL 173.105704 211.769003 \r\nL 173.185948 198.582647 \r\nL 173.266191 184.366512 \r\nL 173.426678 210.693293 \r\nL 173.506922 204.779657 \r\nL 173.587165 203.11553 \r\nL 173.667409 206.990168 \r\nL 173.747652 198.790581 \r\nL 173.827896 213.145341 \r\nL 173.908139 187.866641 \r\nL 173.988383 196.616274 \r\nL 174.068626 197.02134 \r\nL 174.309357 193.771657 \r\nL 174.3896 181.285768 \r\nL 174.550087 191.609441 \r\nL 174.630331 186.63711 \r\nL 174.790818 193.004913 \r\nL 174.871061 180.615872 \r\nL 174.951305 204.516111 \r\nL 175.031548 197.548846 \r\nL 175.192035 178.914604 \r\nL 175.272279 194.36652 \r\nL 175.352522 193.005247 \r\nL 175.513009 179.393067 \r\nL 175.593253 206.991721 \r\nL 175.673496 202.909358 \r\nL 175.833984 191.371192 \r\nL 175.914227 203.491611 \r\nL 175.994471 200.044742 \r\nL 176.074714 203.060906 \r\nL 176.235201 181.995216 \r\nL 176.315445 195.679863 \r\nL 176.475932 188.785327 \r\nL 176.556175 193.573994 \r\nL 176.636419 170.677169 \r\nL 176.796906 197.391841 \r\nL 177.11788 171.600118 \r\nL 177.278367 205.886468 \r\nL 177.438854 168.772297 \r\nL 177.519097 195.342422 \r\nL 177.599341 188.722896 \r\nL 177.679584 209.472053 \r\nL 177.759828 207.542028 \r\nL 178.080802 188.799613 \r\nL 178.161045 197.060852 \r\nL 178.241289 192.175456 \r\nL 178.321532 210.445185 \r\nL 178.401776 187.411609 \r\nL 178.482019 194.081344 \r\nL 178.562263 182.227328 \r\nL 178.642506 207.113472 \r\nL 178.802993 183.518714 \r\nL 178.883237 197.261758 \r\nL 179.043724 184.6604 \r\nL 179.123967 201.826226 \r\nL 179.204211 183.587513 \r\nL 179.444941 213.386571 \r\nL 179.605429 189.05809 \r\nL 179.765916 193.722457 \r\nL 180.006646 211.60681 \r\nL 180.167133 194.177686 \r\nL 180.247377 206.643937 \r\nL 180.407864 181.679077 \r\nL 180.488107 187.241005 \r\nL 180.568351 207.208295 \r\nL 180.648594 197.595517 \r\nL 180.728838 200.648599 \r\nL 180.809081 201.145599 \r\nL 180.889325 185.137605 \r\nL 180.969568 197.767726 \r\nL 181.049812 192.259858 \r\nL 181.130055 172.159708 \r\nL 181.210299 204.54862 \r\nL 181.290542 195.579722 \r\nL 181.370786 205.533235 \r\nL 181.451029 191.789556 \r\nL 181.531273 201.853161 \r\nL 181.611516 200.61341 \r\nL 181.69176 171.201262 \r\nL 181.772003 187.701226 \r\nL 181.852247 185.53922 \r\nL 181.93249 183.513415 \r\nL 182.012734 204.581706 \r\nL 182.173221 193.331153 \r\nL 182.333708 201.916745 \r\nL 182.413951 195.540144 \r\nL 182.494195 171.774141 \r\nL 182.574438 221.068042 \r\nL 182.654682 210.030765 \r\nL 182.815169 179.869159 \r\nL 182.975656 197.73316 \r\nL 183.055899 194.806794 \r\nL 183.136143 198.382967 \r\nL 183.216386 213.061556 \r\nL 183.29663 195.331555 \r\nL 183.376874 199.648899 \r\nL 183.457117 198.691324 \r\nL 183.537361 188.964675 \r\nL 183.697848 212.300177 \r\nL 183.858335 197.954699 \r\nL 183.938578 196.988923 \r\nL 184.018822 197.302389 \r\nL 184.179309 181.517827 \r\nL 184.259552 189.69006 \r\nL 184.339796 188.594201 \r\nL 184.420039 183.397762 \r\nL 184.500283 219.143777 \r\nL 184.580526 203.683628 \r\nL 184.66077 209.771882 \r\nL 184.741013 192.938951 \r\nL 184.821257 217.744166 \r\nL 184.9015 199.430314 \r\nL 184.981744 202.162114 \r\nL 185.061987 214.174505 \r\nL 185.142231 183.447545 \r\nL 185.222474 203.79708 \r\nL 185.302718 186.825124 \r\nL 185.382961 200.331261 \r\nL 185.463205 192.87424 \r\nL 185.543448 210.116044 \r\nL 185.623692 178.542466 \r\nL 185.784179 201.036307 \r\nL 185.864422 203.014098 \r\nL 185.944666 192.177408 \r\nL 186.105153 212.457483 \r\nL 186.26564 187.525375 \r\nL 186.426127 199.895473 \r\nL 186.50637 182.146719 \r\nL 186.586614 210.107299 \r\nL 186.747101 194.443532 \r\nL 186.827344 192.22647 \r\nL 186.987832 198.609707 \r\nL 187.068075 196.294868 \r\nL 187.308806 212.217511 \r\nL 187.389049 200.275308 \r\nL 187.469293 201.532476 \r\nL 187.549536 211.167845 \r\nL 187.62978 183.315012 \r\nL 187.710023 198.970748 \r\nL 187.790267 182.81866 \r\nL 187.87051 200.964299 \r\nL 187.950754 197.021976 \r\nL 188.030997 206.097344 \r\nL 188.111241 186.774234 \r\nL 188.191484 215.236335 \r\nL 188.351971 181.762574 \r\nL 188.432215 189.101086 \r\nL 188.512458 186.097132 \r\nL 188.592702 196.227138 \r\nL 188.672945 190.752971 \r\nL 188.753189 194.022633 \r\nL 188.833432 187.56828 \r\nL 188.913676 210.957671 \r\nL 188.993919 207.350496 \r\nL 189.074163 194.268441 \r\nL 189.154406 198.760417 \r\nL 189.23465 199.414167 \r\nL 189.314893 208.17561 \r\nL 189.395137 193.48299 \r\nL 189.47538 223.548941 \r\nL 189.555624 181.919265 \r\nL 189.635867 214.394694 \r\nL 189.716111 186.256443 \r\nL 189.796354 198.556158 \r\nL 189.876598 190.790033 \r\nL 189.956841 192.496862 \r\nL 190.117328 201.792184 \r\nL 190.197572 177.44077 \r\nL 190.277815 200.593307 \r\nL 190.358059 187.455463 \r\nL 190.438302 206.416476 \r\nL 190.518546 180.996256 \r\nL 190.598789 187.078511 \r\nL 190.679033 193.152722 \r\nL 190.759277 181.574167 \r\nL 190.83952 214.304424 \r\nL 191.080251 190.558426 \r\nL 191.160494 216.590421 \r\nL 191.240738 177.918395 \r\nL 191.401225 198.780232 \r\nL 191.561712 203.71243 \r\nL 191.641955 179.117094 \r\nL 191.722199 209.556265 \r\nL 191.802442 206.898031 \r\nL 191.882686 184.754378 \r\nL 191.962929 201.741805 \r\nL 192.043173 196.454854 \r\nL 192.20366 207.377641 \r\nL 192.44439 180.058752 \r\nL 192.604877 211.20266 \r\nL 192.685121 210.86311 \r\nL 192.845608 197.223078 \r\nL 192.925851 203.229257 \r\nL 193.006095 201.128942 \r\nL 193.166582 182.051693 \r\nL 193.246825 202.613983 \r\nL 193.327069 195.183354 \r\nL 193.407312 182.987429 \r\nL 193.487556 209.013399 \r\nL 193.567799 202.190687 \r\nL 193.728286 192.552271 \r\nL 193.80853 192.241648 \r\nL 193.888773 202.568773 \r\nL 194.04926 185.071087 \r\nL 194.129504 203.095997 \r\nL 194.209747 187.369294 \r\nL 194.370234 212.254036 \r\nL 194.530722 188.503905 \r\nL 194.610965 204.775563 \r\nL 194.691209 195.127394 \r\nL 194.771452 206.594213 \r\nL 194.931939 194.340593 \r\nL 195.012183 208.049011 \r\nL 195.252913 187.548963 \r\nL 195.333157 205.704618 \r\nL 195.4134 201.577444 \r\nL 195.493644 188.988473 \r\nL 195.573887 203.27621 \r\nL 195.654131 199.485854 \r\nL 195.734374 174.526176 \r\nL 195.814618 206.535273 \r\nL 195.894861 177.448984 \r\nL 196.135592 208.117954 \r\nL 196.215835 193.044169 \r\nL 196.376322 202.021498 \r\nL 196.617053 183.625315 \r\nL 196.77754 202.100659 \r\nL 196.857783 209.182004 \r\nL 196.938027 208.560429 \r\nL 197.01827 211.588679 \r\nL 197.098514 192.24225 \r\nL 197.259001 203.815787 \r\nL 197.339244 200.35344 \r\nL 197.419488 182.567317 \r\nL 197.499731 206.319924 \r\nL 197.579975 194.858064 \r\nL 197.740462 204.692911 \r\nL 197.820705 190.226664 \r\nL 197.900949 203.015133 \r\nL 198.141679 166.282184 \r\nL 198.302167 210.413069 \r\nL 198.38241 197.25279 \r\nL 198.462654 198.962089 \r\nL 198.542897 199.077211 \r\nL 198.623141 196.424585 \r\nL 198.703384 196.873597 \r\nL 198.944115 208.154577 \r\nL 199.024358 200.247672 \r\nL 199.104602 202.345543 \r\nL 199.184845 200.462255 \r\nL 199.345332 186.999802 \r\nL 199.425576 190.422474 \r\nL 199.505819 210.886986 \r\nL 199.586063 197.612168 \r\nL 199.666306 201.412906 \r\nL 199.74655 208.877531 \r\nL 199.826793 204.054691 \r\nL 199.98728 216.604695 \r\nL 200.067524 182.037538 \r\nL 200.147767 206.70589 \r\nL 200.308254 187.213513 \r\nL 200.468741 206.816971 \r\nL 200.548985 194.045487 \r\nL 200.629228 203.162004 \r\nL 200.709472 200.878693 \r\nL 200.789715 182.285737 \r\nL 200.869959 215.872602 \r\nL 200.950202 188.95559 \r\nL 201.030446 201.567841 \r\nL 201.110689 194.525038 \r\nL 201.190933 208.343174 \r\nL 201.271176 208.102141 \r\nL 201.35142 189.713543 \r\nL 201.511907 203.100071 \r\nL 201.672394 209.470665 \r\nL 201.752637 194.042481 \r\nL 201.913125 202.36602 \r\nL 201.993368 203.553839 \r\nL 202.073612 200.325942 \r\nL 202.153855 177.249618 \r\nL 202.314342 207.621962 \r\nL 202.394586 207.400842 \r\nL 202.474829 202.503688 \r\nL 202.555073 180.382706 \r\nL 202.635316 208.091274 \r\nL 202.71556 197.045151 \r\nL 202.795803 204.533987 \r\nL 202.95629 196.295242 \r\nL 203.036534 222.161494 \r\nL 203.197021 200.244731 \r\nL 203.277264 210.607798 \r\nL 203.357508 196.369968 \r\nL 203.437751 201.854281 \r\nL 203.517995 192.35375 \r\nL 203.598238 168.907731 \r\nL 203.758725 218.811112 \r\nL 203.838969 188.171213 \r\nL 203.919212 196.38337 \r\nL 203.999456 206.200479 \r\nL 204.240186 191.886671 \r\nL 204.32043 194.148537 \r\nL 204.400673 192.69239 \r\nL 204.480917 209.155593 \r\nL 204.56116 199.191757 \r\nL 204.641404 217.837141 \r\nL 204.721647 195.169526 \r\nL 204.801891 203.655114 \r\nL 204.882134 201.756845 \r\nL 204.962378 195.347125 \r\nL 205.122865 202.780519 \r\nL 205.203108 204.600158 \r\nL 205.283352 194.800008 \r\nL 205.363595 197.425628 \r\nL 205.443839 206.321765 \r\nL 205.68457 181.084568 \r\nL 205.764813 197.935559 \r\nL 205.845057 183.706644 \r\nL 205.9253 201.121173 \r\nL 206.005544 189.47084 \r\nL 206.166031 209.717921 \r\nL 206.406761 191.140974 \r\nL 206.487005 205.135478 \r\nL 206.567248 190.515934 \r\nL 206.727735 211.974736 \r\nL 206.807979 202.696616 \r\nL 206.888222 177.254269 \r\nL 207.048709 202.897443 \r\nL 207.209196 194.682135 \r\nL 207.28944 210.721243 \r\nL 207.369683 205.670235 \r\nL 207.449927 205.021188 \r\nL 207.53017 212.799149 \r\nL 207.610414 187.532738 \r\nL 207.690657 212.116544 \r\nL 207.770901 203.339473 \r\nL 207.851144 179.986757 \r\nL 207.931388 207.189004 \r\nL 208.011631 206.18352 \r\nL 208.091875 200.422147 \r\nL 208.172118 210.860746 \r\nL 208.252362 178.416902 \r\nL 208.412849 206.374515 \r\nL 208.573336 189.799523 \r\nL 208.653579 209.388209 \r\nL 208.814066 193.077484 \r\nL 208.974553 203.644064 \r\nL 209.13504 193.512637 \r\nL 209.215284 203.799575 \r\nL 209.295527 194.508203 \r\nL 209.375771 214.971701 \r\nL 209.456015 212.018853 \r\nL 209.536258 186.823558 \r\nL 209.776989 206.009078 \r\nL 209.857232 197.337709 \r\nL 209.937476 197.78044 \r\nL 210.017719 205.127998 \r\nL 210.097963 183.09889 \r\nL 210.25845 216.325624 \r\nL 210.418937 182.886344 \r\nL 210.579424 202.298774 \r\nL 210.659667 198.285687 \r\nL 210.739911 200.281747 \r\nL 210.820154 196.255167 \r\nL 210.900398 197.150572 \r\nL 210.980641 211.522134 \r\nL 211.060885 175.236298 \r\nL 211.221372 202.852232 \r\nL 211.301615 202.51056 \r\nL 211.462102 194.661423 \r\nL 211.622589 212.886308 \r\nL 211.702833 210.892174 \r\nL 211.783076 184.800872 \r\nL 211.943563 210.276979 \r\nL 212.023807 208.730719 \r\nL 212.10405 209.079655 \r\nL 212.184294 192.340047 \r\nL 212.264537 196.665198 \r\nL 212.344781 199.39749 \r\nL 212.425024 195.381554 \r\nL 212.505268 214.202802 \r\nL 212.585511 198.973801 \r\nL 212.665755 209.307915 \r\nL 212.745998 198.428085 \r\nL 212.906485 205.081078 \r\nL 212.986729 206.076107 \r\nL 213.066973 180.555006 \r\nL 213.22746 210.393641 \r\nL 213.387947 191.110633 \r\nL 213.46819 193.155119 \r\nL 213.548434 175.449263 \r\nL 213.708921 202.002653 \r\nL 213.789164 204.469682 \r\nL 213.949651 196.480963 \r\nL 214.110138 208.513562 \r\nL 214.190382 192.055991 \r\nL 214.270625 195.598442 \r\nL 214.350869 198.767688 \r\nL 214.431112 196.784225 \r\nL 214.511356 180.040516 \r\nL 214.671843 211.119563 \r\nL 214.752086 209.901952 \r\nL 214.912573 176.845639 \r\nL 215.07306 211.412258 \r\nL 215.313791 180.151786 \r\nL 215.394034 199.313567 \r\nL 215.474278 188.403547 \r\nL 215.554521 197.925294 \r\nL 215.634765 193.518447 \r\nL 215.715008 209.824167 \r\nL 215.875495 182.234736 \r\nL 216.276713 212.768264 \r\nL 216.356956 212.759048 \r\nL 216.4372 195.506266 \r\nL 216.597687 207.523307 \r\nL 216.67793 191.779449 \r\nL 216.758174 205.027974 \r\nL 216.838418 189.579353 \r\nL 216.998905 201.524347 \r\nL 217.079148 189.09056 \r\nL 217.159392 189.341222 \r\nL 217.239635 188.955937 \r\nL 217.319879 179.360322 \r\nL 217.480366 212.8556 \r\nL 217.560609 196.810583 \r\nL 217.721096 212.652651 \r\nL 217.80134 193.486717 \r\nL 217.961827 209.73351 \r\nL 218.202557 182.804583 \r\nL 218.363044 208.214604 \r\nL 218.443288 201.528415 \r\nL 218.523531 209.080409 \r\nL 218.603775 203.317857 \r\nL 218.684018 214.228676 \r\nL 218.924749 195.071651 \r\nL 219.004992 196.646294 \r\nL 219.085236 206.85284 \r\nL 219.165479 178.645332 \r\nL 219.245723 215.381929 \r\nL 219.325966 182.753975 \r\nL 219.486453 201.583575 \r\nL 219.566697 202.921109 \r\nL 219.64694 188.782189 \r\nL 219.807427 207.098419 \r\nL 219.887671 180.167664 \r\nL 219.967914 210.901397 \r\nL 220.048158 193.207109 \r\nL 220.128401 207.113105 \r\nL 220.208645 179.930738 \r\nL 220.369132 218.750711 \r\nL 220.449375 199.457937 \r\nL 220.529619 212.85991 \r\nL 220.609863 187.919503 \r\nL 220.77035 209.6256 \r\nL 220.850593 174.492356 \r\nL 221.01108 203.629044 \r\nL 221.091324 189.399284 \r\nL 221.171567 201.127841 \r\nL 221.251811 192.413522 \r\nL 221.332054 194.215685 \r\nL 221.412298 209.768496 \r\nL 221.572785 190.004837 \r\nL 221.653028 199.314432 \r\nL 221.733272 189.909647 \r\nL 221.813515 200.638577 \r\nL 221.893759 198.287345 \r\nL 221.974002 204.236994 \r\nL 222.134489 184.187282 \r\nL 222.294976 208.478864 \r\nL 222.455463 186.548588 \r\nL 222.535707 207.917795 \r\nL 222.61595 207.354944 \r\nL 222.696194 186.794298 \r\nL 222.776437 219.01469 \r\nL 222.936924 188.21174 \r\nL 223.177655 217.221383 \r\nL 223.257898 191.616666 \r\nL 223.338142 196.671736 \r\nL 223.418385 179.850864 \r\nL 223.498629 214.92932 \r\nL 223.578872 186.62714 \r\nL 223.659116 212.619218 \r\nL 223.739359 182.817199 \r\nL 223.899846 205.47062 \r\nL 223.98009 194.638496 \r\nL 224.060333 210.810478 \r\nL 224.140577 204.579734 \r\nL 224.220821 206.525539 \r\nL 224.301064 213.852798 \r\nL 224.461551 188.392071 \r\nL 224.541795 180.60129 \r\nL 224.622038 202.355199 \r\nL 224.702282 198.906404 \r\nL 224.782525 175.914606 \r\nL 224.862769 201.994799 \r\nL 224.943012 192.519074 \r\nL 225.183743 203.572082 \r\nL 225.263986 183.280885 \r\nL 225.424473 202.935376 \r\nL 225.58496 205.340347 \r\nL 225.665204 217.611639 \r\nL 225.745447 177.346884 \r\nL 225.905934 216.834454 \r\nL 225.986178 212.9517 \r\nL 226.146665 200.76845 \r\nL 226.226908 215.430939 \r\nL 226.307152 195.488567 \r\nL 226.387395 201.436847 \r\nL 226.467639 212.780009 \r\nL 226.547882 201.313622 \r\nL 226.628126 205.993999 \r\nL 226.708369 197.663791 \r\nL 226.788613 211.781239 \r\nL 226.9491 188.887715 \r\nL 227.029343 212.172596 \r\nL 227.18983 195.325948 \r\nL 227.270074 194.806532 \r\nL 227.350317 187.797712 \r\nL 227.430561 195.071395 \r\nL 227.510804 188.885187 \r\nL 227.591048 209.5475 \r\nL 227.671291 191.786202 \r\nL 227.751535 197.684654 \r\nL 227.992266 212.37001 \r\nL 228.072509 191.498328 \r\nL 228.152753 196.684574 \r\nL 228.232996 209.500344 \r\nL 228.473727 197.159939 \r\nL 228.55397 203.644653 \r\nL 228.634214 189.71427 \r\nL 228.714457 196.293355 \r\nL 228.794701 193.696885 \r\nL 228.874944 195.727216 \r\nL 228.955188 210.441648 \r\nL 229.115675 188.140898 \r\nL 229.276162 211.173695 \r\nL 229.356405 196.952084 \r\nL 229.516892 211.498493 \r\nL 229.597136 185.584457 \r\nL 229.677379 186.664831 \r\nL 229.757623 208.334187 \r\nL 229.837866 205.503791 \r\nL 229.91811 215.051491 \r\nL 229.998353 205.242413 \r\nL 230.078597 213.944607 \r\nL 230.15884 212.780074 \r\nL 230.239084 190.35209 \r\nL 230.319327 192.473274 \r\nL 230.560058 213.034313 \r\nL 230.640301 196.345018 \r\nL 230.720545 205.759791 \r\nL 230.800788 200.362329 \r\nL 230.881032 202.9389 \r\nL 230.961275 194.419813 \r\nL 231.041519 196.965505 \r\nL 231.202006 187.951986 \r\nL 231.282249 188.389896 \r\nL 231.362493 206.265707 \r\nL 231.52298 193.502628 \r\nL 231.603223 206.658551 \r\nL 231.683467 190.461107 \r\nL 231.843954 207.399067 \r\nL 232.004441 200.151618 \r\nL 232.084685 201.440443 \r\nL 232.164928 209.812684 \r\nL 232.325415 196.835605 \r\nL 232.405659 211.122733 \r\nL 232.485902 195.646345 \r\nL 232.566146 200.421407 \r\nL 232.646389 192.193005 \r\nL 232.726633 196.583719 \r\nL 232.806876 209.069037 \r\nL 232.88712 183.260421 \r\nL 232.967363 200.09144 \r\nL 233.12785 183.634125 \r\nL 233.288337 219.511749 \r\nL 233.368581 182.269617 \r\nL 233.448824 204.745215 \r\nL 233.609311 193.486475 \r\nL 233.689555 209.664175 \r\nL 233.850042 185.431755 \r\nL 233.930285 195.904199 \r\nL 234.010529 184.02856 \r\nL 234.090772 213.483345 \r\nL 234.171016 195.911647 \r\nL 234.331503 209.786699 \r\nL 234.411746 213.937297 \r\nL 234.49199 200.071749 \r\nL 234.572233 208.495496 \r\nL 234.73272 190.660546 \r\nL 234.893207 193.160549 \r\nL 234.973451 205.931823 \r\nL 235.133938 187.009064 \r\nL 235.214181 188.786421 \r\nL 235.294425 189.161579 \r\nL 235.454912 208.200848 \r\nL 235.535156 197.187012 \r\nL 235.695643 219.661019 \r\nL 235.85613 198.532039 \r\nL 235.936373 189.412961 \r\nL 236.016617 200.195033 \r\nL 236.09686 185.107284 \r\nL 236.177104 209.844486 \r\nL 236.257347 202.396865 \r\nL 236.337591 193.033741 \r\nL 236.417834 163.970195 \r\nL 236.498078 226.661035 \r\nL 236.578321 195.799073 \r\nL 236.738808 209.434193 \r\nL 236.819052 207.751986 \r\nL 236.899295 197.256013 \r\nL 236.979539 212.064312 \r\nL 237.059782 180.710891 \r\nL 237.140026 212.166537 \r\nL 237.220269 197.446929 \r\nL 237.300513 198.8841 \r\nL 237.380756 192.679453 \r\nL 237.461 210.444137 \r\nL 237.541243 197.923244 \r\nL 237.621487 198.624386 \r\nL 237.70173 211.680914 \r\nL 237.781974 205.790742 \r\nL 237.862217 213.781687 \r\nL 238.022704 195.271004 \r\nL 238.102948 198.617606 \r\nL 238.183191 214.872162 \r\nL 238.263435 197.647429 \r\nL 238.343678 202.197296 \r\nL 238.423922 205.466067 \r\nL 238.504165 196.901849 \r\nL 238.584409 213.185717 \r\nL 238.664652 188.366151 \r\nL 238.744896 209.131776 \r\nL 238.985626 187.644441 \r\nL 239.06587 190.046936 \r\nL 239.146114 196.622208 \r\nL 239.226357 196.441832 \r\nL 239.386844 179.761451 \r\nL 239.547331 207.614874 \r\nL 239.788062 188.922314 \r\nL 239.868305 204.173397 \r\nL 239.948549 176.866358 \r\nL 240.109036 211.424586 \r\nL 240.189279 202.205563 \r\nL 240.349766 209.847002 \r\nL 240.510253 204.996572 \r\nL 240.590497 214.700569 \r\nL 240.750984 196.715453 \r\nL 240.831227 209.05462 \r\nL 240.911471 188.186711 \r\nL 240.991714 208.553054 \r\nL 241.071958 195.659937 \r\nL 241.152201 211.92813 \r\nL 241.312688 189.243058 \r\nL 241.473175 217.710026 \r\nL 241.553419 213.55382 \r\nL 241.633662 188.54791 \r\nL 241.713906 209.554195 \r\nL 241.794149 199.012179 \r\nL 241.954636 212.465258 \r\nL 242.115123 179.929009 \r\nL 242.195367 195.642605 \r\nL 242.27561 193.763882 \r\nL 242.355854 185.049916 \r\nL 242.516341 212.85391 \r\nL 242.596584 199.883224 \r\nL 242.676828 212.524487 \r\nL 242.757071 191.131411 \r\nL 242.837315 208.07444 \r\nL 242.917559 205.90644 \r\nL 242.997802 195.041198 \r\nL 243.078046 212.26037 \r\nL 243.238533 190.114097 \r\nL 243.318776 211.858677 \r\nL 243.39902 208.899278 \r\nL 243.479263 206.292282 \r\nL 243.559507 208.300282 \r\nL 243.719994 196.526397 \r\nL 243.800237 199.550991 \r\nL 243.960724 208.583762 \r\nL 244.040968 214.85747 \r\nL 244.201455 204.190487 \r\nL 244.281698 207.899067 \r\nL 244.361942 201.504237 \r\nL 244.442185 180.056682 \r\nL 244.522429 181.5254 \r\nL 244.682916 211.511443 \r\nL 244.923646 198.38072 \r\nL 245.00389 210.618737 \r\nL 245.084133 195.044618 \r\nL 245.164377 206.527924 \r\nL 245.24462 202.239258 \r\nL 245.405107 200.016831 \r\nL 245.485351 208.926305 \r\nL 245.565594 203.123023 \r\nL 245.645838 223.233117 \r\nL 245.886568 177.658726 \r\nL 245.966812 196.683094 \r\nL 246.047055 188.580072 \r\nL 246.127299 203.25103 \r\nL 246.207542 193.204004 \r\nL 246.287786 209.777935 \r\nL 246.368029 188.779667 \r\nL 246.448273 199.223965 \r\nL 246.528516 192.656474 \r\nL 246.60876 201.859737 \r\nL 246.689004 198.289899 \r\nL 246.769247 176.329439 \r\nL 246.849491 207.429513 \r\nL 246.929734 202.014836 \r\nL 247.009978 203.49896 \r\nL 247.090221 207.868805 \r\nL 247.330952 186.507609 \r\nL 247.571682 212.326745 \r\nL 247.732169 198.702355 \r\nL 247.812413 212.159836 \r\nL 247.892656 209.111418 \r\nL 247.9729 196.058814 \r\nL 248.053143 208.89206 \r\nL 248.133387 206.114925 \r\nL 248.293874 193.28158 \r\nL 248.374117 211.36391 \r\nL 248.454361 209.600761 \r\nL 248.534604 217.79501 \r\nL 248.695091 200.716762 \r\nL 248.775335 207.592243 \r\nL 249.016065 188.280505 \r\nL 249.096309 206.32016 \r\nL 249.176552 197.803772 \r\nL 249.256796 203.029301 \r\nL 249.337039 200.068559 \r\nL 249.417283 203.279098 \r\nL 249.658013 183.364054 \r\nL 249.738257 200.923549 \r\nL 249.8185 192.623061 \r\nL 249.978987 217.532144 \r\nL 250.059231 180.555399 \r\nL 250.219718 206.744917 \r\nL 250.299962 205.5697 \r\nL 250.380205 222.737426 \r\nL 250.460449 205.656551 \r\nL 250.540692 213.501935 \r\nL 250.781423 181.401834 \r\nL 250.94191 215.374547 \r\nL 251.022153 206.085422 \r\nL 251.102397 215.329815 \r\nL 251.18264 215.150827 \r\nL 251.262884 190.426528 \r\nL 251.423371 212.986115 \r\nL 251.583858 201.456649 \r\nL 251.664101 210.016839 \r\nL 251.824588 189.653653 \r\nL 251.904832 203.643212 \r\nL 251.985075 193.750506 \r\nL 252.065319 194.072796 \r\nL 252.145562 191.382806 \r\nL 252.225806 193.932062 \r\nL 252.306049 202.150481 \r\nL 252.386293 197.048734 \r\nL 252.466536 207.904884 \r\nL 252.627023 180.526944 \r\nL 252.78751 221.417833 \r\nL 252.867754 191.435956 \r\nL 252.947997 199.191894 \r\nL 253.028241 199.903196 \r\nL 253.108484 183.051505 \r\nL 253.188728 197.482177 \r\nL 253.268971 187.399917 \r\nL 253.429458 205.918146 \r\nL 253.670189 191.350159 \r\nL 253.910919 209.94111 \r\nL 253.991163 203.011576 \r\nL 254.15165 216.8897 \r\nL 254.312137 189.881474 \r\nL 254.392381 189.345571 \r\nL 254.472624 204.77198 \r\nL 254.552868 195.549197 \r\nL 254.633111 197.729707 \r\nL 254.873842 202.209309 \r\nL 255.034329 197.328702 \r\nL 255.114572 205.79724 \r\nL 255.194816 182.847697 \r\nL 255.355303 219.149509 \r\nL 255.596033 193.189534 \r\nL 255.676277 196.584944 \r\nL 255.75652 204.076203 \r\nL 255.836764 202.423558 \r\nL 255.997251 211.915043 \r\nL 256.077494 208.595729 \r\nL 256.237981 212.727835 \r\nL 256.398468 178.174133 \r\nL 256.639199 213.576079 \r\nL 256.799686 199.615878 \r\nL 256.879929 217.074675 \r\nL 256.960173 211.255882 \r\nL 257.200903 195.420542 \r\nL 257.441634 213.230332 \r\nL 257.521877 189.469445 \r\nL 257.682364 229.699107 \r\nL 257.842852 194.78227 \r\nL 257.923095 208.090423 \r\nL 258.003339 193.808142 \r\nL 258.083582 203.712403 \r\nL 258.163826 196.287886 \r\nL 258.324313 202.603745 \r\nL 258.404556 195.54659 \r\nL 258.4848 196.664727 \r\nL 258.645287 191.445644 \r\nL 258.72553 196.679026 \r\nL 258.805774 187.877391 \r\nL 258.886017 198.773315 \r\nL 259.046504 184.881192 \r\nL 259.126748 204.757163 \r\nL 259.206991 200.460794 \r\nL 259.287235 204.799321 \r\nL 259.367478 203.47515 \r\nL 259.447722 199.101343 \r\nL 259.527965 217.852168 \r\nL 259.608209 208.421516 \r\nL 259.688452 208.734112 \r\nL 259.768696 208.15216 \r\nL 259.848939 184.22359 \r\nL 259.929183 197.577668 \r\nL 260.009426 186.165413 \r\nL 260.08967 210.836791 \r\nL 260.169913 200.052295 \r\nL 260.250157 210.912827 \r\nL 260.3304 187.515497 \r\nL 260.410644 195.966729 \r\nL 260.490887 211.678877 \r\nL 260.571131 183.699471 \r\nL 260.731618 204.181146 \r\nL 260.811861 204.622501 \r\nL 260.892105 181.750463 \r\nL 261.052592 206.194498 \r\nL 261.132835 207.421456 \r\nL 261.213079 213.963047 \r\nL 261.293322 197.461654 \r\nL 261.453809 212.359968 \r\nL 261.614297 191.25457 \r\nL 261.69454 218.55779 \r\nL 261.774784 195.665917 \r\nL 261.855027 209.253311 \r\nL 261.935271 197.892444 \r\nL 262.015514 224.679943 \r\nL 262.095758 190.866213 \r\nL 262.176001 195.864701 \r\nL 262.256245 217.227108 \r\nL 262.336488 192.157836 \r\nL 262.416732 208.947515 \r\nL 262.496975 207.4272 \r\nL 262.657462 189.525306 \r\nL 262.898193 210.017533 \r\nL 262.978436 210.841265 \r\nL 263.05868 162.94208 \r\nL 263.219167 204.066187 \r\nL 263.29941 191.866889 \r\nL 263.379654 207.095766 \r\nL 263.459897 191.542169 \r\nL 263.620384 207.189685 \r\nL 263.780871 187.489656 \r\nL 263.861115 198.272266 \r\nL 263.941358 188.294333 \r\nL 264.021602 207.781607 \r\nL 264.101845 200.036581 \r\nL 264.182089 179.930031 \r\nL 264.262332 203.697567 \r\nL 264.342576 201.979163 \r\nL 264.503063 212.217924 \r\nL 264.583306 207.38385 \r\nL 264.66355 217.705879 \r\nL 264.743793 200.55544 \r\nL 264.824037 218.888111 \r\nL 264.90428 188.305495 \r\nL 264.984524 206.809543 \r\nL 265.064767 200.481041 \r\nL 265.145011 205.61795 \r\nL 265.305498 195.343667 \r\nL 265.465985 210.241417 \r\nL 265.546229 195.283319 \r\nL 265.626472 204.688961 \r\nL 265.706716 196.680886 \r\nL 265.786959 197.917309 \r\nL 265.867203 199.178905 \r\nL 265.947446 204.34531 \r\nL 266.02769 200.9699 \r\nL 266.107933 206.667819 \r\nL 266.188177 206.620958 \r\nL 266.26842 201.012759 \r\nL 266.348664 201.760565 \r\nL 266.509151 212.46759 \r\nL 266.589394 209.925796 \r\nL 266.669638 211.742068 \r\nL 266.749881 189.277959 \r\nL 266.830125 209.332099 \r\nL 266.910368 191.490697 \r\nL 266.990612 213.534379 \r\nL 267.070855 196.148134 \r\nL 267.231342 206.554191 \r\nL 267.472073 188.456074 \r\nL 267.552316 213.633139 \r\nL 267.63256 211.042793 \r\nL 267.793047 175.584056 \r\nL 267.87329 179.910603 \r\nL 267.953534 202.435165 \r\nL 268.033777 190.5366 \r\nL 268.114021 203.005228 \r\nL 268.194264 193.407373 \r\nL 268.274508 217.222805 \r\nL 268.354751 196.936631 \r\nL 268.434995 212.306223 \r\nL 268.515238 210.100906 \r\nL 268.595482 190.178572 \r\nL 268.836212 211.859365 \r\nL 268.916456 183.906789 \r\nL 269.076943 214.001621 \r\nL 269.157187 199.727051 \r\nL 269.23743 204.897858 \r\nL 269.397917 212.669603 \r\nL 269.478161 207.178694 \r\nL 269.558404 189.342774 \r\nL 269.718891 216.060112 \r\nL 269.959622 194.776001 \r\nL 270.039865 216.471624 \r\nL 270.120109 215.881484 \r\nL 270.200352 210.05206 \r\nL 270.280596 218.19403 \r\nL 270.360839 202.973453 \r\nL 270.441083 214.618631 \r\nL 270.521326 212.799359 \r\nL 270.762057 183.299239 \r\nL 270.8423 187.025885 \r\nL 270.922544 226.213932 \r\nL 271.002787 201.751198 \r\nL 271.083031 207.729636 \r\nL 271.163274 214.466676 \r\nL 271.243518 199.473952 \r\nL 271.323761 209.137069 \r\nL 271.404005 197.984811 \r\nL 271.484248 211.666346 \r\nL 271.644735 196.937843 \r\nL 271.805222 214.709635 \r\nL 271.965709 196.393025 \r\nL 272.045953 209.346562 \r\nL 272.126196 203.566449 \r\nL 272.286683 210.44983 \r\nL 272.366927 185.701459 \r\nL 272.44717 209.624788 \r\nL 272.607657 193.525698 \r\nL 272.687901 211.148456 \r\nL 272.768145 192.129257 \r\nL 272.848388 198.909837 \r\nL 272.928632 196.856632 \r\nL 273.008875 188.42099 \r\nL 273.089119 218.193126 \r\nL 273.169362 208.526623 \r\nL 273.249606 207.442207 \r\nL 273.329849 191.931961 \r\nL 273.410093 212.315315 \r\nL 273.490336 206.851956 \r\nL 273.57058 195.56216 \r\nL 273.650823 197.362934 \r\nL 273.731067 198.397482 \r\nL 273.81131 207.176041 \r\nL 273.891554 196.858872 \r\nL 273.971797 203.878297 \r\nL 274.132284 190.125081 \r\nL 274.212528 205.409807 \r\nL 274.292771 197.97116 \r\nL 274.373015 205.423385 \r\nL 274.533502 182.548308 \r\nL 274.693989 206.350337 \r\nL 274.774232 195.412426 \r\nL 274.854476 204.44821 \r\nL 274.934719 202.352742 \r\nL 275.014963 183.236034 \r\nL 275.095206 211.139207 \r\nL 275.17545 208.183889 \r\nL 275.255693 199.465758 \r\nL 275.335937 208.565499 \r\nL 275.41618 196.626132 \r\nL 275.496424 213.503953 \r\nL 275.576667 192.124691 \r\nL 275.656911 211.952851 \r\nL 275.817398 202.518636 \r\nL 275.897641 200.245013 \r\nL 275.977885 181.018639 \r\nL 276.058128 220.863763 \r\nL 276.138372 211.03657 \r\nL 276.218615 198.887297 \r\nL 276.298859 202.291746 \r\nL 276.379103 205.955712 \r\nL 276.459346 200.472414 \r\nL 276.53959 182.563694 \r\nL 276.619833 189.756939 \r\nL 276.700077 186.54978 \r\nL 276.78032 214.800678 \r\nL 276.860564 214.496094 \r\nL 276.940807 176.318775 \r\nL 277.021051 209.223841 \r\nL 277.101294 181.302059 \r\nL 277.342025 208.693198 \r\nL 277.422268 186.091342 \r\nL 277.502512 191.63804 \r\nL 277.743242 207.924109 \r\nL 277.823486 201.101051 \r\nL 277.903729 206.15969 \r\nL 277.983973 196.736492 \r\nL 278.064216 206.875131 \r\nL 278.14446 202.130214 \r\nL 278.224703 210.914098 \r\nL 278.304947 205.095967 \r\nL 278.38519 206.806949 \r\nL 278.465434 206.939266 \r\nL 278.545677 198.673933 \r\nL 278.625921 217.900326 \r\nL 278.706164 199.796668 \r\nL 278.786408 207.317594 \r\nL 278.866651 206.922962 \r\nL 278.946895 208.531031 \r\nL 279.027138 207.83287 \r\nL 279.107382 201.233295 \r\nL 279.187625 206.554367 \r\nL 279.348112 173.753687 \r\nL 279.508599 206.079179 \r\nL 279.588843 179.406816 \r\nL 279.669086 179.976381 \r\nL 279.74933 207.773157 \r\nL 279.829573 202.901556 \r\nL 279.99006 206.740784 \r\nL 280.150548 197.73086 \r\nL 280.230791 207.961898 \r\nL 280.391278 184.50443 \r\nL 280.471522 204.046477 \r\nL 280.551765 201.622215 \r\nL 280.632009 213.285093 \r\nL 280.712252 199.759639 \r\nL 280.792496 210.665591 \r\nL 281.11347 194.321866 \r\nL 281.193713 210.353546 \r\nL 281.273957 206.019349 \r\nL 281.3542 206.144375 \r\nL 281.514687 228.171154 \r\nL 281.594931 185.349063 \r\nL 281.675174 199.572515 \r\nL 281.835661 209.436341 \r\nL 281.915905 197.621404 \r\nL 281.996148 219.205665 \r\nL 282.076392 216.376369 \r\nL 282.156635 187.164851 \r\nL 282.236879 209.411417 \r\nL 282.317122 207.641272 \r\nL 282.397366 210.552906 \r\nL 282.477609 199.531543 \r\nL 282.557853 200.000423 \r\nL 282.638096 224.039146 \r\nL 282.878827 191.952096 \r\nL 282.95907 192.122032 \r\nL 283.039314 200.719008 \r\nL 283.119557 200.422409 \r\nL 283.199801 186.719028 \r\nL 283.360288 207.905585 \r\nL 283.440531 198.825914 \r\nL 283.520775 199.836448 \r\nL 283.681262 208.969976 \r\nL 283.761505 208.019515 \r\nL 283.841749 201.864912 \r\nL 283.921993 208.580506 \r\nL 284.002236 201.711149 \r\nL 284.08248 181.935634 \r\nL 284.242967 217.711381 \r\nL 284.32321 212.411985 \r\nL 284.403454 190.477549 \r\nL 284.483697 212.290672 \r\nL 284.644184 185.651571 \r\nL 284.804671 202.474395 \r\nL 284.884915 196.064421 \r\nL 284.965158 208.163334 \r\nL 285.045402 192.868633 \r\nL 285.125645 198.77695 \r\nL 285.205889 213.45941 \r\nL 285.286132 210.15716 \r\nL 285.446619 203.151301 \r\nL 285.526863 223.796338 \r\nL 285.607106 211.552331 \r\nL 285.68735 212.28781 \r\nL 285.767593 221.213112 \r\nL 285.847837 201.148652 \r\nL 285.92808 206.28617 \r\nL 286.008324 205.007137 \r\nL 286.168811 188.735865 \r\nL 286.329298 202.722896 \r\nL 286.409541 192.286269 \r\nL 286.570028 218.438253 \r\nL 286.650272 189.615622 \r\nL 286.730515 212.624975 \r\nL 286.810759 183.12986 \r\nL 286.891002 188.083628 \r\nL 286.971246 207.827518 \r\nL 287.051489 204.231256 \r\nL 287.131733 193.115254 \r\nL 287.211976 217.656856 \r\nL 287.29222 211.464831 \r\nL 287.452707 191.193154 \r\nL 287.613194 203.098368 \r\nL 287.693438 194.710812 \r\nL 287.853925 202.996923 \r\nL 287.934168 189.699375 \r\nL 288.014412 203.616867 \r\nL 288.094655 199.661502 \r\nL 288.335386 224.190423 \r\nL 288.415629 186.099739 \r\nL 288.495873 200.395684 \r\nL 288.576116 206.434732 \r\nL 288.65636 199.520761 \r\nL 288.736603 213.767335 \r\nL 288.977334 192.123145 \r\nL 289.057577 193.692417 \r\nL 289.137821 185.464395 \r\nL 289.298308 202.860073 \r\nL 289.378551 202.159389 \r\nL 289.458795 204.525484 \r\nL 289.539038 190.179554 \r\nL 289.779769 217.9397 \r\nL 289.860012 198.053327 \r\nL 289.940256 224.922332 \r\nL 290.180986 190.303421 \r\nL 290.26123 209.694831 \r\nL 290.341473 182.938662 \r\nL 290.421717 212.34225 \r\nL 290.50196 201.302087 \r\nL 290.662447 190.305347 \r\nL 290.983421 206.163083 \r\nL 291.063665 196.568358 \r\nL 291.143908 197.991977 \r\nL 291.224152 192.664944 \r\nL 291.304396 207.685559 \r\nL 291.384639 201.28317 \r\nL 291.464883 211.86995 \r\nL 291.545126 170.95022 \r\nL 291.705613 212.993609 \r\nL 291.785857 187.339142 \r\nL 291.8661 195.618283 \r\nL 291.946344 218.51429 \r\nL 292.026587 211.667191 \r\nL 292.106831 193.923284 \r\nL 292.187074 208.067169 \r\nL 292.267318 203.613048 \r\nL 292.347561 199.764434 \r\nL 292.427805 218.123666 \r\nL 292.508048 197.337204 \r\nL 292.588292 215.891415 \r\nL 292.748779 193.515964 \r\nL 292.829022 219.777133 \r\nL 293.069753 193.831108 \r\nL 293.149996 211.253412 \r\nL 293.23024 208.592441 \r\nL 293.310483 212.587278 \r\nL 293.390727 196.955562 \r\nL 293.47097 200.847932 \r\nL 293.551214 208.269502 \r\nL 293.631457 185.265429 \r\nL 293.711701 215.357627 \r\nL 293.791944 211.427488 \r\nL 293.872188 208.383655 \r\nL 293.952431 198.627111 \r\nL 294.032675 173.310282 \r\nL 294.193162 198.786586 \r\nL 294.273405 194.066593 \r\nL 294.353649 170.706567 \r\nL 294.433892 211.903868 \r\nL 294.514136 193.137754 \r\nL 294.594379 211.581493 \r\nL 294.674623 191.255271 \r\nL 294.754866 207.114487 \r\nL 294.83511 172.440645 \r\nL 294.995597 206.972594 \r\nL 295.156084 227.275506 \r\nL 295.316571 198.947809 \r\nL 295.396815 194.779492 \r\nL 295.557302 216.7065 \r\nL 295.798032 182.489558 \r\nL 295.958519 216.351766 \r\nL 296.038763 206.710043 \r\nL 296.119006 204.962372 \r\nL 296.19925 209.42028 \r\nL 296.279493 209.169795 \r\nL 296.359737 206.859541 \r\nL 296.520224 184.821951 \r\nL 296.600467 214.362277 \r\nL 296.760954 190.606034 \r\nL 296.841198 226.812368 \r\nL 296.921441 199.414187 \r\nL 297.001685 206.823776 \r\nL 297.081928 198.005713 \r\nL 297.322659 217.210588 \r\nL 297.483146 187.184273 \r\nL 297.563389 206.977087 \r\nL 297.643633 193.878126 \r\nL 297.723876 212.867967 \r\nL 297.884363 181.50039 \r\nL 297.964607 213.404158 \r\nL 298.04485 201.226404 \r\nL 298.125094 187.557151 \r\nL 298.285581 217.860873 \r\nL 298.365824 207.213122 \r\nL 298.446068 215.456236 \r\nL 298.606555 193.553118 \r\nL 298.767042 215.287323 \r\nL 298.847286 202.758726 \r\nL 299.007773 219.47811 \r\nL 299.088016 203.522594 \r\nL 299.16826 205.622201 \r\nL 299.248503 224.097438 \r\nL 299.328747 219.816465 \r\nL 299.40899 194.59774 \r\nL 299.489234 217.838982 \r\nL 299.569477 209.072876 \r\nL 299.649721 195.491855 \r\nL 299.729964 213.279898 \r\nL 299.810208 204.024724 \r\nL 299.890451 208.503153 \r\nL 299.970695 199.392171 \r\nL 300.050938 222.928742 \r\nL 300.211425 196.873283 \r\nL 300.291669 206.872498 \r\nL 300.371912 188.279523 \r\nL 300.532399 212.916616 \r\nL 300.692886 186.859998 \r\nL 300.77313 194.923646 \r\nL 300.853373 217.846364 \r\nL 301.01386 189.683556 \r\nL 301.094104 207.332266 \r\nL 301.254591 189.949048 \r\nL 301.415078 211.021164 \r\nL 301.495321 207.797183 \r\nL 301.575565 197.941388 \r\nL 301.736052 209.911902 \r\nL 301.816295 194.093082 \r\nL 302.057026 213.896043 \r\nL 302.137269 204.698878 \r\nL 302.217513 212.688527 \r\nL 302.297756 202.443668 \r\nL 302.378 204.444411 \r\nL 302.458244 215.355793 \r\nL 302.618731 189.759717 \r\nL 302.698974 188.291687 \r\nL 302.859461 213.341982 \r\nL 302.939705 217.988448 \r\nL 303.019948 229.874489 \r\nL 303.100192 197.403468 \r\nL 303.180435 206.287068 \r\nL 303.340922 197.665717 \r\nL 303.421166 199.893855 \r\nL 303.661896 213.181964 \r\nL 303.822383 188.462303 \r\nL 304.063114 200.863836 \r\nL 304.143357 193.813494 \r\nL 304.223601 200.291671 \r\nL 304.303844 197.487253 \r\nL 304.384088 204.704269 \r\nL 304.705062 189.42356 \r\nL 304.865549 207.616119 \r\nL 304.945792 200.778151 \r\nL 305.026036 209.520506 \r\nL 305.186523 185.078665 \r\nL 305.266766 190.670745 \r\nL 305.34701 193.272914 \r\nL 305.427253 201.087026 \r\nL 305.507497 184.267261 \r\nL 305.748227 203.422452 \r\nL 305.828471 200.063869 \r\nL 305.988958 214.211285 \r\nL 306.069201 206.377318 \r\nL 306.149445 211.454383 \r\nL 306.229689 202.464825 \r\nL 306.309932 210.151049 \r\nL 306.390176 198.239075 \r\nL 306.470419 204.073897 \r\nL 306.550663 198.275416 \r\nL 306.630906 212.997952 \r\nL 306.71115 192.896145 \r\nL 306.791393 215.899105 \r\nL 306.871637 199.764257 \r\nL 307.032124 215.468105 \r\nL 307.112367 197.198756 \r\nL 307.192611 206.838115 \r\nL 307.353098 177.316766 \r\nL 307.433341 197.141094 \r\nL 307.513585 193.965724 \r\nL 307.674072 209.846464 \r\nL 307.754315 202.947212 \r\nL 307.834559 208.761191 \r\nL 307.914802 183.280872 \r\nL 308.075289 224.78674 \r\nL 308.31602 174.943013 \r\nL 308.396263 181.531164 \r\nL 308.476507 212.288838 \r\nL 308.55675 194.973933 \r\nL 308.636994 214.284491 \r\nL 308.717237 207.167479 \r\nL 308.797481 206.926794 \r\nL 308.957968 191.859226 \r\nL 309.038211 206.300136 \r\nL 309.118455 197.284874 \r\nL 309.198698 208.792049 \r\nL 309.278942 197.908473 \r\nL 309.439429 210.619824 \r\nL 309.519672 205.17309 \r\nL 309.599916 190.42436 \r\nL 309.760403 212.870849 \r\nL 309.840646 217.142596 \r\nL 309.92089 194.991966 \r\nL 310.001134 198.116636 \r\nL 310.081377 195.871323 \r\nL 310.161621 220.344969 \r\nL 310.241864 186.602845 \r\nL 310.322108 210.593891 \r\nL 310.482595 193.82816 \r\nL 310.562838 201.065089 \r\nL 310.643082 199.974719 \r\nL 310.723325 199.706895 \r\nL 310.803569 202.928734 \r\nL 310.883812 192.000811 \r\nL 310.964056 196.793749 \r\nL 311.044299 210.342784 \r\nL 311.204786 195.640044 \r\nL 311.28503 210.296113 \r\nL 311.365273 200.859317 \r\nL 311.445517 205.071796 \r\nL 311.52576 187.078491 \r\nL 311.686247 201.832881 \r\nL 311.846734 187.598837 \r\nL 311.926978 212.358593 \r\nL 312.007221 186.138629 \r\nL 312.167708 219.324063 \r\nL 312.247952 200.949685 \r\nL 312.328195 207.424495 \r\nL 312.408439 206.299592 \r\nL 312.488682 206.943884 \r\nL 312.568926 202.339314 \r\nL 312.649169 220.495467 \r\nL 312.729413 208.387494 \r\nL 312.8899 220.107202 \r\nL 312.970143 203.71579 \r\nL 313.050387 218.750888 \r\nL 313.291117 197.740181 \r\nL 313.371361 202.066938 \r\nL 313.451604 194.678964 \r\nL 313.772579 214.150458 \r\nL 313.852822 204.617857 \r\nL 314.093553 221.320325 \r\nL 314.25404 190.389787 \r\nL 314.414527 218.32883 \r\nL 314.655257 202.243332 \r\nL 314.735501 221.020434 \r\nL 314.815744 217.222326 \r\nL 314.895988 216.833695 \r\nL 314.976231 210.042614 \r\nL 315.136718 184.328147 \r\nL 315.297205 209.092553 \r\nL 315.377449 191.153754 \r\nL 315.457692 202.599101 \r\nL 315.618179 192.1745 \r\nL 315.698423 209.664096 \r\nL 315.778666 180.85788 \r\nL 315.85891 212.653162 \r\nL 316.019397 187.370237 \r\nL 316.09964 201.47121 \r\nL 316.179884 201.020671 \r\nL 316.260127 209.314498 \r\nL 316.340371 186.367301 \r\nL 316.420614 207.681098 \r\nL 316.500858 202.325368 \r\nL 316.661345 189.936576 \r\nL 316.741588 210.462943 \r\nL 316.821832 207.007697 \r\nL 316.982319 208.570098 \r\nL 317.062562 208.081436 \r\nL 317.142806 204.254516 \r\nL 317.223049 209.469014 \r\nL 317.303293 208.89523 \r\nL 317.383537 212.604276 \r\nL 317.46378 203.992155 \r\nL 317.544024 219.704991 \r\nL 317.624267 211.301446 \r\nL 317.704511 186.747889 \r\nL 317.784754 190.761428 \r\nL 317.864998 204.600872 \r\nL 317.945241 188.356863 \r\nL 318.025485 212.368798 \r\nL 318.105728 182.814081 \r\nL 318.266215 208.313062 \r\nL 318.346459 194.749446 \r\nL 318.426702 209.544114 \r\nL 318.506946 205.341087 \r\nL 318.587189 209.79509 \r\nL 318.667433 194.60091 \r\nL 318.747676 202.39023 \r\nL 318.82792 201.651489 \r\nL 318.908163 197.279424 \r\nL 318.988407 173.066616 \r\nL 319.06865 214.026532 \r\nL 319.148894 204.230123 \r\nL 319.229137 214.97624 \r\nL 319.309381 212.75553 \r\nL 319.389624 202.260546 \r\nL 319.469868 203.445949 \r\nL 319.550111 202.490155 \r\nL 319.630355 209.930466 \r\nL 319.710598 189.076549 \r\nL 319.790842 219.01991 \r\nL 319.871085 197.736769 \r\nL 319.951329 202.46664 \r\nL 320.031572 201.438786 \r\nL 320.111816 208.098008 \r\nL 320.192059 182.924788 \r\nL 320.272303 206.692842 \r\nL 320.352546 204.823269 \r\nL 320.43279 206.741255 \r\nL 320.513033 203.018886 \r\nL 320.593277 203.587587 \r\nL 320.67352 201.174355 \r\nL 320.753764 201.781913 \r\nL 320.834007 208.142524 \r\nL 320.914251 207.009321 \r\nL 321.074738 203.4922 \r\nL 321.154982 196.177447 \r\nL 321.315469 205.743769 \r\nL 321.395712 219.649621 \r\nL 321.556199 193.877903 \r\nL 321.636443 197.864193 \r\nL 321.716686 213.709764 \r\nL 321.79693 210.168374 \r\nL 321.957417 201.797686 \r\nL 322.03766 204.654107 \r\nL 322.117904 202.203368 \r\nL 322.278391 214.592633 \r\nL 322.358634 207.601466 \r\nL 322.438878 219.411487 \r\nL 322.519121 201.919411 \r\nL 322.759852 219.433771 \r\nL 322.840095 189.03705 \r\nL 322.920339 193.325231 \r\nL 323.241313 218.474123 \r\nL 323.4018 202.136273 \r\nL 323.482043 211.257664 \r\nL 323.562287 177.189499 \r\nL 323.722774 217.219811 \r\nL 323.803017 196.6955 \r\nL 323.883261 217.361239 \r\nL 324.123991 195.115584 \r\nL 324.204235 201.269866 \r\nL 324.284478 189.839244 \r\nL 324.444965 206.506864 \r\nL 324.605452 186.235449 \r\nL 324.685696 190.979737 \r\nL 324.765939 190.373615 \r\nL 324.846183 211.160633 \r\nL 325.086914 189.477816 \r\nL 325.167157 212.799064 \r\nL 325.247401 204.246106 \r\nL 325.327644 207.629547 \r\nL 325.488131 186.188575 \r\nL 325.568375 212.22287 \r\nL 325.728862 194.519319 \r\nL 325.809105 215.619386 \r\nL 325.889349 196.178763 \r\nL 325.969592 197.616727 \r\nL 326.130079 215.952988 \r\nL 326.290566 205.861774 \r\nL 326.37081 210.755292 \r\nL 326.451053 199.802851 \r\nL 326.531297 214.431429 \r\nL 326.691784 200.50738 \r\nL 326.852271 207.516449 \r\nL 326.932514 197.120617 \r\nL 327.012758 200.473259 \r\nL 327.093001 193.033342 \r\nL 327.173245 201.644054 \r\nL 327.253488 194.003179 \r\nL 327.413975 217.505039 \r\nL 327.494219 220.06693 \r\nL 327.574462 219.859681 \r\nL 327.654706 182.664203 \r\nL 327.734949 202.234391 \r\nL 327.815193 183.721415 \r\nL 327.895436 207.069165 \r\nL 327.97568 185.149606 \r\nL 328.136167 206.285063 \r\nL 328.296654 195.152554 \r\nL 328.376897 218.441345 \r\nL 328.617628 187.235352 \r\nL 328.778115 209.110828 \r\nL 328.938602 199.962719 \r\nL 329.018846 226.494522 \r\nL 329.099089 206.480938 \r\nL 329.179333 216.563847 \r\nL 329.259576 194.069108 \r\nL 329.33982 210.676917 \r\nL 329.420063 208.99306 \r\nL 329.500307 178.659553 \r\nL 329.58055 222.123394 \r\nL 329.660794 208.763745 \r\nL 329.741037 189.810966 \r\nL 329.821281 215.882847 \r\nL 329.901524 207.758838 \r\nL 329.981768 218.090934 \r\nL 330.062011 212.604434 \r\nL 330.142255 194.735389 \r\nL 330.222498 212.858659 \r\nL 330.302742 187.070002 \r\nL 330.382985 212.996596 \r\nL 330.463229 186.559246 \r\nL 330.543472 188.231672 \r\nL 330.623716 205.492387 \r\nL 330.703959 205.185313 \r\nL 330.784203 202.350568 \r\nL 330.864446 217.714716 \r\nL 330.94469 195.637659 \r\nL 331.024933 217.953967 \r\nL 331.105177 209.829925 \r\nL 331.18542 217.602449 \r\nL 331.345907 186.684265 \r\nL 331.426151 201.687064 \r\nL 331.506394 194.496013 \r\nL 331.666881 216.827491 \r\nL 331.747125 204.377198 \r\nL 331.907612 212.552856 \r\nL 331.987855 175.109543 \r\nL 332.068099 201.431018 \r\nL 332.148342 200.044441 \r\nL 332.228586 202.945476 \r\nL 332.30883 211.370185 \r\nL 332.389073 205.739754 \r\nL 332.469317 209.450889 \r\nL 332.54956 193.717079 \r\nL 332.710047 216.030662 \r\nL 332.950778 197.242781 \r\nL 333.111265 214.30352 \r\nL 333.271752 198.542264 \r\nL 333.351995 214.017906 \r\nL 333.512482 178.506 \r\nL 333.592726 187.566197 \r\nL 333.672969 204.445229 \r\nL 333.753213 196.926753 \r\nL 333.833456 209.070531 \r\nL 333.9137 203.154019 \r\nL 333.993943 203.238539 \r\nL 334.15443 213.500134 \r\nL 334.314917 182.914236 \r\nL 334.555648 214.652608 \r\nL 334.796378 180.815401 \r\nL 334.876622 210.331013 \r\nL 334.956865 201.658275 \r\nL 335.037109 167.626943 \r\nL 335.117352 211.988387 \r\nL 335.197596 208.758001 \r\nL 335.277839 211.498926 \r\nL 335.358083 194.695268 \r\nL 335.438326 218.48347 \r\nL 335.51857 213.214781 \r\nL 335.598813 219.477118 \r\nL 335.679057 204.291021 \r\nL 335.7593 208.04831 \r\nL 335.839544 207.957451 \r\nL 335.919787 218.037326 \r\nL 336.000031 189.866965 \r\nL 336.160518 218.722178 \r\nL 336.321005 198.787286 \r\nL 336.401249 203.795691 \r\nL 336.481492 195.581582 \r\nL 336.561736 211.597548 \r\nL 336.641979 206.090787 \r\nL 336.722223 208.608954 \r\nL 336.802466 205.414444 \r\nL 336.88271 193.214852 \r\nL 337.043197 214.177085 \r\nL 337.12344 200.75062 \r\nL 337.203684 218.045207 \r\nL 337.444414 178.61408 \r\nL 337.524658 216.517431 \r\nL 337.604901 211.243639 \r\nL 337.685145 222.398475 \r\nL 337.765388 205.151245 \r\nL 337.925875 215.486119 \r\nL 338.006119 196.894428 \r\nL 338.086362 202.941068 \r\nL 338.166606 216.444703 \r\nL 338.246849 197.426531 \r\nL 338.327093 209.930315 \r\nL 338.407336 201.897592 \r\nL 338.567823 208.692831 \r\nL 338.72831 185.324749 \r\nL 338.808554 199.62909 \r\nL 338.888797 197.917997 \r\nL 339.049284 206.77442 \r\nL 339.129528 200.310706 \r\nL 339.209771 208.96507 \r\nL 339.370258 199.784923 \r\nL 339.530745 217.634271 \r\nL 339.610989 192.449529 \r\nL 339.691233 209.981218 \r\nL 339.771476 198.426448 \r\nL 339.931963 223.749103 \r\nL 340.012207 185.211454 \r\nL 340.09245 210.556076 \r\nL 340.172694 209.347066 \r\nL 340.252937 195.148709 \r\nL 340.333181 214.032912 \r\nL 340.413424 190.998393 \r\nL 340.573911 214.264185 \r\nL 340.654155 207.547275 \r\nL 340.734398 208.063285 \r\nL 340.814642 222.456194 \r\nL 340.894885 196.321908 \r\nL 340.975129 199.761571 \r\nL 341.055372 213.074414 \r\nL 341.215859 202.026417 \r\nL 341.296103 208.341353 \r\nL 341.376346 196.164425 \r\nL 341.45659 202.380339 \r\nL 341.536833 187.725475 \r\nL 341.617077 209.199153 \r\nL 341.69732 199.545967 \r\nL 341.777564 219.222843 \r\nL 342.018294 198.261117 \r\nL 342.098538 195.464822 \r\nL 342.178781 209.199061 \r\nL 342.259025 189.272522 \r\nL 342.339268 204.725433 \r\nL 342.419512 186.507007 \r\nL 342.499755 197.041293 \r\nL 342.579999 194.890881 \r\nL 342.660242 196.453242 \r\nL 342.740486 217.090848 \r\nL 342.820729 204.822857 \r\nL 342.981216 223.268741 \r\nL 343.141703 201.07572 \r\nL 343.221947 213.57748 \r\nL 343.30219 196.094179 \r\nL 343.382434 215.73346 \r\nL 343.542921 189.939117 \r\nL 343.623165 217.083413 \r\nL 343.863895 187.424952 \r\nL 343.944139 211.217307 \r\nL 344.024382 192.597993 \r\nL 344.104626 206.721938 \r\nL 344.184869 198.826582 \r\nL 344.265113 210.14685 \r\nL 344.345356 188.759722 \r\nL 344.4256 193.027531 \r\nL 344.505843 212.74843 \r\nL 344.66633 194.725891 \r\nL 344.746574 223.82681 \r\nL 344.907061 204.265888 \r\nL 344.987304 194.045179 \r\nL 345.067548 206.858821 \r\nL 345.147791 202.554683 \r\nL 345.228035 205.001602 \r\nL 345.308278 223.186789 \r\nL 345.468765 189.68968 \r\nL 345.549009 218.708147 \r\nL 345.709496 190.767277 \r\nL 345.789739 206.737129 \r\nL 345.950226 197.551853 \r\nL 346.03047 207.74068 \r\nL 346.110713 205.790715 \r\nL 346.190957 206.975862 \r\nL 346.2712 203.296837 \r\nL 346.351444 218.606328 \r\nL 346.431687 185.535132 \r\nL 346.511931 210.321751 \r\nL 346.592174 194.378179 \r\nL 346.672418 210.714837 \r\nL 346.752661 188.880078 \r\nL 346.832905 189.074983 \r\nL 346.993392 212.712717 \r\nL 347.073635 209.00715 \r\nL 347.153879 210.302054 \r\nL 347.234123 188.510409 \r\nL 347.314366 211.644435 \r\nL 347.39461 207.388632 \r\nL 347.474853 221.355124 \r\nL 347.555097 200.15319 \r\nL 347.63534 204.706739 \r\nL 347.715584 221.79532 \r\nL 347.795827 207.776157 \r\nL 347.876071 214.699043 \r\nL 348.116801 194.430923 \r\nL 348.197045 211.190523 \r\nL 348.277288 204.149763 \r\nL 348.357532 207.43041 \r\nL 348.437775 203.599495 \r\nL 348.518019 223.105722 \r\nL 348.598262 218.888838 \r\nL 348.678506 199.085196 \r\nL 348.758749 206.532201 \r\nL 348.838993 202.045092 \r\nL 348.919236 212.839342 \r\nL 348.99948 211.277472 \r\nL 349.159967 202.097829 \r\nL 349.24021 211.765269 \r\nL 349.320454 195.135818 \r\nL 349.400697 208.162751 \r\nL 349.480941 186.067918 \r\nL 349.561184 187.80421 \r\nL 349.641428 201.612429 \r\nL 349.721671 195.574396 \r\nL 349.801915 218.490735 \r\nL 349.882158 214.390502 \r\nL 349.962402 208.174444 \r\nL 350.042645 222.774357 \r\nL 350.203132 198.091627 \r\nL 350.283376 205.504361 \r\nL 350.363619 207.130084 \r\nL 350.443863 195.307345 \r\nL 350.684593 214.081798 \r\nL 350.764837 209.654264 \r\nL 350.845081 216.986383 \r\nL 350.925324 198.074976 \r\nL 351.005568 227.087836 \r\nL 351.085811 204.363684 \r\nL 351.166055 209.310129 \r\nL 351.246298 193.031783 \r\nL 351.326542 207.95878 \r\nL 351.406785 199.719099 \r\nL 351.487029 211.215283 \r\nL 351.727759 176.855484 \r\nL 351.888246 207.295146 \r\nL 351.96849 196.998545 \r\nL 352.128977 207.549869 \r\nL 352.20922 200.542935 \r\nL 352.289464 212.403024 \r\nL 352.449951 203.880976 \r\nL 352.530194 210.259437 \r\nL 352.770925 179.075971 \r\nL 352.851168 199.959372 \r\nL 352.931412 197.048878 \r\nL 353.091899 215.530478 \r\nL 353.252386 195.834006 \r\nL 353.332629 203.889937 \r\nL 353.412873 200.206824 \r\nL 353.493116 211.837709 \r\nL 353.57336 203.862642 \r\nL 353.653603 216.047909 \r\nL 353.733847 215.80328 \r\nL 353.81409 188.348183 \r\nL 353.894334 200.44804 \r\nL 353.974577 196.359605 \r\nL 354.054821 196.128142 \r\nL 354.135064 214.211121 \r\nL 354.215308 209.026113 \r\nL 354.295551 213.118694 \r\nL 354.375795 188.15861 \r\nL 354.456038 226.58978 \r\nL 354.536282 208.064765 \r\nL 354.616526 214.933362 \r\nL 354.696769 206.780348 \r\nL 354.777013 168.189106 \r\nL 354.857256 215.202876 \r\nL 354.9375 205.995656 \r\nL 355.017743 196.897192 \r\nL 355.097987 209.750063 \r\nL 355.258474 194.867608 \r\nL 355.338717 197.458117 \r\nL 355.418961 195.857083 \r\nL 355.499204 199.35752 \r\nL 355.579448 187.895922 \r\nL 355.739935 206.094697 \r\nL 355.820178 203.871131 \r\nL 355.900422 206.830353 \r\nL 355.980665 197.942332 \r\nL 356.060909 211.430645 \r\nL 356.141152 200.355726 \r\nL 356.221396 203.64654 \r\nL 356.301639 205.087635 \r\nL 356.462126 203.422551 \r\nL 356.54237 198.878808 \r\nL 356.622613 210.572072 \r\nL 356.702857 181.540492 \r\nL 356.7831 215.402923 \r\nL 356.863344 212.376973 \r\nL 357.023831 199.922605 \r\nL 357.104074 214.044173 \r\nL 357.184318 203.782066 \r\nL 357.264561 204.741665 \r\nL 357.344805 209.139401 \r\nL 357.425048 181.128449 \r\nL 357.505292 217.359399 \r\nL 357.585535 210.923537 \r\nL 357.665779 202.977298 \r\nL 357.746022 205.174721 \r\nL 357.826266 225.718664 \r\nL 357.986753 189.885804 \r\nL 358.066996 221.945988 \r\nL 358.14724 199.925808 \r\nL 358.227483 206.415002 \r\nL 358.387971 215.282593 \r\nL 358.468214 191.032913 \r\nL 358.548458 197.183212 \r\nL 358.708945 213.253199 \r\nL 358.789188 211.979348 \r\nL 358.869432 189.977096 \r\nL 359.029919 211.545636 \r\nL 359.190406 199.44293 \r\nL 359.270649 217.786972 \r\nL 359.350893 212.847189 \r\nL 359.431136 201.809549 \r\nL 359.51138 213.499387 \r\nL 359.591623 188.761071 \r\nL 359.671867 225.518835 \r\nL 359.75211 171.782526 \r\nL 359.912597 213.367581 \r\nL 359.992841 190.919959 \r\nL 360.073084 199.557469 \r\nL 360.153328 195.127918 \r\nL 360.233571 200.869057 \r\nL 360.313815 224.003208 \r\nL 360.394058 201.668055 \r\nL 360.474302 204.127171 \r\nL 360.554545 199.069187 \r\nL 360.634789 204.560941 \r\nL 360.715032 223.744508 \r\nL 360.795276 204.238029 \r\nL 360.875519 218.52086 \r\nL 360.955763 217.247362 \r\nL 361.276737 187.035292 \r\nL 361.35698 207.652624 \r\nL 361.437224 206.736153 \r\nL 361.517467 217.899219 \r\nL 361.677954 189.436601 \r\nL 361.758198 217.791335 \r\nL 361.918685 192.189841 \r\nL 362.079172 201.632617 \r\nL 362.159416 203.167428 \r\nL 362.319903 215.851137 \r\nL 362.400146 200.011742 \r\nL 362.560633 208.199578 \r\nL 362.640877 208.377812 \r\nL 362.72112 195.624873 \r\nL 362.881607 205.908301 \r\nL 362.961851 201.10538 \r\nL 363.042094 213.243138 \r\nL 363.122338 210.627088 \r\nL 363.202581 208.474941 \r\nL 363.282825 194.946847 \r\nL 363.363068 207.03473 \r\nL 363.363068 207.03473 \r\n\" style=\"fill:none;stroke:#1f77b4;stroke-linecap:square;stroke-width:1.5;\"/>\r\n   </g>\r\n   <g id=\"patch_3\">\r\n    <path d=\"M 43.78125 239.758125 \r\nL 43.78125 22.318125 \r\n\" style=\"fill:none;stroke:#000000;stroke-linecap:square;stroke-linejoin:miter;stroke-width:0.8;\"/>\r\n   </g>\r\n   <g id=\"patch_4\">\r\n    <path d=\"M 378.58125 239.758125 \r\nL 378.58125 22.318125 \r\n\" style=\"fill:none;stroke:#000000;stroke-linecap:square;stroke-linejoin:miter;stroke-width:0.8;\"/>\r\n   </g>\r\n   <g id=\"patch_5\">\r\n    <path d=\"M 43.78125 239.758125 \r\nL 378.58125 239.758125 \r\n\" style=\"fill:none;stroke:#000000;stroke-linecap:square;stroke-linejoin:miter;stroke-width:0.8;\"/>\r\n   </g>\r\n   <g id=\"patch_6\">\r\n    <path d=\"M 43.78125 22.318125 \r\nL 378.58125 22.318125 \r\n\" style=\"fill:none;stroke:#000000;stroke-linecap:square;stroke-linejoin:miter;stroke-width:0.8;\"/>\r\n   </g>\r\n   <g id=\"text_16\">\r\n    <!-- train loss -->\r\n    <defs>\r\n     <path d=\"M 41.109375 46.296875 \r\nQ 39.59375 47.171875 37.8125 47.578125 \r\nQ 36.03125 48 33.890625 48 \r\nQ 26.265625 48 22.1875 43.046875 \r\nQ 18.109375 38.09375 18.109375 28.8125 \r\nL 18.109375 0 \r\nL 9.078125 0 \r\nL 9.078125 54.6875 \r\nL 18.109375 54.6875 \r\nL 18.109375 46.1875 \r\nQ 20.953125 51.171875 25.484375 53.578125 \r\nQ 30.03125 56 36.53125 56 \r\nQ 37.453125 56 38.578125 55.875 \r\nQ 39.703125 55.765625 41.0625 55.515625 \r\nz\r\n\" id=\"DejaVuSans-114\"/>\r\n     <path d=\"M 9.421875 54.6875 \r\nL 18.40625 54.6875 \r\nL 18.40625 0 \r\nL 9.421875 0 \r\nz\r\nM 9.421875 75.984375 \r\nL 18.40625 75.984375 \r\nL 18.40625 64.59375 \r\nL 9.421875 64.59375 \r\nz\r\n\" id=\"DejaVuSans-105\"/>\r\n    </defs>\r\n    <g transform=\"translate(183.72 16.318125)scale(0.12 -0.12)\">\r\n     <use xlink:href=\"#DejaVuSans-116\"/>\r\n     <use x=\"39.208984\" xlink:href=\"#DejaVuSans-114\"/>\r\n     <use x=\"80.322266\" xlink:href=\"#DejaVuSans-97\"/>\r\n     <use x=\"141.601562\" xlink:href=\"#DejaVuSans-105\"/>\r\n     <use x=\"169.384766\" xlink:href=\"#DejaVuSans-110\"/>\r\n     <use x=\"232.763672\" xlink:href=\"#DejaVuSans-32\"/>\r\n     <use x=\"264.550781\" xlink:href=\"#DejaVuSans-108\"/>\r\n     <use x=\"292.333984\" xlink:href=\"#DejaVuSans-111\"/>\r\n     <use x=\"353.515625\" xlink:href=\"#DejaVuSans-115\"/>\r\n     <use x=\"405.615234\" xlink:href=\"#DejaVuSans-115\"/>\r\n    </g>\r\n   </g>\r\n   <g id=\"legend_1\">\r\n    <g id=\"patch_7\">\r\n     <path d=\"M 367.58125 35.318125 \r\nL 371.58125 35.318125 \r\nQ 373.58125 35.318125 373.58125 33.318125 \r\nL 373.58125 29.318125 \r\nQ 373.58125 27.318125 371.58125 27.318125 \r\nL 367.58125 27.318125 \r\nQ 365.58125 27.318125 365.58125 29.318125 \r\nL 365.58125 33.318125 \r\nQ 365.58125 35.318125 367.58125 35.318125 \r\nz\r\n\" style=\"fill:#ffffff;opacity:0.8;stroke:#cccccc;stroke-linejoin:miter;\"/>\r\n    </g>\r\n   </g>\r\n  </g>\r\n </g>\r\n <defs>\r\n  <clipPath id=\"p701d97455a\">\r\n   <rect height=\"217.44\" width=\"334.8\" x=\"43.78125\" y=\"22.318125\"/>\r\n  </clipPath>\r\n </defs>\r\n</svg>\r\n",
      "image/png": "[encoded data removed]"
     },
     "metadata": {
      "needs_background": "light"
     }
    }
   ],
   "source": [
    "m.plot_loss(loss_his,'train loss','data num')"
   ]
  },
  {
   "cell_type": "code",
   "execution_count": 18,
   "metadata": {},
   "outputs": [
    {
     "output_type": "stream",
     "name": "stderr",
     "text": "No handles with labels found to put in legend.\n"
    },
    {
     "output_type": "display_data",
     "data": {
      "text/plain": "<Figure size 432x288 with 1 Axes>",
      "image/svg+xml": "<?xml version=\"1.0\" encoding=\"utf-8\" standalone=\"no\"?>\r\n<!DOCTYPE svg PUBLIC \"-//W3C//DTD SVG 1.1//EN\"\r\n  \"http://www.w3.org/Graphics/SVG/1.1/DTD/svg11.dtd\">\r\n<!-- Created with matplotlib (https://matplotlib.org/) -->\r\n<svg height=\"277.314375pt\" version=\"1.1\" viewBox=\"0 0 385.78125 277.314375\" width=\"385.78125pt\" xmlns=\"http://www.w3.org/2000/svg\" xmlns:xlink=\"http://www.w3.org/1999/xlink\">\r\n <defs>\r\n  <style type=\"text/css\">\r\n*{stroke-linecap:butt;stroke-linejoin:round;}\r\n  </style>\r\n </defs>\r\n <g id=\"figure_1\">\r\n  <g id=\"patch_1\">\r\n   <path d=\"M 0 277.314375 \r\nL 385.78125 277.314375 \r\nL 385.78125 0 \r\nL 0 0 \r\nz\r\n\" style=\"fill:none;\"/>\r\n  </g>\r\n  <g id=\"axes_1\">\r\n   <g id=\"patch_2\">\r\n    <path d=\"M 43.78125 239.758125 \r\nL 378.58125 239.758125 \r\nL 378.58125 22.318125 \r\nL 43.78125 22.318125 \r\nz\r\n\" style=\"fill:#ffffff;\"/>\r\n   </g>\r\n   <g id=\"matplotlib.axis_1\">\r\n    <g id=\"xtick_1\">\r\n     <g id=\"line2d_1\">\r\n      <defs>\r\n       <path d=\"M 0 0 \r\nL 0 3.5 \r\n\" id=\"m879a1da306\" style=\"stroke:#000000;stroke-width:0.8;\"/>\r\n      </defs>\r\n      <g>\r\n       <use style=\"stroke:#000000;stroke-width:0.8;\" x=\"58.999432\" xlink:href=\"#m879a1da306\" y=\"239.758125\"/>\r\n      </g>\r\n     </g>\r\n     <g id=\"text_1\">\r\n      <!-- 0 -->\r\n      <defs>\r\n       <path d=\"M 31.78125 66.40625 \r\nQ 24.171875 66.40625 20.328125 58.90625 \r\nQ 16.5 51.421875 16.5 36.375 \r\nQ 16.5 21.390625 20.328125 13.890625 \r\nQ 24.171875 6.390625 31.78125 6.390625 \r\nQ 39.453125 6.390625 43.28125 13.890625 \r\nQ 47.125 21.390625 47.125 36.375 \r\nQ 47.125 51.421875 43.28125 58.90625 \r\nQ 39.453125 66.40625 31.78125 66.40625 \r\nz\r\nM 31.78125 74.21875 \r\nQ 44.046875 74.21875 50.515625 64.515625 \r\nQ 56.984375 54.828125 56.984375 36.375 \r\nQ 56.984375 17.96875 50.515625 8.265625 \r\nQ 44.046875 -1.421875 31.78125 -1.421875 \r\nQ 19.53125 -1.421875 13.0625 8.265625 \r\nQ 6.59375 17.96875 6.59375 36.375 \r\nQ 6.59375 54.828125 13.0625 64.515625 \r\nQ 19.53125 74.21875 31.78125 74.21875 \r\nz\r\n\" id=\"DejaVuSans-48\"/>\r\n      </defs>\r\n      <g transform=\"translate(55.818182 254.356562)scale(0.1 -0.1)\">\r\n       <use xlink:href=\"#DejaVuSans-48\"/>\r\n      </g>\r\n     </g>\r\n    </g>\r\n    <g id=\"xtick_2\">\r\n     <g id=\"line2d_2\">\r\n      <g>\r\n       <use style=\"stroke:#000000;stroke-width:0.8;\" x=\"72.834143\" xlink:href=\"#m879a1da306\" y=\"239.758125\"/>\r\n      </g>\r\n     </g>\r\n     <g id=\"text_2\">\r\n      <!-- 1 -->\r\n      <defs>\r\n       <path d=\"M 12.40625 8.296875 \r\nL 28.515625 8.296875 \r\nL 28.515625 63.921875 \r\nL 10.984375 60.40625 \r\nL 10.984375 69.390625 \r\nL 28.421875 72.90625 \r\nL 38.28125 72.90625 \r\nL 38.28125 8.296875 \r\nL 54.390625 8.296875 \r\nL 54.390625 0 \r\nL 12.40625 0 \r\nz\r\n\" id=\"DejaVuSans-49\"/>\r\n      </defs>\r\n      <g transform=\"translate(69.652893 254.356562)scale(0.1 -0.1)\">\r\n       <use xlink:href=\"#DejaVuSans-49\"/>\r\n      </g>\r\n     </g>\r\n    </g>\r\n    <g id=\"xtick_3\">\r\n     <g id=\"line2d_3\">\r\n      <g>\r\n       <use style=\"stroke:#000000;stroke-width:0.8;\" x=\"86.668853\" xlink:href=\"#m879a1da306\" y=\"239.758125\"/>\r\n      </g>\r\n     </g>\r\n     <g id=\"text_3\">\r\n      <!-- 2 -->\r\n      <defs>\r\n       <path d=\"M 19.1875 8.296875 \r\nL 53.609375 8.296875 \r\nL 53.609375 0 \r\nL 7.328125 0 \r\nL 7.328125 8.296875 \r\nQ 12.9375 14.109375 22.625 23.890625 \r\nQ 32.328125 33.6875 34.8125 36.53125 \r\nQ 39.546875 41.84375 41.421875 45.53125 \r\nQ 43.3125 49.21875 43.3125 52.78125 \r\nQ 43.3125 58.59375 39.234375 62.25 \r\nQ 35.15625 65.921875 28.609375 65.921875 \r\nQ 23.96875 65.921875 18.8125 64.3125 \r\nQ 13.671875 62.703125 7.8125 59.421875 \r\nL 7.8125 69.390625 \r\nQ 13.765625 71.78125 18.9375 73 \r\nQ 24.125 74.21875 28.421875 74.21875 \r\nQ 39.75 74.21875 46.484375 68.546875 \r\nQ 53.21875 62.890625 53.21875 53.421875 \r\nQ 53.21875 48.921875 51.53125 44.890625 \r\nQ 49.859375 40.875 45.40625 35.40625 \r\nQ 44.1875 33.984375 37.640625 27.21875 \r\nQ 31.109375 20.453125 19.1875 8.296875 \r\nz\r\n\" id=\"DejaVuSans-50\"/>\r\n      </defs>\r\n      <g transform=\"translate(83.487603 254.356562)scale(0.1 -0.1)\">\r\n       <use xlink:href=\"#DejaVuSans-50\"/>\r\n      </g>\r\n     </g>\r\n    </g>\r\n    <g id=\"xtick_4\">\r\n     <g id=\"line2d_4\">\r\n      <g>\r\n       <use style=\"stroke:#000000;stroke-width:0.8;\" x=\"100.503564\" xlink:href=\"#m879a1da306\" y=\"239.758125\"/>\r\n      </g>\r\n     </g>\r\n     <g id=\"text_4\">\r\n      <!-- 3 -->\r\n      <defs>\r\n       <path d=\"M 40.578125 39.3125 \r\nQ 47.65625 37.796875 51.625 33 \r\nQ 55.609375 28.21875 55.609375 21.1875 \r\nQ 55.609375 10.40625 48.1875 4.484375 \r\nQ 40.765625 -1.421875 27.09375 -1.421875 \r\nQ 22.515625 -1.421875 17.65625 -0.515625 \r\nQ 12.796875 0.390625 7.625 2.203125 \r\nL 7.625 11.71875 \r\nQ 11.71875 9.328125 16.59375 8.109375 \r\nQ 21.484375 6.890625 26.8125 6.890625 \r\nQ 36.078125 6.890625 40.9375 10.546875 \r\nQ 45.796875 14.203125 45.796875 21.1875 \r\nQ 45.796875 27.640625 41.28125 31.265625 \r\nQ 36.765625 34.90625 28.71875 34.90625 \r\nL 20.21875 34.90625 \r\nL 20.21875 43.015625 \r\nL 29.109375 43.015625 \r\nQ 36.375 43.015625 40.234375 45.921875 \r\nQ 44.09375 48.828125 44.09375 54.296875 \r\nQ 44.09375 59.90625 40.109375 62.90625 \r\nQ 36.140625 65.921875 28.71875 65.921875 \r\nQ 24.65625 65.921875 20.015625 65.03125 \r\nQ 15.375 64.15625 9.8125 62.3125 \r\nL 9.8125 71.09375 \r\nQ 15.4375 72.65625 20.34375 73.4375 \r\nQ 25.25 74.21875 29.59375 74.21875 \r\nQ 40.828125 74.21875 47.359375 69.109375 \r\nQ 53.90625 64.015625 53.90625 55.328125 \r\nQ 53.90625 49.265625 50.4375 45.09375 \r\nQ 46.96875 40.921875 40.578125 39.3125 \r\nz\r\n\" id=\"DejaVuSans-51\"/>\r\n      </defs>\r\n      <g transform=\"translate(97.322314 254.356562)scale(0.1 -0.1)\">\r\n       <use xlink:href=\"#DejaVuSans-51\"/>\r\n      </g>\r\n     </g>\r\n    </g>\r\n    <g id=\"xtick_5\">\r\n     <g id=\"line2d_5\">\r\n      <g>\r\n       <use style=\"stroke:#000000;stroke-width:0.8;\" x=\"114.338275\" xlink:href=\"#m879a1da306\" y=\"239.758125\"/>\r\n      </g>\r\n     </g>\r\n     <g id=\"text_5\">\r\n      <!-- 4 -->\r\n      <defs>\r\n       <path d=\"M 37.796875 64.3125 \r\nL 12.890625 25.390625 \r\nL 37.796875 25.390625 \r\nz\r\nM 35.203125 72.90625 \r\nL 47.609375 72.90625 \r\nL 47.609375 25.390625 \r\nL 58.015625 25.390625 \r\nL 58.015625 17.1875 \r\nL 47.609375 17.1875 \r\nL 47.609375 0 \r\nL 37.796875 0 \r\nL 37.796875 17.1875 \r\nL 4.890625 17.1875 \r\nL 4.890625 26.703125 \r\nz\r\n\" id=\"DejaVuSans-52\"/>\r\n      </defs>\r\n      <g transform=\"translate(111.157025 254.356562)scale(0.1 -0.1)\">\r\n       <use xlink:href=\"#DejaVuSans-52\"/>\r\n      </g>\r\n     </g>\r\n    </g>\r\n    <g id=\"xtick_6\">\r\n     <g id=\"line2d_6\">\r\n      <g>\r\n       <use style=\"stroke:#000000;stroke-width:0.8;\" x=\"128.172986\" xlink:href=\"#m879a1da306\" y=\"239.758125\"/>\r\n      </g>\r\n     </g>\r\n     <g id=\"text_6\">\r\n      <!-- 5 -->\r\n      <defs>\r\n       <path d=\"M 10.796875 72.90625 \r\nL 49.515625 72.90625 \r\nL 49.515625 64.59375 \r\nL 19.828125 64.59375 \r\nL 19.828125 46.734375 \r\nQ 21.96875 47.46875 24.109375 47.828125 \r\nQ 26.265625 48.1875 28.421875 48.1875 \r\nQ 40.625 48.1875 47.75 41.5 \r\nQ 54.890625 34.8125 54.890625 23.390625 \r\nQ 54.890625 11.625 47.5625 5.09375 \r\nQ 40.234375 -1.421875 26.90625 -1.421875 \r\nQ 22.3125 -1.421875 17.546875 -0.640625 \r\nQ 12.796875 0.140625 7.71875 1.703125 \r\nL 7.71875 11.625 \r\nQ 12.109375 9.234375 16.796875 8.0625 \r\nQ 21.484375 6.890625 26.703125 6.890625 \r\nQ 35.15625 6.890625 40.078125 11.328125 \r\nQ 45.015625 15.765625 45.015625 23.390625 \r\nQ 45.015625 31 40.078125 35.4375 \r\nQ 35.15625 39.890625 26.703125 39.890625 \r\nQ 22.75 39.890625 18.8125 39.015625 \r\nQ 14.890625 38.140625 10.796875 36.28125 \r\nz\r\n\" id=\"DejaVuSans-53\"/>\r\n      </defs>\r\n      <g transform=\"translate(124.991736 254.356562)scale(0.1 -0.1)\">\r\n       <use xlink:href=\"#DejaVuSans-53\"/>\r\n      </g>\r\n     </g>\r\n    </g>\r\n    <g id=\"xtick_7\">\r\n     <g id=\"line2d_7\">\r\n      <g>\r\n       <use style=\"stroke:#000000;stroke-width:0.8;\" x=\"142.007696\" xlink:href=\"#m879a1da306\" y=\"239.758125\"/>\r\n      </g>\r\n     </g>\r\n     <g id=\"text_7\">\r\n      <!-- 6 -->\r\n      <defs>\r\n       <path d=\"M 33.015625 40.375 \r\nQ 26.375 40.375 22.484375 35.828125 \r\nQ 18.609375 31.296875 18.609375 23.390625 \r\nQ 18.609375 15.53125 22.484375 10.953125 \r\nQ 26.375 6.390625 33.015625 6.390625 \r\nQ 39.65625 6.390625 43.53125 10.953125 \r\nQ 47.40625 15.53125 47.40625 23.390625 \r\nQ 47.40625 31.296875 43.53125 35.828125 \r\nQ 39.65625 40.375 33.015625 40.375 \r\nz\r\nM 52.59375 71.296875 \r\nL 52.59375 62.3125 \r\nQ 48.875 64.0625 45.09375 64.984375 \r\nQ 41.3125 65.921875 37.59375 65.921875 \r\nQ 27.828125 65.921875 22.671875 59.328125 \r\nQ 17.53125 52.734375 16.796875 39.40625 \r\nQ 19.671875 43.65625 24.015625 45.921875 \r\nQ 28.375 48.1875 33.59375 48.1875 \r\nQ 44.578125 48.1875 50.953125 41.515625 \r\nQ 57.328125 34.859375 57.328125 23.390625 \r\nQ 57.328125 12.15625 50.6875 5.359375 \r\nQ 44.046875 -1.421875 33.015625 -1.421875 \r\nQ 20.359375 -1.421875 13.671875 8.265625 \r\nQ 6.984375 17.96875 6.984375 36.375 \r\nQ 6.984375 53.65625 15.1875 63.9375 \r\nQ 23.390625 74.21875 37.203125 74.21875 \r\nQ 40.921875 74.21875 44.703125 73.484375 \r\nQ 48.484375 72.75 52.59375 71.296875 \r\nz\r\n\" id=\"DejaVuSans-54\"/>\r\n      </defs>\r\n      <g transform=\"translate(138.826446 254.356562)scale(0.1 -0.1)\">\r\n       <use xlink:href=\"#DejaVuSans-54\"/>\r\n      </g>\r\n     </g>\r\n    </g>\r\n    <g id=\"xtick_8\">\r\n     <g id=\"line2d_8\">\r\n      <g>\r\n       <use style=\"stroke:#000000;stroke-width:0.8;\" x=\"155.842407\" xlink:href=\"#m879a1da306\" y=\"239.758125\"/>\r\n      </g>\r\n     </g>\r\n     <g id=\"text_8\">\r\n      <!-- 7 -->\r\n      <defs>\r\n       <path d=\"M 8.203125 72.90625 \r\nL 55.078125 72.90625 \r\nL 55.078125 68.703125 \r\nL 28.609375 0 \r\nL 18.3125 0 \r\nL 43.21875 64.59375 \r\nL 8.203125 64.59375 \r\nz\r\n\" id=\"DejaVuSans-55\"/>\r\n      </defs>\r\n      <g transform=\"translate(152.661157 254.356562)scale(0.1 -0.1)\">\r\n       <use xlink:href=\"#DejaVuSans-55\"/>\r\n      </g>\r\n     </g>\r\n    </g>\r\n    <g id=\"xtick_9\">\r\n     <g id=\"line2d_9\">\r\n      <g>\r\n       <use style=\"stroke:#000000;stroke-width:0.8;\" x=\"169.677118\" xlink:href=\"#m879a1da306\" y=\"239.758125\"/>\r\n      </g>\r\n     </g>\r\n     <g id=\"text_9\">\r\n      <!-- 8 -->\r\n      <defs>\r\n       <path d=\"M 31.78125 34.625 \r\nQ 24.75 34.625 20.71875 30.859375 \r\nQ 16.703125 27.09375 16.703125 20.515625 \r\nQ 16.703125 13.921875 20.71875 10.15625 \r\nQ 24.75 6.390625 31.78125 6.390625 \r\nQ 38.8125 6.390625 42.859375 10.171875 \r\nQ 46.921875 13.96875 46.921875 20.515625 \r\nQ 46.921875 27.09375 42.890625 30.859375 \r\nQ 38.875 34.625 31.78125 34.625 \r\nz\r\nM 21.921875 38.8125 \r\nQ 15.578125 40.375 12.03125 44.71875 \r\nQ 8.5 49.078125 8.5 55.328125 \r\nQ 8.5 64.0625 14.71875 69.140625 \r\nQ 20.953125 74.21875 31.78125 74.21875 \r\nQ 42.671875 74.21875 48.875 69.140625 \r\nQ 55.078125 64.0625 55.078125 55.328125 \r\nQ 55.078125 49.078125 51.53125 44.71875 \r\nQ 48 40.375 41.703125 38.8125 \r\nQ 48.828125 37.15625 52.796875 32.3125 \r\nQ 56.78125 27.484375 56.78125 20.515625 \r\nQ 56.78125 9.90625 50.3125 4.234375 \r\nQ 43.84375 -1.421875 31.78125 -1.421875 \r\nQ 19.734375 -1.421875 13.25 4.234375 \r\nQ 6.78125 9.90625 6.78125 20.515625 \r\nQ 6.78125 27.484375 10.78125 32.3125 \r\nQ 14.796875 37.15625 21.921875 38.8125 \r\nz\r\nM 18.3125 54.390625 \r\nQ 18.3125 48.734375 21.84375 45.5625 \r\nQ 25.390625 42.390625 31.78125 42.390625 \r\nQ 38.140625 42.390625 41.71875 45.5625 \r\nQ 45.3125 48.734375 45.3125 54.390625 \r\nQ 45.3125 60.0625 41.71875 63.234375 \r\nQ 38.140625 66.40625 31.78125 66.40625 \r\nQ 25.390625 66.40625 21.84375 63.234375 \r\nQ 18.3125 60.0625 18.3125 54.390625 \r\nz\r\n\" id=\"DejaVuSans-56\"/>\r\n      </defs>\r\n      <g transform=\"translate(166.495868 254.356562)scale(0.1 -0.1)\">\r\n       <use xlink:href=\"#DejaVuSans-56\"/>\r\n      </g>\r\n     </g>\r\n    </g>\r\n    <g id=\"xtick_10\">\r\n     <g id=\"line2d_10\">\r\n      <g>\r\n       <use style=\"stroke:#000000;stroke-width:0.8;\" x=\"183.511829\" xlink:href=\"#m879a1da306\" y=\"239.758125\"/>\r\n      </g>\r\n     </g>\r\n     <g id=\"text_10\">\r\n      <!-- 9 -->\r\n      <defs>\r\n       <path d=\"M 10.984375 1.515625 \r\nL 10.984375 10.5 \r\nQ 14.703125 8.734375 18.5 7.8125 \r\nQ 22.3125 6.890625 25.984375 6.890625 \r\nQ 35.75 6.890625 40.890625 13.453125 \r\nQ 46.046875 20.015625 46.78125 33.40625 \r\nQ 43.953125 29.203125 39.59375 26.953125 \r\nQ 35.25 24.703125 29.984375 24.703125 \r\nQ 19.046875 24.703125 12.671875 31.3125 \r\nQ 6.296875 37.9375 6.296875 49.421875 \r\nQ 6.296875 60.640625 12.9375 67.421875 \r\nQ 19.578125 74.21875 30.609375 74.21875 \r\nQ 43.265625 74.21875 49.921875 64.515625 \r\nQ 56.59375 54.828125 56.59375 36.375 \r\nQ 56.59375 19.140625 48.40625 8.859375 \r\nQ 40.234375 -1.421875 26.421875 -1.421875 \r\nQ 22.703125 -1.421875 18.890625 -0.6875 \r\nQ 15.09375 0.046875 10.984375 1.515625 \r\nz\r\nM 30.609375 32.421875 \r\nQ 37.25 32.421875 41.125 36.953125 \r\nQ 45.015625 41.5 45.015625 49.421875 \r\nQ 45.015625 57.28125 41.125 61.84375 \r\nQ 37.25 66.40625 30.609375 66.40625 \r\nQ 23.96875 66.40625 20.09375 61.84375 \r\nQ 16.21875 57.28125 16.21875 49.421875 \r\nQ 16.21875 41.5 20.09375 36.953125 \r\nQ 23.96875 32.421875 30.609375 32.421875 \r\nz\r\n\" id=\"DejaVuSans-57\"/>\r\n      </defs>\r\n      <g transform=\"translate(180.330579 254.356562)scale(0.1 -0.1)\">\r\n       <use xlink:href=\"#DejaVuSans-57\"/>\r\n      </g>\r\n     </g>\r\n    </g>\r\n    <g id=\"xtick_11\">\r\n     <g id=\"line2d_11\">\r\n      <g>\r\n       <use style=\"stroke:#000000;stroke-width:0.8;\" x=\"197.346539\" xlink:href=\"#m879a1da306\" y=\"239.758125\"/>\r\n      </g>\r\n     </g>\r\n     <g id=\"text_11\">\r\n      <!-- 10 -->\r\n      <g transform=\"translate(190.984039 254.356562)scale(0.1 -0.1)\">\r\n       <use xlink:href=\"#DejaVuSans-49\"/>\r\n       <use x=\"63.623047\" xlink:href=\"#DejaVuSans-48\"/>\r\n      </g>\r\n     </g>\r\n    </g>\r\n    <g id=\"xtick_12\">\r\n     <g id=\"line2d_12\">\r\n      <g>\r\n       <use style=\"stroke:#000000;stroke-width:0.8;\" x=\"211.18125\" xlink:href=\"#m879a1da306\" y=\"239.758125\"/>\r\n      </g>\r\n     </g>\r\n     <g id=\"text_12\">\r\n      <!-- 11 -->\r\n      <g transform=\"translate(204.81875 254.356562)scale(0.1 -0.1)\">\r\n       <use xlink:href=\"#DejaVuSans-49\"/>\r\n       <use x=\"63.623047\" xlink:href=\"#DejaVuSans-49\"/>\r\n      </g>\r\n     </g>\r\n    </g>\r\n    <g id=\"xtick_13\">\r\n     <g id=\"line2d_13\">\r\n      <g>\r\n       <use style=\"stroke:#000000;stroke-width:0.8;\" x=\"225.015961\" xlink:href=\"#m879a1da306\" y=\"239.758125\"/>\r\n      </g>\r\n     </g>\r\n     <g id=\"text_13\">\r\n      <!-- 12 -->\r\n      <g transform=\"translate(218.653461 254.356562)scale(0.1 -0.1)\">\r\n       <use xlink:href=\"#DejaVuSans-49\"/>\r\n       <use x=\"63.623047\" xlink:href=\"#DejaVuSans-50\"/>\r\n      </g>\r\n     </g>\r\n    </g>\r\n    <g id=\"xtick_14\">\r\n     <g id=\"line2d_14\">\r\n      <g>\r\n       <use style=\"stroke:#000000;stroke-width:0.8;\" x=\"238.850671\" xlink:href=\"#m879a1da306\" y=\"239.758125\"/>\r\n      </g>\r\n     </g>\r\n     <g id=\"text_14\">\r\n      <!-- 13 -->\r\n      <g transform=\"translate(232.488171 254.356562)scale(0.1 -0.1)\">\r\n       <use xlink:href=\"#DejaVuSans-49\"/>\r\n       <use x=\"63.623047\" xlink:href=\"#DejaVuSans-51\"/>\r\n      </g>\r\n     </g>\r\n    </g>\r\n    <g id=\"xtick_15\">\r\n     <g id=\"line2d_15\">\r\n      <g>\r\n       <use style=\"stroke:#000000;stroke-width:0.8;\" x=\"252.685382\" xlink:href=\"#m879a1da306\" y=\"239.758125\"/>\r\n      </g>\r\n     </g>\r\n     <g id=\"text_15\">\r\n      <!-- 14 -->\r\n      <g transform=\"translate(246.322882 254.356562)scale(0.1 -0.1)\">\r\n       <use xlink:href=\"#DejaVuSans-49\"/>\r\n       <use x=\"63.623047\" xlink:href=\"#DejaVuSans-52\"/>\r\n      </g>\r\n     </g>\r\n    </g>\r\n    <g id=\"xtick_16\">\r\n     <g id=\"line2d_16\">\r\n      <g>\r\n       <use style=\"stroke:#000000;stroke-width:0.8;\" x=\"266.520093\" xlink:href=\"#m879a1da306\" y=\"239.758125\"/>\r\n      </g>\r\n     </g>\r\n     <g id=\"text_16\">\r\n      <!-- 15 -->\r\n      <g transform=\"translate(260.157593 254.356562)scale(0.1 -0.1)\">\r\n       <use xlink:href=\"#DejaVuSans-49\"/>\r\n       <use x=\"63.623047\" xlink:href=\"#DejaVuSans-53\"/>\r\n      </g>\r\n     </g>\r\n    </g>\r\n    <g id=\"xtick_17\">\r\n     <g id=\"line2d_17\">\r\n      <g>\r\n       <use style=\"stroke:#000000;stroke-width:0.8;\" x=\"280.354804\" xlink:href=\"#m879a1da306\" y=\"239.758125\"/>\r\n      </g>\r\n     </g>\r\n     <g id=\"text_17\">\r\n      <!-- 16 -->\r\n      <g transform=\"translate(273.992304 254.356562)scale(0.1 -0.1)\">\r\n       <use xlink:href=\"#DejaVuSans-49\"/>\r\n       <use x=\"63.623047\" xlink:href=\"#DejaVuSans-54\"/>\r\n      </g>\r\n     </g>\r\n    </g>\r\n    <g id=\"xtick_18\">\r\n     <g id=\"line2d_18\">\r\n      <g>\r\n       <use style=\"stroke:#000000;stroke-width:0.8;\" x=\"294.189514\" xlink:href=\"#m879a1da306\" y=\"239.758125\"/>\r\n      </g>\r\n     </g>\r\n     <g id=\"text_18\">\r\n      <!-- 17 -->\r\n      <g transform=\"translate(287.827014 254.356562)scale(0.1 -0.1)\">\r\n       <use xlink:href=\"#DejaVuSans-49\"/>\r\n       <use x=\"63.623047\" xlink:href=\"#DejaVuSans-55\"/>\r\n      </g>\r\n     </g>\r\n    </g>\r\n    <g id=\"xtick_19\">\r\n     <g id=\"line2d_19\">\r\n      <g>\r\n       <use style=\"stroke:#000000;stroke-width:0.8;\" x=\"308.024225\" xlink:href=\"#m879a1da306\" y=\"239.758125\"/>\r\n      </g>\r\n     </g>\r\n     <g id=\"text_19\">\r\n      <!-- 18 -->\r\n      <g transform=\"translate(301.661725 254.356562)scale(0.1 -0.1)\">\r\n       <use xlink:href=\"#DejaVuSans-49\"/>\r\n       <use x=\"63.623047\" xlink:href=\"#DejaVuSans-56\"/>\r\n      </g>\r\n     </g>\r\n    </g>\r\n    <g id=\"xtick_20\">\r\n     <g id=\"line2d_20\">\r\n      <g>\r\n       <use style=\"stroke:#000000;stroke-width:0.8;\" x=\"321.858936\" xlink:href=\"#m879a1da306\" y=\"239.758125\"/>\r\n      </g>\r\n     </g>\r\n     <g id=\"text_20\">\r\n      <!-- 19 -->\r\n      <g transform=\"translate(315.496436 254.356562)scale(0.1 -0.1)\">\r\n       <use xlink:href=\"#DejaVuSans-49\"/>\r\n       <use x=\"63.623047\" xlink:href=\"#DejaVuSans-57\"/>\r\n      </g>\r\n     </g>\r\n    </g>\r\n    <g id=\"xtick_21\">\r\n     <g id=\"line2d_21\">\r\n      <g>\r\n       <use style=\"stroke:#000000;stroke-width:0.8;\" x=\"335.693647\" xlink:href=\"#m879a1da306\" y=\"239.758125\"/>\r\n      </g>\r\n     </g>\r\n     <g id=\"text_21\">\r\n      <!-- 20 -->\r\n      <g transform=\"translate(329.331147 254.356562)scale(0.1 -0.1)\">\r\n       <use xlink:href=\"#DejaVuSans-50\"/>\r\n       <use x=\"63.623047\" xlink:href=\"#DejaVuSans-48\"/>\r\n      </g>\r\n     </g>\r\n    </g>\r\n    <g id=\"xtick_22\">\r\n     <g id=\"line2d_22\">\r\n      <g>\r\n       <use style=\"stroke:#000000;stroke-width:0.8;\" x=\"349.528357\" xlink:href=\"#m879a1da306\" y=\"239.758125\"/>\r\n      </g>\r\n     </g>\r\n     <g id=\"text_22\">\r\n      <!-- 21 -->\r\n      <g transform=\"translate(343.165857 254.356562)scale(0.1 -0.1)\">\r\n       <use xlink:href=\"#DejaVuSans-50\"/>\r\n       <use x=\"63.623047\" xlink:href=\"#DejaVuSans-49\"/>\r\n      </g>\r\n     </g>\r\n    </g>\r\n    <g id=\"xtick_23\">\r\n     <g id=\"line2d_23\">\r\n      <g>\r\n       <use style=\"stroke:#000000;stroke-width:0.8;\" x=\"363.363068\" xlink:href=\"#m879a1da306\" y=\"239.758125\"/>\r\n      </g>\r\n     </g>\r\n     <g id=\"text_23\">\r\n      <!-- 22 -->\r\n      <g transform=\"translate(357.000568 254.356562)scale(0.1 -0.1)\">\r\n       <use xlink:href=\"#DejaVuSans-50\"/>\r\n       <use x=\"63.623047\" xlink:href=\"#DejaVuSans-50\"/>\r\n      </g>\r\n     </g>\r\n    </g>\r\n    <g id=\"text_24\">\r\n     <!-- Epoch -->\r\n     <defs>\r\n      <path d=\"M 9.8125 72.90625 \r\nL 55.90625 72.90625 \r\nL 55.90625 64.59375 \r\nL 19.671875 64.59375 \r\nL 19.671875 43.015625 \r\nL 54.390625 43.015625 \r\nL 54.390625 34.71875 \r\nL 19.671875 34.71875 \r\nL 19.671875 8.296875 \r\nL 56.78125 8.296875 \r\nL 56.78125 0 \r\nL 9.8125 0 \r\nz\r\n\" id=\"DejaVuSans-69\"/>\r\n      <path d=\"M 18.109375 8.203125 \r\nL 18.109375 -20.796875 \r\nL 9.078125 -20.796875 \r\nL 9.078125 54.6875 \r\nL 18.109375 54.6875 \r\nL 18.109375 46.390625 \r\nQ 20.953125 51.265625 25.265625 53.625 \r\nQ 29.59375 56 35.59375 56 \r\nQ 45.5625 56 51.78125 48.09375 \r\nQ 58.015625 40.1875 58.015625 27.296875 \r\nQ 58.015625 14.40625 51.78125 6.484375 \r\nQ 45.5625 -1.421875 35.59375 -1.421875 \r\nQ 29.59375 -1.421875 25.265625 0.953125 \r\nQ 20.953125 3.328125 18.109375 8.203125 \r\nz\r\nM 48.6875 27.296875 \r\nQ 48.6875 37.203125 44.609375 42.84375 \r\nQ 40.53125 48.484375 33.40625 48.484375 \r\nQ 26.265625 48.484375 22.1875 42.84375 \r\nQ 18.109375 37.203125 18.109375 27.296875 \r\nQ 18.109375 17.390625 22.1875 11.75 \r\nQ 26.265625 6.109375 33.40625 6.109375 \r\nQ 40.53125 6.109375 44.609375 11.75 \r\nQ 48.6875 17.390625 48.6875 27.296875 \r\nz\r\n\" id=\"DejaVuSans-112\"/>\r\n      <path d=\"M 30.609375 48.390625 \r\nQ 23.390625 48.390625 19.1875 42.75 \r\nQ 14.984375 37.109375 14.984375 27.296875 \r\nQ 14.984375 17.484375 19.15625 11.84375 \r\nQ 23.34375 6.203125 30.609375 6.203125 \r\nQ 37.796875 6.203125 41.984375 11.859375 \r\nQ 46.1875 17.53125 46.1875 27.296875 \r\nQ 46.1875 37.015625 41.984375 42.703125 \r\nQ 37.796875 48.390625 30.609375 48.390625 \r\nz\r\nM 30.609375 56 \r\nQ 42.328125 56 49.015625 48.375 \r\nQ 55.71875 40.765625 55.71875 27.296875 \r\nQ 55.71875 13.875 49.015625 6.21875 \r\nQ 42.328125 -1.421875 30.609375 -1.421875 \r\nQ 18.84375 -1.421875 12.171875 6.21875 \r\nQ 5.515625 13.875 5.515625 27.296875 \r\nQ 5.515625 40.765625 12.171875 48.375 \r\nQ 18.84375 56 30.609375 56 \r\nz\r\n\" id=\"DejaVuSans-111\"/>\r\n      <path d=\"M 48.78125 52.59375 \r\nL 48.78125 44.1875 \r\nQ 44.96875 46.296875 41.140625 47.34375 \r\nQ 37.3125 48.390625 33.40625 48.390625 \r\nQ 24.65625 48.390625 19.8125 42.84375 \r\nQ 14.984375 37.3125 14.984375 27.296875 \r\nQ 14.984375 17.28125 19.8125 11.734375 \r\nQ 24.65625 6.203125 33.40625 6.203125 \r\nQ 37.3125 6.203125 41.140625 7.25 \r\nQ 44.96875 8.296875 48.78125 10.40625 \r\nL 48.78125 2.09375 \r\nQ 45.015625 0.34375 40.984375 -0.53125 \r\nQ 36.96875 -1.421875 32.421875 -1.421875 \r\nQ 20.0625 -1.421875 12.78125 6.34375 \r\nQ 5.515625 14.109375 5.515625 27.296875 \r\nQ 5.515625 40.671875 12.859375 48.328125 \r\nQ 20.21875 56 33.015625 56 \r\nQ 37.15625 56 41.109375 55.140625 \r\nQ 45.0625 54.296875 48.78125 52.59375 \r\nz\r\n\" id=\"DejaVuSans-99\"/>\r\n      <path d=\"M 54.890625 33.015625 \r\nL 54.890625 0 \r\nL 45.90625 0 \r\nL 45.90625 32.71875 \r\nQ 45.90625 40.484375 42.875 44.328125 \r\nQ 39.84375 48.1875 33.796875 48.1875 \r\nQ 26.515625 48.1875 22.3125 43.546875 \r\nQ 18.109375 38.921875 18.109375 30.90625 \r\nL 18.109375 0 \r\nL 9.078125 0 \r\nL 9.078125 75.984375 \r\nL 18.109375 75.984375 \r\nL 18.109375 46.1875 \r\nQ 21.34375 51.125 25.703125 53.5625 \r\nQ 30.078125 56 35.796875 56 \r\nQ 45.21875 56 50.046875 50.171875 \r\nQ 54.890625 44.34375 54.890625 33.015625 \r\nz\r\n\" id=\"DejaVuSans-104\"/>\r\n     </defs>\r\n     <g transform=\"translate(195.870313 268.034687)scale(0.1 -0.1)\">\r\n      <use xlink:href=\"#DejaVuSans-69\"/>\r\n      <use x=\"63.183594\" xlink:href=\"#DejaVuSans-112\"/>\r\n      <use x=\"126.660156\" xlink:href=\"#DejaVuSans-111\"/>\r\n      <use x=\"187.841797\" xlink:href=\"#DejaVuSans-99\"/>\r\n      <use x=\"242.822266\" xlink:href=\"#DejaVuSans-104\"/>\r\n     </g>\r\n    </g>\r\n   </g>\r\n   <g id=\"matplotlib.axis_2\">\r\n    <g id=\"ytick_1\">\r\n     <g id=\"line2d_24\">\r\n      <defs>\r\n       <path d=\"M 0 0 \r\nL -3.5 0 \r\n\" id=\"mf852bd9bd0\" style=\"stroke:#000000;stroke-width:0.8;\"/>\r\n      </defs>\r\n      <g>\r\n       <use style=\"stroke:#000000;stroke-width:0.8;\" x=\"43.78125\" xlink:href=\"#mf852bd9bd0\" y=\"214.519465\"/>\r\n      </g>\r\n     </g>\r\n     <g id=\"text_25\">\r\n      <!-- 0.3 -->\r\n      <defs>\r\n       <path d=\"M 10.6875 12.40625 \r\nL 21 12.40625 \r\nL 21 0 \r\nL 10.6875 0 \r\nz\r\n\" id=\"DejaVuSans-46\"/>\r\n      </defs>\r\n      <g transform=\"translate(20.878125 218.318684)scale(0.1 -0.1)\">\r\n       <use xlink:href=\"#DejaVuSans-48\"/>\r\n       <use x=\"63.623047\" xlink:href=\"#DejaVuSans-46\"/>\r\n       <use x=\"95.410156\" xlink:href=\"#DejaVuSans-51\"/>\r\n      </g>\r\n     </g>\r\n    </g>\r\n    <g id=\"ytick_2\">\r\n     <g id=\"line2d_25\">\r\n      <g>\r\n       <use style=\"stroke:#000000;stroke-width:0.8;\" x=\"43.78125\" xlink:href=\"#mf852bd9bd0\" y=\"184.795339\"/>\r\n      </g>\r\n     </g>\r\n     <g id=\"text_26\">\r\n      <!-- 0.4 -->\r\n      <g transform=\"translate(20.878125 188.594558)scale(0.1 -0.1)\">\r\n       <use xlink:href=\"#DejaVuSans-48\"/>\r\n       <use x=\"63.623047\" xlink:href=\"#DejaVuSans-46\"/>\r\n       <use x=\"95.410156\" xlink:href=\"#DejaVuSans-52\"/>\r\n      </g>\r\n     </g>\r\n    </g>\r\n    <g id=\"ytick_3\">\r\n     <g id=\"line2d_26\">\r\n      <g>\r\n       <use style=\"stroke:#000000;stroke-width:0.8;\" x=\"43.78125\" xlink:href=\"#mf852bd9bd0\" y=\"155.071214\"/>\r\n      </g>\r\n     </g>\r\n     <g id=\"text_27\">\r\n      <!-- 0.5 -->\r\n      <g transform=\"translate(20.878125 158.870432)scale(0.1 -0.1)\">\r\n       <use xlink:href=\"#DejaVuSans-48\"/>\r\n       <use x=\"63.623047\" xlink:href=\"#DejaVuSans-46\"/>\r\n       <use x=\"95.410156\" xlink:href=\"#DejaVuSans-53\"/>\r\n      </g>\r\n     </g>\r\n    </g>\r\n    <g id=\"ytick_4\">\r\n     <g id=\"line2d_27\">\r\n      <g>\r\n       <use style=\"stroke:#000000;stroke-width:0.8;\" x=\"43.78125\" xlink:href=\"#mf852bd9bd0\" y=\"125.347088\"/>\r\n      </g>\r\n     </g>\r\n     <g id=\"text_28\">\r\n      <!-- 0.6 -->\r\n      <g transform=\"translate(20.878125 129.146307)scale(0.1 -0.1)\">\r\n       <use xlink:href=\"#DejaVuSans-48\"/>\r\n       <use x=\"63.623047\" xlink:href=\"#DejaVuSans-46\"/>\r\n       <use x=\"95.410156\" xlink:href=\"#DejaVuSans-54\"/>\r\n      </g>\r\n     </g>\r\n    </g>\r\n    <g id=\"ytick_5\">\r\n     <g id=\"line2d_28\">\r\n      <g>\r\n       <use style=\"stroke:#000000;stroke-width:0.8;\" x=\"43.78125\" xlink:href=\"#mf852bd9bd0\" y=\"95.622963\"/>\r\n      </g>\r\n     </g>\r\n     <g id=\"text_29\">\r\n      <!-- 0.7 -->\r\n      <g transform=\"translate(20.878125 99.422181)scale(0.1 -0.1)\">\r\n       <use xlink:href=\"#DejaVuSans-48\"/>\r\n       <use x=\"63.623047\" xlink:href=\"#DejaVuSans-46\"/>\r\n       <use x=\"95.410156\" xlink:href=\"#DejaVuSans-55\"/>\r\n      </g>\r\n     </g>\r\n    </g>\r\n    <g id=\"ytick_6\">\r\n     <g id=\"line2d_29\">\r\n      <g>\r\n       <use style=\"stroke:#000000;stroke-width:0.8;\" x=\"43.78125\" xlink:href=\"#mf852bd9bd0\" y=\"65.898837\"/>\r\n      </g>\r\n     </g>\r\n     <g id=\"text_30\">\r\n      <!-- 0.8 -->\r\n      <g transform=\"translate(20.878125 69.698056)scale(0.1 -0.1)\">\r\n       <use xlink:href=\"#DejaVuSans-48\"/>\r\n       <use x=\"63.623047\" xlink:href=\"#DejaVuSans-46\"/>\r\n       <use x=\"95.410156\" xlink:href=\"#DejaVuSans-56\"/>\r\n      </g>\r\n     </g>\r\n    </g>\r\n    <g id=\"ytick_7\">\r\n     <g id=\"line2d_30\">\r\n      <g>\r\n       <use style=\"stroke:#000000;stroke-width:0.8;\" x=\"43.78125\" xlink:href=\"#mf852bd9bd0\" y=\"36.174712\"/>\r\n      </g>\r\n     </g>\r\n     <g id=\"text_31\">\r\n      <!-- 0.9 -->\r\n      <g transform=\"translate(20.878125 39.97393)scale(0.1 -0.1)\">\r\n       <use xlink:href=\"#DejaVuSans-48\"/>\r\n       <use x=\"63.623047\" xlink:href=\"#DejaVuSans-46\"/>\r\n       <use x=\"95.410156\" xlink:href=\"#DejaVuSans-57\"/>\r\n      </g>\r\n     </g>\r\n    </g>\r\n    <g id=\"text_32\">\r\n     <!-- loss -->\r\n     <defs>\r\n      <path d=\"M 9.421875 75.984375 \r\nL 18.40625 75.984375 \r\nL 18.40625 0 \r\nL 9.421875 0 \r\nz\r\n\" id=\"DejaVuSans-108\"/>\r\n      <path d=\"M 44.28125 53.078125 \r\nL 44.28125 44.578125 \r\nQ 40.484375 46.53125 36.375 47.5 \r\nQ 32.28125 48.484375 27.875 48.484375 \r\nQ 21.1875 48.484375 17.84375 46.4375 \r\nQ 14.5 44.390625 14.5 40.28125 \r\nQ 14.5 37.15625 16.890625 35.375 \r\nQ 19.28125 33.59375 26.515625 31.984375 \r\nL 29.59375 31.296875 \r\nQ 39.15625 29.25 43.1875 25.515625 \r\nQ 47.21875 21.78125 47.21875 15.09375 \r\nQ 47.21875 7.46875 41.1875 3.015625 \r\nQ 35.15625 -1.421875 24.609375 -1.421875 \r\nQ 20.21875 -1.421875 15.453125 -0.5625 \r\nQ 10.6875 0.296875 5.421875 2 \r\nL 5.421875 11.28125 \r\nQ 10.40625 8.6875 15.234375 7.390625 \r\nQ 20.0625 6.109375 24.8125 6.109375 \r\nQ 31.15625 6.109375 34.5625 8.28125 \r\nQ 37.984375 10.453125 37.984375 14.40625 \r\nQ 37.984375 18.0625 35.515625 20.015625 \r\nQ 33.0625 21.96875 24.703125 23.78125 \r\nL 21.578125 24.515625 \r\nQ 13.234375 26.265625 9.515625 29.90625 \r\nQ 5.8125 33.546875 5.8125 39.890625 \r\nQ 5.8125 47.609375 11.28125 51.796875 \r\nQ 16.75 56 26.8125 56 \r\nQ 31.78125 56 36.171875 55.265625 \r\nQ 40.578125 54.546875 44.28125 53.078125 \r\nz\r\n\" id=\"DejaVuSans-115\"/>\r\n     </defs>\r\n     <g transform=\"translate(14.798438 140.695937)rotate(-90)scale(0.1 -0.1)\">\r\n      <use xlink:href=\"#DejaVuSans-108\"/>\r\n      <use x=\"27.783203\" xlink:href=\"#DejaVuSans-111\"/>\r\n      <use x=\"88.964844\" xlink:href=\"#DejaVuSans-115\"/>\r\n      <use x=\"141.064453\" xlink:href=\"#DejaVuSans-115\"/>\r\n     </g>\r\n    </g>\r\n   </g>\r\n   <g id=\"line2d_31\">\r\n    <path clip-path=\"url(#pbff434526e)\" d=\"M 58.999432 32.201761 \r\nL 72.834143 86.435412 \r\nL 86.668853 130.864957 \r\nL 100.503564 152.842526 \r\nL 114.338275 186.114321 \r\nL 128.172986 223.329467 \r\nL 142.007696 185.405058 \r\nL 155.842407 187.536302 \r\nL 169.677118 193.06076 \r\nL 183.511829 200.290829 \r\nL 197.346539 229.874489 \r\nL 211.18125 208.643295 \r\nL 225.015961 183.122458 \r\nL 238.850671 195.876649 \r\nL 252.685382 185.818961 \r\nL 266.520093 219.773399 \r\nL 280.354804 196.850107 \r\nL 294.189514 226.301788 \r\nL 308.024225 184.920685 \r\nL 321.858936 195.788764 \r\nL 335.693647 202.517745 \r\nL 349.528357 188.090727 \r\nL 363.363068 187.577387 \r\n\" style=\"fill:none;stroke:#1f77b4;stroke-linecap:square;stroke-width:1.5;\"/>\r\n   </g>\r\n   <g id=\"patch_3\">\r\n    <path d=\"M 43.78125 239.758125 \r\nL 43.78125 22.318125 \r\n\" style=\"fill:none;stroke:#000000;stroke-linecap:square;stroke-linejoin:miter;stroke-width:0.8;\"/>\r\n   </g>\r\n   <g id=\"patch_4\">\r\n    <path d=\"M 378.58125 239.758125 \r\nL 378.58125 22.318125 \r\n\" style=\"fill:none;stroke:#000000;stroke-linecap:square;stroke-linejoin:miter;stroke-width:0.8;\"/>\r\n   </g>\r\n   <g id=\"patch_5\">\r\n    <path d=\"M 43.78125 239.758125 \r\nL 378.58125 239.758125 \r\n\" style=\"fill:none;stroke:#000000;stroke-linecap:square;stroke-linejoin:miter;stroke-width:0.8;\"/>\r\n   </g>\r\n   <g id=\"patch_6\">\r\n    <path d=\"M 43.78125 22.318125 \r\nL 378.58125 22.318125 \r\n\" style=\"fill:none;stroke:#000000;stroke-linecap:square;stroke-linejoin:miter;stroke-width:0.8;\"/>\r\n   </g>\r\n   <g id=\"text_33\">\r\n    <!-- val loss -->\r\n    <defs>\r\n     <path d=\"M 2.984375 54.6875 \r\nL 12.5 54.6875 \r\nL 29.59375 8.796875 \r\nL 46.6875 54.6875 \r\nL 56.203125 54.6875 \r\nL 35.6875 0 \r\nL 23.484375 0 \r\nz\r\n\" id=\"DejaVuSans-118\"/>\r\n     <path d=\"M 34.28125 27.484375 \r\nQ 23.390625 27.484375 19.1875 25 \r\nQ 14.984375 22.515625 14.984375 16.5 \r\nQ 14.984375 11.71875 18.140625 8.90625 \r\nQ 21.296875 6.109375 26.703125 6.109375 \r\nQ 34.1875 6.109375 38.703125 11.40625 \r\nQ 43.21875 16.703125 43.21875 25.484375 \r\nL 43.21875 27.484375 \r\nz\r\nM 52.203125 31.203125 \r\nL 52.203125 0 \r\nL 43.21875 0 \r\nL 43.21875 8.296875 \r\nQ 40.140625 3.328125 35.546875 0.953125 \r\nQ 30.953125 -1.421875 24.3125 -1.421875 \r\nQ 15.921875 -1.421875 10.953125 3.296875 \r\nQ 6 8.015625 6 15.921875 \r\nQ 6 25.140625 12.171875 29.828125 \r\nQ 18.359375 34.515625 30.609375 34.515625 \r\nL 43.21875 34.515625 \r\nL 43.21875 35.40625 \r\nQ 43.21875 41.609375 39.140625 45 \r\nQ 35.0625 48.390625 27.6875 48.390625 \r\nQ 23 48.390625 18.546875 47.265625 \r\nQ 14.109375 46.140625 10.015625 43.890625 \r\nL 10.015625 52.203125 \r\nQ 14.9375 54.109375 19.578125 55.046875 \r\nQ 24.21875 56 28.609375 56 \r\nQ 40.484375 56 46.34375 49.84375 \r\nQ 52.203125 43.703125 52.203125 31.203125 \r\nz\r\n\" id=\"DejaVuSans-97\"/>\r\n     <path id=\"DejaVuSans-32\"/>\r\n    </defs>\r\n    <g transform=\"translate(188.79 16.318125)scale(0.12 -0.12)\">\r\n     <use xlink:href=\"#DejaVuSans-118\"/>\r\n     <use x=\"59.179688\" xlink:href=\"#DejaVuSans-97\"/>\r\n     <use x=\"120.458984\" xlink:href=\"#DejaVuSans-108\"/>\r\n     <use x=\"148.242188\" xlink:href=\"#DejaVuSans-32\"/>\r\n     <use x=\"180.029297\" xlink:href=\"#DejaVuSans-108\"/>\r\n     <use x=\"207.8125\" xlink:href=\"#DejaVuSans-111\"/>\r\n     <use x=\"268.994141\" xlink:href=\"#DejaVuSans-115\"/>\r\n     <use x=\"321.09375\" xlink:href=\"#DejaVuSans-115\"/>\r\n    </g>\r\n   </g>\r\n   <g id=\"legend_1\">\r\n    <g id=\"patch_7\">\r\n     <path d=\"M 367.58125 35.318125 \r\nL 371.58125 35.318125 \r\nQ 373.58125 35.318125 373.58125 33.318125 \r\nL 373.58125 29.318125 \r\nQ 373.58125 27.318125 371.58125 27.318125 \r\nL 367.58125 27.318125 \r\nQ 365.58125 27.318125 365.58125 29.318125 \r\nL 365.58125 33.318125 \r\nQ 365.58125 35.318125 367.58125 35.318125 \r\nz\r\n\" style=\"fill:#ffffff;opacity:0.8;stroke:#cccccc;stroke-linejoin:miter;\"/>\r\n    </g>\r\n   </g>\r\n  </g>\r\n </g>\r\n <defs>\r\n  <clipPath id=\"pbff434526e\">\r\n   <rect height=\"217.44\" width=\"334.8\" x=\"43.78125\" y=\"22.318125\"/>\r\n  </clipPath>\r\n </defs>\r\n</svg>\r\n",
      "image/png": "[encoded data removed]"
     },
     "metadata": {
      "needs_background": "light"
     }
    }
   ],
   "source": [
    "m.plot_loss(val_loss,'val loss','Epoch', x_all=True)"
   ]
  },
  {
   "cell_type": "code",
   "execution_count": 19,
   "metadata": {},
   "outputs": [
    {
     "output_type": "stream",
     "name": "stdout",
     "text": "0.23974279   0.42692643\n"
    }
   ],
   "source": [
    "mu, std = data['y_train'].mean(), data['y_train'].std()\n",
    "print(mu, ' ', std)"
   ]
  },
  {
   "cell_type": "code",
   "execution_count": 20,
   "metadata": {},
   "outputs": [],
   "source": [
    "m.load_model('best')"
   ]
  },
  {
   "cell_type": "code",
   "execution_count": 21,
   "metadata": {},
   "outputs": [
    {
     "output_type": "execute_result",
     "data": {
      "text/plain": "1793"
     },
     "metadata": {},
     "execution_count": 21
    }
   ],
   "source": [
    "m.best_step"
   ]
  },
  {
   "cell_type": "code",
   "execution_count": 22,
   "metadata": {},
   "outputs": [
    {
     "output_type": "display_data",
     "data": {
      "text/plain": "HBox(children=(FloatProgress(value=0.0, description='0/1(e)', max=51.0, style=ProgressStyle(description_width=…",
      "application/vnd.jupyter.widget-view+json": {
       "version_major": 2,
       "version_minor": 0,
       "model_id": "bb285677691243f18e35dad53734c7a7"
      }
     },
     "metadata": {}
    },
    {
     "output_type": "stream",
     "name": "stdout",
     "text": "\n"
    }
   ],
   "source": [
    "m.trial.with_test_generator(t_loader)\n",
    "t = m.trial.evaluate(data_key=torchbearer.TEST_DATA)"
   ]
  },
  {
   "cell_type": "code",
   "execution_count": 23,
   "metadata": {},
   "outputs": [
    {
     "output_type": "execute_result",
     "data": {
      "text/plain": "{'test_loss': 0.34064555168151855, 'test_acc': 0.8438267707824707}"
     },
     "metadata": {},
     "execution_count": 23
    }
   ],
   "source": [
    "t"
   ]
  },
  {
   "cell_type": "code",
   "execution_count": 24,
   "metadata": {},
   "outputs": [
    {
     "output_type": "stream",
     "name": "stdout",
     "text": "0.1561732292175293\n"
    }
   ],
   "source": [
    "print(1-t['test_acc'])"
   ]
  },
  {
   "cell_type": "code",
   "execution_count": null,
   "metadata": {},
   "outputs": [],
   "source": []
  }
 ],
 "metadata": {
  "language_info": {
   "codemirror_mode": {
    "name": "ipython",
    "version": 3
   },
   "file_extension": ".py",
   "mimetype": "text/x-python",
   "name": "python",
   "nbconvert_exporter": "python",
   "pygments_lexer": "ipython3",
   "version": "3.8.2-final"
  },
  "orig_nbformat": 2,
  "kernelspec": {
   "name": "python3",
   "display_name": "Python 3"
  }
 },
 "nbformat": 4,
 "nbformat_minor": 2
}