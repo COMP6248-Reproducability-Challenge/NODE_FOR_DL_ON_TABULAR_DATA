{
 "cells": [
  {
   "cell_type": "code",
   "execution_count": 1,
   "metadata": {},
   "outputs": [],
   "source": [
    "from data_loader import download_data"
   ]
  },
  {
   "cell_type": "code",
   "execution_count": 2,
   "metadata": {},
   "outputs": [
    {
     "output_type": "stream",
     "name": "stdout",
     "text": "---loading:A9A---\nDownloading https://www.dropbox.com/s/9cqdx166iwonrj9/a9a?dl=1 > c:\\Users\\CXX\\Documents\\GitHub\\NODE_FOR_DL_ON_TABULAR_DATA\\dataset\\A9A\\train\n100%|██████████| 2329875/2329875 [00:02<00:00, 853160.76it/s]\nDownloading https://www.dropbox.com/s/sa0ds895c0v4xc6/a9a.t?dl=1 > c:\\Users\\CXX\\Documents\\GitHub\\NODE_FOR_DL_ON_TABULAR_DATA\\dataset\\A9A\\test\n100%|██████████| 1164628/1164628 [00:00<00:00, 12332685.02it/s]\nDownloading https://www.dropbox.com/s/xy4wwvutwikmtha/stratified_train_idx.txt?dl=1 > c:\\Users\\CXX\\Documents\\GitHub\\NODE_FOR_DL_ON_TABULAR_DATA\\dataset\\A9A\\train_idx.txt\n100%|██████████| 147389/147389 [00:00<00:00, 1018342.98it/s]\nDownloading https://www.dropbox.com/s/nthpxofymrais5s/stratified_test_idx.txt?dl=1 > c:\\Users\\CXX\\Documents\\GitHub\\NODE_FOR_DL_ON_TABULAR_DATA\\dataset\\A9A\\valid_idx.txt\n100%|██████████| 36865/36865 [00:00<00:00, 1529663.91it/s]\n---loading:EPSILON---\nDownloading https://www.csie.ntu.edu.tw/~cjlin/libsvmtools/datasets/binary/epsilon_normalized.bz2 > c:\\Users\\CXX\\Documents\\GitHub\\NODE_FOR_DL_ON_TABULAR_DATA\\dataset\\EPSILON\\train_archive.bz2\n100%|██████████| 3871424303/3871424303 [09:37<00:00, 6706784.77it/s]\nDownloading https://www.csie.ntu.edu.tw/~cjlin/libsvmtools/datasets/binary/epsilon_normalized.t.bz2 > c:\\Users\\CXX\\Documents\\GitHub\\NODE_FOR_DL_ON_TABULAR_DATA\\dataset\\EPSILON\\test_archive.bz2\n100%|██████████| 967869384/967869384 [03:25<00:00, 4706627.09it/s]\nDownloading https://www.dropbox.com/s/wxgm94gvm6d3xn5/stratified_train_idx.txt?dl=1 > c:\\Users\\CXX\\Documents\\GitHub\\NODE_FOR_DL_ON_TABULAR_DATA\\dataset\\EPSILON\\train_idx.txt\n100%|██████████| 2151105/2151105 [00:00<00:00, 10388532.24it/s]\nDownloading https://www.dropbox.com/s/fm4llo5uucdglti/stratified_valid_idx.txt?dl=1 > c:\\Users\\CXX\\Documents\\GitHub\\NODE_FOR_DL_ON_TABULAR_DATA\\dataset\\EPSILON\\valid_idx.txt\n100%|██████████| 537783/537783 [00:00<00:00, 759511.77it/s]\n---loading:PROTEIN---\nDownloading https://www.dropbox.com/s/pflp4vftdj3qzbj/protein.tr?dl=1 > c:\\Users\\CXX\\Documents\\GitHub\\NODE_FOR_DL_ON_TABULAR_DATA\\dataset\\PROTEIN\\train\n100%|██████████| 15634775/15634775 [00:21<00:00, 736908.85it/s]\nDownloading https://www.dropbox.com/s/z7i5n0xdcw57weh/protein.t?dl=1 > c:\\Users\\CXX\\Documents\\GitHub\\NODE_FOR_DL_ON_TABULAR_DATA\\dataset\\PROTEIN\\test\n100%|██████████| 6178923/6178923 [00:08<00:00, 724803.24it/s]\nDownloading https://www.dropbox.com/s/wq2v9hl1wxfufs3/small_stratified_train_idx.txt?dl=1 > c:\\Users\\CXX\\Documents\\GitHub\\NODE_FOR_DL_ON_TABULAR_DATA\\dataset\\PROTEIN\\train_idx.txt\n100%|██████████| 62622/62622 [00:00<00:00, 999371.07it/s]\nDownloading https://www.dropbox.com/s/7o9el8pp1bvyy22/small_stratified_valid_idx.txt?dl=1 > c:\\Users\\CXX\\Documents\\GitHub\\NODE_FOR_DL_ON_TABULAR_DATA\\dataset\\PROTEIN\\valid_idx.txt\n100%|██████████| 15636/15636 [00:00<00:00, 7833509.00it/s]\n---loading:YEAR---\nDownloading https://www.dropbox.com/s/l09pug0ywaqsy0e/YearPredictionMSD.txt?dl=1 > c:\\Users\\CXX\\Documents\\GitHub\\NODE_FOR_DL_ON_TABULAR_DATA\\dataset\\YEAR\\data.txt\n100%|██████████| 448576698/448576698 [01:07<00:00, 6692681.87it/s]\nDownloading https://www.dropbox.com/s/00u6cnj9mthvzj1/stratified_train_idx.txt?dl=1 > c:\\Users\\CXX\\Documents\\GitHub\\NODE_FOR_DL_ON_TABULAR_DATA\\dataset\\YEAR\\train_idx.txt\n100%|██████████| 2507989/2507989 [00:03<00:00, 745103.55it/s]\nDownloading https://www.dropbox.com/s/420uhjvjab1bt7k/stratified_valid_idx.txt?dl=1 > c:\\Users\\CXX\\Documents\\GitHub\\NODE_FOR_DL_ON_TABULAR_DATA\\dataset\\YEAR\\valid_idx.txt\n100%|██████████| 626904/626904 [00:00<00:00, 790303.52it/s]\n---loading:HIGGS---\nDownloading https://archive.ics.uci.edu/ml/machine-learning-databases/00280/HIGGS.csv.gz > c:\\Users\\CXX\\Documents\\GitHub\\NODE_FOR_DL_ON_TABULAR_DATA\\dataset\\HIGGS\\data_archive.csv.gz\n100%|██████████| 2816407858/2816407858 [06:54<00:00, 6795426.41it/s]\nDownloading https://www.dropbox.com/s/i2uekmwqnp9r4ix/stratified_train_idx.txt?dl=1 > c:\\Users\\CXX\\Documents\\GitHub\\NODE_FOR_DL_ON_TABULAR_DATA\\dataset\\HIGGS\\train_idx.txt\n100%|██████████| 66711122/66711122 [01:14<00:00, 894817.78it/s]\nDownloading https://www.dropbox.com/s/wkbk74orytmb2su/stratified_valid_idx.txt?dl=1 > c:\\Users\\CXX\\Documents\\GitHub\\NODE_FOR_DL_ON_TABULAR_DATA\\dataset\\HIGGS\\valid_idx.txt\n100%|██████████| 16677766/16677766 [00:18<00:00, 894575.95it/s]\n---loading:MICROSOFT---\nDownloading https://www.dropbox.com/s/izpty5feug57kqn/msrank_train.tsv?dl=1 > c:\\Users\\CXX\\Documents\\GitHub\\NODE_FOR_DL_ON_TABULAR_DATA\\dataset\\MICROSOFT\\train.tsv\n100%|██████████| 724668170/724668170 [10:07<00:00, 1193720.26it/s]\nDownloading https://www.dropbox.com/s/tlsmm9a6krv0215/msrank_test.tsv?dl=1 > c:\\Users\\CXX\\Documents\\GitHub\\NODE_FOR_DL_ON_TABULAR_DATA\\dataset\\MICROSOFT\\test.tsv\n100%|██████████| 241649037/241649037 [02:18<00:00, 1747512.02it/s]\nDownloading https://www.dropbox.com/s/pba6dyibyogep46/train_idx.txt?dl=1 > c:\\Users\\CXX\\Documents\\GitHub\\NODE_FOR_DL_ON_TABULAR_DATA\\dataset\\MICROSOFT\\train_idx.txt\n100%|██████████| 3974680/3974680 [00:00<00:00, 10792145.86it/s]\nDownloading https://www.dropbox.com/s/yednqu9edgdd2l1/valid_idx.txt?dl=1 > c:\\Users\\CXX\\Documents\\GitHub\\NODE_FOR_DL_ON_TABULAR_DATA\\dataset\\MICROSOFT\\valid_idx.txt\n100%|██████████| 978092/978092 [00:00<00:00, 5228597.60it/s]\n---loading:YAHOO---\nDownloading https://www.dropbox.com/s/7rq3ki5vtxm6gzx/yahoo_set_1_train.gz?dl=1 > c:\\Users\\CXX\\Documents\\GitHub\\NODE_FOR_DL_ON_TABULAR_DATA\\dataset\\YAHOO\\train_archive.gz\n100%|██████████| 337634490/337634490 [00:46<00:00, 7239636.40it/s]\nDownloading https://www.dropbox.com/s/3ai8rxm1v0l5sd1/yahoo_set_1_validation.gz?dl=1 > c:\\Users\\CXX\\Documents\\GitHub\\NODE_FOR_DL_ON_TABULAR_DATA\\dataset\\YAHOO\\valid_archive.gz\n100%|██████████| 50718132/50718132 [00:06<00:00, 8288228.50it/s]\nDownloading https://www.dropbox.com/s/3d7tdfb1an0b6i4/yahoo_set_1_test.gz?dl=1 > c:\\Users\\CXX\\Documents\\GitHub\\NODE_FOR_DL_ON_TABULAR_DATA\\dataset\\YAHOO\\test_archive.gz\n100%|██████████| 118491838/118491838 [01:07<00:00, 1760163.14it/s]\n---loading:CLICK---\nDownloading https://www.dropbox.com/s/w43ylgrl331svqc/click.csv?dl=1 > c:\\Users\\CXX\\Documents\\GitHub\\NODE_FOR_DL_ON_TABULAR_DATA\\dataset\\CLICK\\data_csv.csv\n100%|██████████| 115752027/115752027 [00:15<00:00, 7283647.77it/s]\n"
    }
   ],
   "source": [
    "for name in ['A9A','EPSILON','PROTEIN','YEAR','HIGGS','MICROSOFT','YAHOO','CLICK']:\n",
    "    download_data(name)"
   ]
  },
  {
   "cell_type": "code",
   "execution_count": 1,
   "metadata": {},
   "outputs": [],
   "source": [
    "from data_loader import data_processing\n",
    "year = data_processing('YEAR',random_state=123)"
   ]
  }
 ],
 "metadata": {
  "language_info": {
   "codemirror_mode": {
    "name": "ipython",
    "version": 3
   },
   "file_extension": ".py",
   "mimetype": "text/x-python",
   "name": "python",
   "nbconvert_exporter": "python",
   "pygments_lexer": "ipython3",
   "version": "3.8.2-final"
  },
  "orig_nbformat": 2,
  "kernelspec": {
   "name": "python3",
   "display_name": "Python 3"
  }
 },
 "nbformat": 4,
 "nbformat_minor": 2
}