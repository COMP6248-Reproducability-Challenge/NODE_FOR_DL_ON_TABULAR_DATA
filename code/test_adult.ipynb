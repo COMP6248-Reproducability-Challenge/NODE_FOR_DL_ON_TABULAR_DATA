{
 "cells": [
  {
   "cell_type": "code",
   "execution_count": 1,
   "metadata": {},
   "outputs": [],
   "source": [
    "import os\n",
    "data_name = 'ADULT'\n",
    "trial_name ='ADULT_t1'\n",
    "log_path = os.path.join('logs',trial_name)\n",
    "device ='cuda:0'"
   ]
  },
  {
   "cell_type": "code",
   "execution_count": 2,
   "metadata": {},
   "outputs": [],
   "source": [
    "from data_loader import data_processing\n",
    "data = data_processing(data_name,random_state=123)"
   ]
  },
  {
   "cell_type": "code",
   "execution_count": 3,
   "metadata": {},
   "outputs": [],
   "source": [
    "import pandas as pd\n",
    "import os\n",
    "path = 'saved_data'\n",
    "if os.path.exists(path) != True:\n",
    "    os.mkdir(path)\n",
    "saved_folder =  os.path.join(path, data_name)\n",
    "\n",
    "if os.path.exists(saved_folder) != True:\n",
    "    os.mkdir(saved_folder)"
   ]
  },
  {
   "cell_type": "code",
   "execution_count": 4,
   "metadata": {},
   "outputs": [],
   "source": [
    "pd.to_pickle(data, os.path.join( saved_folder, data_name +'.all'))"
   ]
  },
  {
   "cell_type": "code",
   "execution_count": 5,
   "metadata": {},
   "outputs": [],
   "source": [
    "data = pd.read_pickle(os.path.join( saved_folder, data_name +'.all'))"
   ]
  },
  {
   "cell_type": "code",
   "execution_count": 6,
   "metadata": {},
   "outputs": [
    {
     "output_type": "stream",
     "name": "stdout",
     "text": "14\n"
    }
   ],
   "source": [
    "from net import DenseBlock\n",
    "from nn_utils import entmax15,entmoid15,Lambda\n",
    "from torch import nn\n",
    "\n",
    "in_features = data['X_train'].shape[1]\n",
    "print(in_features)\n",
    "\n",
    "model = nn.Sequential(\n",
    "    DenseBlock(in_features, 256, num_layers=8, tree_dim=3, depth=6, flatten = False,\n",
    "                   choice_function= entmax15, bin_function= entmoid15),\n",
    "    Lambda(lambda x: x.mean(dim=-2)),\n",
    ").to(device)"
   ]
  },
  {
   "cell_type": "code",
   "execution_count": 7,
   "metadata": {},
   "outputs": [],
   "source": [
    "from qhoptim.pyt import QHAdam\n",
    "opt_params = { 'nus':(0.7, 1.0), 'betas':(0.95, 0.998) }"
   ]
  },
  {
   "cell_type": "code",
   "execution_count": 22,
   "metadata": {},
   "outputs": [],
   "source": [
    "import torchbearer\n",
    "import torch\n",
    "from torchbearer import Trial\n",
    "from torchbearer.callbacks.decorators import on_end_epoch\n",
    "from torchbearer.callbacks.decorators import on_backward\n",
    "from torchbearer.callbacks.decorators import on_end_validation\n",
    "from torchbearer.callbacks.decorators import on_start_validation\n",
    "from torch.utils.tensorboard import SummaryWriter\n",
    "import os\n",
    "from trial import eval_model\n",
    "import torch.nn.functional as F\n",
    "\n",
    "def cross_entropy(X,y):\n",
    "    return F.cross_entropy(X,y.long())\n",
    "m = eval_model(model,loss_f=cross_entropy,device=device,metrics=['loss','accuracy'], opt =QHAdam, trial_name=trial_name, opt_params=opt_params)\n",
    "\n",
    "writer = SummaryWriter(os.path.join('writer',data_name),filename_suffix='.loss')\n",
    "loss_his,val_loss = [],[]\n",
    "settings = { 'stop_rounds':5000, 'best_step': 0,'c_val_loss': 1,}\n",
    "@on_backward\n",
    "def save_loss(state):\n",
    "    tem = state[torchbearer.LOSS].data\n",
    "    writer.add_scalar('Loss/train', tem, len(loss_his))\n",
    "    loss_his.append(tem)\n",
    "    if len(loss_his) > settings['stop_rounds']  + settings['best_step']:\n",
    "        state[torchbearer.STOP_TRAINING] = True \n",
    "        print('No improvement, stop early!')\n",
    "\n",
    "@on_end_validation\n",
    "def best_mse(state):\n",
    "    tem = state[torchbearer.LOSS].data\n",
    "    writer.add_scalar('Loss/val',tem, len(val_loss))\n",
    "    val_loss.append(tem)\n",
    "    if settings['c_val_loss'] > tem.cpu():\n",
    "        settings['c_val_loss'] = tem.cpu()\n",
    "        settings['best_step'] = len(loss_his)\n",
    "        m.best_step = len(loss_his)\n",
    "        m.save_model('best_mse')\n",
    "m.call_backs = [save_loss, best_mse]\n",
    "m.init_trial()"
   ]
  },
  {
   "cell_type": "code",
   "execution_count": 9,
   "metadata": {},
   "outputs": [
    {
     "output_type": "stream",
     "name": "stdout",
     "text": "train data: 20839\nval data: 5210\ntest data: 6512\n"
    }
   ],
   "source": [
    "from data_set import MyDataset\n",
    "params = {'batch_size': 512,\n",
    "          'shuffle': True,}\n",
    "          #'num_workers': 6}\n",
    "\n",
    "test = MyDataset(data)\n",
    "test.quantile_transform(noise=1e-3,random_state=1337)\n",
    "#test.normalised()\n",
    "tr_loader = test.get_loader('train', params)\n",
    "val_loader = test.get_loader('vaild',{'batch_size': 200})\n",
    "t_loader = test.get_loader('test', params)\n",
    "print('train data:', len(tr_loader.dataset))\n",
    "print('val data:', len(val_loader.dataset))\n",
    "print('test data:', len(t_loader.dataset))"
   ]
  },
  {
   "cell_type": "code",
   "execution_count": 10,
   "metadata": {},
   "outputs": [],
   "source": [
    "torch.save(tr_loader, os.path.join(saved_folder,'tr_'))\n",
    "torch.save(val_loader, os.path.join(saved_folder,'val_'))\n",
    "torch.save(t_loader,os.path.join(saved_folder,'t_'))"
   ]
  },
  {
   "cell_type": "code",
   "execution_count": 11,
   "metadata": {},
   "outputs": [],
   "source": [
    "tr_loader = torch.load(os.path.join(saved_folder,'tr_'))\n",
    "val_loader = torch.load(os.path.join(saved_folder,'val_'))\n",
    "t_loader = torch.load(os.path.join(saved_folder,'t_'))"
   ]
  },
  {
   "cell_type": "code",
   "execution_count": 23,
   "metadata": {},
   "outputs": [
    {
     "output_type": "display_data",
     "data": {
      "text/plain": "HBox(children=(FloatProgress(value=0.0, description='0/50(t)', max=41.0, style=ProgressStyle(description_width…",
      "application/vnd.jupyter.widget-view+json": {
       "version_major": 2,
       "version_minor": 0,
       "model_id": "3d8dd2e04a734770a0d7ad0c0236b3f5"
      }
     },
     "metadata": {}
    },
    {
     "output_type": "stream",
     "name": "stdout",
     "text": "\n"
    },
    {
     "output_type": "display_data",
     "data": {
      "text/plain": "HBox(children=(FloatProgress(value=0.0, description='0/50(v)', max=27.0, style=ProgressStyle(description_width…",
      "application/vnd.jupyter.widget-view+json": {
       "version_major": 2,
       "version_minor": 0,
       "model_id": "6508e2b115eb417d9c65391f1711ade6"
      }
     },
     "metadata": {}
    },
    {
     "output_type": "stream",
     "name": "stdout",
     "text": "\n"
    },
    {
     "output_type": "display_data",
     "data": {
      "text/plain": "HBox(children=(FloatProgress(value=0.0, description='1/50(t)', max=41.0, style=ProgressStyle(description_width…",
      "application/vnd.jupyter.widget-view+json": {
       "version_major": 2,
       "version_minor": 0,
       "model_id": "a8c3638c88f34ed49ff234d965c459ee"
      }
     },
     "metadata": {}
    },
    {
     "output_type": "stream",
     "name": "stdout",
     "text": "\n"
    },
    {
     "output_type": "display_data",
     "data": {
      "text/plain": "HBox(children=(FloatProgress(value=0.0, description='1/50(v)', max=27.0, style=ProgressStyle(description_width…",
      "application/vnd.jupyter.widget-view+json": {
       "version_major": 2,
       "version_minor": 0,
       "model_id": "260e3bccb18e4b16a9ca3f4462321d70"
      }
     },
     "metadata": {}
    },
    {
     "output_type": "stream",
     "name": "stdout",
     "text": "\n"
    },
    {
     "output_type": "display_data",
     "data": {
      "text/plain": "HBox(children=(FloatProgress(value=0.0, description='2/50(t)', max=41.0, style=ProgressStyle(description_width…",
      "application/vnd.jupyter.widget-view+json": {
       "version_major": 2,
       "version_minor": 0,
       "model_id": "07b1c9ef63e14e13b9b10e245db3189e"
      }
     },
     "metadata": {}
    },
    {
     "output_type": "stream",
     "name": "stdout",
     "text": "\n"
    },
    {
     "output_type": "display_data",
     "data": {
      "text/plain": "HBox(children=(FloatProgress(value=0.0, description='2/50(v)', max=27.0, style=ProgressStyle(description_width…",
      "application/vnd.jupyter.widget-view+json": {
       "version_major": 2,
       "version_minor": 0,
       "model_id": "27595ee27e6644968bd4a08a53514957"
      }
     },
     "metadata": {}
    },
    {
     "output_type": "stream",
     "name": "stdout",
     "text": "\n"
    },
    {
     "output_type": "display_data",
     "data": {
      "text/plain": "HBox(children=(FloatProgress(value=0.0, description='3/50(t)', max=41.0, style=ProgressStyle(description_width…",
      "application/vnd.jupyter.widget-view+json": {
       "version_major": 2,
       "version_minor": 0,
       "model_id": "48713b6c6c144183b73ff12abc6ec5ae"
      }
     },
     "metadata": {}
    },
    {
     "output_type": "stream",
     "name": "stdout",
     "text": "\n"
    },
    {
     "output_type": "display_data",
     "data": {
      "text/plain": "HBox(children=(FloatProgress(value=0.0, description='3/50(v)', max=27.0, style=ProgressStyle(description_width…",
      "application/vnd.jupyter.widget-view+json": {
       "version_major": 2,
       "version_minor": 0,
       "model_id": "f035b32f26434f4eb3ddbeae1324a454"
      }
     },
     "metadata": {}
    },
    {
     "output_type": "stream",
     "name": "stdout",
     "text": "\n"
    },
    {
     "output_type": "display_data",
     "data": {
      "text/plain": "HBox(children=(FloatProgress(value=0.0, description='4/50(t)', max=41.0, style=ProgressStyle(description_width…",
      "application/vnd.jupyter.widget-view+json": {
       "version_major": 2,
       "version_minor": 0,
       "model_id": "5404ece74330469d9dff798cc01cf51b"
      }
     },
     "metadata": {}
    },
    {
     "output_type": "stream",
     "name": "stdout",
     "text": "\n"
    },
    {
     "output_type": "display_data",
     "data": {
      "text/plain": "HBox(children=(FloatProgress(value=0.0, description='4/50(v)', max=27.0, style=ProgressStyle(description_width…",
      "application/vnd.jupyter.widget-view+json": {
       "version_major": 2,
       "version_minor": 0,
       "model_id": "7b6c2ccada53474289af0d8dcf4c0905"
      }
     },
     "metadata": {}
    },
    {
     "output_type": "stream",
     "name": "stdout",
     "text": "\n"
    },
    {
     "output_type": "display_data",
     "data": {
      "text/plain": "HBox(children=(FloatProgress(value=0.0, description='5/50(t)', max=41.0, style=ProgressStyle(description_width…",
      "application/vnd.jupyter.widget-view+json": {
       "version_major": 2,
       "version_minor": 0,
       "model_id": "d972b1e2985448578dac6363efe5f222"
      }
     },
     "metadata": {}
    },
    {
     "output_type": "stream",
     "name": "stdout",
     "text": "\n"
    },
    {
     "output_type": "display_data",
     "data": {
      "text/plain": "HBox(children=(FloatProgress(value=0.0, description='5/50(v)', max=27.0, style=ProgressStyle(description_width…",
      "application/vnd.jupyter.widget-view+json": {
       "version_major": 2,
       "version_minor": 0,
       "model_id": "aed54f9b628941b49b643492176caec9"
      }
     },
     "metadata": {}
    },
    {
     "output_type": "stream",
     "name": "stdout",
     "text": "\n"
    },
    {
     "output_type": "display_data",
     "data": {
      "text/plain": "HBox(children=(FloatProgress(value=0.0, description='6/50(t)', max=41.0, style=ProgressStyle(description_width…",
      "application/vnd.jupyter.widget-view+json": {
       "version_major": 2,
       "version_minor": 0,
       "model_id": "f9eca697b9964ab097b3b0e215b1bf3f"
      }
     },
     "metadata": {}
    },
    {
     "output_type": "stream",
     "name": "stdout",
     "text": "\n"
    },
    {
     "output_type": "display_data",
     "data": {
      "text/plain": "HBox(children=(FloatProgress(value=0.0, description='6/50(v)', max=27.0, style=ProgressStyle(description_width…",
      "application/vnd.jupyter.widget-view+json": {
       "version_major": 2,
       "version_minor": 0,
       "model_id": "d7f80d7e382443119db1dd7855bcaee0"
      }
     },
     "metadata": {}
    },
    {
     "output_type": "stream",
     "name": "stdout",
     "text": "\n"
    },
    {
     "output_type": "display_data",
     "data": {
      "text/plain": "HBox(children=(FloatProgress(value=0.0, description='7/50(t)', max=41.0, style=ProgressStyle(description_width…",
      "application/vnd.jupyter.widget-view+json": {
       "version_major": 2,
       "version_minor": 0,
       "model_id": "a3d046a1b86b4f81a1c111baa0686bf2"
      }
     },
     "metadata": {}
    },
    {
     "output_type": "stream",
     "name": "stdout",
     "text": "\n"
    },
    {
     "output_type": "display_data",
     "data": {
      "text/plain": "HBox(children=(FloatProgress(value=0.0, description='7/50(v)', max=27.0, style=ProgressStyle(description_width…",
      "application/vnd.jupyter.widget-view+json": {
       "version_major": 2,
       "version_minor": 0,
       "model_id": "d3735ebe56a54dad9b6435d36c50f42d"
      }
     },
     "metadata": {}
    },
    {
     "output_type": "stream",
     "name": "stdout",
     "text": "\n"
    },
    {
     "output_type": "display_data",
     "data": {
      "text/plain": "HBox(children=(FloatProgress(value=0.0, description='8/50(t)', max=41.0, style=ProgressStyle(description_width…",
      "application/vnd.jupyter.widget-view+json": {
       "version_major": 2,
       "version_minor": 0,
       "model_id": "12ca0c050db74977b29789b011df201b"
      }
     },
     "metadata": {}
    },
    {
     "output_type": "stream",
     "name": "stdout",
     "text": "\n"
    },
    {
     "output_type": "display_data",
     "data": {
      "text/plain": "HBox(children=(FloatProgress(value=0.0, description='8/50(v)', max=27.0, style=ProgressStyle(description_width…",
      "application/vnd.jupyter.widget-view+json": {
       "version_major": 2,
       "version_minor": 0,
       "model_id": "692f91fa06194266ac51fc74e3e838b7"
      }
     },
     "metadata": {}
    },
    {
     "output_type": "stream",
     "name": "stdout",
     "text": "\n"
    },
    {
     "output_type": "display_data",
     "data": {
      "text/plain": "HBox(children=(FloatProgress(value=0.0, description='9/50(t)', max=41.0, style=ProgressStyle(description_width…",
      "application/vnd.jupyter.widget-view+json": {
       "version_major": 2,
       "version_minor": 0,
       "model_id": "3ce4f7c98cf643b9a8cc19f2a126cfbf"
      }
     },
     "metadata": {}
    },
    {
     "output_type": "stream",
     "name": "stdout",
     "text": "\n"
    },
    {
     "output_type": "display_data",
     "data": {
      "text/plain": "HBox(children=(FloatProgress(value=0.0, description='9/50(v)', max=27.0, style=ProgressStyle(description_width…",
      "application/vnd.jupyter.widget-view+json": {
       "version_major": 2,
       "version_minor": 0,
       "model_id": "062af5f37cdd47c2acc8107bfa1e958e"
      }
     },
     "metadata": {}
    },
    {
     "output_type": "stream",
     "name": "stdout",
     "text": "\n"
    },
    {
     "output_type": "display_data",
     "data": {
      "text/plain": "HBox(children=(FloatProgress(value=0.0, description='10/50(t)', max=41.0, style=ProgressStyle(description_widt…",
      "application/vnd.jupyter.widget-view+json": {
       "version_major": 2,
       "version_minor": 0,
       "model_id": "92185846d9b7459ab67e68ae1246ae7d"
      }
     },
     "metadata": {}
    },
    {
     "output_type": "stream",
     "name": "stdout",
     "text": "\n"
    },
    {
     "output_type": "display_data",
     "data": {
      "text/plain": "HBox(children=(FloatProgress(value=0.0, description='10/50(v)', max=27.0, style=ProgressStyle(description_widt…",
      "application/vnd.jupyter.widget-view+json": {
       "version_major": 2,
       "version_minor": 0,
       "model_id": "e79b70a932fa4d49a16740e2ddc3506c"
      }
     },
     "metadata": {}
    },
    {
     "output_type": "stream",
     "name": "stdout",
     "text": "\n"
    },
    {
     "output_type": "display_data",
     "data": {
      "text/plain": "HBox(children=(FloatProgress(value=0.0, description='11/50(t)', max=41.0, style=ProgressStyle(description_widt…",
      "application/vnd.jupyter.widget-view+json": {
       "version_major": 2,
       "version_minor": 0,
       "model_id": "8d5f10b9f3ec4fa987b0894f1071fdd0"
      }
     },
     "metadata": {}
    },
    {
     "output_type": "stream",
     "name": "stdout",
     "text": "\n"
    },
    {
     "output_type": "display_data",
     "data": {
      "text/plain": "HBox(children=(FloatProgress(value=0.0, description='11/50(v)', max=27.0, style=ProgressStyle(description_widt…",
      "application/vnd.jupyter.widget-view+json": {
       "version_major": 2,
       "version_minor": 0,
       "model_id": "f390575778e64bde80411708b1adb806"
      }
     },
     "metadata": {}
    },
    {
     "output_type": "stream",
     "name": "stdout",
     "text": "\n"
    },
    {
     "output_type": "display_data",
     "data": {
      "text/plain": "HBox(children=(FloatProgress(value=0.0, description='12/50(t)', max=41.0, style=ProgressStyle(description_widt…",
      "application/vnd.jupyter.widget-view+json": {
       "version_major": 2,
       "version_minor": 0,
       "model_id": "c7f5bc232dd54746a1c62168e5ac580e"
      }
     },
     "metadata": {}
    },
    {
     "output_type": "stream",
     "name": "stdout",
     "text": "\n"
    },
    {
     "output_type": "display_data",
     "data": {
      "text/plain": "HBox(children=(FloatProgress(value=0.0, description='12/50(v)', max=27.0, style=ProgressStyle(description_widt…",
      "application/vnd.jupyter.widget-view+json": {
       "version_major": 2,
       "version_minor": 0,
       "model_id": "cf967bb11940478fb09c339c23acf10c"
      }
     },
     "metadata": {}
    },
    {
     "output_type": "stream",
     "name": "stdout",
     "text": "\n"
    },
    {
     "output_type": "display_data",
     "data": {
      "text/plain": "HBox(children=(FloatProgress(value=0.0, description='13/50(t)', max=41.0, style=ProgressStyle(description_widt…",
      "application/vnd.jupyter.widget-view+json": {
       "version_major": 2,
       "version_minor": 0,
       "model_id": "59bfc20d86f64c69a6f8a4233556ceba"
      }
     },
     "metadata": {}
    },
    {
     "output_type": "stream",
     "name": "stdout",
     "text": "\n"
    },
    {
     "output_type": "display_data",
     "data": {
      "text/plain": "HBox(children=(FloatProgress(value=0.0, description='13/50(v)', max=27.0, style=ProgressStyle(description_widt…",
      "application/vnd.jupyter.widget-view+json": {
       "version_major": 2,
       "version_minor": 0,
       "model_id": "ed0d787b06204186993934b7d72bba4e"
      }
     },
     "metadata": {}
    },
    {
     "output_type": "stream",
     "name": "stdout",
     "text": "\n"
    },
    {
     "output_type": "display_data",
     "data": {
      "text/plain": "HBox(children=(FloatProgress(value=0.0, description='14/50(t)', max=41.0, style=ProgressStyle(description_widt…",
      "application/vnd.jupyter.widget-view+json": {
       "version_major": 2,
       "version_minor": 0,
       "model_id": "628d89a8f66d445b92dd4c31f0af5b5d"
      }
     },
     "metadata": {}
    },
    {
     "output_type": "stream",
     "name": "stdout",
     "text": "\n"
    },
    {
     "output_type": "display_data",
     "data": {
      "text/plain": "HBox(children=(FloatProgress(value=0.0, description='14/50(v)', max=27.0, style=ProgressStyle(description_widt…",
      "application/vnd.jupyter.widget-view+json": {
       "version_major": 2,
       "version_minor": 0,
       "model_id": "a6a36b70d948494783c74211d3be62a0"
      }
     },
     "metadata": {}
    },
    {
     "output_type": "stream",
     "name": "stdout",
     "text": "\n"
    },
    {
     "output_type": "display_data",
     "data": {
      "text/plain": "HBox(children=(FloatProgress(value=0.0, description='15/50(t)', max=41.0, style=ProgressStyle(description_widt…",
      "application/vnd.jupyter.widget-view+json": {
       "version_major": 2,
       "version_minor": 0,
       "model_id": "cd8acc4e60cf4130ad931308e22ad61d"
      }
     },
     "metadata": {}
    },
    {
     "output_type": "stream",
     "name": "stdout",
     "text": "\n"
    },
    {
     "output_type": "display_data",
     "data": {
      "text/plain": "HBox(children=(FloatProgress(value=0.0, description='15/50(v)', max=27.0, style=ProgressStyle(description_widt…",
      "application/vnd.jupyter.widget-view+json": {
       "version_major": 2,
       "version_minor": 0,
       "model_id": "a3585aef609f48f1be001244e31be981"
      }
     },
     "metadata": {}
    },
    {
     "output_type": "stream",
     "name": "stdout",
     "text": "\n"
    },
    {
     "output_type": "display_data",
     "data": {
      "text/plain": "HBox(children=(FloatProgress(value=0.0, description='16/50(t)', max=41.0, style=ProgressStyle(description_widt…",
      "application/vnd.jupyter.widget-view+json": {
       "version_major": 2,
       "version_minor": 0,
       "model_id": "3f448a61a34e4d6a80dc772e69575fdd"
      }
     },
     "metadata": {}
    },
    {
     "output_type": "stream",
     "name": "stdout",
     "text": "\n"
    },
    {
     "output_type": "display_data",
     "data": {
      "text/plain": "HBox(children=(FloatProgress(value=0.0, description='16/50(v)', max=27.0, style=ProgressStyle(description_widt…",
      "application/vnd.jupyter.widget-view+json": {
       "version_major": 2,
       "version_minor": 0,
       "model_id": "4be063fed9ae40729e058870ff6de24b"
      }
     },
     "metadata": {}
    },
    {
     "output_type": "stream",
     "name": "stdout",
     "text": "\n"
    },
    {
     "output_type": "display_data",
     "data": {
      "text/plain": "HBox(children=(FloatProgress(value=0.0, description='17/50(t)', max=41.0, style=ProgressStyle(description_widt…",
      "application/vnd.jupyter.widget-view+json": {
       "version_major": 2,
       "version_minor": 0,
       "model_id": "173f5490b92543599c7982dcbe336bd0"
      }
     },
     "metadata": {}
    },
    {
     "output_type": "stream",
     "name": "stdout",
     "text": "\n"
    },
    {
     "output_type": "display_data",
     "data": {
      "text/plain": "HBox(children=(FloatProgress(value=0.0, description='17/50(v)', max=27.0, style=ProgressStyle(description_widt…",
      "application/vnd.jupyter.widget-view+json": {
       "version_major": 2,
       "version_minor": 0,
       "model_id": "80bd94098a0b4d10a64f53f4a910d357"
      }
     },
     "metadata": {}
    },
    {
     "output_type": "stream",
     "name": "stdout",
     "text": "\n"
    },
    {
     "output_type": "display_data",
     "data": {
      "text/plain": "HBox(children=(FloatProgress(value=0.0, description='18/50(t)', max=41.0, style=ProgressStyle(description_widt…",
      "application/vnd.jupyter.widget-view+json": {
       "version_major": 2,
       "version_minor": 0,
       "model_id": "e32aaa274d2f44938a0b0f009649aeac"
      }
     },
     "metadata": {}
    },
    {
     "output_type": "stream",
     "name": "stdout",
     "text": "\n"
    },
    {
     "output_type": "display_data",
     "data": {
      "text/plain": "HBox(children=(FloatProgress(value=0.0, description='18/50(v)', max=27.0, style=ProgressStyle(description_widt…",
      "application/vnd.jupyter.widget-view+json": {
       "version_major": 2,
       "version_minor": 0,
       "model_id": "6d392067b34246d18371b2646ae42c43"
      }
     },
     "metadata": {}
    },
    {
     "output_type": "stream",
     "name": "stdout",
     "text": "\n"
    },
    {
     "output_type": "display_data",
     "data": {
      "text/plain": "HBox(children=(FloatProgress(value=0.0, description='19/50(t)', max=41.0, style=ProgressStyle(description_widt…",
      "application/vnd.jupyter.widget-view+json": {
       "version_major": 2,
       "version_minor": 0,
       "model_id": "ac81cb85e0654df396680a77a9f32ff5"
      }
     },
     "metadata": {}
    },
    {
     "output_type": "stream",
     "name": "stdout",
     "text": "\n"
    },
    {
     "output_type": "display_data",
     "data": {
      "text/plain": "HBox(children=(FloatProgress(value=0.0, description='19/50(v)', max=27.0, style=ProgressStyle(description_widt…",
      "application/vnd.jupyter.widget-view+json": {
       "version_major": 2,
       "version_minor": 0,
       "model_id": "c8c7c4efe02147f6846e68fde073bc2f"
      }
     },
     "metadata": {}
    },
    {
     "output_type": "stream",
     "name": "stdout",
     "text": "\n"
    },
    {
     "output_type": "display_data",
     "data": {
      "text/plain": "HBox(children=(FloatProgress(value=0.0, description='20/50(t)', max=41.0, style=ProgressStyle(description_widt…",
      "application/vnd.jupyter.widget-view+json": {
       "version_major": 2,
       "version_minor": 0,
       "model_id": "796cf51b8a074b1184d639f17714c649"
      }
     },
     "metadata": {}
    },
    {
     "output_type": "stream",
     "name": "stdout",
     "text": "\n"
    },
    {
     "output_type": "display_data",
     "data": {
      "text/plain": "HBox(children=(FloatProgress(value=0.0, description='20/50(v)', max=27.0, style=ProgressStyle(description_widt…",
      "application/vnd.jupyter.widget-view+json": {
       "version_major": 2,
       "version_minor": 0,
       "model_id": "808204b207a14fab8594b9613ca4f745"
      }
     },
     "metadata": {}
    },
    {
     "output_type": "stream",
     "name": "stdout",
     "text": "\n"
    },
    {
     "output_type": "display_data",
     "data": {
      "text/plain": "HBox(children=(FloatProgress(value=0.0, description='21/50(t)', max=41.0, style=ProgressStyle(description_widt…",
      "application/vnd.jupyter.widget-view+json": {
       "version_major": 2,
       "version_minor": 0,
       "model_id": "53fc25b710f94e39a9ed5c84e2f6b85d"
      }
     },
     "metadata": {}
    },
    {
     "output_type": "stream",
     "name": "stdout",
     "text": "\n"
    },
    {
     "output_type": "display_data",
     "data": {
      "text/plain": "HBox(children=(FloatProgress(value=0.0, description='21/50(v)', max=27.0, style=ProgressStyle(description_widt…",
      "application/vnd.jupyter.widget-view+json": {
       "version_major": 2,
       "version_minor": 0,
       "model_id": "59906b5e7b404f509abb9ca3eb491f36"
      }
     },
     "metadata": {}
    },
    {
     "output_type": "stream",
     "name": "stdout",
     "text": "\n"
    },
    {
     "output_type": "display_data",
     "data": {
      "text/plain": "HBox(children=(FloatProgress(value=0.0, description='22/50(t)', max=41.0, style=ProgressStyle(description_widt…",
      "application/vnd.jupyter.widget-view+json": {
       "version_major": 2,
       "version_minor": 0,
       "model_id": "32ae1da852554c14ae5f578028d89759"
      }
     },
     "metadata": {}
    },
    {
     "output_type": "stream",
     "name": "stdout",
     "text": "\n"
    },
    {
     "output_type": "display_data",
     "data": {
      "text/plain": "HBox(children=(FloatProgress(value=0.0, description='22/50(v)', max=27.0, style=ProgressStyle(description_widt…",
      "application/vnd.jupyter.widget-view+json": {
       "version_major": 2,
       "version_minor": 0,
       "model_id": "605a0176101849fc835e0374623dca75"
      }
     },
     "metadata": {}
    },
    {
     "output_type": "stream",
     "name": "stdout",
     "text": "\n"
    },
    {
     "output_type": "display_data",
     "data": {
      "text/plain": "HBox(children=(FloatProgress(value=0.0, description='23/50(t)', max=41.0, style=ProgressStyle(description_widt…",
      "application/vnd.jupyter.widget-view+json": {
       "version_major": 2,
       "version_minor": 0,
       "model_id": "a2e0b04ede2a4f17b687cb2459da8145"
      }
     },
     "metadata": {}
    },
    {
     "output_type": "stream",
     "name": "stdout",
     "text": "\n"
    },
    {
     "output_type": "display_data",
     "data": {
      "text/plain": "HBox(children=(FloatProgress(value=0.0, description='23/50(v)', max=27.0, style=ProgressStyle(description_widt…",
      "application/vnd.jupyter.widget-view+json": {
       "version_major": 2,
       "version_minor": 0,
       "model_id": "a0fb5bae1589490ca6eeb55b7f5a1540"
      }
     },
     "metadata": {}
    },
    {
     "output_type": "stream",
     "name": "stdout",
     "text": "\n"
    },
    {
     "output_type": "display_data",
     "data": {
      "text/plain": "HBox(children=(FloatProgress(value=0.0, description='24/50(t)', max=41.0, style=ProgressStyle(description_widt…",
      "application/vnd.jupyter.widget-view+json": {
       "version_major": 2,
       "version_minor": 0,
       "model_id": "4dae01b803d4414f98ca8f6a06cbb447"
      }
     },
     "metadata": {}
    },
    {
     "output_type": "stream",
     "name": "stdout",
     "text": "\n"
    },
    {
     "output_type": "display_data",
     "data": {
      "text/plain": "HBox(children=(FloatProgress(value=0.0, description='24/50(v)', max=27.0, style=ProgressStyle(description_widt…",
      "application/vnd.jupyter.widget-view+json": {
       "version_major": 2,
       "version_minor": 0,
       "model_id": "f98cd6b9a9334ccd8f3208b48434d974"
      }
     },
     "metadata": {}
    },
    {
     "output_type": "stream",
     "name": "stdout",
     "text": "\n"
    },
    {
     "output_type": "display_data",
     "data": {
      "text/plain": "HBox(children=(FloatProgress(value=0.0, description='25/50(t)', max=41.0, style=ProgressStyle(description_widt…",
      "application/vnd.jupyter.widget-view+json": {
       "version_major": 2,
       "version_minor": 0,
       "model_id": "c51f97d1f1da441db66937a9fb9d8086"
      }
     },
     "metadata": {}
    },
    {
     "output_type": "stream",
     "name": "stdout",
     "text": "\n"
    },
    {
     "output_type": "display_data",
     "data": {
      "text/plain": "HBox(children=(FloatProgress(value=0.0, description='25/50(v)', max=27.0, style=ProgressStyle(description_widt…",
      "application/vnd.jupyter.widget-view+json": {
       "version_major": 2,
       "version_minor": 0,
       "model_id": "b62b931f0d1b49229c958d6170746ae2"
      }
     },
     "metadata": {}
    },
    {
     "output_type": "stream",
     "name": "stdout",
     "text": "\n"
    },
    {
     "output_type": "display_data",
     "data": {
      "text/plain": "HBox(children=(FloatProgress(value=0.0, description='26/50(t)', max=41.0, style=ProgressStyle(description_widt…",
      "application/vnd.jupyter.widget-view+json": {
       "version_major": 2,
       "version_minor": 0,
       "model_id": "fec35034972d4e329361135f7d2752db"
      }
     },
     "metadata": {}
    },
    {
     "output_type": "stream",
     "name": "stdout",
     "text": "\n"
    },
    {
     "output_type": "display_data",
     "data": {
      "text/plain": "HBox(children=(FloatProgress(value=0.0, description='26/50(v)', max=27.0, style=ProgressStyle(description_widt…",
      "application/vnd.jupyter.widget-view+json": {
       "version_major": 2,
       "version_minor": 0,
       "model_id": "dcc7b049bbba4e988b945f9952c2f4c8"
      }
     },
     "metadata": {}
    },
    {
     "output_type": "stream",
     "name": "stdout",
     "text": "\n"
    },
    {
     "output_type": "display_data",
     "data": {
      "text/plain": "HBox(children=(FloatProgress(value=0.0, description='27/50(t)', max=41.0, style=ProgressStyle(description_widt…",
      "application/vnd.jupyter.widget-view+json": {
       "version_major": 2,
       "version_minor": 0,
       "model_id": "d40800b66da749cfa8f28b48e0f3353c"
      }
     },
     "metadata": {}
    },
    {
     "output_type": "stream",
     "name": "stdout",
     "text": "\n"
    },
    {
     "output_type": "display_data",
     "data": {
      "text/plain": "HBox(children=(FloatProgress(value=0.0, description='27/50(v)', max=27.0, style=ProgressStyle(description_widt…",
      "application/vnd.jupyter.widget-view+json": {
       "version_major": 2,
       "version_minor": 0,
       "model_id": "e3e5891cdd724ffeaf96320bb96575ba"
      }
     },
     "metadata": {}
    },
    {
     "output_type": "stream",
     "name": "stdout",
     "text": "\n"
    },
    {
     "output_type": "display_data",
     "data": {
      "text/plain": "HBox(children=(FloatProgress(value=0.0, description='28/50(t)', max=41.0, style=ProgressStyle(description_widt…",
      "application/vnd.jupyter.widget-view+json": {
       "version_major": 2,
       "version_minor": 0,
       "model_id": "3feb88ca402e46eb8726ec8e11d068bd"
      }
     },
     "metadata": {}
    },
    {
     "output_type": "stream",
     "name": "stdout",
     "text": "\n"
    },
    {
     "output_type": "display_data",
     "data": {
      "text/plain": "HBox(children=(FloatProgress(value=0.0, description='28/50(v)', max=27.0, style=ProgressStyle(description_widt…",
      "application/vnd.jupyter.widget-view+json": {
       "version_major": 2,
       "version_minor": 0,
       "model_id": "48e45a788f044c168bec43f250d39867"
      }
     },
     "metadata": {}
    },
    {
     "output_type": "stream",
     "name": "stdout",
     "text": "\n"
    },
    {
     "output_type": "display_data",
     "data": {
      "text/plain": "HBox(children=(FloatProgress(value=0.0, description='29/50(t)', max=41.0, style=ProgressStyle(description_widt…",
      "application/vnd.jupyter.widget-view+json": {
       "version_major": 2,
       "version_minor": 0,
       "model_id": "85199253cc9a42b789e287766c847661"
      }
     },
     "metadata": {}
    },
    {
     "output_type": "stream",
     "name": "stdout",
     "text": "\n"
    },
    {
     "output_type": "display_data",
     "data": {
      "text/plain": "HBox(children=(FloatProgress(value=0.0, description='29/50(v)', max=27.0, style=ProgressStyle(description_widt…",
      "application/vnd.jupyter.widget-view+json": {
       "version_major": 2,
       "version_minor": 0,
       "model_id": "3d63d4544a6c408183c61f58b73dd476"
      }
     },
     "metadata": {}
    },
    {
     "output_type": "stream",
     "name": "stdout",
     "text": "\n"
    },
    {
     "output_type": "display_data",
     "data": {
      "text/plain": "HBox(children=(FloatProgress(value=0.0, description='30/50(t)', max=41.0, style=ProgressStyle(description_widt…",
      "application/vnd.jupyter.widget-view+json": {
       "version_major": 2,
       "version_minor": 0,
       "model_id": "9892dad88ab14cb9b6e78e4b5c3e18d6"
      }
     },
     "metadata": {}
    },
    {
     "output_type": "stream",
     "name": "stdout",
     "text": "\n"
    },
    {
     "output_type": "display_data",
     "data": {
      "text/plain": "HBox(children=(FloatProgress(value=0.0, description='30/50(v)', max=27.0, style=ProgressStyle(description_widt…",
      "application/vnd.jupyter.widget-view+json": {
       "version_major": 2,
       "version_minor": 0,
       "model_id": "11b65b92a5c04953a29eee2c29f15ecd"
      }
     },
     "metadata": {}
    },
    {
     "output_type": "stream",
     "name": "stdout",
     "text": "\n"
    },
    {
     "output_type": "display_data",
     "data": {
      "text/plain": "HBox(children=(FloatProgress(value=0.0, description='31/50(t)', max=41.0, style=ProgressStyle(description_widt…",
      "application/vnd.jupyter.widget-view+json": {
       "version_major": 2,
       "version_minor": 0,
       "model_id": "7313207c41ea4aec9be932c8b7033043"
      }
     },
     "metadata": {}
    },
    {
     "output_type": "stream",
     "name": "stdout",
     "text": "\n"
    },
    {
     "output_type": "display_data",
     "data": {
      "text/plain": "HBox(children=(FloatProgress(value=0.0, description='31/50(v)', max=27.0, style=ProgressStyle(description_widt…",
      "application/vnd.jupyter.widget-view+json": {
       "version_major": 2,
       "version_minor": 0,
       "model_id": "4e2bde53d3f54a34a4bda606b2e00318"
      }
     },
     "metadata": {}
    },
    {
     "output_type": "stream",
     "name": "stdout",
     "text": "\n"
    },
    {
     "output_type": "display_data",
     "data": {
      "text/plain": "HBox(children=(FloatProgress(value=0.0, description='32/50(t)', max=41.0, style=ProgressStyle(description_widt…",
      "application/vnd.jupyter.widget-view+json": {
       "version_major": 2,
       "version_minor": 0,
       "model_id": "ded1829471c34196b988f70846da65dc"
      }
     },
     "metadata": {}
    },
    {
     "output_type": "stream",
     "name": "stdout",
     "text": "\n"
    },
    {
     "output_type": "display_data",
     "data": {
      "text/plain": "HBox(children=(FloatProgress(value=0.0, description='32/50(v)', max=27.0, style=ProgressStyle(description_widt…",
      "application/vnd.jupyter.widget-view+json": {
       "version_major": 2,
       "version_minor": 0,
       "model_id": "a6cbad7cd2f445b3811b1f00ffc9ef3c"
      }
     },
     "metadata": {}
    },
    {
     "output_type": "stream",
     "name": "stdout",
     "text": "\n"
    },
    {
     "output_type": "display_data",
     "data": {
      "text/plain": "HBox(children=(FloatProgress(value=0.0, description='33/50(t)', max=41.0, style=ProgressStyle(description_widt…",
      "application/vnd.jupyter.widget-view+json": {
       "version_major": 2,
       "version_minor": 0,
       "model_id": "546da8c145d34410b7b47d535a7bdd49"
      }
     },
     "metadata": {}
    },
    {
     "output_type": "stream",
     "name": "stdout",
     "text": "\n"
    },
    {
     "output_type": "display_data",
     "data": {
      "text/plain": "HBox(children=(FloatProgress(value=0.0, description='33/50(v)', max=27.0, style=ProgressStyle(description_widt…",
      "application/vnd.jupyter.widget-view+json": {
       "version_major": 2,
       "version_minor": 0,
       "model_id": "d9c02b13679248808bd97618b9aeccea"
      }
     },
     "metadata": {}
    },
    {
     "output_type": "stream",
     "name": "stdout",
     "text": "\n"
    },
    {
     "output_type": "display_data",
     "data": {
      "text/plain": "HBox(children=(FloatProgress(value=0.0, description='34/50(t)', max=41.0, style=ProgressStyle(description_widt…",
      "application/vnd.jupyter.widget-view+json": {
       "version_major": 2,
       "version_minor": 0,
       "model_id": "b6e6b56c27604e5e9d82af505ae5bc4a"
      }
     },
     "metadata": {}
    },
    {
     "output_type": "stream",
     "name": "stdout",
     "text": "\n"
    },
    {
     "output_type": "display_data",
     "data": {
      "text/plain": "HBox(children=(FloatProgress(value=0.0, description='34/50(v)', max=27.0, style=ProgressStyle(description_widt…",
      "application/vnd.jupyter.widget-view+json": {
       "version_major": 2,
       "version_minor": 0,
       "model_id": "7bdaf044db734e28aaa5bf368cc01f18"
      }
     },
     "metadata": {}
    },
    {
     "output_type": "stream",
     "name": "stdout",
     "text": "\n"
    },
    {
     "output_type": "display_data",
     "data": {
      "text/plain": "HBox(children=(FloatProgress(value=0.0, description='35/50(t)', max=41.0, style=ProgressStyle(description_widt…",
      "application/vnd.jupyter.widget-view+json": {
       "version_major": 2,
       "version_minor": 0,
       "model_id": "9db30ad2f469450593a357d8e734d482"
      }
     },
     "metadata": {}
    },
    {
     "output_type": "stream",
     "name": "stdout",
     "text": "\n"
    },
    {
     "output_type": "display_data",
     "data": {
      "text/plain": "HBox(children=(FloatProgress(value=0.0, description='35/50(v)', max=27.0, style=ProgressStyle(description_widt…",
      "application/vnd.jupyter.widget-view+json": {
       "version_major": 2,
       "version_minor": 0,
       "model_id": "954977b9e16745ec9df221f0a71ac7c8"
      }
     },
     "metadata": {}
    },
    {
     "output_type": "stream",
     "name": "stdout",
     "text": "\n"
    },
    {
     "output_type": "display_data",
     "data": {
      "text/plain": "HBox(children=(FloatProgress(value=0.0, description='36/50(t)', max=41.0, style=ProgressStyle(description_widt…",
      "application/vnd.jupyter.widget-view+json": {
       "version_major": 2,
       "version_minor": 0,
       "model_id": "f40a24434bc44689b2942005c1fde839"
      }
     },
     "metadata": {}
    },
    {
     "output_type": "stream",
     "name": "stdout",
     "text": "\n"
    },
    {
     "output_type": "display_data",
     "data": {
      "text/plain": "HBox(children=(FloatProgress(value=0.0, description='36/50(v)', max=27.0, style=ProgressStyle(description_widt…",
      "application/vnd.jupyter.widget-view+json": {
       "version_major": 2,
       "version_minor": 0,
       "model_id": "d7fdbb713f964db08789f5c76179185b"
      }
     },
     "metadata": {}
    },
    {
     "output_type": "stream",
     "name": "stdout",
     "text": "\n"
    },
    {
     "output_type": "display_data",
     "data": {
      "text/plain": "HBox(children=(FloatProgress(value=0.0, description='37/50(t)', max=41.0, style=ProgressStyle(description_widt…",
      "application/vnd.jupyter.widget-view+json": {
       "version_major": 2,
       "version_minor": 0,
       "model_id": "d7cbdb9fc63e4bb980ea14f106264aeb"
      }
     },
     "metadata": {}
    },
    {
     "output_type": "stream",
     "name": "stdout",
     "text": "\n"
    },
    {
     "output_type": "display_data",
     "data": {
      "text/plain": "HBox(children=(FloatProgress(value=0.0, description='37/50(v)', max=27.0, style=ProgressStyle(description_widt…",
      "application/vnd.jupyter.widget-view+json": {
       "version_major": 2,
       "version_minor": 0,
       "model_id": "bf1b9735b24f4032ae7cce146da46035"
      }
     },
     "metadata": {}
    },
    {
     "output_type": "stream",
     "name": "stdout",
     "text": "\n"
    },
    {
     "output_type": "display_data",
     "data": {
      "text/plain": "HBox(children=(FloatProgress(value=0.0, description='38/50(t)', max=41.0, style=ProgressStyle(description_widt…",
      "application/vnd.jupyter.widget-view+json": {
       "version_major": 2,
       "version_minor": 0,
       "model_id": "c9a91fbe1d544d08bf5beaae025d66c7"
      }
     },
     "metadata": {}
    },
    {
     "output_type": "stream",
     "name": "stdout",
     "text": "\n"
    },
    {
     "output_type": "display_data",
     "data": {
      "text/plain": "HBox(children=(FloatProgress(value=0.0, description='38/50(v)', max=27.0, style=ProgressStyle(description_widt…",
      "application/vnd.jupyter.widget-view+json": {
       "version_major": 2,
       "version_minor": 0,
       "model_id": "d52ceb051a2d4369973bb1eeaa40fe6a"
      }
     },
     "metadata": {}
    },
    {
     "output_type": "stream",
     "name": "stdout",
     "text": "\n"
    },
    {
     "output_type": "display_data",
     "data": {
      "text/plain": "HBox(children=(FloatProgress(value=0.0, description='39/50(t)', max=41.0, style=ProgressStyle(description_widt…",
      "application/vnd.jupyter.widget-view+json": {
       "version_major": 2,
       "version_minor": 0,
       "model_id": "6d394b05f1df42a8acc8b542e73a8c27"
      }
     },
     "metadata": {}
    },
    {
     "output_type": "stream",
     "name": "stdout",
     "text": "\n"
    },
    {
     "output_type": "display_data",
     "data": {
      "text/plain": "HBox(children=(FloatProgress(value=0.0, description='39/50(v)', max=27.0, style=ProgressStyle(description_widt…",
      "application/vnd.jupyter.widget-view+json": {
       "version_major": 2,
       "version_minor": 0,
       "model_id": "e6e9b2ca62d14f88b3b3256eaeb4553f"
      }
     },
     "metadata": {}
    },
    {
     "output_type": "stream",
     "name": "stdout",
     "text": "\n"
    },
    {
     "output_type": "display_data",
     "data": {
      "text/plain": "HBox(children=(FloatProgress(value=0.0, description='40/50(t)', max=41.0, style=ProgressStyle(description_widt…",
      "application/vnd.jupyter.widget-view+json": {
       "version_major": 2,
       "version_minor": 0,
       "model_id": "f30dc5b9f5a242b1b68f3b6f64399470"
      }
     },
     "metadata": {}
    },
    {
     "output_type": "stream",
     "name": "stdout",
     "text": "\n"
    },
    {
     "output_type": "display_data",
     "data": {
      "text/plain": "HBox(children=(FloatProgress(value=0.0, description='40/50(v)', max=27.0, style=ProgressStyle(description_widt…",
      "application/vnd.jupyter.widget-view+json": {
       "version_major": 2,
       "version_minor": 0,
       "model_id": "84e9648650cd4c338b4bb104aa165350"
      }
     },
     "metadata": {}
    },
    {
     "output_type": "stream",
     "name": "stdout",
     "text": "\n"
    },
    {
     "output_type": "display_data",
     "data": {
      "text/plain": "HBox(children=(FloatProgress(value=0.0, description='41/50(t)', max=41.0, style=ProgressStyle(description_widt…",
      "application/vnd.jupyter.widget-view+json": {
       "version_major": 2,
       "version_minor": 0,
       "model_id": "b2a1e22b22be475593492e3c9f72fd0a"
      }
     },
     "metadata": {}
    },
    {
     "output_type": "stream",
     "name": "stdout",
     "text": "\n"
    },
    {
     "output_type": "display_data",
     "data": {
      "text/plain": "HBox(children=(FloatProgress(value=0.0, description='41/50(v)', max=27.0, style=ProgressStyle(description_widt…",
      "application/vnd.jupyter.widget-view+json": {
       "version_major": 2,
       "version_minor": 0,
       "model_id": "eb7e57d260f94e118478ccc14938875a"
      }
     },
     "metadata": {}
    },
    {
     "output_type": "stream",
     "name": "stdout",
     "text": "\n"
    },
    {
     "output_type": "display_data",
     "data": {
      "text/plain": "HBox(children=(FloatProgress(value=0.0, description='42/50(t)', max=41.0, style=ProgressStyle(description_widt…",
      "application/vnd.jupyter.widget-view+json": {
       "version_major": 2,
       "version_minor": 0,
       "model_id": "279a2a5c4af84723b7ec16938ff9f235"
      }
     },
     "metadata": {}
    },
    {
     "output_type": "stream",
     "name": "stdout",
     "text": "\n"
    },
    {
     "output_type": "display_data",
     "data": {
      "text/plain": "HBox(children=(FloatProgress(value=0.0, description='42/50(v)', max=27.0, style=ProgressStyle(description_widt…",
      "application/vnd.jupyter.widget-view+json": {
       "version_major": 2,
       "version_minor": 0,
       "model_id": "4c113598a3394d688e1d723b60b9e686"
      }
     },
     "metadata": {}
    },
    {
     "output_type": "stream",
     "name": "stdout",
     "text": "\n"
    },
    {
     "output_type": "display_data",
     "data": {
      "text/plain": "HBox(children=(FloatProgress(value=0.0, description='43/50(t)', max=41.0, style=ProgressStyle(description_widt…",
      "application/vnd.jupyter.widget-view+json": {
       "version_major": 2,
       "version_minor": 0,
       "model_id": "f38b02d82e59415fa5bcc0e8caa2fe3e"
      }
     },
     "metadata": {}
    },
    {
     "output_type": "stream",
     "name": "stdout",
     "text": "\n"
    },
    {
     "output_type": "display_data",
     "data": {
      "text/plain": "HBox(children=(FloatProgress(value=0.0, description='43/50(v)', max=27.0, style=ProgressStyle(description_widt…",
      "application/vnd.jupyter.widget-view+json": {
       "version_major": 2,
       "version_minor": 0,
       "model_id": "d1d4e8f4963c4cfd9929b86e5db2e1a4"
      }
     },
     "metadata": {}
    },
    {
     "output_type": "stream",
     "name": "stdout",
     "text": "\n"
    },
    {
     "output_type": "display_data",
     "data": {
      "text/plain": "HBox(children=(FloatProgress(value=0.0, description='44/50(t)', max=41.0, style=ProgressStyle(description_widt…",
      "application/vnd.jupyter.widget-view+json": {
       "version_major": 2,
       "version_minor": 0,
       "model_id": "dc0fb24fa2f845caabda4d1cfd806cf1"
      }
     },
     "metadata": {}
    },
    {
     "output_type": "stream",
     "name": "stdout",
     "text": "\n"
    },
    {
     "output_type": "display_data",
     "data": {
      "text/plain": "HBox(children=(FloatProgress(value=0.0, description='44/50(v)', max=27.0, style=ProgressStyle(description_widt…",
      "application/vnd.jupyter.widget-view+json": {
       "version_major": 2,
       "version_minor": 0,
       "model_id": "9c96b05966ff4409800f251895d55fdc"
      }
     },
     "metadata": {}
    },
    {
     "output_type": "stream",
     "name": "stdout",
     "text": "\n"
    },
    {
     "output_type": "display_data",
     "data": {
      "text/plain": "HBox(children=(FloatProgress(value=0.0, description='45/50(t)', max=41.0, style=ProgressStyle(description_widt…",
      "application/vnd.jupyter.widget-view+json": {
       "version_major": 2,
       "version_minor": 0,
       "model_id": "3b19941aa95f44929c75a4059d2c7ce8"
      }
     },
     "metadata": {}
    },
    {
     "output_type": "stream",
     "name": "stdout",
     "text": "\n"
    },
    {
     "output_type": "display_data",
     "data": {
      "text/plain": "HBox(children=(FloatProgress(value=0.0, description='45/50(v)', max=27.0, style=ProgressStyle(description_widt…",
      "application/vnd.jupyter.widget-view+json": {
       "version_major": 2,
       "version_minor": 0,
       "model_id": "e4d976b71c774929bb8ba2dcd566656c"
      }
     },
     "metadata": {}
    },
    {
     "output_type": "stream",
     "name": "stdout",
     "text": "\n"
    },
    {
     "output_type": "display_data",
     "data": {
      "text/plain": "HBox(children=(FloatProgress(value=0.0, description='46/50(t)', max=41.0, style=ProgressStyle(description_widt…",
      "application/vnd.jupyter.widget-view+json": {
       "version_major": 2,
       "version_minor": 0,
       "model_id": "0a08585114284891b2b2efa8801174ee"
      }
     },
     "metadata": {}
    },
    {
     "output_type": "stream",
     "name": "stdout",
     "text": "\n"
    },
    {
     "output_type": "display_data",
     "data": {
      "text/plain": "HBox(children=(FloatProgress(value=0.0, description='46/50(v)', max=27.0, style=ProgressStyle(description_widt…",
      "application/vnd.jupyter.widget-view+json": {
       "version_major": 2,
       "version_minor": 0,
       "model_id": "f0e4b6e55ce14d0ea7acb401f119b91c"
      }
     },
     "metadata": {}
    },
    {
     "output_type": "stream",
     "name": "stdout",
     "text": "\n"
    },
    {
     "output_type": "display_data",
     "data": {
      "text/plain": "HBox(children=(FloatProgress(value=0.0, description='47/50(t)', max=41.0, style=ProgressStyle(description_widt…",
      "application/vnd.jupyter.widget-view+json": {
       "version_major": 2,
       "version_minor": 0,
       "model_id": "6c5cb2037881468c8cc2ca281ea4149e"
      }
     },
     "metadata": {}
    },
    {
     "output_type": "stream",
     "name": "stdout",
     "text": "\n"
    },
    {
     "output_type": "display_data",
     "data": {
      "text/plain": "HBox(children=(FloatProgress(value=0.0, description='47/50(v)', max=27.0, style=ProgressStyle(description_widt…",
      "application/vnd.jupyter.widget-view+json": {
       "version_major": 2,
       "version_minor": 0,
       "model_id": "ed8dbe94604242db81729f23b68de81f"
      }
     },
     "metadata": {}
    },
    {
     "output_type": "stream",
     "name": "stdout",
     "text": "\n"
    },
    {
     "output_type": "display_data",
     "data": {
      "text/plain": "HBox(children=(FloatProgress(value=0.0, description='48/50(t)', max=41.0, style=ProgressStyle(description_widt…",
      "application/vnd.jupyter.widget-view+json": {
       "version_major": 2,
       "version_minor": 0,
       "model_id": "48f20a9030594f5f805598db035db28a"
      }
     },
     "metadata": {}
    },
    {
     "output_type": "stream",
     "name": "stdout",
     "text": "\n"
    },
    {
     "output_type": "display_data",
     "data": {
      "text/plain": "HBox(children=(FloatProgress(value=0.0, description='48/50(v)', max=27.0, style=ProgressStyle(description_widt…",
      "application/vnd.jupyter.widget-view+json": {
       "version_major": 2,
       "version_minor": 0,
       "model_id": "74c0070334154919b116ecc0586e62e5"
      }
     },
     "metadata": {}
    },
    {
     "output_type": "stream",
     "name": "stdout",
     "text": "\n"
    },
    {
     "output_type": "display_data",
     "data": {
      "text/plain": "HBox(children=(FloatProgress(value=0.0, description='49/50(t)', max=41.0, style=ProgressStyle(description_widt…",
      "application/vnd.jupyter.widget-view+json": {
       "version_major": 2,
       "version_minor": 0,
       "model_id": "85ff07ec0b5749a9aa79577e87788b91"
      }
     },
     "metadata": {}
    },
    {
     "output_type": "stream",
     "name": "stdout",
     "text": "\n"
    },
    {
     "output_type": "display_data",
     "data": {
      "text/plain": "HBox(children=(FloatProgress(value=0.0, description='49/50(v)', max=27.0, style=ProgressStyle(description_widt…",
      "application/vnd.jupyter.widget-view+json": {
       "version_major": 2,
       "version_minor": 0,
       "model_id": "87d5aeb5c78f458d8623dcb69d2d1445"
      }
     },
     "metadata": {}
    },
    {
     "output_type": "stream",
     "name": "stdout",
     "text": "\n"
    }
   ],
   "source": [
    "out = m.run(50,tr_loader=tr_loader,val_loader= val_loader, t_loader=t_loader)\n",
    "writer.close()"
   ]
  },
  {
   "cell_type": "code",
   "execution_count": 32,
   "metadata": {},
   "outputs": [
    {
     "output_type": "execute_result",
     "data": {
      "text/plain": "{'stop_rounds': 5000, 'best_step': 1312, 'c_val_loss': tensor(0.1094)}"
     },
     "metadata": {},
     "execution_count": 32
    }
   ],
   "source": [
    "settings"
   ]
  },
  {
   "cell_type": "code",
   "execution_count": 10,
   "metadata": {},
   "outputs": [],
   "source": [
    "import pickle\n",
    "with open(os.path.join(log_path,'loss_his'), 'wb') as f:\n",
    "    pickle.dump(loss_his, f)   \n",
    "with open(os.path.join(log_path,'val_loss'), 'wb') as f:\n",
    "    pickle.dump(val_loss, f)"
   ]
  },
  {
   "cell_type": "code",
   "execution_count": 20,
   "metadata": {},
   "outputs": [],
   "source": [
    "\n",
    "import pickle\n",
    "loss_his =  pickle.load(open(os.path.join(log_path,'loss_his'),\"rb\"))\n",
    "val_loss =  pickle.load(open(os.path.join(log_path,'val_loss'),\"rb\"))"
   ]
  },
  {
   "cell_type": "code",
   "execution_count": 24,
   "metadata": {},
   "outputs": [
    {
     "output_type": "stream",
     "name": "stderr",
     "text": "No handles with labels found to put in legend.\n"
    },
    {
     "output_type": "display_data",
     "data": {
      "text/plain": "<Figure size 432x288 with 1 Axes>",
      "image/svg+xml": "<?xml version=\"1.0\" encoding=\"utf-8\" standalone=\"no\"?>\r\n<!DOCTYPE svg PUBLIC \"-//W3C//DTD SVG 1.1//EN\"\r\n  \"http://www.w3.org/Graphics/SVG/1.1/DTD/svg11.dtd\">\r\n<!-- Created with matplotlib (https://matplotlib.org/) -->\r\n<svg height=\"277.314375pt\" version=\"1.1\" viewBox=\"0 0 392.14375 277.314375\" width=\"392.14375pt\" xmlns=\"http://www.w3.org/2000/svg\" xmlns:xlink=\"http://www.w3.org/1999/xlink\">\r\n <defs>\r\n  <style type=\"text/css\">\r\n*{stroke-linecap:butt;stroke-linejoin:round;}\r\n  </style>\r\n </defs>\r\n <g id=\"figure_1\">\r\n  <g id=\"patch_1\">\r\n   <path d=\"M 0 277.314375 \r\nL 392.14375 277.314375 \r\nL 392.14375 0 \r\nL 0 0 \r\nz\r\n\" style=\"fill:none;\"/>\r\n  </g>\r\n  <g id=\"axes_1\">\r\n   <g id=\"patch_2\">\r\n    <path d=\"M 50.14375 239.758125 \r\nL 384.94375 239.758125 \r\nL 384.94375 22.318125 \r\nL 50.14375 22.318125 \r\nz\r\n\" style=\"fill:#ffffff;\"/>\r\n   </g>\r\n   <g id=\"matplotlib.axis_1\">\r\n    <g id=\"xtick_1\">\r\n     <g id=\"line2d_1\">\r\n      <defs>\r\n       <path d=\"M 0 0 \r\nL 0 3.5 \r\n\" id=\"m832ac63b00\" style=\"stroke:#000000;stroke-width:0.8;\"/>\r\n      </defs>\r\n      <g>\r\n       <use style=\"stroke:#000000;stroke-width:0.8;\" x=\"65.361932\" xlink:href=\"#m832ac63b00\" y=\"239.758125\"/>\r\n      </g>\r\n     </g>\r\n     <g id=\"text_1\">\r\n      <!-- 0 -->\r\n      <defs>\r\n       <path d=\"M 31.78125 66.40625 \r\nQ 24.171875 66.40625 20.328125 58.90625 \r\nQ 16.5 51.421875 16.5 36.375 \r\nQ 16.5 21.390625 20.328125 13.890625 \r\nQ 24.171875 6.390625 31.78125 6.390625 \r\nQ 39.453125 6.390625 43.28125 13.890625 \r\nQ 47.125 21.390625 47.125 36.375 \r\nQ 47.125 51.421875 43.28125 58.90625 \r\nQ 39.453125 66.40625 31.78125 66.40625 \r\nz\r\nM 31.78125 74.21875 \r\nQ 44.046875 74.21875 50.515625 64.515625 \r\nQ 56.984375 54.828125 56.984375 36.375 \r\nQ 56.984375 17.96875 50.515625 8.265625 \r\nQ 44.046875 -1.421875 31.78125 -1.421875 \r\nQ 19.53125 -1.421875 13.0625 8.265625 \r\nQ 6.59375 17.96875 6.59375 36.375 \r\nQ 6.59375 54.828125 13.0625 64.515625 \r\nQ 19.53125 74.21875 31.78125 74.21875 \r\nz\r\n\" id=\"DejaVuSans-48\"/>\r\n      </defs>\r\n      <g transform=\"translate(62.180682 254.356562)scale(0.1 -0.1)\">\r\n       <use xlink:href=\"#DejaVuSans-48\"/>\r\n      </g>\r\n     </g>\r\n    </g>\r\n    <g id=\"xtick_2\">\r\n     <g id=\"line2d_2\">\r\n      <g>\r\n       <use style=\"stroke:#000000;stroke-width:0.8;\" x=\"139.633195\" xlink:href=\"#m832ac63b00\" y=\"239.758125\"/>\r\n      </g>\r\n     </g>\r\n     <g id=\"text_2\">\r\n      <!-- 500 -->\r\n      <defs>\r\n       <path d=\"M 10.796875 72.90625 \r\nL 49.515625 72.90625 \r\nL 49.515625 64.59375 \r\nL 19.828125 64.59375 \r\nL 19.828125 46.734375 \r\nQ 21.96875 47.46875 24.109375 47.828125 \r\nQ 26.265625 48.1875 28.421875 48.1875 \r\nQ 40.625 48.1875 47.75 41.5 \r\nQ 54.890625 34.8125 54.890625 23.390625 \r\nQ 54.890625 11.625 47.5625 5.09375 \r\nQ 40.234375 -1.421875 26.90625 -1.421875 \r\nQ 22.3125 -1.421875 17.546875 -0.640625 \r\nQ 12.796875 0.140625 7.71875 1.703125 \r\nL 7.71875 11.625 \r\nQ 12.109375 9.234375 16.796875 8.0625 \r\nQ 21.484375 6.890625 26.703125 6.890625 \r\nQ 35.15625 6.890625 40.078125 11.328125 \r\nQ 45.015625 15.765625 45.015625 23.390625 \r\nQ 45.015625 31 40.078125 35.4375 \r\nQ 35.15625 39.890625 26.703125 39.890625 \r\nQ 22.75 39.890625 18.8125 39.015625 \r\nQ 14.890625 38.140625 10.796875 36.28125 \r\nz\r\n\" id=\"DejaVuSans-53\"/>\r\n      </defs>\r\n      <g transform=\"translate(130.089445 254.356562)scale(0.1 -0.1)\">\r\n       <use xlink:href=\"#DejaVuSans-53\"/>\r\n       <use x=\"63.623047\" xlink:href=\"#DejaVuSans-48\"/>\r\n       <use x=\"127.246094\" xlink:href=\"#DejaVuSans-48\"/>\r\n      </g>\r\n     </g>\r\n    </g>\r\n    <g id=\"xtick_3\">\r\n     <g id=\"line2d_3\">\r\n      <g>\r\n       <use style=\"stroke:#000000;stroke-width:0.8;\" x=\"213.904458\" xlink:href=\"#m832ac63b00\" y=\"239.758125\"/>\r\n      </g>\r\n     </g>\r\n     <g id=\"text_3\">\r\n      <!-- 1000 -->\r\n      <defs>\r\n       <path d=\"M 12.40625 8.296875 \r\nL 28.515625 8.296875 \r\nL 28.515625 63.921875 \r\nL 10.984375 60.40625 \r\nL 10.984375 69.390625 \r\nL 28.421875 72.90625 \r\nL 38.28125 72.90625 \r\nL 38.28125 8.296875 \r\nL 54.390625 8.296875 \r\nL 54.390625 0 \r\nL 12.40625 0 \r\nz\r\n\" id=\"DejaVuSans-49\"/>\r\n      </defs>\r\n      <g transform=\"translate(201.179458 254.356562)scale(0.1 -0.1)\">\r\n       <use xlink:href=\"#DejaVuSans-49\"/>\r\n       <use x=\"63.623047\" xlink:href=\"#DejaVuSans-48\"/>\r\n       <use x=\"127.246094\" xlink:href=\"#DejaVuSans-48\"/>\r\n       <use x=\"190.869141\" xlink:href=\"#DejaVuSans-48\"/>\r\n      </g>\r\n     </g>\r\n    </g>\r\n    <g id=\"xtick_4\">\r\n     <g id=\"line2d_4\">\r\n      <g>\r\n       <use style=\"stroke:#000000;stroke-width:0.8;\" x=\"288.175721\" xlink:href=\"#m832ac63b00\" y=\"239.758125\"/>\r\n      </g>\r\n     </g>\r\n     <g id=\"text_4\">\r\n      <!-- 1500 -->\r\n      <g transform=\"translate(275.450721 254.356562)scale(0.1 -0.1)\">\r\n       <use xlink:href=\"#DejaVuSans-49\"/>\r\n       <use x=\"63.623047\" xlink:href=\"#DejaVuSans-53\"/>\r\n       <use x=\"127.246094\" xlink:href=\"#DejaVuSans-48\"/>\r\n       <use x=\"190.869141\" xlink:href=\"#DejaVuSans-48\"/>\r\n      </g>\r\n     </g>\r\n    </g>\r\n    <g id=\"xtick_5\">\r\n     <g id=\"line2d_5\">\r\n      <g>\r\n       <use style=\"stroke:#000000;stroke-width:0.8;\" x=\"362.446984\" xlink:href=\"#m832ac63b00\" y=\"239.758125\"/>\r\n      </g>\r\n     </g>\r\n     <g id=\"text_5\">\r\n      <!-- 2000 -->\r\n      <defs>\r\n       <path d=\"M 19.1875 8.296875 \r\nL 53.609375 8.296875 \r\nL 53.609375 0 \r\nL 7.328125 0 \r\nL 7.328125 8.296875 \r\nQ 12.9375 14.109375 22.625 23.890625 \r\nQ 32.328125 33.6875 34.8125 36.53125 \r\nQ 39.546875 41.84375 41.421875 45.53125 \r\nQ 43.3125 49.21875 43.3125 52.78125 \r\nQ 43.3125 58.59375 39.234375 62.25 \r\nQ 35.15625 65.921875 28.609375 65.921875 \r\nQ 23.96875 65.921875 18.8125 64.3125 \r\nQ 13.671875 62.703125 7.8125 59.421875 \r\nL 7.8125 69.390625 \r\nQ 13.765625 71.78125 18.9375 73 \r\nQ 24.125 74.21875 28.421875 74.21875 \r\nQ 39.75 74.21875 46.484375 68.546875 \r\nQ 53.21875 62.890625 53.21875 53.421875 \r\nQ 53.21875 48.921875 51.53125 44.890625 \r\nQ 49.859375 40.875 45.40625 35.40625 \r\nQ 44.1875 33.984375 37.640625 27.21875 \r\nQ 31.109375 20.453125 19.1875 8.296875 \r\nz\r\n\" id=\"DejaVuSans-50\"/>\r\n      </defs>\r\n      <g transform=\"translate(349.721984 254.356562)scale(0.1 -0.1)\">\r\n       <use xlink:href=\"#DejaVuSans-50\"/>\r\n       <use x=\"63.623047\" xlink:href=\"#DejaVuSans-48\"/>\r\n       <use x=\"127.246094\" xlink:href=\"#DejaVuSans-48\"/>\r\n       <use x=\"190.869141\" xlink:href=\"#DejaVuSans-48\"/>\r\n      </g>\r\n     </g>\r\n    </g>\r\n    <g id=\"text_6\">\r\n     <!-- data num -->\r\n     <defs>\r\n      <path d=\"M 45.40625 46.390625 \r\nL 45.40625 75.984375 \r\nL 54.390625 75.984375 \r\nL 54.390625 0 \r\nL 45.40625 0 \r\nL 45.40625 8.203125 \r\nQ 42.578125 3.328125 38.25 0.953125 \r\nQ 33.9375 -1.421875 27.875 -1.421875 \r\nQ 17.96875 -1.421875 11.734375 6.484375 \r\nQ 5.515625 14.40625 5.515625 27.296875 \r\nQ 5.515625 40.1875 11.734375 48.09375 \r\nQ 17.96875 56 27.875 56 \r\nQ 33.9375 56 38.25 53.625 \r\nQ 42.578125 51.265625 45.40625 46.390625 \r\nz\r\nM 14.796875 27.296875 \r\nQ 14.796875 17.390625 18.875 11.75 \r\nQ 22.953125 6.109375 30.078125 6.109375 \r\nQ 37.203125 6.109375 41.296875 11.75 \r\nQ 45.40625 17.390625 45.40625 27.296875 \r\nQ 45.40625 37.203125 41.296875 42.84375 \r\nQ 37.203125 48.484375 30.078125 48.484375 \r\nQ 22.953125 48.484375 18.875 42.84375 \r\nQ 14.796875 37.203125 14.796875 27.296875 \r\nz\r\n\" id=\"DejaVuSans-100\"/>\r\n      <path d=\"M 34.28125 27.484375 \r\nQ 23.390625 27.484375 19.1875 25 \r\nQ 14.984375 22.515625 14.984375 16.5 \r\nQ 14.984375 11.71875 18.140625 8.90625 \r\nQ 21.296875 6.109375 26.703125 6.109375 \r\nQ 34.1875 6.109375 38.703125 11.40625 \r\nQ 43.21875 16.703125 43.21875 25.484375 \r\nL 43.21875 27.484375 \r\nz\r\nM 52.203125 31.203125 \r\nL 52.203125 0 \r\nL 43.21875 0 \r\nL 43.21875 8.296875 \r\nQ 40.140625 3.328125 35.546875 0.953125 \r\nQ 30.953125 -1.421875 24.3125 -1.421875 \r\nQ 15.921875 -1.421875 10.953125 3.296875 \r\nQ 6 8.015625 6 15.921875 \r\nQ 6 25.140625 12.171875 29.828125 \r\nQ 18.359375 34.515625 30.609375 34.515625 \r\nL 43.21875 34.515625 \r\nL 43.21875 35.40625 \r\nQ 43.21875 41.609375 39.140625 45 \r\nQ 35.0625 48.390625 27.6875 48.390625 \r\nQ 23 48.390625 18.546875 47.265625 \r\nQ 14.109375 46.140625 10.015625 43.890625 \r\nL 10.015625 52.203125 \r\nQ 14.9375 54.109375 19.578125 55.046875 \r\nQ 24.21875 56 28.609375 56 \r\nQ 40.484375 56 46.34375 49.84375 \r\nQ 52.203125 43.703125 52.203125 31.203125 \r\nz\r\n\" id=\"DejaVuSans-97\"/>\r\n      <path d=\"M 18.3125 70.21875 \r\nL 18.3125 54.6875 \r\nL 36.8125 54.6875 \r\nL 36.8125 47.703125 \r\nL 18.3125 47.703125 \r\nL 18.3125 18.015625 \r\nQ 18.3125 11.328125 20.140625 9.421875 \r\nQ 21.96875 7.515625 27.59375 7.515625 \r\nL 36.8125 7.515625 \r\nL 36.8125 0 \r\nL 27.59375 0 \r\nQ 17.1875 0 13.234375 3.875 \r\nQ 9.28125 7.765625 9.28125 18.015625 \r\nL 9.28125 47.703125 \r\nL 2.6875 47.703125 \r\nL 2.6875 54.6875 \r\nL 9.28125 54.6875 \r\nL 9.28125 70.21875 \r\nz\r\n\" id=\"DejaVuSans-116\"/>\r\n      <path id=\"DejaVuSans-32\"/>\r\n      <path d=\"M 54.890625 33.015625 \r\nL 54.890625 0 \r\nL 45.90625 0 \r\nL 45.90625 32.71875 \r\nQ 45.90625 40.484375 42.875 44.328125 \r\nQ 39.84375 48.1875 33.796875 48.1875 \r\nQ 26.515625 48.1875 22.3125 43.546875 \r\nQ 18.109375 38.921875 18.109375 30.90625 \r\nL 18.109375 0 \r\nL 9.078125 0 \r\nL 9.078125 54.6875 \r\nL 18.109375 54.6875 \r\nL 18.109375 46.1875 \r\nQ 21.34375 51.125 25.703125 53.5625 \r\nQ 30.078125 56 35.796875 56 \r\nQ 45.21875 56 50.046875 50.171875 \r\nQ 54.890625 44.34375 54.890625 33.015625 \r\nz\r\n\" id=\"DejaVuSans-110\"/>\r\n      <path d=\"M 8.5 21.578125 \r\nL 8.5 54.6875 \r\nL 17.484375 54.6875 \r\nL 17.484375 21.921875 \r\nQ 17.484375 14.15625 20.5 10.265625 \r\nQ 23.53125 6.390625 29.59375 6.390625 \r\nQ 36.859375 6.390625 41.078125 11.03125 \r\nQ 45.3125 15.671875 45.3125 23.6875 \r\nL 45.3125 54.6875 \r\nL 54.296875 54.6875 \r\nL 54.296875 0 \r\nL 45.3125 0 \r\nL 45.3125 8.40625 \r\nQ 42.046875 3.421875 37.71875 1 \r\nQ 33.40625 -1.421875 27.6875 -1.421875 \r\nQ 18.265625 -1.421875 13.375 4.4375 \r\nQ 8.5 10.296875 8.5 21.578125 \r\nz\r\nM 31.109375 56 \r\nz\r\n\" id=\"DejaVuSans-117\"/>\r\n      <path d=\"M 52 44.1875 \r\nQ 55.375 50.25 60.0625 53.125 \r\nQ 64.75 56 71.09375 56 \r\nQ 79.640625 56 84.28125 50.015625 \r\nQ 88.921875 44.046875 88.921875 33.015625 \r\nL 88.921875 0 \r\nL 79.890625 0 \r\nL 79.890625 32.71875 \r\nQ 79.890625 40.578125 77.09375 44.375 \r\nQ 74.3125 48.1875 68.609375 48.1875 \r\nQ 61.625 48.1875 57.5625 43.546875 \r\nQ 53.515625 38.921875 53.515625 30.90625 \r\nL 53.515625 0 \r\nL 44.484375 0 \r\nL 44.484375 32.71875 \r\nQ 44.484375 40.625 41.703125 44.40625 \r\nQ 38.921875 48.1875 33.109375 48.1875 \r\nQ 26.21875 48.1875 22.15625 43.53125 \r\nQ 18.109375 38.875 18.109375 30.90625 \r\nL 18.109375 0 \r\nL 9.078125 0 \r\nL 9.078125 54.6875 \r\nL 18.109375 54.6875 \r\nL 18.109375 46.1875 \r\nQ 21.1875 51.21875 25.484375 53.609375 \r\nQ 29.78125 56 35.6875 56 \r\nQ 41.65625 56 45.828125 52.96875 \r\nQ 50 49.953125 52 44.1875 \r\nz\r\n\" id=\"DejaVuSans-109\"/>\r\n     </defs>\r\n     <g transform=\"translate(193.484375 268.034687)scale(0.1 -0.1)\">\r\n      <use xlink:href=\"#DejaVuSans-100\"/>\r\n      <use x=\"63.476562\" xlink:href=\"#DejaVuSans-97\"/>\r\n      <use x=\"124.755859\" xlink:href=\"#DejaVuSans-116\"/>\r\n      <use x=\"163.964844\" xlink:href=\"#DejaVuSans-97\"/>\r\n      <use x=\"225.244141\" xlink:href=\"#DejaVuSans-32\"/>\r\n      <use x=\"257.03125\" xlink:href=\"#DejaVuSans-110\"/>\r\n      <use x=\"320.410156\" xlink:href=\"#DejaVuSans-117\"/>\r\n      <use x=\"383.789062\" xlink:href=\"#DejaVuSans-109\"/>\r\n     </g>\r\n    </g>\r\n   </g>\r\n   <g id=\"matplotlib.axis_2\">\r\n    <g id=\"ytick_1\">\r\n     <g id=\"line2d_6\">\r\n      <defs>\r\n       <path d=\"M 0 0 \r\nL -3.5 0 \r\n\" id=\"mbfb8b604f6\" style=\"stroke:#000000;stroke-width:0.8;\"/>\r\n      </defs>\r\n      <g>\r\n       <use style=\"stroke:#000000;stroke-width:0.8;\" x=\"50.14375\" xlink:href=\"#mbfb8b604f6\" y=\"220.226496\"/>\r\n      </g>\r\n     </g>\r\n     <g id=\"text_7\">\r\n      <!-- 0.25 -->\r\n      <defs>\r\n       <path d=\"M 10.6875 12.40625 \r\nL 21 12.40625 \r\nL 21 0 \r\nL 10.6875 0 \r\nz\r\n\" id=\"DejaVuSans-46\"/>\r\n      </defs>\r\n      <g transform=\"translate(20.878125 224.025715)scale(0.1 -0.1)\">\r\n       <use xlink:href=\"#DejaVuSans-48\"/>\r\n       <use x=\"63.623047\" xlink:href=\"#DejaVuSans-46\"/>\r\n       <use x=\"95.410156\" xlink:href=\"#DejaVuSans-50\"/>\r\n       <use x=\"159.033203\" xlink:href=\"#DejaVuSans-53\"/>\r\n      </g>\r\n     </g>\r\n    </g>\r\n    <g id=\"ytick_2\">\r\n     <g id=\"line2d_7\">\r\n      <g>\r\n       <use style=\"stroke:#000000;stroke-width:0.8;\" x=\"50.14375\" xlink:href=\"#mbfb8b604f6\" y=\"178.924236\"/>\r\n      </g>\r\n     </g>\r\n     <g id=\"text_8\">\r\n      <!-- 0.30 -->\r\n      <defs>\r\n       <path d=\"M 40.578125 39.3125 \r\nQ 47.65625 37.796875 51.625 33 \r\nQ 55.609375 28.21875 55.609375 21.1875 \r\nQ 55.609375 10.40625 48.1875 4.484375 \r\nQ 40.765625 -1.421875 27.09375 -1.421875 \r\nQ 22.515625 -1.421875 17.65625 -0.515625 \r\nQ 12.796875 0.390625 7.625 2.203125 \r\nL 7.625 11.71875 \r\nQ 11.71875 9.328125 16.59375 8.109375 \r\nQ 21.484375 6.890625 26.8125 6.890625 \r\nQ 36.078125 6.890625 40.9375 10.546875 \r\nQ 45.796875 14.203125 45.796875 21.1875 \r\nQ 45.796875 27.640625 41.28125 31.265625 \r\nQ 36.765625 34.90625 28.71875 34.90625 \r\nL 20.21875 34.90625 \r\nL 20.21875 43.015625 \r\nL 29.109375 43.015625 \r\nQ 36.375 43.015625 40.234375 45.921875 \r\nQ 44.09375 48.828125 44.09375 54.296875 \r\nQ 44.09375 59.90625 40.109375 62.90625 \r\nQ 36.140625 65.921875 28.71875 65.921875 \r\nQ 24.65625 65.921875 20.015625 65.03125 \r\nQ 15.375 64.15625 9.8125 62.3125 \r\nL 9.8125 71.09375 \r\nQ 15.4375 72.65625 20.34375 73.4375 \r\nQ 25.25 74.21875 29.59375 74.21875 \r\nQ 40.828125 74.21875 47.359375 69.109375 \r\nQ 53.90625 64.015625 53.90625 55.328125 \r\nQ 53.90625 49.265625 50.4375 45.09375 \r\nQ 46.96875 40.921875 40.578125 39.3125 \r\nz\r\n\" id=\"DejaVuSans-51\"/>\r\n      </defs>\r\n      <g transform=\"translate(20.878125 182.723455)scale(0.1 -0.1)\">\r\n       <use xlink:href=\"#DejaVuSans-48\"/>\r\n       <use x=\"63.623047\" xlink:href=\"#DejaVuSans-46\"/>\r\n       <use x=\"95.410156\" xlink:href=\"#DejaVuSans-51\"/>\r\n       <use x=\"159.033203\" xlink:href=\"#DejaVuSans-48\"/>\r\n      </g>\r\n     </g>\r\n    </g>\r\n    <g id=\"ytick_3\">\r\n     <g id=\"line2d_8\">\r\n      <g>\r\n       <use style=\"stroke:#000000;stroke-width:0.8;\" x=\"50.14375\" xlink:href=\"#mbfb8b604f6\" y=\"137.621976\"/>\r\n      </g>\r\n     </g>\r\n     <g id=\"text_9\">\r\n      <!-- 0.35 -->\r\n      <g transform=\"translate(20.878125 141.421194)scale(0.1 -0.1)\">\r\n       <use xlink:href=\"#DejaVuSans-48\"/>\r\n       <use x=\"63.623047\" xlink:href=\"#DejaVuSans-46\"/>\r\n       <use x=\"95.410156\" xlink:href=\"#DejaVuSans-51\"/>\r\n       <use x=\"159.033203\" xlink:href=\"#DejaVuSans-53\"/>\r\n      </g>\r\n     </g>\r\n    </g>\r\n    <g id=\"ytick_4\">\r\n     <g id=\"line2d_9\">\r\n      <g>\r\n       <use style=\"stroke:#000000;stroke-width:0.8;\" x=\"50.14375\" xlink:href=\"#mbfb8b604f6\" y=\"96.319715\"/>\r\n      </g>\r\n     </g>\r\n     <g id=\"text_10\">\r\n      <!-- 0.40 -->\r\n      <defs>\r\n       <path d=\"M 37.796875 64.3125 \r\nL 12.890625 25.390625 \r\nL 37.796875 25.390625 \r\nz\r\nM 35.203125 72.90625 \r\nL 47.609375 72.90625 \r\nL 47.609375 25.390625 \r\nL 58.015625 25.390625 \r\nL 58.015625 17.1875 \r\nL 47.609375 17.1875 \r\nL 47.609375 0 \r\nL 37.796875 0 \r\nL 37.796875 17.1875 \r\nL 4.890625 17.1875 \r\nL 4.890625 26.703125 \r\nz\r\n\" id=\"DejaVuSans-52\"/>\r\n      </defs>\r\n      <g transform=\"translate(20.878125 100.118934)scale(0.1 -0.1)\">\r\n       <use xlink:href=\"#DejaVuSans-48\"/>\r\n       <use x=\"63.623047\" xlink:href=\"#DejaVuSans-46\"/>\r\n       <use x=\"95.410156\" xlink:href=\"#DejaVuSans-52\"/>\r\n       <use x=\"159.033203\" xlink:href=\"#DejaVuSans-48\"/>\r\n      </g>\r\n     </g>\r\n    </g>\r\n    <g id=\"ytick_5\">\r\n     <g id=\"line2d_10\">\r\n      <g>\r\n       <use style=\"stroke:#000000;stroke-width:0.8;\" x=\"50.14375\" xlink:href=\"#mbfb8b604f6\" y=\"55.017455\"/>\r\n      </g>\r\n     </g>\r\n     <g id=\"text_11\">\r\n      <!-- 0.45 -->\r\n      <g transform=\"translate(20.878125 58.816673)scale(0.1 -0.1)\">\r\n       <use xlink:href=\"#DejaVuSans-48\"/>\r\n       <use x=\"63.623047\" xlink:href=\"#DejaVuSans-46\"/>\r\n       <use x=\"95.410156\" xlink:href=\"#DejaVuSans-52\"/>\r\n       <use x=\"159.033203\" xlink:href=\"#DejaVuSans-53\"/>\r\n      </g>\r\n     </g>\r\n    </g>\r\n    <g id=\"text_12\">\r\n     <!-- loss -->\r\n     <defs>\r\n      <path d=\"M 9.421875 75.984375 \r\nL 18.40625 75.984375 \r\nL 18.40625 0 \r\nL 9.421875 0 \r\nz\r\n\" id=\"DejaVuSans-108\"/>\r\n      <path d=\"M 30.609375 48.390625 \r\nQ 23.390625 48.390625 19.1875 42.75 \r\nQ 14.984375 37.109375 14.984375 27.296875 \r\nQ 14.984375 17.484375 19.15625 11.84375 \r\nQ 23.34375 6.203125 30.609375 6.203125 \r\nQ 37.796875 6.203125 41.984375 11.859375 \r\nQ 46.1875 17.53125 46.1875 27.296875 \r\nQ 46.1875 37.015625 41.984375 42.703125 \r\nQ 37.796875 48.390625 30.609375 48.390625 \r\nz\r\nM 30.609375 56 \r\nQ 42.328125 56 49.015625 48.375 \r\nQ 55.71875 40.765625 55.71875 27.296875 \r\nQ 55.71875 13.875 49.015625 6.21875 \r\nQ 42.328125 -1.421875 30.609375 -1.421875 \r\nQ 18.84375 -1.421875 12.171875 6.21875 \r\nQ 5.515625 13.875 5.515625 27.296875 \r\nQ 5.515625 40.765625 12.171875 48.375 \r\nQ 18.84375 56 30.609375 56 \r\nz\r\n\" id=\"DejaVuSans-111\"/>\r\n      <path d=\"M 44.28125 53.078125 \r\nL 44.28125 44.578125 \r\nQ 40.484375 46.53125 36.375 47.5 \r\nQ 32.28125 48.484375 27.875 48.484375 \r\nQ 21.1875 48.484375 17.84375 46.4375 \r\nQ 14.5 44.390625 14.5 40.28125 \r\nQ 14.5 37.15625 16.890625 35.375 \r\nQ 19.28125 33.59375 26.515625 31.984375 \r\nL 29.59375 31.296875 \r\nQ 39.15625 29.25 43.1875 25.515625 \r\nQ 47.21875 21.78125 47.21875 15.09375 \r\nQ 47.21875 7.46875 41.1875 3.015625 \r\nQ 35.15625 -1.421875 24.609375 -1.421875 \r\nQ 20.21875 -1.421875 15.453125 -0.5625 \r\nQ 10.6875 0.296875 5.421875 2 \r\nL 5.421875 11.28125 \r\nQ 10.40625 8.6875 15.234375 7.390625 \r\nQ 20.0625 6.109375 24.8125 6.109375 \r\nQ 31.15625 6.109375 34.5625 8.28125 \r\nQ 37.984375 10.453125 37.984375 14.40625 \r\nQ 37.984375 18.0625 35.515625 20.015625 \r\nQ 33.0625 21.96875 24.703125 23.78125 \r\nL 21.578125 24.515625 \r\nQ 13.234375 26.265625 9.515625 29.90625 \r\nQ 5.8125 33.546875 5.8125 39.890625 \r\nQ 5.8125 47.609375 11.28125 51.796875 \r\nQ 16.75 56 26.8125 56 \r\nQ 31.78125 56 36.171875 55.265625 \r\nQ 40.578125 54.546875 44.28125 53.078125 \r\nz\r\n\" id=\"DejaVuSans-115\"/>\r\n     </defs>\r\n     <g transform=\"translate(14.798438 140.695937)rotate(-90)scale(0.1 -0.1)\">\r\n      <use xlink:href=\"#DejaVuSans-108\"/>\r\n      <use x=\"27.783203\" xlink:href=\"#DejaVuSans-111\"/>\r\n      <use x=\"88.964844\" xlink:href=\"#DejaVuSans-115\"/>\r\n      <use x=\"141.064453\" xlink:href=\"#DejaVuSans-115\"/>\r\n     </g>\r\n    </g>\r\n   </g>\r\n   <g id=\"line2d_11\">\r\n    <path clip-path=\"url(#pd89696dc58)\" d=\"M 65.361932 42.312032 \r\nL 65.659017 78.531164 \r\nL 65.807559 44.867535 \r\nL 65.956102 65.5248 \r\nL 66.104644 69.377527 \r\nL 66.253187 69.58582 \r\nL 66.40173 38.277648 \r\nL 66.698815 81.642813 \r\nL 66.847357 78.729511 \r\nL 66.9959 62.682742 \r\nL 67.144442 94.715892 \r\nL 67.292985 70.827383 \r\nL 67.59007 77.110234 \r\nL 67.738612 32.201761 \r\nL 67.887155 88.924049 \r\nL 68.035697 62.169259 \r\nL 68.18424 62.511893 \r\nL 68.332782 62.091687 \r\nL 68.481325 37.653826 \r\nL 68.629867 80.99398 \r\nL 68.77841 68.942649 \r\nL 68.926952 70.238298 \r\nL 69.075495 57.03398 \r\nL 69.224038 68.174048 \r\nL 69.37258 87.886792 \r\nL 69.521123 52.261349 \r\nL 69.669665 47.141456 \r\nL 69.818208 76.830449 \r\nL 69.96675 62.152691 \r\nL 70.115293 76.546948 \r\nL 70.263835 53.088811 \r\nL 70.412378 86.921838 \r\nL 70.56092 66.690637 \r\nL 70.709463 82.153884 \r\nL 70.858005 58.658723 \r\nL 71.006548 68.412597 \r\nL 71.15509 48.967132 \r\nL 71.303633 78.657356 \r\nL 71.452175 77.380909 \r\nL 71.600718 48.414087 \r\nL 71.897803 96.825218 \r\nL 72.046346 62.75507 \r\nL 72.343431 65.609806 \r\nL 72.491973 89.075869 \r\nL 72.640516 65.676939 \r\nL 72.937601 71.485596 \r\nL 73.234686 47.388892 \r\nL 73.531771 92.752774 \r\nL 73.680313 82.088302 \r\nL 73.828856 83.954277 \r\nL 73.977398 91.220644 \r\nL 74.125941 71.217678 \r\nL 74.274483 98.24184 \r\nL 74.423026 72.750596 \r\nL 74.571568 95.170564 \r\nL 74.720111 69.750195 \r\nL 74.868654 68.200906 \r\nL 75.017196 60.892517 \r\nL 75.165739 47.581799 \r\nL 75.314281 87.481948 \r\nL 75.611366 57.169379 \r\nL 75.759909 78.821928 \r\nL 75.908451 65.694295 \r\nL 76.205536 83.242569 \r\nL 76.354079 68.474758 \r\nL 76.502621 72.861968 \r\nL 76.799706 60.437575 \r\nL 77.096791 86.761352 \r\nL 77.245334 81.385235 \r\nL 77.393876 58.174116 \r\nL 77.542419 57.417775 \r\nL 77.839504 90.44451 \r\nL 77.988047 96.780536 \r\nL 78.136589 79.936978 \r\nL 78.285132 94.610232 \r\nL 78.433674 97.939407 \r\nL 78.730759 74.703744 \r\nL 78.879302 70.95008 \r\nL 79.027844 62.286958 \r\nL 79.324929 116.396137 \r\nL 79.473472 64.946177 \r\nL 79.622014 87.510554 \r\nL 79.770557 54.858383 \r\nL 80.067642 90.849502 \r\nL 80.216184 76.11719 \r\nL 80.364727 127.649054 \r\nL 80.513269 56.536128 \r\nL 80.810355 85.11625 \r\nL 80.958897 78.655534 \r\nL 81.10744 94.396645 \r\nL 81.255982 86.312023 \r\nL 81.404525 43.702386 \r\nL 81.553067 57.862156 \r\nL 81.70161 46.381053 \r\nL 81.998695 90.64692 \r\nL 82.147237 87.483917 \r\nL 82.444322 60.218474 \r\nL 82.592865 90.388652 \r\nL 82.741407 74.212958 \r\nL 82.88995 72.691734 \r\nL 83.038492 88.440427 \r\nL 83.187035 69.031298 \r\nL 83.335577 94.048546 \r\nL 83.48412 77.841464 \r\nL 83.632663 80.956954 \r\nL 83.781205 68.168041 \r\nL 83.929748 99.851984 \r\nL 84.226833 83.363345 \r\nL 84.375375 84.736319 \r\nL 84.523918 90.258275 \r\nL 84.67246 88.138068 \r\nL 84.821003 62.26426 \r\nL 84.969545 69.106187 \r\nL 85.26663 67.260102 \r\nL 85.415173 90.209605 \r\nL 85.712258 81.271622 \r\nL 85.8608 90.006013 \r\nL 86.009343 74.966025 \r\nL 86.306428 91.901826 \r\nL 86.454971 88.951499 \r\nL 86.603513 62.532326 \r\nL 86.752056 86.365149 \r\nL 86.900598 89.718917 \r\nL 87.049141 77.525737 \r\nL 87.197683 97.786947 \r\nL 87.346226 97.061576 \r\nL 87.494768 70.914457 \r\nL 87.643311 82.117942 \r\nL 87.791853 103.633221 \r\nL 87.940396 86.921714 \r\nL 88.088938 95.405986 \r\nL 88.237481 82.164519 \r\nL 88.386023 118.741992 \r\nL 88.534566 81.533977 \r\nL 88.683108 81.425042 \r\nL 88.831651 98.345629 \r\nL 88.980193 93.041913 \r\nL 89.128736 67.374527 \r\nL 89.277279 114.322015 \r\nL 89.574364 87.32422 \r\nL 89.722906 108.510822 \r\nL 89.871449 62.615092 \r\nL 90.019991 72.090167 \r\nL 90.168534 102.049393 \r\nL 90.317076 67.691854 \r\nL 90.465619 103.608947 \r\nL 90.614161 79.133149 \r\nL 90.762704 114.946846 \r\nL 90.911246 69.167141 \r\nL 91.208331 111.766168 \r\nL 91.505416 93.560739 \r\nL 91.653959 82.239309 \r\nL 91.802501 102.83205 \r\nL 91.951044 74.700543 \r\nL 92.099587 96.613576 \r\nL 92.248129 79.12889 \r\nL 92.545214 96.706583 \r\nL 92.693757 71.420925 \r\nL 92.842299 71.378926 \r\nL 92.990842 72.518694 \r\nL 93.139384 106.368386 \r\nL 93.287927 110.833192 \r\nL 93.585012 96.819875 \r\nL 93.733554 108.666236 \r\nL 93.882097 102.24001 \r\nL 94.030639 68.309915 \r\nL 94.179182 116.528139 \r\nL 94.327724 83.763783 \r\nL 94.476267 93.738801 \r\nL 94.624809 62.5759 \r\nL 94.773352 99.481359 \r\nL 94.921895 105.866547 \r\nL 95.070437 83.684882 \r\nL 95.21898 122.093348 \r\nL 95.367522 91.438686 \r\nL 95.516065 95.386932 \r\nL 95.664607 53.99611 \r\nL 95.961692 95.544561 \r\nL 96.110235 74.049986 \r\nL 96.258777 99.705777 \r\nL 96.40732 83.776757 \r\nL 96.555862 101.794694 \r\nL 96.704405 96.1528 \r\nL 96.852947 78.808831 \r\nL 97.00149 74.941874 \r\nL 97.298575 121.274896 \r\nL 97.447117 65.374162 \r\nL 97.59566 98.296639 \r\nL 97.744203 94.307553 \r\nL 97.892745 73.953213 \r\nL 98.041288 118.405438 \r\nL 98.18983 89.324487 \r\nL 98.486915 110.023553 \r\nL 98.784 70.482533 \r\nL 99.081085 104.573606 \r\nL 99.229628 104.272946 \r\nL 99.526713 98.862978 \r\nL 99.675255 71.675894 \r\nL 99.97234 122.093274 \r\nL 100.120883 82.609269 \r\nL 100.269425 135.447811 \r\nL 100.417968 88.655811 \r\nL 100.566511 89.358804 \r\nL 100.715053 129.198885 \r\nL 101.012138 82.09581 \r\nL 101.309223 123.882072 \r\nL 101.457766 83.925105 \r\nL 101.754851 133.027782 \r\nL 101.903393 64.181933 \r\nL 102.051936 67.505175 \r\nL 102.200478 67.106116 \r\nL 102.349021 103.553384 \r\nL 102.497563 95.566176 \r\nL 102.646106 109.542221 \r\nL 102.794648 102.634958 \r\nL 102.943191 116.78781 \r\nL 103.240276 107.193067 \r\nL 103.388819 130.182401 \r\nL 103.537361 93.113946 \r\nL 103.834446 116.592023 \r\nL 104.131531 98.216163 \r\nL 104.280074 94.359226 \r\nL 104.428616 115.991292 \r\nL 104.577159 92.523112 \r\nL 104.725701 113.112874 \r\nL 105.022786 68.015606 \r\nL 105.171329 98.479428 \r\nL 105.319871 102.392544 \r\nL 105.468414 90.156454 \r\nL 105.616956 108.840631 \r\nL 105.765499 107.4391 \r\nL 105.914041 107.256926 \r\nL 106.062584 107.434939 \r\nL 106.211127 96.41124 \r\nL 106.359669 100.886386 \r\nL 106.508212 85.300369 \r\nL 106.656754 110.009324 \r\nL 106.805297 93.972599 \r\nL 106.953839 92.477913 \r\nL 107.250924 86.961226 \r\nL 107.696552 126.917356 \r\nL 107.845094 116.353646 \r\nL 107.993637 131.283124 \r\nL 108.142179 71.564448 \r\nL 108.290722 105.689715 \r\nL 108.587807 97.970351 \r\nL 108.736349 78.93394 \r\nL 108.884892 111.116497 \r\nL 109.033435 113.966678 \r\nL 109.181977 101.995922 \r\nL 109.33052 104.934655 \r\nL 109.479062 93.595229 \r\nL 109.627605 108.571112 \r\nL 109.92469 75.324365 \r\nL 110.221775 104.594704 \r\nL 110.370317 87.921405 \r\nL 110.667402 141.172127 \r\nL 110.815945 87.31489 \r\nL 110.964487 93.311186 \r\nL 111.11303 86.464902 \r\nL 111.410115 141.039633 \r\nL 111.558657 112.056292 \r\nL 111.7072 123.023344 \r\nL 112.004285 114.437474 \r\nL 112.152828 128.873015 \r\nL 112.30137 101.616706 \r\nL 112.449913 114.220318 \r\nL 112.598455 110.908647 \r\nL 112.746998 77.717635 \r\nL 112.89554 123.737835 \r\nL 113.044083 95.285924 \r\nL 113.341168 112.413771 \r\nL 113.48971 97.553592 \r\nL 113.638253 120.649129 \r\nL 113.786795 102.489145 \r\nL 113.935338 99.466145 \r\nL 114.08388 78.984259 \r\nL 114.232423 93.221157 \r\nL 114.380965 128.236343 \r\nL 114.529508 103.44051 \r\nL 114.678051 116.931259 \r\nL 114.826593 106.815918 \r\nL 115.123678 112.940893 \r\nL 115.272221 96.083721 \r\nL 115.420763 98.84609 \r\nL 115.717848 114.99335 \r\nL 115.866391 96.430073 \r\nL 116.014933 115.321287 \r\nL 116.163476 107.327924 \r\nL 116.312018 123.182156 \r\nL 116.460561 74.855908 \r\nL 116.609103 111.64453 \r\nL 116.757646 93.823561 \r\nL 116.906188 93.884393 \r\nL 117.054731 112.176305 \r\nL 117.203273 98.716796 \r\nL 117.500359 140.296438 \r\nL 117.797444 94.00576 \r\nL 117.945986 123.057588 \r\nL 118.094529 129.425174 \r\nL 118.391614 121.338066 \r\nL 118.540156 118.701003 \r\nL 118.688699 94.384706 \r\nL 118.837241 117.481055 \r\nL 118.985784 86.203581 \r\nL 119.282869 113.769118 \r\nL 119.431411 81.142845 \r\nL 119.579954 145.361629 \r\nL 119.877039 108.657251 \r\nL 120.025581 86.911153 \r\nL 120.174124 111.823454 \r\nL 120.322667 91.670465 \r\nL 120.471209 108.898877 \r\nL 120.619752 151.90777 \r\nL 120.768294 78.711786 \r\nL 121.065379 96.22242 \r\nL 121.213922 95.669326 \r\nL 121.362464 119.726641 \r\nL 121.511007 120.807448 \r\nL 121.659549 129.978859 \r\nL 121.808092 113.821702 \r\nL 121.956634 68.579114 \r\nL 122.105177 115.433496 \r\nL 122.253719 106.180476 \r\nL 122.402262 127.322914 \r\nL 122.550804 120.058665 \r\nL 122.699347 124.120399 \r\nL 122.847889 137.148575 \r\nL 123.144975 111.243157 \r\nL 123.293517 144.297317 \r\nL 123.590602 83.032996 \r\nL 123.739145 118.552088 \r\nL 123.887687 106.439311 \r\nL 124.03623 79.84146 \r\nL 124.184772 113.664073 \r\nL 124.333315 120.063022 \r\nL 124.481857 106.645389 \r\nL 124.778942 127.028138 \r\nL 124.927485 124.797864 \r\nL 125.076027 85.732243 \r\nL 125.373112 132.892727 \r\nL 125.670197 116.789706 \r\nL 125.81874 112.328321 \r\nL 125.967283 76.582865 \r\nL 126.115825 116.446801 \r\nL 126.264368 102.430653 \r\nL 126.41291 125.233259 \r\nL 126.561453 108.602082 \r\nL 126.709995 109.267237 \r\nL 126.858538 135.48821 \r\nL 127.00708 100.705812 \r\nL 127.155623 118.454084 \r\nL 127.304165 114.946945 \r\nL 127.452708 126.620413 \r\nL 127.60125 110.883019 \r\nL 127.749793 115.69979 \r\nL 127.898335 139.617964 \r\nL 128.046878 112.486542 \r\nL 128.19542 129.269391 \r\nL 128.343963 81.848473 \r\nL 128.492505 131.199496 \r\nL 128.641048 138.813323 \r\nL 128.789591 107.027436 \r\nL 128.938133 138.73004 \r\nL 129.086676 127.756635 \r\nL 129.235218 130.644137 \r\nL 129.383761 121.57947 \r\nL 129.532303 102.816984 \r\nL 129.680846 99.510408 \r\nL 129.829388 89.863229 \r\nL 130.275016 130.974635 \r\nL 130.423558 128.222409 \r\nL 130.572101 103.812391 \r\nL 130.720643 101.502945 \r\nL 130.869186 102.357389 \r\nL 131.166271 118.175777 \r\nL 131.314813 102.195181 \r\nL 131.463356 126.503403 \r\nL 131.760441 118.874807 \r\nL 131.908984 112.442254 \r\nL 132.057526 70.409122 \r\nL 132.206069 126.734124 \r\nL 132.354611 117.275198 \r\nL 132.503154 129.375766 \r\nL 132.651696 103.453164 \r\nL 132.800239 119.874226 \r\nL 132.948781 116.303302 \r\nL 133.097324 100.359929 \r\nL 133.245866 106.994842 \r\nL 133.394409 94.480396 \r\nL 133.542951 153.434066 \r\nL 133.691494 118.448939 \r\nL 133.988579 151.167086 \r\nL 134.137121 126.509706 \r\nL 134.285664 122.571431 \r\nL 134.434207 105.343019 \r\nL 134.582749 121.168373 \r\nL 134.731292 125.120484 \r\nL 134.879834 146.313733 \r\nL 135.028377 103.761013 \r\nL 135.176919 131.31141 \r\nL 135.325462 112.005628 \r\nL 135.474004 136.94523 \r\nL 135.771089 109.078737 \r\nL 135.919632 134.112995 \r\nL 136.068174 122.040739 \r\nL 136.216717 125.513166 \r\nL 136.365259 103.652447 \r\nL 136.513802 117.614238 \r\nL 136.810887 105.754313 \r\nL 136.959429 112.083224 \r\nL 137.107972 111.062042 \r\nL 137.256515 105.346244 \r\nL 137.5536 90.833673 \r\nL 137.702142 138.901849 \r\nL 138.14777 113.371389 \r\nL 138.296312 113.576359 \r\nL 138.593397 130.830496 \r\nL 138.74194 124.631717 \r\nL 138.890482 102.904994 \r\nL 139.039025 114.698278 \r\nL 139.187567 111.697606 \r\nL 139.33611 121.360886 \r\nL 139.484652 105.218993 \r\nL 139.633195 125.968281 \r\nL 139.781737 128.746183 \r\nL 139.93028 145.831367 \r\nL 140.078823 145.647494 \r\nL 140.375908 119.319163 \r\nL 140.52445 126.011707 \r\nL 140.672993 120.759861 \r\nL 140.821535 89.309076 \r\nL 140.970078 91.659387 \r\nL 141.11862 112.481323 \r\nL 141.415705 96.763328 \r\nL 141.564248 114.147055 \r\nL 141.71279 157.474506 \r\nL 141.861333 125.36403 \r\nL 142.009875 144.746276 \r\nL 142.158418 124.674454 \r\nL 142.30696 136.591 \r\nL 142.455503 128.70352 \r\nL 142.604045 95.818166 \r\nL 142.752588 95.878481 \r\nL 142.901131 135.376985 \r\nL 143.049673 125.184343 \r\nL 143.198216 144.669025 \r\nL 143.346758 110.155383 \r\nL 143.495301 138.303384 \r\nL 143.643843 109.355247 \r\nL 143.792386 131.233592 \r\nL 144.089471 119.607046 \r\nL 144.238013 111.914147 \r\nL 144.386556 115.953898 \r\nL 144.683641 140.743305 \r\nL 144.832183 110.404099 \r\nL 144.980726 135.636558 \r\nL 145.129268 102.985002 \r\nL 145.426353 132.205267 \r\nL 145.574896 93.786462 \r\nL 145.723439 134.106595 \r\nL 145.871981 127.389112 \r\nL 146.020524 128.348848 \r\nL 146.317609 109.00119 \r\nL 146.614694 133.245676 \r\nL 146.763236 141.66764 \r\nL 146.911779 142.152345 \r\nL 147.060321 133.374601 \r\nL 147.208864 114.370685 \r\nL 147.357406 128.99037 \r\nL 147.505949 107.363793 \r\nL 147.654491 117.432385 \r\nL 147.803034 96.00487 \r\nL 147.951576 94.021885 \r\nL 148.248661 127.427886 \r\nL 148.397204 135.661447 \r\nL 148.545747 105.408995 \r\nL 148.694289 139.552578 \r\nL 148.842832 120.927855 \r\nL 148.991374 124.190118 \r\nL 149.139917 83.138459 \r\nL 149.288459 156.85157 \r\nL 149.585544 122.235271 \r\nL 149.734087 130.036662 \r\nL 149.882629 146.176291 \r\nL 150.031172 119.048315 \r\nL 150.179714 119.594688 \r\nL 150.328257 136.007429 \r\nL 150.625342 93.914501 \r\nL 150.922427 130.804278 \r\nL 151.070969 146.949249 \r\nL 151.219512 139.457306 \r\nL 151.368055 101.682854 \r\nL 151.516597 140.225095 \r\nL 151.66514 116.080361 \r\nL 151.813682 140.520462 \r\nL 151.962225 126.711722 \r\nL 152.110767 132.659175 \r\nL 152.25931 129.174685 \r\nL 152.407852 138.079212 \r\nL 152.556395 133.332603 \r\nL 152.704937 102.966342 \r\nL 153.002022 130.106971 \r\nL 153.150565 139.345319 \r\nL 153.299107 133.751208 \r\nL 153.44765 113.159796 \r\nL 153.744735 131.809311 \r\nL 153.893277 131.368819 \r\nL 154.04182 120.876821 \r\nL 154.190363 131.107622 \r\nL 154.338905 151.84652 \r\nL 154.63599 119.928558 \r\nL 154.784533 134.199429 \r\nL 154.933075 103.620788 \r\nL 155.081618 151.337394 \r\nL 155.23016 141.928714 \r\nL 155.378703 110.585707 \r\nL 155.527245 132.530669 \r\nL 155.675788 98.787573 \r\nL 155.82433 109.609945 \r\nL 155.972873 132.189069 \r\nL 156.121415 129.786641 \r\nL 156.269958 140.437721 \r\nL 156.567043 107.304882 \r\nL 156.864128 149.8561 \r\nL 157.012671 141.289112 \r\nL 157.161213 99.38621 \r\nL 157.309756 160.696592 \r\nL 157.606841 103.134902 \r\nL 157.755383 150.038767 \r\nL 158.052468 131.083693 \r\nL 158.201011 118.740269 \r\nL 158.349553 123.178611 \r\nL 158.646638 148.688835 \r\nL 158.795181 130.405441 \r\nL 159.092266 122.953552 \r\nL 159.240808 144.208101 \r\nL 159.389351 137.874537 \r\nL 159.537893 124.382754 \r\nL 159.686436 135.861099 \r\nL 159.834979 78.359428 \r\nL 159.983521 143.257745 \r\nL 160.280606 139.998855 \r\nL 160.577691 126.498086 \r\nL 160.874776 76.37632 \r\nL 161.023319 118.579611 \r\nL 161.171861 115.053984 \r\nL 161.320404 142.415142 \r\nL 161.468946 139.806169 \r\nL 161.617489 145.194891 \r\nL 161.766031 160.58165 \r\nL 162.063116 95.973039 \r\nL 162.211659 150.376625 \r\nL 162.508744 105.946654 \r\nL 162.657287 145.042284 \r\nL 162.805829 102.102395 \r\nL 163.102914 151.188209 \r\nL 163.251457 151.690885 \r\nL 163.399999 112.216137 \r\nL 163.548542 142.367531 \r\nL 163.697084 139.624906 \r\nL 163.845627 158.336483 \r\nL 163.994169 119.669035 \r\nL 164.291254 137.267062 \r\nL 164.439797 126.886264 \r\nL 164.588339 133.464752 \r\nL 164.736882 124.075127 \r\nL 164.885424 80.389877 \r\nL 165.033967 135.776487 \r\nL 165.182509 130.340794 \r\nL 165.331052 135.277947 \r\nL 165.479595 101.862443 \r\nL 165.77668 171.906723 \r\nL 165.925222 131.892717 \r\nL 166.073765 136.126581 \r\nL 166.222307 134.720372 \r\nL 166.37085 115.743955 \r\nL 166.667935 127.67542 \r\nL 166.816477 150.626474 \r\nL 167.113562 119.072785 \r\nL 167.410647 156.064974 \r\nL 167.856275 136.427389 \r\nL 168.004817 121.68582 \r\nL 168.15336 138.513278 \r\nL 168.450445 120.53015 \r\nL 168.598988 123.869812 \r\nL 168.74753 95.203527 \r\nL 168.896073 149.230088 \r\nL 169.044615 106.751812 \r\nL 169.193158 132.367107 \r\nL 169.3417 120.505852 \r\nL 169.490243 147.283094 \r\nL 169.638785 124.497351 \r\nL 169.787328 130.771856 \r\nL 169.93587 123.662183 \r\nL 170.084413 137.009606 \r\nL 170.232955 169.190046 \r\nL 170.53004 115.272494 \r\nL 170.678583 127.52722 \r\nL 170.827125 161.879071 \r\nL 171.124211 123.487789 \r\nL 171.421296 144.248819 \r\nL 171.718381 122.652227 \r\nL 172.164008 155.301124 \r\nL 172.461093 139.440172 \r\nL 172.609636 133.602564 \r\nL 172.758178 135.630921 \r\nL 172.906721 103.789225 \r\nL 173.203806 141.540438 \r\nL 173.352348 143.273722 \r\nL 173.500891 149.920083 \r\nL 173.649433 116.951077 \r\nL 173.797976 133.556898 \r\nL 174.095061 106.338451 \r\nL 174.243604 162.842992 \r\nL 174.392146 157.503604 \r\nL 174.540689 107.96184 \r\nL 174.689231 98.41264 \r\nL 174.837774 107.283193 \r\nL 175.134859 156.58892 \r\nL 175.283401 147.252543 \r\nL 175.431944 154.772476 \r\nL 175.580486 144.008498 \r\nL 175.729029 141.90065 \r\nL 175.877571 101.765472 \r\nL 176.026114 140.930378 \r\nL 176.174656 140.417263 \r\nL 176.323199 157.686886 \r\nL 176.471741 110.674504 \r\nL 176.620284 155.418257 \r\nL 176.768827 124.756973 \r\nL 176.917369 127.047586 \r\nL 177.065912 122.873273 \r\nL 177.214454 168.831238 \r\nL 177.362997 143.904092 \r\nL 177.511539 160.819608 \r\nL 177.660082 100.560787 \r\nL 177.808624 142.653642 \r\nL 177.957167 147.648057 \r\nL 178.105709 132.449676 \r\nL 178.402794 150.389722 \r\nL 178.551337 110.47596 \r\nL 178.699879 118.565308 \r\nL 178.848422 136.989148 \r\nL 178.996964 115.690977 \r\nL 179.294049 145.880652 \r\nL 179.442592 141.629678 \r\nL 179.591135 158.141754 \r\nL 179.739677 145.81566 \r\nL 180.036762 105.730261 \r\nL 180.185305 131.267024 \r\nL 180.333847 88.165813 \r\nL 180.630932 152.390604 \r\nL 180.779475 146.328529 \r\nL 180.928017 147.190653 \r\nL 181.07656 153.588962 \r\nL 181.225102 144.326268 \r\nL 181.373645 151.193945 \r\nL 181.522187 122.957122 \r\nL 181.67073 124.62278 \r\nL 181.819272 140.935424 \r\nL 181.967815 170.222011 \r\nL 182.116357 133.109809 \r\nL 182.2649 127.055587 \r\nL 182.413443 91.878537 \r\nL 182.710528 147.653818 \r\nL 182.85907 152.960734 \r\nL 183.156155 120.470894 \r\nL 183.304698 106.627122 \r\nL 183.45324 127.490366 \r\nL 183.601783 125.081809 \r\nL 183.750325 159.058038 \r\nL 183.898868 131.803796 \r\nL 184.04741 154.352098 \r\nL 184.195953 136.841095 \r\nL 184.344495 168.424769 \r\nL 184.493038 145.920164 \r\nL 184.64158 98.215375 \r\nL 184.938665 176.897765 \r\nL 185.087208 115.810177 \r\nL 185.384293 144.531016 \r\nL 185.532836 133.921861 \r\nL 185.681378 153.649621 \r\nL 185.829921 146.146232 \r\nL 185.978463 162.051472 \r\nL 186.127006 134.50457 \r\nL 186.275548 152.561872 \r\nL 186.424091 155.929377 \r\nL 186.572633 116.552486 \r\nL 186.721176 125.82909 \r\nL 186.869718 127.085202 \r\nL 187.018261 116.863609 \r\nL 187.166803 163.01586 \r\nL 187.315346 158.032031 \r\nL 187.463888 111.88783 \r\nL 187.612431 150.744788 \r\nL 187.760973 134.640585 \r\nL 187.909516 132.674956 \r\nL 188.058059 163.146951 \r\nL 188.206601 128.646185 \r\nL 188.355144 127.206988 \r\nL 188.503686 157.361779 \r\nL 188.652229 121.019729 \r\nL 188.800771 141.580024 \r\nL 188.949314 142.340057 \r\nL 189.097856 148.813698 \r\nL 189.246399 144.461421 \r\nL 189.394941 148.374339 \r\nL 189.543484 122.996166 \r\nL 189.692026 163.47282 \r\nL 189.840569 96.980804 \r\nL 189.989111 167.245736 \r\nL 190.137654 135.669029 \r\nL 190.286196 133.63799 \r\nL 190.434739 121.665461 \r\nL 190.583281 153.457797 \r\nL 190.880367 109.830351 \r\nL 191.028909 107.739292 \r\nL 191.177452 135.547515 \r\nL 191.325994 137.533651 \r\nL 191.474537 131.970017 \r\nL 191.623079 155.155435 \r\nL 191.920164 119.955663 \r\nL 192.068707 149.97732 \r\nL 192.365792 136.622462 \r\nL 192.662877 175.936972 \r\nL 192.811419 148.577709 \r\nL 193.108504 135.320044 \r\nL 193.257047 147.746357 \r\nL 193.405589 149.565263 \r\nL 193.554132 147.955635 \r\nL 193.702675 142.624691 \r\nL 193.851217 185.194152 \r\nL 193.99976 139.091704 \r\nL 194.148302 167.737432 \r\nL 194.296845 164.708426 \r\nL 194.445387 126.882719 \r\nL 194.59393 160.891616 \r\nL 194.742472 135.196239 \r\nL 194.891015 129.711704 \r\nL 195.039557 150.965612 \r\nL 195.1881 140.409681 \r\nL 195.485185 168.271521 \r\nL 195.633727 102.02182 \r\nL 195.78227 161.083859 \r\nL 195.930812 148.894322 \r\nL 196.079355 148.0465 \r\nL 196.227897 129.925585 \r\nL 196.37644 143.798702 \r\nL 196.524983 137.085454 \r\nL 196.673525 141.349943 \r\nL 196.97061 118.445886 \r\nL 197.119153 130.597929 \r\nL 197.267695 128.692688 \r\nL 197.416238 110.607272 \r\nL 197.56478 118.130012 \r\nL 197.713323 135.396581 \r\nL 197.861865 110.690309 \r\nL 198.15895 167.4559 \r\nL 198.307493 144.350566 \r\nL 198.456035 146.568112 \r\nL 198.604578 126.113133 \r\nL 198.75312 174.657004 \r\nL 198.901663 128.020639 \r\nL 199.050205 144.136807 \r\nL 199.198748 110.677261 \r\nL 199.347291 147.4906 \r\nL 199.495833 110.192236 \r\nL 199.792918 176.466211 \r\nL 200.090003 123.707776 \r\nL 200.238546 125.011672 \r\nL 200.387088 133.019879 \r\nL 200.535631 134.096846 \r\nL 200.684173 143.228277 \r\nL 200.832716 137.806124 \r\nL 201.129801 153.11797 \r\nL 201.278343 152.697715 \r\nL 201.426886 145.830825 \r\nL 201.575428 128.469476 \r\nL 201.723971 124.891683 \r\nL 201.872513 141.899394 \r\nL 202.021056 137.572055 \r\nL 202.169599 143.39829 \r\nL 202.318141 129.25878 \r\nL 202.466684 162.518895 \r\nL 202.763769 118.877391 \r\nL 203.060854 155.563159 \r\nL 203.209396 165.387417 \r\nL 203.357939 184.834704 \r\nL 203.506481 122.725884 \r\nL 203.655024 130.495617 \r\nL 203.803566 96.214665 \r\nL 203.952109 145.764184 \r\nL 204.100651 157.849783 \r\nL 204.249194 123.50059 \r\nL 204.397736 167.913082 \r\nL 204.546279 154.206925 \r\nL 204.694821 160.372495 \r\nL 204.843364 176.528224 \r\nL 204.991907 152.974126 \r\nL 205.140449 157.45006 \r\nL 205.288992 169.697991 \r\nL 205.437534 157.916449 \r\nL 205.586077 119.264461 \r\nL 205.734619 164.813151 \r\nL 205.883162 155.549841 \r\nL 206.031704 177.814493 \r\nL 206.328789 124.232879 \r\nL 206.625874 163.158177 \r\nL 206.774417 147.419724 \r\nL 206.922959 147.006042 \r\nL 207.071502 129.850845 \r\nL 207.368587 157.372907 \r\nL 207.517129 115.200216 \r\nL 207.665672 123.218886 \r\nL 207.962757 165.785269 \r\nL 208.1113 93.726886 \r\nL 208.408385 134.830316 \r\nL 208.556927 116.227897 \r\nL 209.002555 175.113596 \r\nL 209.151097 124.805471 \r\nL 209.448182 166.28445 \r\nL 209.89381 146.391329 \r\nL 210.042352 141.203663 \r\nL 210.190895 149.683725 \r\nL 210.339437 122.186749 \r\nL 210.48798 144.713682 \r\nL 210.636523 145.928879 \r\nL 210.785065 121.512485 \r\nL 210.933608 170.389315 \r\nL 211.08215 148.050415 \r\nL 211.230693 148.728642 \r\nL 211.379235 171.302104 \r\nL 211.527778 160.846885 \r\nL 211.67632 107.203874 \r\nL 211.973405 161.296657 \r\nL 212.121948 151.87653 \r\nL 212.27049 112.279061 \r\nL 212.419033 143.391569 \r\nL 212.716118 133.260324 \r\nL 212.86466 165.490369 \r\nL 213.013203 145.051048 \r\nL 213.161745 167.874826 \r\nL 213.458831 146.764121 \r\nL 213.607373 175.045059 \r\nL 213.755916 159.018206 \r\nL 213.904458 200.669979 \r\nL 214.053001 141.363754 \r\nL 214.201543 128.845665 \r\nL 214.350086 170.213271 \r\nL 214.498628 170.175975 \r\nL 214.647171 143.390929 \r\nL 214.795713 166.351386 \r\nL 215.389883 112.906723 \r\nL 215.538426 119.978779 \r\nL 215.686968 118.351697 \r\nL 215.835511 173.523195 \r\nL 216.281139 131.30656 \r\nL 216.429681 173.402172 \r\nL 216.726766 128.472529 \r\nL 216.875309 136.284038 \r\nL 217.023851 168.470534 \r\nL 217.172394 144.098157 \r\nL 217.320936 145.882572 \r\nL 217.766564 172.227226 \r\nL 218.063649 120.479486 \r\nL 218.212191 130.270731 \r\nL 218.360734 158.652874 \r\nL 218.509276 127.701712 \r\nL 218.657819 161.006386 \r\nL 218.806361 126.814453 \r\nL 218.954904 155.674851 \r\nL 219.103447 127.832754 \r\nL 219.251989 137.179914 \r\nL 219.400532 164.832993 \r\nL 219.549074 146.613138 \r\nL 219.697617 152.883827 \r\nL 219.846159 139.671754 \r\nL 219.994702 151.140548 \r\nL 220.143244 147.696358 \r\nL 220.291787 150.702937 \r\nL 220.588872 161.772131 \r\nL 221.183042 134.096304 \r\nL 221.331584 133.665931 \r\nL 221.480127 111.045425 \r\nL 221.628669 168.049688 \r\nL 221.925755 117.944317 \r\nL 222.22284 157.68691 \r\nL 222.371382 156.813289 \r\nL 222.668467 140.609678 \r\nL 222.81701 182.11842 \r\nL 222.965552 152.308134 \r\nL 223.114095 166.376152 \r\nL 223.262637 157.49937 \r\nL 223.41118 179.165902 \r\nL 223.559722 166.289299 \r\nL 223.708265 132.442167 \r\nL 223.856807 179.822958 \r\nL 224.00535 155.597304 \r\nL 224.153892 160.47466 \r\nL 224.302435 130.332744 \r\nL 224.450977 138.905345 \r\nL 224.59952 140.641165 \r\nL 224.748063 164.118331 \r\nL 224.896605 153.800505 \r\nL 225.045148 172.067578 \r\nL 225.19369 128.256087 \r\nL 225.342233 155.277097 \r\nL 225.490775 144.81922 \r\nL 225.639318 161.268765 \r\nL 225.936403 133.902043 \r\nL 226.38203 156.714054 \r\nL 226.530573 144.490175 \r\nL 226.679115 168.738009 \r\nL 226.827658 159.567952 \r\nL 226.9762 171.432998 \r\nL 227.124743 134.070061 \r\nL 227.273285 137.22622 \r\nL 227.421828 155.663108 \r\nL 227.570371 156.334443 \r\nL 227.718913 155.730291 \r\nL 227.867456 165.12612 \r\nL 228.015998 132.926651 \r\nL 228.164541 126.666203 \r\nL 228.313083 177.709374 \r\nL 228.907253 127.552798 \r\nL 229.055796 158.313243 \r\nL 229.352881 129.184065 \r\nL 229.501423 160.83881 \r\nL 229.649966 149.239713 \r\nL 229.798508 108.688811 \r\nL 230.095593 164.176651 \r\nL 230.244136 141.314075 \r\nL 230.392679 164.293833 \r\nL 230.541221 145.050088 \r\nL 230.689764 180.552022 \r\nL 230.838306 162.973221 \r\nL 230.986849 177.983865 \r\nL 231.135391 141.7314 \r\nL 231.283934 154.924271 \r\nL 231.581019 144.612945 \r\nL 231.729561 121.988524 \r\nL 232.026646 138.296811 \r\nL 232.175189 169.509835 \r\nL 232.323731 136.481647 \r\nL 232.620816 186.989892 \r\nL 232.769359 141.856583 \r\nL 232.917901 176.913226 \r\nL 233.066444 161.656204 \r\nL 233.214987 165.179197 \r\nL 233.363529 134.512497 \r\nL 233.512072 133.817628 \r\nL 233.660614 139.830492 \r\nL 233.809157 133.804137 \r\nL 233.957699 148.230988 \r\nL 234.106242 144.174645 \r\nL 234.254784 193.666804 \r\nL 234.403327 152.301881 \r\nL 234.700412 159.884073 \r\nL 234.848954 150.516234 \r\nL 234.997497 126.601236 \r\nL 235.294582 170.290818 \r\nL 235.443124 165.138996 \r\nL 235.591667 167.783616 \r\nL 235.740209 163.151185 \r\nL 236.037295 146.292857 \r\nL 236.185837 145.530879 \r\nL 236.33438 147.820999 \r\nL 236.482922 165.225479 \r\nL 236.631465 162.713919 \r\nL 236.780007 168.703839 \r\nL 236.92855 124.482703 \r\nL 237.077092 162.008858 \r\nL 237.225635 155.900328 \r\nL 237.374177 193.171267 \r\nL 237.52272 143.133399 \r\nL 237.819805 157.345335 \r\nL 237.968347 151.93549 \r\nL 238.265432 186.808925 \r\nL 238.413975 127.914191 \r\nL 238.562517 147.191195 \r\nL 238.71106 136.472981 \r\nL 238.859603 199.098608 \r\nL 239.008145 133.159685 \r\nL 239.156688 156.4935 \r\nL 239.30523 109.383164 \r\nL 239.453773 144.257042 \r\nL 239.602315 140.413792 \r\nL 239.750858 139.837212 \r\nL 239.8994 132.210757 \r\nL 240.047943 176.810027 \r\nL 240.196485 169.555107 \r\nL 240.345028 178.190534 \r\nL 240.49357 176.23709 \r\nL 240.642113 156.518685 \r\nL 240.939198 163.729439 \r\nL 241.08774 161.287352 \r\nL 241.384825 126.594416 \r\nL 241.681911 184.841129 \r\nL 241.830453 137.345298 \r\nL 242.127538 158.550955 \r\nL 242.276081 129.450137 \r\nL 242.424623 160.799742 \r\nL 242.573166 150.092483 \r\nL 242.721708 150.920487 \r\nL 242.870251 146.7751 \r\nL 243.018793 164.845548 \r\nL 243.167336 153.206447 \r\nL 243.315878 179.384239 \r\nL 243.612963 162.806335 \r\nL 243.761506 141.983932 \r\nL 244.207133 185.712953 \r\nL 244.355676 135.462114 \r\nL 244.504219 168.74148 \r\nL 244.652761 174.192929 \r\nL 244.801304 138.3346 \r\nL 244.949846 146.993044 \r\nL 245.098389 142.697389 \r\nL 245.246931 152.939095 \r\nL 245.395474 149.219871 \r\nL 245.544016 161.987859 \r\nL 245.841101 142.786801 \r\nL 245.989644 174.875317 \r\nL 246.138186 171.180761 \r\nL 246.286729 173.312169 \r\nL 246.435271 132.119769 \r\nL 246.583814 141.806732 \r\nL 246.732356 188.419685 \r\nL 246.880899 138.776346 \r\nL 247.029441 173.724004 \r\nL 247.326527 131.844736 \r\nL 247.475069 150.545554 \r\nL 247.623612 146.408734 \r\nL 247.772154 150.162349 \r\nL 247.920697 145.13571 \r\nL 248.069239 153.973866 \r\nL 248.217782 171.210377 \r\nL 248.366324 158.766043 \r\nL 248.514867 133.019092 \r\nL 248.663409 167.1014 \r\nL 248.811952 165.145199 \r\nL 248.960494 119.580483 \r\nL 249.109037 161.796798 \r\nL 249.257579 171.237875 \r\nL 249.406122 149.747215 \r\nL 249.554664 177.427522 \r\nL 249.703207 174.535391 \r\nL 250.000292 133.688875 \r\nL 250.148835 166.328934 \r\nL 250.297377 173.058209 \r\nL 250.594462 138.456533 \r\nL 250.743005 142.470829 \r\nL 250.891547 155.181505 \r\nL 251.04009 154.259559 \r\nL 251.188632 148.045959 \r\nL 251.337175 167.703977 \r\nL 251.63426 133.418766 \r\nL 251.931345 150.328423 \r\nL 252.079887 137.436705 \r\nL 252.22843 154.372752 \r\nL 252.376972 139.26659 \r\nL 252.525515 168.396089 \r\nL 252.674057 143.673864 \r\nL 252.971143 201.753371 \r\nL 253.119685 194.303747 \r\nL 253.268228 152.827083 \r\nL 253.41677 171.004496 \r\nL 253.862398 137.628135 \r\nL 254.01094 173.181668 \r\nL 254.159483 170.179372 \r\nL 254.308025 174.276926 \r\nL 254.456568 141.117303 \r\nL 254.60511 149.91996 \r\nL 254.902195 175.780425 \r\nL 255.050738 175.015468 \r\nL 255.19928 147.136395 \r\nL 255.496365 137.970622 \r\nL 255.644908 121.180953 \r\nL 255.941993 183.491468 \r\nL 256.090536 187.915802 \r\nL 256.239078 126.466501 \r\nL 256.387621 162.35196 \r\nL 256.536163 161.108157 \r\nL 256.684706 142.15941 \r\nL 256.981791 148.395117 \r\nL 257.130333 161.283511 \r\nL 257.278876 199.1394 \r\nL 257.427418 155.816725 \r\nL 257.873046 204.4909 \r\nL 258.021588 164.719947 \r\nL 258.170131 164.613449 \r\nL 258.318673 155.459123 \r\nL 258.467216 124.730829 \r\nL 258.615759 170.532051 \r\nL 258.764301 146.858629 \r\nL 258.912844 162.197974 \r\nL 259.061386 150.696094 \r\nL 259.209929 128.902065 \r\nL 259.358471 158.178336 \r\nL 259.507014 164.638461 \r\nL 259.655556 118.361569 \r\nL 259.804099 178.839121 \r\nL 259.952641 173.195184 \r\nL 260.101184 161.86371 \r\nL 260.249726 160.7315 \r\nL 260.398269 179.320823 \r\nL 260.546811 138.510053 \r\nL 260.695354 162.055657 \r\nL 260.843896 164.054841 \r\nL 261.140981 143.578075 \r\nL 261.289524 155.933193 \r\nL 261.438067 130.755608 \r\nL 261.586609 134.302357 \r\nL 261.735152 159.684075 \r\nL 261.883694 152.044597 \r\nL 262.180779 202.450973 \r\nL 262.329322 166.200133 \r\nL 262.477864 169.255087 \r\nL 262.626407 163.6643 \r\nL 262.923492 184.113468 \r\nL 263.072034 182.029057 \r\nL 263.220577 166.625434 \r\nL 263.517662 112.614974 \r\nL 263.814747 169.560597 \r\nL 263.963289 184.27516 \r\nL 264.260375 132.657083 \r\nL 264.408917 184.722421 \r\nL 264.55746 139.156548 \r\nL 264.706002 147.507685 \r\nL 264.854545 183.178917 \r\nL 265.15163 134.289999 \r\nL 265.300172 141.045344 \r\nL 265.448715 168.147865 \r\nL 265.597257 166.517829 \r\nL 265.7458 142.090849 \r\nL 265.894342 175.647709 \r\nL 266.042885 182.365733 \r\nL 266.191427 176.775832 \r\nL 266.33997 181.728642 \r\nL 266.785597 137.426759 \r\nL 266.93414 158.423409 \r\nL 267.082683 163.512628 \r\nL 267.231225 162.753825 \r\nL 267.379768 159.342795 \r\nL 267.676853 139.60403 \r\nL 267.825395 144.766709 \r\nL 267.973938 177.217899 \r\nL 268.12248 150.031553 \r\nL 268.271023 152.648282 \r\nL 268.419565 134.790854 \r\nL 268.71665 162.849146 \r\nL 268.865193 163.463293 \r\nL 269.013735 155.548462 \r\nL 269.162278 167.698364 \r\nL 269.31082 112.158678 \r\nL 269.459363 182.850586 \r\nL 269.607905 196.332448 \r\nL 269.756448 159.534915 \r\nL 269.904991 161.887097 \r\nL 270.053533 198.559078 \r\nL 270.202076 135.335651 \r\nL 270.350618 141.899049 \r\nL 270.499161 192.675878 \r\nL 270.647703 190.336644 \r\nL 270.796246 153.506738 \r\nL 271.093331 176.496909 \r\nL 271.241873 173.653252 \r\nL 271.390416 158.529414 \r\nL 271.538958 156.671784 \r\nL 271.687501 159.812089 \r\nL 271.836043 180.063353 \r\nL 271.984586 157.575021 \r\nL 272.133128 177.354751 \r\nL 272.281671 179.212331 \r\nL 272.578756 153.02868 \r\nL 272.727299 125.729904 \r\nL 273.024384 153.155438 \r\nL 273.172926 140.047278 \r\nL 273.321469 169.25036 \r\nL 273.470011 173.669303 \r\nL 273.618554 142.783404 \r\nL 273.767096 191.464053 \r\nL 273.915639 155.661631 \r\nL 274.064181 160.436797 \r\nL 274.212724 154.581809 \r\nL 274.361266 169.793066 \r\nL 274.509809 149.169281 \r\nL 274.658351 158.797382 \r\nL 274.806894 184.394754 \r\nL 274.955436 178.876787 \r\nL 275.103979 155.259741 \r\nL 275.252521 169.162572 \r\nL 275.401064 133.718294 \r\nL 275.549607 165.324444 \r\nL 275.698149 119.984564 \r\nL 275.846692 167.514713 \r\nL 275.995234 148.07491 \r\nL 276.292319 188.586817 \r\nL 276.440862 158.121715 \r\nL 276.589404 191.551152 \r\nL 276.886489 153.928519 \r\nL 277.035032 190.168774 \r\nL 277.183574 149.400395 \r\nL 277.332117 188.879378 \r\nL 277.480659 157.809557 \r\nL 277.629202 157.211141 \r\nL 277.777744 169.170155 \r\nL 277.926287 161.866418 \r\nL 278.223372 214.33884 \r\nL 278.371915 146.941469 \r\nL 278.520457 150.838435 \r\nL 278.669 144.05862 \r\nL 278.817542 188.778715 \r\nL 278.966085 164.607959 \r\nL 279.114627 187.191908 \r\nL 279.26317 135.647464 \r\nL 279.560255 174.143225 \r\nL 279.708797 147.360715 \r\nL 279.85734 192.407861 \r\nL 280.005882 189.696427 \r\nL 280.302967 174.430518 \r\nL 280.45151 196.11123 \r\nL 280.600052 191.699008 \r\nL 280.897137 102.007345 \r\nL 281.194223 160.600631 \r\nL 281.342765 155.736642 \r\nL 281.63985 140.64855 \r\nL 281.788393 179.89211 \r\nL 281.936935 173.170812 \r\nL 282.085478 199.452369 \r\nL 282.23402 164.497498 \r\nL 282.382563 184.948956 \r\nL 282.531105 178.829225 \r\nL 282.679648 164.493067 \r\nL 282.82819 162.747449 \r\nL 282.976733 168.89815 \r\nL 283.125275 151.114133 \r\nL 283.273818 182.541974 \r\nL 283.42236 143.486274 \r\nL 283.570903 185.553723 \r\nL 283.867988 140.753054 \r\nL 284.165073 178.578515 \r\nL 284.313616 176.086108 \r\nL 284.462158 126.453995 \r\nL 284.610701 198.371193 \r\nL 284.759243 164.439276 \r\nL 284.907786 168.32802 \r\nL 285.056328 175.370707 \r\nL 285.204871 140.915952 \r\nL 285.501956 189.553691 \r\nL 285.650498 177.38769 \r\nL 285.799041 196.357706 \r\nL 285.947583 164.060478 \r\nL 286.096126 162.223626 \r\nL 286.244668 156.605636 \r\nL 286.541753 177.956564 \r\nL 286.690296 161.630552 \r\nL 286.838839 195.506807 \r\nL 287.135924 136.964333 \r\nL 287.284466 182.181738 \r\nL 287.433009 188.015333 \r\nL 287.581551 161.599139 \r\nL 287.730094 196.10126 \r\nL 287.878636 152.69769 \r\nL 288.027179 182.654257 \r\nL 288.175721 166.065817 \r\nL 288.324264 163.618485 \r\nL 288.472806 144.471613 \r\nL 288.621349 170.201184 \r\nL 288.769891 174.034931 \r\nL 288.918434 160.407871 \r\nL 289.066976 160.124049 \r\nL 289.364061 151.530227 \r\nL 289.661147 174.414443 \r\nL 289.809689 159.816767 \r\nL 289.958232 168.599163 \r\nL 290.106774 158.607404 \r\nL 290.255317 156.43038 \r\nL 290.403859 129.234532 \r\nL 290.552402 127.53042 \r\nL 290.700944 167.38244 \r\nL 290.849487 146.481579 \r\nL 291.146572 137.556053 \r\nL 291.295114 166.381691 \r\nL 291.443657 161.877644 \r\nL 291.592199 177.086881 \r\nL 291.740742 176.57906 \r\nL 292.037827 183.666946 \r\nL 292.186369 156.451797 \r\nL 292.334912 174.794669 \r\nL 292.631997 182.449582 \r\nL 292.78054 150.11075 \r\nL 292.929082 188.586669 \r\nL 293.077625 143.525885 \r\nL 293.226167 146.27304 \r\nL 293.37471 176.965834 \r\nL 293.523252 168.926042 \r\nL 293.671795 194.304116 \r\nL 293.820337 153.252975 \r\nL 293.96888 145.574822 \r\nL 294.117422 153.710551 \r\nL 294.265965 136.27099 \r\nL 294.56305 184.385252 \r\nL 294.711592 136.069516 \r\nL 294.860135 182.504013 \r\nL 295.008677 166.125146 \r\nL 295.15722 163.051778 \r\nL 295.305763 172.122895 \r\nL 295.454305 166.342671 \r\nL 295.602848 202.0061 \r\nL 295.75139 182.560881 \r\nL 295.899933 199.216873 \r\nL 296.197018 174.540339 \r\nL 296.34556 175.383902 \r\nL 296.642645 167.382489 \r\nL 296.791188 170.431092 \r\nL 296.93973 168.899774 \r\nL 297.236815 182.136761 \r\nL 297.5339 159.895865 \r\nL 297.682443 180.222066 \r\nL 297.830985 168.582398 \r\nL 297.979528 180.708002 \r\nL 298.128071 146.530323 \r\nL 298.276613 173.808567 \r\nL 298.425156 176.226406 \r\nL 298.573698 151.658143 \r\nL 298.722241 187.363397 \r\nL 298.870783 156.866735 \r\nL 299.019326 157.015723 \r\nL 299.167868 159.999556 \r\nL 299.316411 183.357053 \r\nL 299.464953 165.602012 \r\nL 299.613496 182.274622 \r\nL 299.762038 164.155873 \r\nL 299.910581 162.238594 \r\nL 300.059123 151.468067 \r\nL 300.207666 204.946285 \r\nL 300.356208 150.06528 \r\nL 300.504751 184.597459 \r\nL 300.801836 170.264354 \r\nL 300.950379 190.990796 \r\nL 301.098921 133.023523 \r\nL 301.247464 183.352204 \r\nL 301.396006 171.957264 \r\nL 301.544549 175.665114 \r\nL 301.693091 133.479228 \r\nL 301.841634 180.343433 \r\nL 301.990176 151.246381 \r\nL 302.287261 181.623129 \r\nL 302.435804 160.240739 \r\nL 302.584346 175.495668 \r\nL 302.732889 152.752071 \r\nL 303.029974 177.652309 \r\nL 303.178516 173.286861 \r\nL 303.327059 154.696037 \r\nL 303.475601 198.98854 \r\nL 303.772687 171.015279 \r\nL 303.921229 171.739296 \r\nL 304.069772 187.138831 \r\nL 304.218314 173.886902 \r\nL 304.366857 191.193402 \r\nL 304.515399 153.257751 \r\nL 304.663942 148.381281 \r\nL 304.812484 189.364009 \r\nL 304.961027 170.324717 \r\nL 305.109569 199.468051 \r\nL 305.555197 164.141718 \r\nL 305.703739 174.166859 \r\nL 305.852282 163.718681 \r\nL 306.000824 175.587297 \r\nL 306.149367 177.637218 \r\nL 306.297909 157.828243 \r\nL 306.446452 176.076827 \r\nL 306.594995 176.437506 \r\nL 306.743537 156.889186 \r\nL 306.89208 171.711354 \r\nL 307.040622 173.197424 \r\nL 307.189165 191.911487 \r\nL 307.337707 166.203161 \r\nL 307.48625 172.442117 \r\nL 307.783335 123.368342 \r\nL 308.08042 160.734725 \r\nL 308.228962 158.74881 \r\nL 308.377505 184.851764 \r\nL 308.526047 162.194577 \r\nL 308.67459 157.489867 \r\nL 308.823132 186.863158 \r\nL 308.971675 163.677249 \r\nL 309.120217 193.093942 \r\nL 309.417303 183.1897 \r\nL 309.565845 166.499636 \r\nL 309.714388 181.128897 \r\nL 309.86293 160.221882 \r\nL 310.011473 199.513545 \r\nL 310.160015 186.085597 \r\nL 310.308558 210.87205 \r\nL 310.4571 195.216954 \r\nL 310.605643 145.793012 \r\nL 310.754185 179.145789 \r\nL 310.902728 185.954161 \r\nL 311.05127 158.255686 \r\nL 311.199813 181.892205 \r\nL 311.348355 113.34938 \r\nL 311.496898 131.78713 \r\nL 311.64544 179.253 \r\nL 311.793983 157.883855 \r\nL 311.942525 157.558946 \r\nL 312.091068 191.577026 \r\nL 312.239611 155.738341 \r\nL 312.536696 166.466549 \r\nL 312.685238 153.343397 \r\nL 312.833781 172.527468 \r\nL 312.982323 151.106723 \r\nL 313.130866 168.91649 \r\nL 313.279408 214.381355 \r\nL 313.427951 184.355538 \r\nL 313.576493 182.185258 \r\nL 313.725036 214.255335 \r\nL 313.873578 220.058257 \r\nL 314.022121 142.282303 \r\nL 314.170663 195.082367 \r\nL 314.319206 131.85382 \r\nL 314.467748 174.299501 \r\nL 314.616291 175.705045 \r\nL 314.764833 182.364896 \r\nL 314.913376 156.381734 \r\nL 315.061919 163.424052 \r\nL 315.210461 184.901222 \r\nL 315.359004 175.377551 \r\nL 315.507546 181.237512 \r\nL 315.656089 199.91381 \r\nL 315.804631 181.56183 \r\nL 315.953174 193.80272 \r\nL 316.101716 144.249582 \r\nL 316.250259 214.722242 \r\nL 316.547344 168.515314 \r\nL 316.695886 166.06621 \r\nL 316.844429 198.508143 \r\nL 316.992971 153.255511 \r\nL 317.141514 165.930171 \r\nL 317.290056 206.901131 \r\nL 317.438599 200.568552 \r\nL 317.587141 179.79477 \r\nL 317.735684 177.480623 \r\nL 317.884227 165.759322 \r\nL 318.032769 184.16167 \r\nL 318.181312 150.200803 \r\nL 318.329854 178.923266 \r\nL 318.478397 154.061088 \r\nL 318.626939 181.105978 \r\nL 318.775482 178.225812 \r\nL 319.072567 210.754474 \r\nL 319.221109 160.05507 \r\nL 319.369652 162.695382 \r\nL 319.518194 160.576776 \r\nL 319.666737 137.206797 \r\nL 319.815279 188.329632 \r\nL 319.963822 167.555702 \r\nL 320.112364 168.429594 \r\nL 320.260907 137.681532 \r\nL 320.557992 188.150092 \r\nL 320.855077 163.627471 \r\nL 321.152162 178.168698 \r\nL 321.300705 153.367031 \r\nL 321.449247 191.625991 \r\nL 321.59779 164.053807 \r\nL 322.043417 199.007176 \r\nL 322.19196 181.843559 \r\nL 322.340502 194.254388 \r\nL 322.489045 170.483356 \r\nL 322.637587 188.550579 \r\nL 322.78613 161.535132 \r\nL 322.934672 177.273585 \r\nL 323.083215 139.876232 \r\nL 323.231757 188.191229 \r\nL 323.3803 174.247606 \r\nL 323.528843 181.010878 \r\nL 323.677385 203.34099 \r\nL 323.825928 162.554714 \r\nL 323.97447 182.137991 \r\nL 324.123013 181.664168 \r\nL 324.271555 185.155994 \r\nL 324.420098 151.307779 \r\nL 324.865725 190.437037 \r\nL 325.014268 156.070119 \r\nL 325.16281 179.14505 \r\nL 325.311353 154.684737 \r\nL 325.608438 184.601398 \r\nL 325.75698 151.272969 \r\nL 326.054065 188.430861 \r\nL 326.202608 168.364479 \r\nL 326.499693 192.907632 \r\nL 326.796778 198.537661 \r\nL 327.093863 171.375047 \r\nL 327.390948 189.764594 \r\nL 327.539491 176.027788 \r\nL 327.688033 149.986921 \r\nL 327.836576 202.71931 \r\nL 328.133661 170.539116 \r\nL 328.430746 191.93187 \r\nL 328.727831 163.359356 \r\nL 328.876373 200.59514 \r\nL 329.024916 176.796979 \r\nL 329.173459 175.699801 \r\nL 329.322001 180.118153 \r\nL 329.619086 165.892432 \r\nL 329.767629 178.021728 \r\nL 329.916171 179.934404 \r\nL 330.064714 125.947011 \r\nL 330.361799 201.451529 \r\nL 330.510341 192.481026 \r\nL 330.658884 196.063077 \r\nL 330.807426 167.24741 \r\nL 331.253054 197.759163 \r\nL 331.401596 180.706549 \r\nL 331.550139 190.971569 \r\nL 331.698681 170.451402 \r\nL 331.847224 188.671085 \r\nL 331.995767 170.340374 \r\nL 332.144309 183.712612 \r\nL 332.441394 152.739664 \r\nL 332.589937 199.513865 \r\nL 332.887022 171.204124 \r\nL 333.184107 164.88895 \r\nL 333.332649 188.569043 \r\nL 333.629734 173.741188 \r\nL 333.778277 217.7721 \r\nL 333.926819 178.668912 \r\nL 334.075362 175.281885 \r\nL 334.223904 162.487679 \r\nL 334.520989 194.962871 \r\nL 334.669532 180.37844 \r\nL 334.818075 177.569814 \r\nL 335.11516 154.125365 \r\nL 335.263702 152.535555 \r\nL 335.412245 165.82904 \r\nL 335.560787 199.668614 \r\nL 335.857872 163.538083 \r\nL 336.154957 190.27052 \r\nL 336.3035 186.306889 \r\nL 336.452042 198.064329 \r\nL 336.600585 158.675572 \r\nL 336.749127 172.431581 \r\nL 336.89767 169.370496 \r\nL 337.046212 189.910801 \r\nL 337.194755 177.936919 \r\nL 337.343297 214.078085 \r\nL 337.49184 214.942893 \r\nL 337.788925 171.20048 \r\nL 337.937468 155.029587 \r\nL 338.08601 196.150077 \r\nL 338.234553 154.577969 \r\nL 338.383095 197.571451 \r\nL 338.531638 163.744481 \r\nL 338.68018 177.332791 \r\nL 338.828723 176.746241 \r\nL 338.977265 156.840123 \r\nL 339.125808 166.823044 \r\nL 339.27435 207.652721 \r\nL 339.422893 194.385258 \r\nL 339.571435 203.143208 \r\nL 339.719978 181.524903 \r\nL 339.86852 189.464968 \r\nL 340.017063 182.336364 \r\nL 340.165605 215.56994 \r\nL 340.462691 165.611589 \r\nL 340.611233 150.362371 \r\nL 340.759776 195.179879 \r\nL 340.908318 158.472103 \r\nL 341.056861 215.391828 \r\nL 341.205403 143.60998 \r\nL 341.502488 213.067957 \r\nL 341.799573 134.572713 \r\nL 342.096658 196.770133 \r\nL 342.245201 144.687464 \r\nL 342.393743 182.256749 \r\nL 342.690828 196.770059 \r\nL 342.839371 179.883617 \r\nL 342.987913 181.30531 \r\nL 343.284999 204.450477 \r\nL 343.582084 174.721135 \r\nL 343.730626 211.193833 \r\nL 343.879169 166.876859 \r\nL 344.027711 170.547018 \r\nL 344.176254 167.410234 \r\nL 344.324796 208.225091 \r\nL 344.473339 174.664562 \r\nL 344.621881 191.434241 \r\nL 344.770424 166.423591 \r\nL 344.918966 176.505969 \r\nL 345.067509 163.115194 \r\nL 345.216051 204.245531 \r\nL 345.364594 178.933138 \r\nL 345.513136 195.224832 \r\nL 345.661679 178.102943 \r\nL 345.810221 195.607815 \r\nL 345.958764 147.141171 \r\nL 346.107307 215.863387 \r\nL 346.404392 169.011688 \r\nL 346.552934 178.886314 \r\nL 346.701477 143.136796 \r\nL 346.998562 219.143695 \r\nL 347.147104 160.042293 \r\nL 347.444189 216.990649 \r\nL 347.889817 184.675006 \r\nL 348.038359 204.903105 \r\nL 348.186902 190.087042 \r\nL 348.335444 187.300843 \r\nL 348.483987 208.818977 \r\nL 348.632529 203.674565 \r\nL 348.781072 225.691018 \r\nL 348.929615 182.069775 \r\nL 349.078157 200.89713 \r\nL 349.2267 187.193656 \r\nL 349.375242 134.40179 \r\nL 349.523785 184.043651 \r\nL 349.672327 187.079157 \r\nL 349.82087 177.992038 \r\nL 349.969412 124.675241 \r\nL 350.266497 178.105085 \r\nL 350.41504 169.527461 \r\nL 350.563582 206.247128 \r\nL 350.712125 174.075083 \r\nL 350.860667 203.518092 \r\nL 351.00921 120.200194 \r\nL 351.306295 199.67243 \r\nL 351.454837 160.755134 \r\nL 351.60338 189.104609 \r\nL 351.751923 155.506907 \r\nL 352.049008 200.791075 \r\nL 352.643178 155.704811 \r\nL 352.940263 212.626013 \r\nL 353.088805 185.24878 \r\nL 353.237348 199.382971 \r\nL 353.534433 167.455629 \r\nL 353.682975 210.003032 \r\nL 353.831518 183.721844 \r\nL 353.98006 194.65613 \r\nL 354.128603 190.404541 \r\nL 354.277145 157.265129 \r\nL 354.425688 182.25057 \r\nL 354.574231 177.073366 \r\nL 354.722773 202.5443 \r\nL 355.019858 177.606027 \r\nL 355.168401 181.531845 \r\nL 355.316943 160.910424 \r\nL 355.465486 188.982528 \r\nL 355.614028 175.95189 \r\nL 355.911113 204.771078 \r\nL 356.059656 166.926193 \r\nL 356.208198 205.883396 \r\nL 356.356741 177.385597 \r\nL 356.505283 195.296471 \r\nL 356.653826 192.829224 \r\nL 356.802368 178.02126 \r\nL 356.950911 184.681456 \r\nL 357.099453 185.124754 \r\nL 357.247996 204.768198 \r\nL 357.396538 194.501036 \r\nL 357.545081 207.037023 \r\nL 357.693624 197.682183 \r\nL 357.842166 196.475971 \r\nL 357.990709 188.926349 \r\nL 358.139251 173.620953 \r\nL 358.436336 207.329412 \r\nL 358.584879 189.58503 \r\nL 358.733421 203.273881 \r\nL 358.881964 180.731217 \r\nL 359.030506 206.348924 \r\nL 359.179049 181.003665 \r\nL 359.327591 193.405188 \r\nL 359.476134 196.145843 \r\nL 359.624676 220.528277 \r\nL 359.921761 180.772181 \r\nL 360.070304 200.523329 \r\nL 360.218846 180.750247 \r\nL 360.367389 186.805281 \r\nL 360.515932 187.2311 \r\nL 360.813017 198.28471 \r\nL 361.110102 152.910341 \r\nL 361.258644 157.542968 \r\nL 361.407187 179.020335 \r\nL 361.555729 172.838911 \r\nL 361.704272 212.305708 \r\nL 361.852814 193.669734 \r\nL 362.001357 202.720787 \r\nL 362.149899 182.401503 \r\nL 362.298442 181.345339 \r\nL 362.446984 191.834383 \r\nL 362.595527 229.48204 \r\nL 362.744069 168.176766 \r\nL 362.892612 219.640685 \r\nL 363.189697 156.272947 \r\nL 363.33824 181.085742 \r\nL 363.486782 181.012675 \r\nL 363.635325 142.591334 \r\nL 363.93241 211.098832 \r\nL 364.080952 184.126713 \r\nL 364.229495 182.795835 \r\nL 364.378037 156.069183 \r\nL 364.52658 229.527842 \r\nL 364.675122 184.98741 \r\nL 364.823665 198.547163 \r\nL 364.972207 229.874489 \r\nL 365.12075 196.478482 \r\nL 365.269292 218.720215 \r\nL 365.417835 135.949601 \r\nL 365.566377 178.082682 \r\nL 365.71492 179.510678 \r\nL 366.012005 208.870946 \r\nL 366.160548 200.130696 \r\nL 366.30909 213.303059 \r\nL 366.457633 199.467977 \r\nL 366.606175 197.158655 \r\nL 366.754718 187.867502 \r\nL 366.90326 189.407066 \r\nL 367.200345 204.580829 \r\nL 367.348888 175.656818 \r\nL 367.49743 174.683444 \r\nL 367.645973 168.417925 \r\nL 367.794515 144.563536 \r\nL 367.943058 162.276136 \r\nL 368.0916 220.660033 \r\nL 368.240143 227.106544 \r\nL 368.388685 157.736146 \r\nL 368.537228 206.126869 \r\nL 368.68577 185.822848 \r\nL 368.834313 187.028026 \r\nL 368.982856 190.442576 \r\nL 369.131398 209.188814 \r\nL 369.279941 181.913081 \r\nL 369.428483 192.891483 \r\nL 369.577026 172.759813 \r\nL 369.725568 198.026343 \r\nL 369.725568 198.026343 \r\n\" style=\"fill:none;stroke:#1f77b4;stroke-linecap:square;stroke-width:1.5;\"/>\r\n   </g>\r\n   <g id=\"patch_3\">\r\n    <path d=\"M 50.14375 239.758125 \r\nL 50.14375 22.318125 \r\n\" style=\"fill:none;stroke:#000000;stroke-linecap:square;stroke-linejoin:miter;stroke-width:0.8;\"/>\r\n   </g>\r\n   <g id=\"patch_4\">\r\n    <path d=\"M 384.94375 239.758125 \r\nL 384.94375 22.318125 \r\n\" style=\"fill:none;stroke:#000000;stroke-linecap:square;stroke-linejoin:miter;stroke-width:0.8;\"/>\r\n   </g>\r\n   <g id=\"patch_5\">\r\n    <path d=\"M 50.14375 239.758125 \r\nL 384.94375 239.758125 \r\n\" style=\"fill:none;stroke:#000000;stroke-linecap:square;stroke-linejoin:miter;stroke-width:0.8;\"/>\r\n   </g>\r\n   <g id=\"patch_6\">\r\n    <path d=\"M 50.14375 22.318125 \r\nL 384.94375 22.318125 \r\n\" style=\"fill:none;stroke:#000000;stroke-linecap:square;stroke-linejoin:miter;stroke-width:0.8;\"/>\r\n   </g>\r\n   <g id=\"text_13\">\r\n    <!-- train loss -->\r\n    <defs>\r\n     <path d=\"M 41.109375 46.296875 \r\nQ 39.59375 47.171875 37.8125 47.578125 \r\nQ 36.03125 48 33.890625 48 \r\nQ 26.265625 48 22.1875 43.046875 \r\nQ 18.109375 38.09375 18.109375 28.8125 \r\nL 18.109375 0 \r\nL 9.078125 0 \r\nL 9.078125 54.6875 \r\nL 18.109375 54.6875 \r\nL 18.109375 46.1875 \r\nQ 20.953125 51.171875 25.484375 53.578125 \r\nQ 30.03125 56 36.53125 56 \r\nQ 37.453125 56 38.578125 55.875 \r\nQ 39.703125 55.765625 41.0625 55.515625 \r\nz\r\n\" id=\"DejaVuSans-114\"/>\r\n     <path d=\"M 9.421875 54.6875 \r\nL 18.40625 54.6875 \r\nL 18.40625 0 \r\nL 9.421875 0 \r\nz\r\nM 9.421875 75.984375 \r\nL 18.40625 75.984375 \r\nL 18.40625 64.59375 \r\nL 9.421875 64.59375 \r\nz\r\n\" id=\"DejaVuSans-105\"/>\r\n    </defs>\r\n    <g transform=\"translate(190.0825 16.318125)scale(0.12 -0.12)\">\r\n     <use xlink:href=\"#DejaVuSans-116\"/>\r\n     <use x=\"39.208984\" xlink:href=\"#DejaVuSans-114\"/>\r\n     <use x=\"80.322266\" xlink:href=\"#DejaVuSans-97\"/>\r\n     <use x=\"141.601562\" xlink:href=\"#DejaVuSans-105\"/>\r\n     <use x=\"169.384766\" xlink:href=\"#DejaVuSans-110\"/>\r\n     <use x=\"232.763672\" xlink:href=\"#DejaVuSans-32\"/>\r\n     <use x=\"264.550781\" xlink:href=\"#DejaVuSans-108\"/>\r\n     <use x=\"292.333984\" xlink:href=\"#DejaVuSans-111\"/>\r\n     <use x=\"353.515625\" xlink:href=\"#DejaVuSans-115\"/>\r\n     <use x=\"405.615234\" xlink:href=\"#DejaVuSans-115\"/>\r\n    </g>\r\n   </g>\r\n   <g id=\"legend_1\">\r\n    <g id=\"patch_7\">\r\n     <path d=\"M 373.94375 35.318125 \r\nL 377.94375 35.318125 \r\nQ 379.94375 35.318125 379.94375 33.318125 \r\nL 379.94375 29.318125 \r\nQ 379.94375 27.318125 377.94375 27.318125 \r\nL 373.94375 27.318125 \r\nQ 371.94375 27.318125 371.94375 29.318125 \r\nL 371.94375 33.318125 \r\nQ 371.94375 35.318125 373.94375 35.318125 \r\nz\r\n\" style=\"fill:#ffffff;opacity:0.8;stroke:#cccccc;stroke-linejoin:miter;\"/>\r\n    </g>\r\n   </g>\r\n  </g>\r\n </g>\r\n <defs>\r\n  <clipPath id=\"pd89696dc58\">\r\n   <rect height=\"217.44\" width=\"334.8\" x=\"50.14375\" y=\"22.318125\"/>\r\n  </clipPath>\r\n </defs>\r\n</svg>\r\n",
      "image/png": "[encoded data removed]"
     },
     "metadata": {
      "needs_background": "light"
     }
    }
   ],
   "source": [
    "m.plot_loss(loss_his,'train loss','data num')"
   ]
  },
  {
   "cell_type": "code",
   "execution_count": 25,
   "metadata": {},
   "outputs": [
    {
     "output_type": "stream",
     "name": "stderr",
     "text": "No handles with labels found to put in legend.\n"
    },
    {
     "output_type": "display_data",
     "data": {
      "text/plain": "<Figure size 432x288 with 1 Axes>",
      "image/svg+xml": "<?xml version=\"1.0\" encoding=\"utf-8\" standalone=\"no\"?>\r\n<!DOCTYPE svg PUBLIC \"-//W3C//DTD SVG 1.1//EN\"\r\n  \"http://www.w3.org/Graphics/SVG/1.1/DTD/svg11.dtd\">\r\n<!-- Created with matplotlib (https://matplotlib.org/) -->\r\n<svg height=\"277.314375pt\" version=\"1.1\" viewBox=\"0 0 392.14375 277.314375\" width=\"392.14375pt\" xmlns=\"http://www.w3.org/2000/svg\" xmlns:xlink=\"http://www.w3.org/1999/xlink\">\r\n <defs>\r\n  <style type=\"text/css\">\r\n*{stroke-linecap:butt;stroke-linejoin:round;}\r\n  </style>\r\n </defs>\r\n <g id=\"figure_1\">\r\n  <g id=\"patch_1\">\r\n   <path d=\"M 0 277.314375 \r\nL 392.14375 277.314375 \r\nL 392.14375 0 \r\nL 0 0 \r\nz\r\n\" style=\"fill:none;\"/>\r\n  </g>\r\n  <g id=\"axes_1\">\r\n   <g id=\"patch_2\">\r\n    <path d=\"M 50.14375 239.758125 \r\nL 384.94375 239.758125 \r\nL 384.94375 22.318125 \r\nL 50.14375 22.318125 \r\nz\r\n\" style=\"fill:#ffffff;\"/>\r\n   </g>\r\n   <g id=\"matplotlib.axis_1\">\r\n    <g id=\"xtick_1\">\r\n     <g id=\"line2d_1\">\r\n      <defs>\r\n       <path d=\"M 0 0 \r\nL 0 3.5 \r\n\" id=\"mfa582b8c6e\" style=\"stroke:#000000;stroke-width:0.8;\"/>\r\n      </defs>\r\n      <g>\r\n       <use style=\"stroke:#000000;stroke-width:0.8;\" x=\"65.361932\" xlink:href=\"#mfa582b8c6e\" y=\"239.758125\"/>\r\n      </g>\r\n     </g>\r\n     <g id=\"text_1\">\r\n      <!-- 0 -->\r\n      <defs>\r\n       <path d=\"M 31.78125 66.40625 \r\nQ 24.171875 66.40625 20.328125 58.90625 \r\nQ 16.5 51.421875 16.5 36.375 \r\nQ 16.5 21.390625 20.328125 13.890625 \r\nQ 24.171875 6.390625 31.78125 6.390625 \r\nQ 39.453125 6.390625 43.28125 13.890625 \r\nQ 47.125 21.390625 47.125 36.375 \r\nQ 47.125 51.421875 43.28125 58.90625 \r\nQ 39.453125 66.40625 31.78125 66.40625 \r\nz\r\nM 31.78125 74.21875 \r\nQ 44.046875 74.21875 50.515625 64.515625 \r\nQ 56.984375 54.828125 56.984375 36.375 \r\nQ 56.984375 17.96875 50.515625 8.265625 \r\nQ 44.046875 -1.421875 31.78125 -1.421875 \r\nQ 19.53125 -1.421875 13.0625 8.265625 \r\nQ 6.59375 17.96875 6.59375 36.375 \r\nQ 6.59375 54.828125 13.0625 64.515625 \r\nQ 19.53125 74.21875 31.78125 74.21875 \r\nz\r\n\" id=\"DejaVuSans-48\"/>\r\n      </defs>\r\n      <g transform=\"translate(62.180682 254.356562)scale(0.1 -0.1)\">\r\n       <use xlink:href=\"#DejaVuSans-48\"/>\r\n      </g>\r\n     </g>\r\n    </g>\r\n    <g id=\"xtick_2\">\r\n     <g id=\"line2d_2\">\r\n      <g>\r\n       <use style=\"stroke:#000000;stroke-width:0.8;\" x=\"71.573435\" xlink:href=\"#mfa582b8c6e\" y=\"239.758125\"/>\r\n      </g>\r\n     </g>\r\n     <g id=\"text_2\">\r\n      <!-- 1 -->\r\n      <defs>\r\n       <path d=\"M 12.40625 8.296875 \r\nL 28.515625 8.296875 \r\nL 28.515625 63.921875 \r\nL 10.984375 60.40625 \r\nL 10.984375 69.390625 \r\nL 28.421875 72.90625 \r\nL 38.28125 72.90625 \r\nL 38.28125 8.296875 \r\nL 54.390625 8.296875 \r\nL 54.390625 0 \r\nL 12.40625 0 \r\nz\r\n\" id=\"DejaVuSans-49\"/>\r\n      </defs>\r\n      <g transform=\"translate(68.392185 254.356562)scale(0.1 -0.1)\">\r\n       <use xlink:href=\"#DejaVuSans-49\"/>\r\n      </g>\r\n     </g>\r\n    </g>\r\n    <g id=\"xtick_3\">\r\n     <g id=\"line2d_3\">\r\n      <g>\r\n       <use style=\"stroke:#000000;stroke-width:0.8;\" x=\"77.784937\" xlink:href=\"#mfa582b8c6e\" y=\"239.758125\"/>\r\n      </g>\r\n     </g>\r\n     <g id=\"text_3\">\r\n      <!-- 2 -->\r\n      <defs>\r\n       <path d=\"M 19.1875 8.296875 \r\nL 53.609375 8.296875 \r\nL 53.609375 0 \r\nL 7.328125 0 \r\nL 7.328125 8.296875 \r\nQ 12.9375 14.109375 22.625 23.890625 \r\nQ 32.328125 33.6875 34.8125 36.53125 \r\nQ 39.546875 41.84375 41.421875 45.53125 \r\nQ 43.3125 49.21875 43.3125 52.78125 \r\nQ 43.3125 58.59375 39.234375 62.25 \r\nQ 35.15625 65.921875 28.609375 65.921875 \r\nQ 23.96875 65.921875 18.8125 64.3125 \r\nQ 13.671875 62.703125 7.8125 59.421875 \r\nL 7.8125 69.390625 \r\nQ 13.765625 71.78125 18.9375 73 \r\nQ 24.125 74.21875 28.421875 74.21875 \r\nQ 39.75 74.21875 46.484375 68.546875 \r\nQ 53.21875 62.890625 53.21875 53.421875 \r\nQ 53.21875 48.921875 51.53125 44.890625 \r\nQ 49.859375 40.875 45.40625 35.40625 \r\nQ 44.1875 33.984375 37.640625 27.21875 \r\nQ 31.109375 20.453125 19.1875 8.296875 \r\nz\r\n\" id=\"DejaVuSans-50\"/>\r\n      </defs>\r\n      <g transform=\"translate(74.603687 254.356562)scale(0.1 -0.1)\">\r\n       <use xlink:href=\"#DejaVuSans-50\"/>\r\n      </g>\r\n     </g>\r\n    </g>\r\n    <g id=\"xtick_4\">\r\n     <g id=\"line2d_4\">\r\n      <g>\r\n       <use style=\"stroke:#000000;stroke-width:0.8;\" x=\"83.99644\" xlink:href=\"#mfa582b8c6e\" y=\"239.758125\"/>\r\n      </g>\r\n     </g>\r\n     <g id=\"text_4\">\r\n      <!-- 3 -->\r\n      <defs>\r\n       <path d=\"M 40.578125 39.3125 \r\nQ 47.65625 37.796875 51.625 33 \r\nQ 55.609375 28.21875 55.609375 21.1875 \r\nQ 55.609375 10.40625 48.1875 4.484375 \r\nQ 40.765625 -1.421875 27.09375 -1.421875 \r\nQ 22.515625 -1.421875 17.65625 -0.515625 \r\nQ 12.796875 0.390625 7.625 2.203125 \r\nL 7.625 11.71875 \r\nQ 11.71875 9.328125 16.59375 8.109375 \r\nQ 21.484375 6.890625 26.8125 6.890625 \r\nQ 36.078125 6.890625 40.9375 10.546875 \r\nQ 45.796875 14.203125 45.796875 21.1875 \r\nQ 45.796875 27.640625 41.28125 31.265625 \r\nQ 36.765625 34.90625 28.71875 34.90625 \r\nL 20.21875 34.90625 \r\nL 20.21875 43.015625 \r\nL 29.109375 43.015625 \r\nQ 36.375 43.015625 40.234375 45.921875 \r\nQ 44.09375 48.828125 44.09375 54.296875 \r\nQ 44.09375 59.90625 40.109375 62.90625 \r\nQ 36.140625 65.921875 28.71875 65.921875 \r\nQ 24.65625 65.921875 20.015625 65.03125 \r\nQ 15.375 64.15625 9.8125 62.3125 \r\nL 9.8125 71.09375 \r\nQ 15.4375 72.65625 20.34375 73.4375 \r\nQ 25.25 74.21875 29.59375 74.21875 \r\nQ 40.828125 74.21875 47.359375 69.109375 \r\nQ 53.90625 64.015625 53.90625 55.328125 \r\nQ 53.90625 49.265625 50.4375 45.09375 \r\nQ 46.96875 40.921875 40.578125 39.3125 \r\nz\r\n\" id=\"DejaVuSans-51\"/>\r\n      </defs>\r\n      <g transform=\"translate(80.81519 254.356562)scale(0.1 -0.1)\">\r\n       <use xlink:href=\"#DejaVuSans-51\"/>\r\n      </g>\r\n     </g>\r\n    </g>\r\n    <g id=\"xtick_5\">\r\n     <g id=\"line2d_5\">\r\n      <g>\r\n       <use style=\"stroke:#000000;stroke-width:0.8;\" x=\"90.207943\" xlink:href=\"#mfa582b8c6e\" y=\"239.758125\"/>\r\n      </g>\r\n     </g>\r\n     <g id=\"text_5\">\r\n      <!-- 4 -->\r\n      <defs>\r\n       <path d=\"M 37.796875 64.3125 \r\nL 12.890625 25.390625 \r\nL 37.796875 25.390625 \r\nz\r\nM 35.203125 72.90625 \r\nL 47.609375 72.90625 \r\nL 47.609375 25.390625 \r\nL 58.015625 25.390625 \r\nL 58.015625 17.1875 \r\nL 47.609375 17.1875 \r\nL 47.609375 0 \r\nL 37.796875 0 \r\nL 37.796875 17.1875 \r\nL 4.890625 17.1875 \r\nL 4.890625 26.703125 \r\nz\r\n\" id=\"DejaVuSans-52\"/>\r\n      </defs>\r\n      <g transform=\"translate(87.026693 254.356562)scale(0.1 -0.1)\">\r\n       <use xlink:href=\"#DejaVuSans-52\"/>\r\n      </g>\r\n     </g>\r\n    </g>\r\n    <g id=\"xtick_6\">\r\n     <g id=\"line2d_6\">\r\n      <g>\r\n       <use style=\"stroke:#000000;stroke-width:0.8;\" x=\"96.419446\" xlink:href=\"#mfa582b8c6e\" y=\"239.758125\"/>\r\n      </g>\r\n     </g>\r\n     <g id=\"text_6\">\r\n      <!-- 5 -->\r\n      <defs>\r\n       <path d=\"M 10.796875 72.90625 \r\nL 49.515625 72.90625 \r\nL 49.515625 64.59375 \r\nL 19.828125 64.59375 \r\nL 19.828125 46.734375 \r\nQ 21.96875 47.46875 24.109375 47.828125 \r\nQ 26.265625 48.1875 28.421875 48.1875 \r\nQ 40.625 48.1875 47.75 41.5 \r\nQ 54.890625 34.8125 54.890625 23.390625 \r\nQ 54.890625 11.625 47.5625 5.09375 \r\nQ 40.234375 -1.421875 26.90625 -1.421875 \r\nQ 22.3125 -1.421875 17.546875 -0.640625 \r\nQ 12.796875 0.140625 7.71875 1.703125 \r\nL 7.71875 11.625 \r\nQ 12.109375 9.234375 16.796875 8.0625 \r\nQ 21.484375 6.890625 26.703125 6.890625 \r\nQ 35.15625 6.890625 40.078125 11.328125 \r\nQ 45.015625 15.765625 45.015625 23.390625 \r\nQ 45.015625 31 40.078125 35.4375 \r\nQ 35.15625 39.890625 26.703125 39.890625 \r\nQ 22.75 39.890625 18.8125 39.015625 \r\nQ 14.890625 38.140625 10.796875 36.28125 \r\nz\r\n\" id=\"DejaVuSans-53\"/>\r\n      </defs>\r\n      <g transform=\"translate(93.238196 254.356562)scale(0.1 -0.1)\">\r\n       <use xlink:href=\"#DejaVuSans-53\"/>\r\n      </g>\r\n     </g>\r\n    </g>\r\n    <g id=\"xtick_7\">\r\n     <g id=\"line2d_7\">\r\n      <g>\r\n       <use style=\"stroke:#000000;stroke-width:0.8;\" x=\"102.630949\" xlink:href=\"#mfa582b8c6e\" y=\"239.758125\"/>\r\n      </g>\r\n     </g>\r\n     <g id=\"text_7\">\r\n      <!-- 6 -->\r\n      <defs>\r\n       <path d=\"M 33.015625 40.375 \r\nQ 26.375 40.375 22.484375 35.828125 \r\nQ 18.609375 31.296875 18.609375 23.390625 \r\nQ 18.609375 15.53125 22.484375 10.953125 \r\nQ 26.375 6.390625 33.015625 6.390625 \r\nQ 39.65625 6.390625 43.53125 10.953125 \r\nQ 47.40625 15.53125 47.40625 23.390625 \r\nQ 47.40625 31.296875 43.53125 35.828125 \r\nQ 39.65625 40.375 33.015625 40.375 \r\nz\r\nM 52.59375 71.296875 \r\nL 52.59375 62.3125 \r\nQ 48.875 64.0625 45.09375 64.984375 \r\nQ 41.3125 65.921875 37.59375 65.921875 \r\nQ 27.828125 65.921875 22.671875 59.328125 \r\nQ 17.53125 52.734375 16.796875 39.40625 \r\nQ 19.671875 43.65625 24.015625 45.921875 \r\nQ 28.375 48.1875 33.59375 48.1875 \r\nQ 44.578125 48.1875 50.953125 41.515625 \r\nQ 57.328125 34.859375 57.328125 23.390625 \r\nQ 57.328125 12.15625 50.6875 5.359375 \r\nQ 44.046875 -1.421875 33.015625 -1.421875 \r\nQ 20.359375 -1.421875 13.671875 8.265625 \r\nQ 6.984375 17.96875 6.984375 36.375 \r\nQ 6.984375 53.65625 15.1875 63.9375 \r\nQ 23.390625 74.21875 37.203125 74.21875 \r\nQ 40.921875 74.21875 44.703125 73.484375 \r\nQ 48.484375 72.75 52.59375 71.296875 \r\nz\r\n\" id=\"DejaVuSans-54\"/>\r\n      </defs>\r\n      <g transform=\"translate(99.449699 254.356562)scale(0.1 -0.1)\">\r\n       <use xlink:href=\"#DejaVuSans-54\"/>\r\n      </g>\r\n     </g>\r\n    </g>\r\n    <g id=\"xtick_8\">\r\n     <g id=\"line2d_8\">\r\n      <g>\r\n       <use style=\"stroke:#000000;stroke-width:0.8;\" x=\"108.842451\" xlink:href=\"#mfa582b8c6e\" y=\"239.758125\"/>\r\n      </g>\r\n     </g>\r\n     <g id=\"text_8\">\r\n      <!-- 7 -->\r\n      <defs>\r\n       <path d=\"M 8.203125 72.90625 \r\nL 55.078125 72.90625 \r\nL 55.078125 68.703125 \r\nL 28.609375 0 \r\nL 18.3125 0 \r\nL 43.21875 64.59375 \r\nL 8.203125 64.59375 \r\nz\r\n\" id=\"DejaVuSans-55\"/>\r\n      </defs>\r\n      <g transform=\"translate(105.661201 254.356562)scale(0.1 -0.1)\">\r\n       <use xlink:href=\"#DejaVuSans-55\"/>\r\n      </g>\r\n     </g>\r\n    </g>\r\n    <g id=\"xtick_9\">\r\n     <g id=\"line2d_9\">\r\n      <g>\r\n       <use style=\"stroke:#000000;stroke-width:0.8;\" x=\"115.053954\" xlink:href=\"#mfa582b8c6e\" y=\"239.758125\"/>\r\n      </g>\r\n     </g>\r\n     <g id=\"text_9\">\r\n      <!-- 8 -->\r\n      <defs>\r\n       <path d=\"M 31.78125 34.625 \r\nQ 24.75 34.625 20.71875 30.859375 \r\nQ 16.703125 27.09375 16.703125 20.515625 \r\nQ 16.703125 13.921875 20.71875 10.15625 \r\nQ 24.75 6.390625 31.78125 6.390625 \r\nQ 38.8125 6.390625 42.859375 10.171875 \r\nQ 46.921875 13.96875 46.921875 20.515625 \r\nQ 46.921875 27.09375 42.890625 30.859375 \r\nQ 38.875 34.625 31.78125 34.625 \r\nz\r\nM 21.921875 38.8125 \r\nQ 15.578125 40.375 12.03125 44.71875 \r\nQ 8.5 49.078125 8.5 55.328125 \r\nQ 8.5 64.0625 14.71875 69.140625 \r\nQ 20.953125 74.21875 31.78125 74.21875 \r\nQ 42.671875 74.21875 48.875 69.140625 \r\nQ 55.078125 64.0625 55.078125 55.328125 \r\nQ 55.078125 49.078125 51.53125 44.71875 \r\nQ 48 40.375 41.703125 38.8125 \r\nQ 48.828125 37.15625 52.796875 32.3125 \r\nQ 56.78125 27.484375 56.78125 20.515625 \r\nQ 56.78125 9.90625 50.3125 4.234375 \r\nQ 43.84375 -1.421875 31.78125 -1.421875 \r\nQ 19.734375 -1.421875 13.25 4.234375 \r\nQ 6.78125 9.90625 6.78125 20.515625 \r\nQ 6.78125 27.484375 10.78125 32.3125 \r\nQ 14.796875 37.15625 21.921875 38.8125 \r\nz\r\nM 18.3125 54.390625 \r\nQ 18.3125 48.734375 21.84375 45.5625 \r\nQ 25.390625 42.390625 31.78125 42.390625 \r\nQ 38.140625 42.390625 41.71875 45.5625 \r\nQ 45.3125 48.734375 45.3125 54.390625 \r\nQ 45.3125 60.0625 41.71875 63.234375 \r\nQ 38.140625 66.40625 31.78125 66.40625 \r\nQ 25.390625 66.40625 21.84375 63.234375 \r\nQ 18.3125 60.0625 18.3125 54.390625 \r\nz\r\n\" id=\"DejaVuSans-56\"/>\r\n      </defs>\r\n      <g transform=\"translate(111.872704 254.356562)scale(0.1 -0.1)\">\r\n       <use xlink:href=\"#DejaVuSans-56\"/>\r\n      </g>\r\n     </g>\r\n    </g>\r\n    <g id=\"xtick_10\">\r\n     <g id=\"line2d_10\">\r\n      <g>\r\n       <use style=\"stroke:#000000;stroke-width:0.8;\" x=\"121.265457\" xlink:href=\"#mfa582b8c6e\" y=\"239.758125\"/>\r\n      </g>\r\n     </g>\r\n     <g id=\"text_10\">\r\n      <!-- 9 -->\r\n      <defs>\r\n       <path d=\"M 10.984375 1.515625 \r\nL 10.984375 10.5 \r\nQ 14.703125 8.734375 18.5 7.8125 \r\nQ 22.3125 6.890625 25.984375 6.890625 \r\nQ 35.75 6.890625 40.890625 13.453125 \r\nQ 46.046875 20.015625 46.78125 33.40625 \r\nQ 43.953125 29.203125 39.59375 26.953125 \r\nQ 35.25 24.703125 29.984375 24.703125 \r\nQ 19.046875 24.703125 12.671875 31.3125 \r\nQ 6.296875 37.9375 6.296875 49.421875 \r\nQ 6.296875 60.640625 12.9375 67.421875 \r\nQ 19.578125 74.21875 30.609375 74.21875 \r\nQ 43.265625 74.21875 49.921875 64.515625 \r\nQ 56.59375 54.828125 56.59375 36.375 \r\nQ 56.59375 19.140625 48.40625 8.859375 \r\nQ 40.234375 -1.421875 26.421875 -1.421875 \r\nQ 22.703125 -1.421875 18.890625 -0.6875 \r\nQ 15.09375 0.046875 10.984375 1.515625 \r\nz\r\nM 30.609375 32.421875 \r\nQ 37.25 32.421875 41.125 36.953125 \r\nQ 45.015625 41.5 45.015625 49.421875 \r\nQ 45.015625 57.28125 41.125 61.84375 \r\nQ 37.25 66.40625 30.609375 66.40625 \r\nQ 23.96875 66.40625 20.09375 61.84375 \r\nQ 16.21875 57.28125 16.21875 49.421875 \r\nQ 16.21875 41.5 20.09375 36.953125 \r\nQ 23.96875 32.421875 30.609375 32.421875 \r\nz\r\n\" id=\"DejaVuSans-57\"/>\r\n      </defs>\r\n      <g transform=\"translate(118.084207 254.356562)scale(0.1 -0.1)\">\r\n       <use xlink:href=\"#DejaVuSans-57\"/>\r\n      </g>\r\n     </g>\r\n    </g>\r\n    <g id=\"xtick_11\">\r\n     <g id=\"line2d_11\">\r\n      <g>\r\n       <use style=\"stroke:#000000;stroke-width:0.8;\" x=\"127.47696\" xlink:href=\"#mfa582b8c6e\" y=\"239.758125\"/>\r\n      </g>\r\n     </g>\r\n     <g id=\"text_11\">\r\n      <!-- 10 -->\r\n      <g transform=\"translate(121.11446 254.356562)scale(0.1 -0.1)\">\r\n       <use xlink:href=\"#DejaVuSans-49\"/>\r\n       <use x=\"63.623047\" xlink:href=\"#DejaVuSans-48\"/>\r\n      </g>\r\n     </g>\r\n    </g>\r\n    <g id=\"xtick_12\">\r\n     <g id=\"line2d_12\">\r\n      <g>\r\n       <use style=\"stroke:#000000;stroke-width:0.8;\" x=\"133.688462\" xlink:href=\"#mfa582b8c6e\" y=\"239.758125\"/>\r\n      </g>\r\n     </g>\r\n     <g id=\"text_12\">\r\n      <!-- 11 -->\r\n      <g transform=\"translate(127.325962 254.356562)scale(0.1 -0.1)\">\r\n       <use xlink:href=\"#DejaVuSans-49\"/>\r\n       <use x=\"63.623047\" xlink:href=\"#DejaVuSans-49\"/>\r\n      </g>\r\n     </g>\r\n    </g>\r\n    <g id=\"xtick_13\">\r\n     <g id=\"line2d_13\">\r\n      <g>\r\n       <use style=\"stroke:#000000;stroke-width:0.8;\" x=\"139.899965\" xlink:href=\"#mfa582b8c6e\" y=\"239.758125\"/>\r\n      </g>\r\n     </g>\r\n     <g id=\"text_13\">\r\n      <!-- 12 -->\r\n      <g transform=\"translate(133.537465 254.356562)scale(0.1 -0.1)\">\r\n       <use xlink:href=\"#DejaVuSans-49\"/>\r\n       <use x=\"63.623047\" xlink:href=\"#DejaVuSans-50\"/>\r\n      </g>\r\n     </g>\r\n    </g>\r\n    <g id=\"xtick_14\">\r\n     <g id=\"line2d_14\">\r\n      <g>\r\n       <use style=\"stroke:#000000;stroke-width:0.8;\" x=\"146.111468\" xlink:href=\"#mfa582b8c6e\" y=\"239.758125\"/>\r\n      </g>\r\n     </g>\r\n     <g id=\"text_14\">\r\n      <!-- 13 -->\r\n      <g transform=\"translate(139.748968 254.356562)scale(0.1 -0.1)\">\r\n       <use xlink:href=\"#DejaVuSans-49\"/>\r\n       <use x=\"63.623047\" xlink:href=\"#DejaVuSans-51\"/>\r\n      </g>\r\n     </g>\r\n    </g>\r\n    <g id=\"xtick_15\">\r\n     <g id=\"line2d_15\">\r\n      <g>\r\n       <use style=\"stroke:#000000;stroke-width:0.8;\" x=\"152.322971\" xlink:href=\"#mfa582b8c6e\" y=\"239.758125\"/>\r\n      </g>\r\n     </g>\r\n     <g id=\"text_15\">\r\n      <!-- 14 -->\r\n      <g transform=\"translate(145.960471 254.356562)scale(0.1 -0.1)\">\r\n       <use xlink:href=\"#DejaVuSans-49\"/>\r\n       <use x=\"63.623047\" xlink:href=\"#DejaVuSans-52\"/>\r\n      </g>\r\n     </g>\r\n    </g>\r\n    <g id=\"xtick_16\">\r\n     <g id=\"line2d_16\">\r\n      <g>\r\n       <use style=\"stroke:#000000;stroke-width:0.8;\" x=\"158.534474\" xlink:href=\"#mfa582b8c6e\" y=\"239.758125\"/>\r\n      </g>\r\n     </g>\r\n     <g id=\"text_16\">\r\n      <!-- 15 -->\r\n      <g transform=\"translate(152.171974 254.356562)scale(0.1 -0.1)\">\r\n       <use xlink:href=\"#DejaVuSans-49\"/>\r\n       <use x=\"63.623047\" xlink:href=\"#DejaVuSans-53\"/>\r\n      </g>\r\n     </g>\r\n    </g>\r\n    <g id=\"xtick_17\">\r\n     <g id=\"line2d_17\">\r\n      <g>\r\n       <use style=\"stroke:#000000;stroke-width:0.8;\" x=\"164.745976\" xlink:href=\"#mfa582b8c6e\" y=\"239.758125\"/>\r\n      </g>\r\n     </g>\r\n     <g id=\"text_17\">\r\n      <!-- 16 -->\r\n      <g transform=\"translate(158.383476 254.356562)scale(0.1 -0.1)\">\r\n       <use xlink:href=\"#DejaVuSans-49\"/>\r\n       <use x=\"63.623047\" xlink:href=\"#DejaVuSans-54\"/>\r\n      </g>\r\n     </g>\r\n    </g>\r\n    <g id=\"xtick_18\">\r\n     <g id=\"line2d_18\">\r\n      <g>\r\n       <use style=\"stroke:#000000;stroke-width:0.8;\" x=\"170.957479\" xlink:href=\"#mfa582b8c6e\" y=\"239.758125\"/>\r\n      </g>\r\n     </g>\r\n     <g id=\"text_18\">\r\n      <!-- 17 -->\r\n      <g transform=\"translate(164.594979 254.356562)scale(0.1 -0.1)\">\r\n       <use xlink:href=\"#DejaVuSans-49\"/>\r\n       <use x=\"63.623047\" xlink:href=\"#DejaVuSans-55\"/>\r\n      </g>\r\n     </g>\r\n    </g>\r\n    <g id=\"xtick_19\">\r\n     <g id=\"line2d_19\">\r\n      <g>\r\n       <use style=\"stroke:#000000;stroke-width:0.8;\" x=\"177.168982\" xlink:href=\"#mfa582b8c6e\" y=\"239.758125\"/>\r\n      </g>\r\n     </g>\r\n     <g id=\"text_19\">\r\n      <!-- 18 -->\r\n      <g transform=\"translate(170.806482 254.356562)scale(0.1 -0.1)\">\r\n       <use xlink:href=\"#DejaVuSans-49\"/>\r\n       <use x=\"63.623047\" xlink:href=\"#DejaVuSans-56\"/>\r\n      </g>\r\n     </g>\r\n    </g>\r\n    <g id=\"xtick_20\">\r\n     <g id=\"line2d_20\">\r\n      <g>\r\n       <use style=\"stroke:#000000;stroke-width:0.8;\" x=\"183.380485\" xlink:href=\"#mfa582b8c6e\" y=\"239.758125\"/>\r\n      </g>\r\n     </g>\r\n     <g id=\"text_20\">\r\n      <!-- 19 -->\r\n      <g transform=\"translate(177.017985 254.356562)scale(0.1 -0.1)\">\r\n       <use xlink:href=\"#DejaVuSans-49\"/>\r\n       <use x=\"63.623047\" xlink:href=\"#DejaVuSans-57\"/>\r\n      </g>\r\n     </g>\r\n    </g>\r\n    <g id=\"xtick_21\">\r\n     <g id=\"line2d_21\">\r\n      <g>\r\n       <use style=\"stroke:#000000;stroke-width:0.8;\" x=\"189.591987\" xlink:href=\"#mfa582b8c6e\" y=\"239.758125\"/>\r\n      </g>\r\n     </g>\r\n     <g id=\"text_21\">\r\n      <!-- 20 -->\r\n      <g transform=\"translate(183.229487 254.356562)scale(0.1 -0.1)\">\r\n       <use xlink:href=\"#DejaVuSans-50\"/>\r\n       <use x=\"63.623047\" xlink:href=\"#DejaVuSans-48\"/>\r\n      </g>\r\n     </g>\r\n    </g>\r\n    <g id=\"xtick_22\">\r\n     <g id=\"line2d_22\">\r\n      <g>\r\n       <use style=\"stroke:#000000;stroke-width:0.8;\" x=\"195.80349\" xlink:href=\"#mfa582b8c6e\" y=\"239.758125\"/>\r\n      </g>\r\n     </g>\r\n     <g id=\"text_22\">\r\n      <!-- 21 -->\r\n      <g transform=\"translate(189.44099 254.356562)scale(0.1 -0.1)\">\r\n       <use xlink:href=\"#DejaVuSans-50\"/>\r\n       <use x=\"63.623047\" xlink:href=\"#DejaVuSans-49\"/>\r\n      </g>\r\n     </g>\r\n    </g>\r\n    <g id=\"xtick_23\">\r\n     <g id=\"line2d_23\">\r\n      <g>\r\n       <use style=\"stroke:#000000;stroke-width:0.8;\" x=\"202.014993\" xlink:href=\"#mfa582b8c6e\" y=\"239.758125\"/>\r\n      </g>\r\n     </g>\r\n     <g id=\"text_23\">\r\n      <!-- 22 -->\r\n      <g transform=\"translate(195.652493 254.356562)scale(0.1 -0.1)\">\r\n       <use xlink:href=\"#DejaVuSans-50\"/>\r\n       <use x=\"63.623047\" xlink:href=\"#DejaVuSans-50\"/>\r\n      </g>\r\n     </g>\r\n    </g>\r\n    <g id=\"xtick_24\">\r\n     <g id=\"line2d_24\">\r\n      <g>\r\n       <use style=\"stroke:#000000;stroke-width:0.8;\" x=\"208.226496\" xlink:href=\"#mfa582b8c6e\" y=\"239.758125\"/>\r\n      </g>\r\n     </g>\r\n     <g id=\"text_24\">\r\n      <!-- 23 -->\r\n      <g transform=\"translate(201.863996 254.356562)scale(0.1 -0.1)\">\r\n       <use xlink:href=\"#DejaVuSans-50\"/>\r\n       <use x=\"63.623047\" xlink:href=\"#DejaVuSans-51\"/>\r\n      </g>\r\n     </g>\r\n    </g>\r\n    <g id=\"xtick_25\">\r\n     <g id=\"line2d_25\">\r\n      <g>\r\n       <use style=\"stroke:#000000;stroke-width:0.8;\" x=\"214.437999\" xlink:href=\"#mfa582b8c6e\" y=\"239.758125\"/>\r\n      </g>\r\n     </g>\r\n     <g id=\"text_25\">\r\n      <!-- 24 -->\r\n      <g transform=\"translate(208.075499 254.356562)scale(0.1 -0.1)\">\r\n       <use xlink:href=\"#DejaVuSans-50\"/>\r\n       <use x=\"63.623047\" xlink:href=\"#DejaVuSans-52\"/>\r\n      </g>\r\n     </g>\r\n    </g>\r\n    <g id=\"xtick_26\">\r\n     <g id=\"line2d_26\">\r\n      <g>\r\n       <use style=\"stroke:#000000;stroke-width:0.8;\" x=\"220.649501\" xlink:href=\"#mfa582b8c6e\" y=\"239.758125\"/>\r\n      </g>\r\n     </g>\r\n     <g id=\"text_26\">\r\n      <!-- 25 -->\r\n      <g transform=\"translate(214.287001 254.356562)scale(0.1 -0.1)\">\r\n       <use xlink:href=\"#DejaVuSans-50\"/>\r\n       <use x=\"63.623047\" xlink:href=\"#DejaVuSans-53\"/>\r\n      </g>\r\n     </g>\r\n    </g>\r\n    <g id=\"xtick_27\">\r\n     <g id=\"line2d_27\">\r\n      <g>\r\n       <use style=\"stroke:#000000;stroke-width:0.8;\" x=\"226.861004\" xlink:href=\"#mfa582b8c6e\" y=\"239.758125\"/>\r\n      </g>\r\n     </g>\r\n     <g id=\"text_27\">\r\n      <!-- 26 -->\r\n      <g transform=\"translate(220.498504 254.356562)scale(0.1 -0.1)\">\r\n       <use xlink:href=\"#DejaVuSans-50\"/>\r\n       <use x=\"63.623047\" xlink:href=\"#DejaVuSans-54\"/>\r\n      </g>\r\n     </g>\r\n    </g>\r\n    <g id=\"xtick_28\">\r\n     <g id=\"line2d_28\">\r\n      <g>\r\n       <use style=\"stroke:#000000;stroke-width:0.8;\" x=\"233.072507\" xlink:href=\"#mfa582b8c6e\" y=\"239.758125\"/>\r\n      </g>\r\n     </g>\r\n     <g id=\"text_28\">\r\n      <!-- 27 -->\r\n      <g transform=\"translate(226.710007 254.356562)scale(0.1 -0.1)\">\r\n       <use xlink:href=\"#DejaVuSans-50\"/>\r\n       <use x=\"63.623047\" xlink:href=\"#DejaVuSans-55\"/>\r\n      </g>\r\n     </g>\r\n    </g>\r\n    <g id=\"xtick_29\">\r\n     <g id=\"line2d_29\">\r\n      <g>\r\n       <use style=\"stroke:#000000;stroke-width:0.8;\" x=\"239.28401\" xlink:href=\"#mfa582b8c6e\" y=\"239.758125\"/>\r\n      </g>\r\n     </g>\r\n     <g id=\"text_29\">\r\n      <!-- 28 -->\r\n      <g transform=\"translate(232.92151 254.356562)scale(0.1 -0.1)\">\r\n       <use xlink:href=\"#DejaVuSans-50\"/>\r\n       <use x=\"63.623047\" xlink:href=\"#DejaVuSans-56\"/>\r\n      </g>\r\n     </g>\r\n    </g>\r\n    <g id=\"xtick_30\">\r\n     <g id=\"line2d_30\">\r\n      <g>\r\n       <use style=\"stroke:#000000;stroke-width:0.8;\" x=\"245.495513\" xlink:href=\"#mfa582b8c6e\" y=\"239.758125\"/>\r\n      </g>\r\n     </g>\r\n     <g id=\"text_30\">\r\n      <!-- 29 -->\r\n      <g transform=\"translate(239.133013 254.356562)scale(0.1 -0.1)\">\r\n       <use xlink:href=\"#DejaVuSans-50\"/>\r\n       <use x=\"63.623047\" xlink:href=\"#DejaVuSans-57\"/>\r\n      </g>\r\n     </g>\r\n    </g>\r\n    <g id=\"xtick_31\">\r\n     <g id=\"line2d_31\">\r\n      <g>\r\n       <use style=\"stroke:#000000;stroke-width:0.8;\" x=\"251.707015\" xlink:href=\"#mfa582b8c6e\" y=\"239.758125\"/>\r\n      </g>\r\n     </g>\r\n     <g id=\"text_31\">\r\n      <!-- 30 -->\r\n      <g transform=\"translate(245.344515 254.356562)scale(0.1 -0.1)\">\r\n       <use xlink:href=\"#DejaVuSans-51\"/>\r\n       <use x=\"63.623047\" xlink:href=\"#DejaVuSans-48\"/>\r\n      </g>\r\n     </g>\r\n    </g>\r\n    <g id=\"xtick_32\">\r\n     <g id=\"line2d_32\">\r\n      <g>\r\n       <use style=\"stroke:#000000;stroke-width:0.8;\" x=\"257.918518\" xlink:href=\"#mfa582b8c6e\" y=\"239.758125\"/>\r\n      </g>\r\n     </g>\r\n     <g id=\"text_32\">\r\n      <!-- 31 -->\r\n      <g transform=\"translate(251.556018 254.356562)scale(0.1 -0.1)\">\r\n       <use xlink:href=\"#DejaVuSans-51\"/>\r\n       <use x=\"63.623047\" xlink:href=\"#DejaVuSans-49\"/>\r\n      </g>\r\n     </g>\r\n    </g>\r\n    <g id=\"xtick_33\">\r\n     <g id=\"line2d_33\">\r\n      <g>\r\n       <use style=\"stroke:#000000;stroke-width:0.8;\" x=\"264.130021\" xlink:href=\"#mfa582b8c6e\" y=\"239.758125\"/>\r\n      </g>\r\n     </g>\r\n     <g id=\"text_33\">\r\n      <!-- 32 -->\r\n      <g transform=\"translate(257.767521 254.356562)scale(0.1 -0.1)\">\r\n       <use xlink:href=\"#DejaVuSans-51\"/>\r\n       <use x=\"63.623047\" xlink:href=\"#DejaVuSans-50\"/>\r\n      </g>\r\n     </g>\r\n    </g>\r\n    <g id=\"xtick_34\">\r\n     <g id=\"line2d_34\">\r\n      <g>\r\n       <use style=\"stroke:#000000;stroke-width:0.8;\" x=\"270.341524\" xlink:href=\"#mfa582b8c6e\" y=\"239.758125\"/>\r\n      </g>\r\n     </g>\r\n     <g id=\"text_34\">\r\n      <!-- 33 -->\r\n      <g transform=\"translate(263.979024 254.356562)scale(0.1 -0.1)\">\r\n       <use xlink:href=\"#DejaVuSans-51\"/>\r\n       <use x=\"63.623047\" xlink:href=\"#DejaVuSans-51\"/>\r\n      </g>\r\n     </g>\r\n    </g>\r\n    <g id=\"xtick_35\">\r\n     <g id=\"line2d_35\">\r\n      <g>\r\n       <use style=\"stroke:#000000;stroke-width:0.8;\" x=\"276.553026\" xlink:href=\"#mfa582b8c6e\" y=\"239.758125\"/>\r\n      </g>\r\n     </g>\r\n     <g id=\"text_35\">\r\n      <!-- 34 -->\r\n      <g transform=\"translate(270.190526 254.356562)scale(0.1 -0.1)\">\r\n       <use xlink:href=\"#DejaVuSans-51\"/>\r\n       <use x=\"63.623047\" xlink:href=\"#DejaVuSans-52\"/>\r\n      </g>\r\n     </g>\r\n    </g>\r\n    <g id=\"xtick_36\">\r\n     <g id=\"line2d_36\">\r\n      <g>\r\n       <use style=\"stroke:#000000;stroke-width:0.8;\" x=\"282.764529\" xlink:href=\"#mfa582b8c6e\" y=\"239.758125\"/>\r\n      </g>\r\n     </g>\r\n     <g id=\"text_36\">\r\n      <!-- 35 -->\r\n      <g transform=\"translate(276.402029 254.356562)scale(0.1 -0.1)\">\r\n       <use xlink:href=\"#DejaVuSans-51\"/>\r\n       <use x=\"63.623047\" xlink:href=\"#DejaVuSans-53\"/>\r\n      </g>\r\n     </g>\r\n    </g>\r\n    <g id=\"xtick_37\">\r\n     <g id=\"line2d_37\">\r\n      <g>\r\n       <use style=\"stroke:#000000;stroke-width:0.8;\" x=\"288.976032\" xlink:href=\"#mfa582b8c6e\" y=\"239.758125\"/>\r\n      </g>\r\n     </g>\r\n     <g id=\"text_37\">\r\n      <!-- 36 -->\r\n      <g transform=\"translate(282.613532 254.356562)scale(0.1 -0.1)\">\r\n       <use xlink:href=\"#DejaVuSans-51\"/>\r\n       <use x=\"63.623047\" xlink:href=\"#DejaVuSans-54\"/>\r\n      </g>\r\n     </g>\r\n    </g>\r\n    <g id=\"xtick_38\">\r\n     <g id=\"line2d_38\">\r\n      <g>\r\n       <use style=\"stroke:#000000;stroke-width:0.8;\" x=\"295.187535\" xlink:href=\"#mfa582b8c6e\" y=\"239.758125\"/>\r\n      </g>\r\n     </g>\r\n     <g id=\"text_38\">\r\n      <!-- 37 -->\r\n      <g transform=\"translate(288.825035 254.356562)scale(0.1 -0.1)\">\r\n       <use xlink:href=\"#DejaVuSans-51\"/>\r\n       <use x=\"63.623047\" xlink:href=\"#DejaVuSans-55\"/>\r\n      </g>\r\n     </g>\r\n    </g>\r\n    <g id=\"xtick_39\">\r\n     <g id=\"line2d_39\">\r\n      <g>\r\n       <use style=\"stroke:#000000;stroke-width:0.8;\" x=\"301.399038\" xlink:href=\"#mfa582b8c6e\" y=\"239.758125\"/>\r\n      </g>\r\n     </g>\r\n     <g id=\"text_39\">\r\n      <!-- 38 -->\r\n      <g transform=\"translate(295.036538 254.356562)scale(0.1 -0.1)\">\r\n       <use xlink:href=\"#DejaVuSans-51\"/>\r\n       <use x=\"63.623047\" xlink:href=\"#DejaVuSans-56\"/>\r\n      </g>\r\n     </g>\r\n    </g>\r\n    <g id=\"xtick_40\">\r\n     <g id=\"line2d_40\">\r\n      <g>\r\n       <use style=\"stroke:#000000;stroke-width:0.8;\" x=\"307.61054\" xlink:href=\"#mfa582b8c6e\" y=\"239.758125\"/>\r\n      </g>\r\n     </g>\r\n     <g id=\"text_40\">\r\n      <!-- 39 -->\r\n      <g transform=\"translate(301.24804 254.356562)scale(0.1 -0.1)\">\r\n       <use xlink:href=\"#DejaVuSans-51\"/>\r\n       <use x=\"63.623047\" xlink:href=\"#DejaVuSans-57\"/>\r\n      </g>\r\n     </g>\r\n    </g>\r\n    <g id=\"xtick_41\">\r\n     <g id=\"line2d_41\">\r\n      <g>\r\n       <use style=\"stroke:#000000;stroke-width:0.8;\" x=\"313.822043\" xlink:href=\"#mfa582b8c6e\" y=\"239.758125\"/>\r\n      </g>\r\n     </g>\r\n     <g id=\"text_41\">\r\n      <!-- 40 -->\r\n      <g transform=\"translate(307.459543 254.356562)scale(0.1 -0.1)\">\r\n       <use xlink:href=\"#DejaVuSans-52\"/>\r\n       <use x=\"63.623047\" xlink:href=\"#DejaVuSans-48\"/>\r\n      </g>\r\n     </g>\r\n    </g>\r\n    <g id=\"xtick_42\">\r\n     <g id=\"line2d_42\">\r\n      <g>\r\n       <use style=\"stroke:#000000;stroke-width:0.8;\" x=\"320.033546\" xlink:href=\"#mfa582b8c6e\" y=\"239.758125\"/>\r\n      </g>\r\n     </g>\r\n     <g id=\"text_42\">\r\n      <!-- 41 -->\r\n      <g transform=\"translate(313.671046 254.356562)scale(0.1 -0.1)\">\r\n       <use xlink:href=\"#DejaVuSans-52\"/>\r\n       <use x=\"63.623047\" xlink:href=\"#DejaVuSans-49\"/>\r\n      </g>\r\n     </g>\r\n    </g>\r\n    <g id=\"xtick_43\">\r\n     <g id=\"line2d_43\">\r\n      <g>\r\n       <use style=\"stroke:#000000;stroke-width:0.8;\" x=\"326.245049\" xlink:href=\"#mfa582b8c6e\" y=\"239.758125\"/>\r\n      </g>\r\n     </g>\r\n     <g id=\"text_43\">\r\n      <!-- 42 -->\r\n      <g transform=\"translate(319.882549 254.356562)scale(0.1 -0.1)\">\r\n       <use xlink:href=\"#DejaVuSans-52\"/>\r\n       <use x=\"63.623047\" xlink:href=\"#DejaVuSans-50\"/>\r\n      </g>\r\n     </g>\r\n    </g>\r\n    <g id=\"xtick_44\">\r\n     <g id=\"line2d_44\">\r\n      <g>\r\n       <use style=\"stroke:#000000;stroke-width:0.8;\" x=\"332.456551\" xlink:href=\"#mfa582b8c6e\" y=\"239.758125\"/>\r\n      </g>\r\n     </g>\r\n     <g id=\"text_44\">\r\n      <!-- 43 -->\r\n      <g transform=\"translate(326.094051 254.356562)scale(0.1 -0.1)\">\r\n       <use xlink:href=\"#DejaVuSans-52\"/>\r\n       <use x=\"63.623047\" xlink:href=\"#DejaVuSans-51\"/>\r\n      </g>\r\n     </g>\r\n    </g>\r\n    <g id=\"xtick_45\">\r\n     <g id=\"line2d_45\">\r\n      <g>\r\n       <use style=\"stroke:#000000;stroke-width:0.8;\" x=\"338.668054\" xlink:href=\"#mfa582b8c6e\" y=\"239.758125\"/>\r\n      </g>\r\n     </g>\r\n     <g id=\"text_45\">\r\n      <!-- 44 -->\r\n      <g transform=\"translate(332.305554 254.356562)scale(0.1 -0.1)\">\r\n       <use xlink:href=\"#DejaVuSans-52\"/>\r\n       <use x=\"63.623047\" xlink:href=\"#DejaVuSans-52\"/>\r\n      </g>\r\n     </g>\r\n    </g>\r\n    <g id=\"xtick_46\">\r\n     <g id=\"line2d_46\">\r\n      <g>\r\n       <use style=\"stroke:#000000;stroke-width:0.8;\" x=\"344.879557\" xlink:href=\"#mfa582b8c6e\" y=\"239.758125\"/>\r\n      </g>\r\n     </g>\r\n     <g id=\"text_46\">\r\n      <!-- 45 -->\r\n      <g transform=\"translate(338.517057 254.356562)scale(0.1 -0.1)\">\r\n       <use xlink:href=\"#DejaVuSans-52\"/>\r\n       <use x=\"63.623047\" xlink:href=\"#DejaVuSans-53\"/>\r\n      </g>\r\n     </g>\r\n    </g>\r\n    <g id=\"xtick_47\">\r\n     <g id=\"line2d_47\">\r\n      <g>\r\n       <use style=\"stroke:#000000;stroke-width:0.8;\" x=\"351.09106\" xlink:href=\"#mfa582b8c6e\" y=\"239.758125\"/>\r\n      </g>\r\n     </g>\r\n     <g id=\"text_47\">\r\n      <!-- 46 -->\r\n      <g transform=\"translate(344.72856 254.356562)scale(0.1 -0.1)\">\r\n       <use xlink:href=\"#DejaVuSans-52\"/>\r\n       <use x=\"63.623047\" xlink:href=\"#DejaVuSans-54\"/>\r\n      </g>\r\n     </g>\r\n    </g>\r\n    <g id=\"xtick_48\">\r\n     <g id=\"line2d_48\">\r\n      <g>\r\n       <use style=\"stroke:#000000;stroke-width:0.8;\" x=\"357.302563\" xlink:href=\"#mfa582b8c6e\" y=\"239.758125\"/>\r\n      </g>\r\n     </g>\r\n     <g id=\"text_48\">\r\n      <!-- 47 -->\r\n      <g transform=\"translate(350.940063 254.356562)scale(0.1 -0.1)\">\r\n       <use xlink:href=\"#DejaVuSans-52\"/>\r\n       <use x=\"63.623047\" xlink:href=\"#DejaVuSans-55\"/>\r\n      </g>\r\n     </g>\r\n    </g>\r\n    <g id=\"xtick_49\">\r\n     <g id=\"line2d_49\">\r\n      <g>\r\n       <use style=\"stroke:#000000;stroke-width:0.8;\" x=\"363.514065\" xlink:href=\"#mfa582b8c6e\" y=\"239.758125\"/>\r\n      </g>\r\n     </g>\r\n     <g id=\"text_49\">\r\n      <!-- 48 -->\r\n      <g transform=\"translate(357.151565 254.356562)scale(0.1 -0.1)\">\r\n       <use xlink:href=\"#DejaVuSans-52\"/>\r\n       <use x=\"63.623047\" xlink:href=\"#DejaVuSans-56\"/>\r\n      </g>\r\n     </g>\r\n    </g>\r\n    <g id=\"xtick_50\">\r\n     <g id=\"line2d_50\">\r\n      <g>\r\n       <use style=\"stroke:#000000;stroke-width:0.8;\" x=\"369.725568\" xlink:href=\"#mfa582b8c6e\" y=\"239.758125\"/>\r\n      </g>\r\n     </g>\r\n     <g id=\"text_50\">\r\n      <!-- 49 -->\r\n      <g transform=\"translate(363.363068 254.356562)scale(0.1 -0.1)\">\r\n       <use xlink:href=\"#DejaVuSans-52\"/>\r\n       <use x=\"63.623047\" xlink:href=\"#DejaVuSans-57\"/>\r\n      </g>\r\n     </g>\r\n    </g>\r\n    <g id=\"text_51\">\r\n     <!-- Epoch -->\r\n     <defs>\r\n      <path d=\"M 9.8125 72.90625 \r\nL 55.90625 72.90625 \r\nL 55.90625 64.59375 \r\nL 19.671875 64.59375 \r\nL 19.671875 43.015625 \r\nL 54.390625 43.015625 \r\nL 54.390625 34.71875 \r\nL 19.671875 34.71875 \r\nL 19.671875 8.296875 \r\nL 56.78125 8.296875 \r\nL 56.78125 0 \r\nL 9.8125 0 \r\nz\r\n\" id=\"DejaVuSans-69\"/>\r\n      <path d=\"M 18.109375 8.203125 \r\nL 18.109375 -20.796875 \r\nL 9.078125 -20.796875 \r\nL 9.078125 54.6875 \r\nL 18.109375 54.6875 \r\nL 18.109375 46.390625 \r\nQ 20.953125 51.265625 25.265625 53.625 \r\nQ 29.59375 56 35.59375 56 \r\nQ 45.5625 56 51.78125 48.09375 \r\nQ 58.015625 40.1875 58.015625 27.296875 \r\nQ 58.015625 14.40625 51.78125 6.484375 \r\nQ 45.5625 -1.421875 35.59375 -1.421875 \r\nQ 29.59375 -1.421875 25.265625 0.953125 \r\nQ 20.953125 3.328125 18.109375 8.203125 \r\nz\r\nM 48.6875 27.296875 \r\nQ 48.6875 37.203125 44.609375 42.84375 \r\nQ 40.53125 48.484375 33.40625 48.484375 \r\nQ 26.265625 48.484375 22.1875 42.84375 \r\nQ 18.109375 37.203125 18.109375 27.296875 \r\nQ 18.109375 17.390625 22.1875 11.75 \r\nQ 26.265625 6.109375 33.40625 6.109375 \r\nQ 40.53125 6.109375 44.609375 11.75 \r\nQ 48.6875 17.390625 48.6875 27.296875 \r\nz\r\n\" id=\"DejaVuSans-112\"/>\r\n      <path d=\"M 30.609375 48.390625 \r\nQ 23.390625 48.390625 19.1875 42.75 \r\nQ 14.984375 37.109375 14.984375 27.296875 \r\nQ 14.984375 17.484375 19.15625 11.84375 \r\nQ 23.34375 6.203125 30.609375 6.203125 \r\nQ 37.796875 6.203125 41.984375 11.859375 \r\nQ 46.1875 17.53125 46.1875 27.296875 \r\nQ 46.1875 37.015625 41.984375 42.703125 \r\nQ 37.796875 48.390625 30.609375 48.390625 \r\nz\r\nM 30.609375 56 \r\nQ 42.328125 56 49.015625 48.375 \r\nQ 55.71875 40.765625 55.71875 27.296875 \r\nQ 55.71875 13.875 49.015625 6.21875 \r\nQ 42.328125 -1.421875 30.609375 -1.421875 \r\nQ 18.84375 -1.421875 12.171875 6.21875 \r\nQ 5.515625 13.875 5.515625 27.296875 \r\nQ 5.515625 40.765625 12.171875 48.375 \r\nQ 18.84375 56 30.609375 56 \r\nz\r\n\" id=\"DejaVuSans-111\"/>\r\n      <path d=\"M 48.78125 52.59375 \r\nL 48.78125 44.1875 \r\nQ 44.96875 46.296875 41.140625 47.34375 \r\nQ 37.3125 48.390625 33.40625 48.390625 \r\nQ 24.65625 48.390625 19.8125 42.84375 \r\nQ 14.984375 37.3125 14.984375 27.296875 \r\nQ 14.984375 17.28125 19.8125 11.734375 \r\nQ 24.65625 6.203125 33.40625 6.203125 \r\nQ 37.3125 6.203125 41.140625 7.25 \r\nQ 44.96875 8.296875 48.78125 10.40625 \r\nL 48.78125 2.09375 \r\nQ 45.015625 0.34375 40.984375 -0.53125 \r\nQ 36.96875 -1.421875 32.421875 -1.421875 \r\nQ 20.0625 -1.421875 12.78125 6.34375 \r\nQ 5.515625 14.109375 5.515625 27.296875 \r\nQ 5.515625 40.671875 12.859375 48.328125 \r\nQ 20.21875 56 33.015625 56 \r\nQ 37.15625 56 41.109375 55.140625 \r\nQ 45.0625 54.296875 48.78125 52.59375 \r\nz\r\n\" id=\"DejaVuSans-99\"/>\r\n      <path d=\"M 54.890625 33.015625 \r\nL 54.890625 0 \r\nL 45.90625 0 \r\nL 45.90625 32.71875 \r\nQ 45.90625 40.484375 42.875 44.328125 \r\nQ 39.84375 48.1875 33.796875 48.1875 \r\nQ 26.515625 48.1875 22.3125 43.546875 \r\nQ 18.109375 38.921875 18.109375 30.90625 \r\nL 18.109375 0 \r\nL 9.078125 0 \r\nL 9.078125 75.984375 \r\nL 18.109375 75.984375 \r\nL 18.109375 46.1875 \r\nQ 21.34375 51.125 25.703125 53.5625 \r\nQ 30.078125 56 35.796875 56 \r\nQ 45.21875 56 50.046875 50.171875 \r\nQ 54.890625 44.34375 54.890625 33.015625 \r\nz\r\n\" id=\"DejaVuSans-104\"/>\r\n     </defs>\r\n     <g transform=\"translate(202.232813 268.034687)scale(0.1 -0.1)\">\r\n      <use xlink:href=\"#DejaVuSans-69\"/>\r\n      <use x=\"63.183594\" xlink:href=\"#DejaVuSans-112\"/>\r\n      <use x=\"126.660156\" xlink:href=\"#DejaVuSans-111\"/>\r\n      <use x=\"187.841797\" xlink:href=\"#DejaVuSans-99\"/>\r\n      <use x=\"242.822266\" xlink:href=\"#DejaVuSans-104\"/>\r\n     </g>\r\n    </g>\r\n   </g>\r\n   <g id=\"matplotlib.axis_2\">\r\n    <g id=\"ytick_1\">\r\n     <g id=\"line2d_51\">\r\n      <defs>\r\n       <path d=\"M 0 0 \r\nL -3.5 0 \r\n\" id=\"m4a203fd0b9\" style=\"stroke:#000000;stroke-width:0.8;\"/>\r\n      </defs>\r\n      <g>\r\n       <use style=\"stroke:#000000;stroke-width:0.8;\" x=\"50.14375\" xlink:href=\"#m4a203fd0b9\" y=\"214.005403\"/>\r\n      </g>\r\n     </g>\r\n     <g id=\"text_52\">\r\n      <!-- 0.12 -->\r\n      <defs>\r\n       <path d=\"M 10.6875 12.40625 \r\nL 21 12.40625 \r\nL 21 0 \r\nL 10.6875 0 \r\nz\r\n\" id=\"DejaVuSans-46\"/>\r\n      </defs>\r\n      <g transform=\"translate(20.878125 217.804622)scale(0.1 -0.1)\">\r\n       <use xlink:href=\"#DejaVuSans-48\"/>\r\n       <use x=\"63.623047\" xlink:href=\"#DejaVuSans-46\"/>\r\n       <use x=\"95.410156\" xlink:href=\"#DejaVuSans-49\"/>\r\n       <use x=\"159.033203\" xlink:href=\"#DejaVuSans-50\"/>\r\n      </g>\r\n     </g>\r\n    </g>\r\n    <g id=\"ytick_2\">\r\n     <g id=\"line2d_52\">\r\n      <g>\r\n       <use style=\"stroke:#000000;stroke-width:0.8;\" x=\"50.14375\" xlink:href=\"#m4a203fd0b9\" y=\"183.989838\"/>\r\n      </g>\r\n     </g>\r\n     <g id=\"text_53\">\r\n      <!-- 0.14 -->\r\n      <g transform=\"translate(20.878125 187.789057)scale(0.1 -0.1)\">\r\n       <use xlink:href=\"#DejaVuSans-48\"/>\r\n       <use x=\"63.623047\" xlink:href=\"#DejaVuSans-46\"/>\r\n       <use x=\"95.410156\" xlink:href=\"#DejaVuSans-49\"/>\r\n       <use x=\"159.033203\" xlink:href=\"#DejaVuSans-52\"/>\r\n      </g>\r\n     </g>\r\n    </g>\r\n    <g id=\"ytick_3\">\r\n     <g id=\"line2d_53\">\r\n      <g>\r\n       <use style=\"stroke:#000000;stroke-width:0.8;\" x=\"50.14375\" xlink:href=\"#m4a203fd0b9\" y=\"153.974273\"/>\r\n      </g>\r\n     </g>\r\n     <g id=\"text_54\">\r\n      <!-- 0.16 -->\r\n      <g transform=\"translate(20.878125 157.773492)scale(0.1 -0.1)\">\r\n       <use xlink:href=\"#DejaVuSans-48\"/>\r\n       <use x=\"63.623047\" xlink:href=\"#DejaVuSans-46\"/>\r\n       <use x=\"95.410156\" xlink:href=\"#DejaVuSans-49\"/>\r\n       <use x=\"159.033203\" xlink:href=\"#DejaVuSans-54\"/>\r\n      </g>\r\n     </g>\r\n    </g>\r\n    <g id=\"ytick_4\">\r\n     <g id=\"line2d_54\">\r\n      <g>\r\n       <use style=\"stroke:#000000;stroke-width:0.8;\" x=\"50.14375\" xlink:href=\"#m4a203fd0b9\" y=\"123.958708\"/>\r\n      </g>\r\n     </g>\r\n     <g id=\"text_55\">\r\n      <!-- 0.18 -->\r\n      <g transform=\"translate(20.878125 127.757926)scale(0.1 -0.1)\">\r\n       <use xlink:href=\"#DejaVuSans-48\"/>\r\n       <use x=\"63.623047\" xlink:href=\"#DejaVuSans-46\"/>\r\n       <use x=\"95.410156\" xlink:href=\"#DejaVuSans-49\"/>\r\n       <use x=\"159.033203\" xlink:href=\"#DejaVuSans-56\"/>\r\n      </g>\r\n     </g>\r\n    </g>\r\n    <g id=\"ytick_5\">\r\n     <g id=\"line2d_55\">\r\n      <g>\r\n       <use style=\"stroke:#000000;stroke-width:0.8;\" x=\"50.14375\" xlink:href=\"#m4a203fd0b9\" y=\"93.943143\"/>\r\n      </g>\r\n     </g>\r\n     <g id=\"text_56\">\r\n      <!-- 0.20 -->\r\n      <g transform=\"translate(20.878125 97.742361)scale(0.1 -0.1)\">\r\n       <use xlink:href=\"#DejaVuSans-48\"/>\r\n       <use x=\"63.623047\" xlink:href=\"#DejaVuSans-46\"/>\r\n       <use x=\"95.410156\" xlink:href=\"#DejaVuSans-50\"/>\r\n       <use x=\"159.033203\" xlink:href=\"#DejaVuSans-48\"/>\r\n      </g>\r\n     </g>\r\n    </g>\r\n    <g id=\"ytick_6\">\r\n     <g id=\"line2d_56\">\r\n      <g>\r\n       <use style=\"stroke:#000000;stroke-width:0.8;\" x=\"50.14375\" xlink:href=\"#m4a203fd0b9\" y=\"63.927577\"/>\r\n      </g>\r\n     </g>\r\n     <g id=\"text_57\">\r\n      <!-- 0.22 -->\r\n      <g transform=\"translate(20.878125 67.726796)scale(0.1 -0.1)\">\r\n       <use xlink:href=\"#DejaVuSans-48\"/>\r\n       <use x=\"63.623047\" xlink:href=\"#DejaVuSans-46\"/>\r\n       <use x=\"95.410156\" xlink:href=\"#DejaVuSans-50\"/>\r\n       <use x=\"159.033203\" xlink:href=\"#DejaVuSans-50\"/>\r\n      </g>\r\n     </g>\r\n    </g>\r\n    <g id=\"ytick_7\">\r\n     <g id=\"line2d_57\">\r\n      <g>\r\n       <use style=\"stroke:#000000;stroke-width:0.8;\" x=\"50.14375\" xlink:href=\"#m4a203fd0b9\" y=\"33.912012\"/>\r\n      </g>\r\n     </g>\r\n     <g id=\"text_58\">\r\n      <!-- 0.24 -->\r\n      <g transform=\"translate(20.878125 37.711231)scale(0.1 -0.1)\">\r\n       <use xlink:href=\"#DejaVuSans-48\"/>\r\n       <use x=\"63.623047\" xlink:href=\"#DejaVuSans-46\"/>\r\n       <use x=\"95.410156\" xlink:href=\"#DejaVuSans-50\"/>\r\n       <use x=\"159.033203\" xlink:href=\"#DejaVuSans-52\"/>\r\n      </g>\r\n     </g>\r\n    </g>\r\n    <g id=\"text_59\">\r\n     <!-- loss -->\r\n     <defs>\r\n      <path d=\"M 9.421875 75.984375 \r\nL 18.40625 75.984375 \r\nL 18.40625 0 \r\nL 9.421875 0 \r\nz\r\n\" id=\"DejaVuSans-108\"/>\r\n      <path d=\"M 44.28125 53.078125 \r\nL 44.28125 44.578125 \r\nQ 40.484375 46.53125 36.375 47.5 \r\nQ 32.28125 48.484375 27.875 48.484375 \r\nQ 21.1875 48.484375 17.84375 46.4375 \r\nQ 14.5 44.390625 14.5 40.28125 \r\nQ 14.5 37.15625 16.890625 35.375 \r\nQ 19.28125 33.59375 26.515625 31.984375 \r\nL 29.59375 31.296875 \r\nQ 39.15625 29.25 43.1875 25.515625 \r\nQ 47.21875 21.78125 47.21875 15.09375 \r\nQ 47.21875 7.46875 41.1875 3.015625 \r\nQ 35.15625 -1.421875 24.609375 -1.421875 \r\nQ 20.21875 -1.421875 15.453125 -0.5625 \r\nQ 10.6875 0.296875 5.421875 2 \r\nL 5.421875 11.28125 \r\nQ 10.40625 8.6875 15.234375 7.390625 \r\nQ 20.0625 6.109375 24.8125 6.109375 \r\nQ 31.15625 6.109375 34.5625 8.28125 \r\nQ 37.984375 10.453125 37.984375 14.40625 \r\nQ 37.984375 18.0625 35.515625 20.015625 \r\nQ 33.0625 21.96875 24.703125 23.78125 \r\nL 21.578125 24.515625 \r\nQ 13.234375 26.265625 9.515625 29.90625 \r\nQ 5.8125 33.546875 5.8125 39.890625 \r\nQ 5.8125 47.609375 11.28125 51.796875 \r\nQ 16.75 56 26.8125 56 \r\nQ 31.78125 56 36.171875 55.265625 \r\nQ 40.578125 54.546875 44.28125 53.078125 \r\nz\r\n\" id=\"DejaVuSans-115\"/>\r\n     </defs>\r\n     <g transform=\"translate(14.798438 140.695937)rotate(-90)scale(0.1 -0.1)\">\r\n      <use xlink:href=\"#DejaVuSans-108\"/>\r\n      <use x=\"27.783203\" xlink:href=\"#DejaVuSans-111\"/>\r\n      <use x=\"88.964844\" xlink:href=\"#DejaVuSans-115\"/>\r\n      <use x=\"141.064453\" xlink:href=\"#DejaVuSans-115\"/>\r\n     </g>\r\n    </g>\r\n   </g>\r\n   <g id=\"line2d_58\">\r\n    <path clip-path=\"url(#p2a73d07505)\" d=\"M 65.361932 32.201761 \r\nL 71.573435 33.509927 \r\nL 77.784937 40.929681 \r\nL 83.99644 89.672344 \r\nL 90.207943 94.40219 \r\nL 96.419446 123.041599 \r\nL 102.630949 131.112975 \r\nL 108.842451 119.694053 \r\nL 115.053954 129.178188 \r\nL 121.265457 99.118775 \r\nL 127.47696 126.831447 \r\nL 133.688462 166.673099 \r\nL 139.899965 161.764123 \r\nL 146.111468 170.236295 \r\nL 152.322971 138.410736 \r\nL 158.534474 130.640482 \r\nL 164.745976 155.939815 \r\nL 170.957479 192.104487 \r\nL 177.168982 178.845397 \r\nL 183.380485 184.025641 \r\nL 189.591987 188.413865 \r\nL 195.80349 182.373795 \r\nL 202.014993 188.230329 \r\nL 208.226496 211.205685 \r\nL 214.437999 219.238809 \r\nL 220.649501 229.075156 \r\nL 226.861004 218.721254 \r\nL 233.072507 204.088508 \r\nL 239.28401 166.488915 \r\nL 245.495513 160.787493 \r\nL 251.707015 228.428855 \r\nL 257.918518 229.874489 \r\nL 264.130021 223.143772 \r\nL 270.341524 223.237161 \r\nL 276.553026 151.91779 \r\nL 282.764529 194.78603 \r\nL 288.976032 171.695793 \r\nL 295.187535 212.368512 \r\nL 301.399038 193.568905 \r\nL 307.61054 182.123348 \r\nL 313.822043 215.182424 \r\nL 320.033546 190.790954 \r\nL 326.245049 191.748731 \r\nL 332.456551 190.537487 \r\nL 338.668054 220.676883 \r\nL 344.879557 196.441454 \r\nL 351.09106 205.639405 \r\nL 357.302563 191.497076 \r\nL 363.514065 122.803452 \r\nL 369.725568 190.047529 \r\n\" style=\"fill:none;stroke:#1f77b4;stroke-linecap:square;stroke-width:1.5;\"/>\r\n   </g>\r\n   <g id=\"patch_3\">\r\n    <path d=\"M 50.14375 239.758125 \r\nL 50.14375 22.318125 \r\n\" style=\"fill:none;stroke:#000000;stroke-linecap:square;stroke-linejoin:miter;stroke-width:0.8;\"/>\r\n   </g>\r\n   <g id=\"patch_4\">\r\n    <path d=\"M 384.94375 239.758125 \r\nL 384.94375 22.318125 \r\n\" style=\"fill:none;stroke:#000000;stroke-linecap:square;stroke-linejoin:miter;stroke-width:0.8;\"/>\r\n   </g>\r\n   <g id=\"patch_5\">\r\n    <path d=\"M 50.14375 239.758125 \r\nL 384.94375 239.758125 \r\n\" style=\"fill:none;stroke:#000000;stroke-linecap:square;stroke-linejoin:miter;stroke-width:0.8;\"/>\r\n   </g>\r\n   <g id=\"patch_6\">\r\n    <path d=\"M 50.14375 22.318125 \r\nL 384.94375 22.318125 \r\n\" style=\"fill:none;stroke:#000000;stroke-linecap:square;stroke-linejoin:miter;stroke-width:0.8;\"/>\r\n   </g>\r\n   <g id=\"text_60\">\r\n    <!-- val loss -->\r\n    <defs>\r\n     <path d=\"M 2.984375 54.6875 \r\nL 12.5 54.6875 \r\nL 29.59375 8.796875 \r\nL 46.6875 54.6875 \r\nL 56.203125 54.6875 \r\nL 35.6875 0 \r\nL 23.484375 0 \r\nz\r\n\" id=\"DejaVuSans-118\"/>\r\n     <path d=\"M 34.28125 27.484375 \r\nQ 23.390625 27.484375 19.1875 25 \r\nQ 14.984375 22.515625 14.984375 16.5 \r\nQ 14.984375 11.71875 18.140625 8.90625 \r\nQ 21.296875 6.109375 26.703125 6.109375 \r\nQ 34.1875 6.109375 38.703125 11.40625 \r\nQ 43.21875 16.703125 43.21875 25.484375 \r\nL 43.21875 27.484375 \r\nz\r\nM 52.203125 31.203125 \r\nL 52.203125 0 \r\nL 43.21875 0 \r\nL 43.21875 8.296875 \r\nQ 40.140625 3.328125 35.546875 0.953125 \r\nQ 30.953125 -1.421875 24.3125 -1.421875 \r\nQ 15.921875 -1.421875 10.953125 3.296875 \r\nQ 6 8.015625 6 15.921875 \r\nQ 6 25.140625 12.171875 29.828125 \r\nQ 18.359375 34.515625 30.609375 34.515625 \r\nL 43.21875 34.515625 \r\nL 43.21875 35.40625 \r\nQ 43.21875 41.609375 39.140625 45 \r\nQ 35.0625 48.390625 27.6875 48.390625 \r\nQ 23 48.390625 18.546875 47.265625 \r\nQ 14.109375 46.140625 10.015625 43.890625 \r\nL 10.015625 52.203125 \r\nQ 14.9375 54.109375 19.578125 55.046875 \r\nQ 24.21875 56 28.609375 56 \r\nQ 40.484375 56 46.34375 49.84375 \r\nQ 52.203125 43.703125 52.203125 31.203125 \r\nz\r\n\" id=\"DejaVuSans-97\"/>\r\n     <path id=\"DejaVuSans-32\"/>\r\n    </defs>\r\n    <g transform=\"translate(195.1525 16.318125)scale(0.12 -0.12)\">\r\n     <use xlink:href=\"#DejaVuSans-118\"/>\r\n     <use x=\"59.179688\" xlink:href=\"#DejaVuSans-97\"/>\r\n     <use x=\"120.458984\" xlink:href=\"#DejaVuSans-108\"/>\r\n     <use x=\"148.242188\" xlink:href=\"#DejaVuSans-32\"/>\r\n     <use x=\"180.029297\" xlink:href=\"#DejaVuSans-108\"/>\r\n     <use x=\"207.8125\" xlink:href=\"#DejaVuSans-111\"/>\r\n     <use x=\"268.994141\" xlink:href=\"#DejaVuSans-115\"/>\r\n     <use x=\"321.09375\" xlink:href=\"#DejaVuSans-115\"/>\r\n    </g>\r\n   </g>\r\n   <g id=\"legend_1\">\r\n    <g id=\"patch_7\">\r\n     <path d=\"M 373.94375 35.318125 \r\nL 377.94375 35.318125 \r\nQ 379.94375 35.318125 379.94375 33.318125 \r\nL 379.94375 29.318125 \r\nQ 379.94375 27.318125 377.94375 27.318125 \r\nL 373.94375 27.318125 \r\nQ 371.94375 27.318125 371.94375 29.318125 \r\nL 371.94375 33.318125 \r\nQ 371.94375 35.318125 373.94375 35.318125 \r\nz\r\n\" style=\"fill:#ffffff;opacity:0.8;stroke:#cccccc;stroke-linejoin:miter;\"/>\r\n    </g>\r\n   </g>\r\n  </g>\r\n </g>\r\n <defs>\r\n  <clipPath id=\"p2a73d07505\">\r\n   <rect height=\"217.44\" width=\"334.8\" x=\"50.14375\" y=\"22.318125\"/>\r\n  </clipPath>\r\n </defs>\r\n</svg>\r\n",
      "image/png": "[encoded data removed]"
     },
     "metadata": {
      "needs_background": "light"
     }
    }
   ],
   "source": [
    "m.plot_loss(val_loss,'val loss','Epoch', x_all=True)"
   ]
  },
  {
   "cell_type": "code",
   "execution_count": 26,
   "metadata": {},
   "outputs": [
    {
     "output_type": "stream",
     "name": "stdout",
     "text": "0.24127837   0.42785874\n"
    }
   ],
   "source": [
    "mu, std = data['y_train'].mean(), data['y_train'].std()\n",
    "print(mu, ' ', std)"
   ]
  },
  {
   "cell_type": "code",
   "execution_count": 27,
   "metadata": {},
   "outputs": [],
   "source": [
    "m.load_model('best')"
   ]
  },
  {
   "cell_type": "code",
   "execution_count": 28,
   "metadata": {},
   "outputs": [
    {
     "output_type": "execute_result",
     "data": {
      "text/plain": "328"
     },
     "metadata": {},
     "execution_count": 28
    }
   ],
   "source": [
    "m.best_step"
   ]
  },
  {
   "cell_type": "code",
   "execution_count": 29,
   "metadata": {},
   "outputs": [
    {
     "output_type": "display_data",
     "data": {
      "text/plain": "HBox(children=(FloatProgress(value=0.0, description='0/1(e)', max=13.0, style=ProgressStyle(description_width=…",
      "application/vnd.jupyter.widget-view+json": {
       "version_major": 2,
       "version_minor": 0,
       "model_id": "3d1fa0c4e9434076a30b3cbbc1c0f6f0"
      }
     },
     "metadata": {}
    },
    {
     "output_type": "stream",
     "name": "stdout",
     "text": "\n"
    }
   ],
   "source": [
    "m.trial.with_test_generator(t_loader)\n",
    "t = m.trial.evaluate(data_key=torchbearer.TEST_DATA)"
   ]
  },
  {
   "cell_type": "code",
   "execution_count": 30,
   "metadata": {},
   "outputs": [
    {
     "output_type": "execute_result",
     "data": {
      "text/plain": "{'test_loss': 0.4371144771575928, 'test_acc': 0.8455159664154053}"
     },
     "metadata": {},
     "execution_count": 30
    }
   ],
   "source": [
    "t"
   ]
  },
  {
   "cell_type": "code",
   "execution_count": 31,
   "metadata": {},
   "outputs": [
    {
     "output_type": "execute_result",
     "data": {
      "text/plain": "0.15448403358459473"
     },
     "metadata": {},
     "execution_count": 31
    }
   ],
   "source": [
    "1-t['test_acc']"
   ]
  },
  {
   "cell_type": "code",
   "execution_count": null,
   "metadata": {},
   "outputs": [],
   "source": []
  }
 ],
 "metadata": {
  "language_info": {
   "codemirror_mode": {
    "name": "ipython",
    "version": 3
   },
   "file_extension": ".py",
   "mimetype": "text/x-python",
   "name": "python",
   "nbconvert_exporter": "python",
   "pygments_lexer": "ipython3",
   "version": "3.8.2-final"
  },
  "orig_nbformat": 2,
  "kernelspec": {
   "name": "python3",
   "display_name": "Python 3"
  }
 },
 "nbformat": 4,
 "nbformat_minor": 2
}