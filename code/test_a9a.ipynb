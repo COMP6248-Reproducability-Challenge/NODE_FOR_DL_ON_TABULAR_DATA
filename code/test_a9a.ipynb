{
 "cells": [
  {
   "cell_type": "code",
   "execution_count": 1,
   "metadata": {},
   "outputs": [],
   "source": [
    "import os\n",
    "ata_name = 'A9A'\n",
    "trial_name ='A9A_t1'\n",
    "log_path = os.path.join('logs',trial_name)\n",
    "device ='cuda:0'"
   ]
  },
  {
   "cell_type": "code",
   "execution_count": 2,
   "metadata": {},
   "outputs": [],
   "source": [
    "from data_loader import data_processing\n",
    "data = data_processing(data_name,random_state=123)"
   ]
  },
  {
   "cell_type": "code",
   "execution_count": 2,
   "metadata": {},
   "outputs": [],
   "source": [
    "import pandas as pd\n",
    "import os\n",
    "path = 'saved_data'\n",
    "if os.path.exists(path) != True:\n",
    "    os.mkdir(path)\n",
    "saved_folder =  os.path.join(path, data_name)\n",
    "\n",
    "if os.path.exists(saved_folder) != True:\n",
    "    os.mkdir(saved_folder)"
   ]
  },
  {
   "cell_type": "code",
   "execution_count": 4,
   "metadata": {},
   "outputs": [],
   "source": [
    "pd.to_pickle(data, os.path.join( saved_folder, data_name +'.all'))"
   ]
  },
  {
   "cell_type": "code",
   "execution_count": 3,
   "metadata": {},
   "outputs": [],
   "source": [
    "data = pd.read_pickle(os.path.join( saved_folder, data_name +'.all'))"
   ]
  },
  {
   "cell_type": "code",
   "execution_count": 4,
   "metadata": {},
   "outputs": [
    {
     "output_type": "stream",
     "name": "stdout",
     "text": "123\n"
    }
   ],
   "source": [
    "from net import DenseBlock\n",
    "from nn_utils import entmax15,entmoid15,Lambda\n",
    "from torch import nn\n",
    "\n",
    "in_features = data['X_train'].shape[1]\n",
    "print(in_features)\n",
    "\n",
    "model = nn.Sequential(\n",
    "    DenseBlock(in_features, 128, num_layers=8, tree_dim=3, depth=6, flatten = False,\n",
    "                   choice_function= entmax15, bin_function= entmoid15),\n",
    "    Lambda(lambda x: x[..., 0].mean(dim=-1)),  # average the first channels for every tree\n",
    ").to(device)"
   ]
  },
  {
   "cell_type": "code",
   "execution_count": 5,
   "metadata": {},
   "outputs": [],
   "source": [
    "from qhoptim.pyt import QHAdam\n",
    "opt_params = { 'nus':(0.7, 1.0), 'betas':(0.95, 0.998) }"
   ]
  },
  {
   "cell_type": "code",
   "execution_count": 20,
   "metadata": {},
   "outputs": [],
   "source": [
    "import torchbearer\n",
    "import torch\n",
    "from torchbearer import Trial\n",
    "from torchbearer.callbacks.decorators import on_end_epoch\n",
    "from torchbearer.callbacks.decorators import on_backward\n",
    "from torchbearer.callbacks.decorators import on_end_validation\n",
    "from torchbearer.callbacks.decorators import on_start_validation\n",
    "from torch.utils.tensorboard import SummaryWriter\n",
    "import os\n",
    "from trial import eval_model\n",
    "import torch.nn.functional as F\n",
    "\n",
    "\n",
    "m = eval_model(model,loss_f=F.mse_loss,device=device,metrics=['loss','accuracy'], opt =QHAdam, trial_name=trial_name, opt_params=opt_params)\n",
    "\n",
    "writer = SummaryWriter(os.path.join('writer',data_name),filename_suffix='.loss')\n",
    "loss_his,val_loss = [],[]\n",
    "settings = { 'stop_rounds':1000, 'best_step': 0,'c_val_loss': 1,}\n",
    "@on_backward\n",
    "def save_loss(state):\n",
    "    tem = state[torchbearer.LOSS].data\n",
    "    writer.add_scalar('Loss/train', tem, len(loss_his))\n",
    "    loss_his.append(tem)\n",
    "    if len(loss_his) > settings['stop_rounds']  + settings['best_step']:\n",
    "        state[torchbearer.STOP_TRAINING] = True \n",
    "        print('No improvement, stop early!')\n",
    "\n",
    "@on_end_validation\n",
    "def best_mse(state):\n",
    "    tem = state[torchbearer.LOSS].data\n",
    "    writer.add_scalar('Loss/val',tem, len(val_loss))\n",
    "    val_loss.append(tem)\n",
    "    if settings['c_val_loss'] > tem.cpu():\n",
    "        settings['c_val_loss'] = tem.cpu()\n",
    "        settings['best_step'] = len(loss_his)\n",
    "        m.best_step = len(loss_his)\n",
    "        m.save_model('best')\n",
    "m.call_backs = [save_loss, best_mse]\n",
    "m.init_trial()"
   ]
  },
  {
   "cell_type": "code",
   "execution_count": 9,
   "metadata": {},
   "outputs": [
    {
     "output_type": "stream",
     "name": "stdout",
     "text": "train data: 26048\nval data: 6513\ntest data: 16281\n"
    }
   ],
   "source": [
    "from data_set import MyDataset\n",
    "params = {'batch_size': 512,\n",
    "          'shuffle': True,}\n",
    "          #'num_workers': 6}\n",
    "\n",
    "test = MyDataset(data)\n",
    "test.quantile_transform(noise=1e-3,random_state=1337)\n",
    "test.normalised()\n",
    "tr_loader = test.get_loader('train', params)\n",
    "val_loader = test.get_loader('vaild',{'batch_size': 600})\n",
    "t_loader = test.get_loader('test', params)\n",
    "print('train data:', len(tr_loader.dataset))\n",
    "print('val data:', len(val_loader.dataset))\n",
    "print('test data:', len(t_loader.dataset))"
   ]
  },
  {
   "cell_type": "code",
   "execution_count": 25,
   "metadata": {},
   "outputs": [],
   "source": [
    "torch.save(tr_loader, os.path.join(saved_folder,'tr_'))\n",
    "torch.save(val_loader, os.path.join(saved_folder,'val_'))\n",
    "torch.save(t_loader,os.path.join(saved_folder,'t_'))"
   ]
  },
  {
   "cell_type": "code",
   "execution_count": 7,
   "metadata": {},
   "outputs": [],
   "source": [
    "tr_loader = torch.load(os.path.join(saved_folder,'tr_'))\n",
    "val_loader = torch.load(os.path.join(saved_folder,'val_'))\n",
    "t_loader = torch.load(os.path.join(saved_folder,'t_'))"
   ]
  },
  {
   "cell_type": "code",
   "execution_count": 21,
   "metadata": {},
   "outputs": [
    {
     "output_type": "display_data",
     "data": {
      "text/plain": "HBox(children=(FloatProgress(value=0.0, description='0/30(t)', max=51.0, style=ProgressStyle(description_width…",
      "application/vnd.jupyter.widget-view+json": {
       "version_major": 2,
       "version_minor": 0,
       "model_id": "5cfe71cec48e4f52a150b7f1b14a0105"
      }
     },
     "metadata": {}
    },
    {
     "output_type": "stream",
     "name": "stdout",
     "text": "\n"
    },
    {
     "output_type": "display_data",
     "data": {
      "text/plain": "HBox(children=(FloatProgress(value=0.0, description='0/30(v)', max=33.0, style=ProgressStyle(description_width…",
      "application/vnd.jupyter.widget-view+json": {
       "version_major": 2,
       "version_minor": 0,
       "model_id": "a2b67658eeed477d9917c95cfef9accf"
      }
     },
     "metadata": {}
    },
    {
     "output_type": "stream",
     "name": "stdout",
     "text": "\n"
    },
    {
     "output_type": "display_data",
     "data": {
      "text/plain": "HBox(children=(FloatProgress(value=0.0, description='1/30(t)', max=51.0, style=ProgressStyle(description_width…",
      "application/vnd.jupyter.widget-view+json": {
       "version_major": 2,
       "version_minor": 0,
       "model_id": "161929a84dcd41c597fefc7f4f0807f6"
      }
     },
     "metadata": {}
    },
    {
     "output_type": "stream",
     "name": "stdout",
     "text": "\n"
    },
    {
     "output_type": "display_data",
     "data": {
      "text/plain": "HBox(children=(FloatProgress(value=0.0, description='1/30(v)', max=33.0, style=ProgressStyle(description_width…",
      "application/vnd.jupyter.widget-view+json": {
       "version_major": 2,
       "version_minor": 0,
       "model_id": "cd911c568e2c421e8a18e6feaa2292a9"
      }
     },
     "metadata": {}
    },
    {
     "output_type": "stream",
     "name": "stdout",
     "text": "\n"
    },
    {
     "output_type": "display_data",
     "data": {
      "text/plain": "HBox(children=(FloatProgress(value=0.0, description='2/30(t)', max=51.0, style=ProgressStyle(description_width…",
      "application/vnd.jupyter.widget-view+json": {
       "version_major": 2,
       "version_minor": 0,
       "model_id": "0178e075c91044cea46902932bb724d6"
      }
     },
     "metadata": {}
    },
    {
     "output_type": "stream",
     "name": "stdout",
     "text": "\n"
    },
    {
     "output_type": "display_data",
     "data": {
      "text/plain": "HBox(children=(FloatProgress(value=0.0, description='2/30(v)', max=33.0, style=ProgressStyle(description_width…",
      "application/vnd.jupyter.widget-view+json": {
       "version_major": 2,
       "version_minor": 0,
       "model_id": "5f2996e18af94d35af475701da8765ee"
      }
     },
     "metadata": {}
    },
    {
     "output_type": "stream",
     "name": "stdout",
     "text": "\n"
    },
    {
     "output_type": "display_data",
     "data": {
      "text/plain": "HBox(children=(FloatProgress(value=0.0, description='3/30(t)', max=51.0, style=ProgressStyle(description_width…",
      "application/vnd.jupyter.widget-view+json": {
       "version_major": 2,
       "version_minor": 0,
       "model_id": "b1e3ca5f0fa346e7902f3db418eecc22"
      }
     },
     "metadata": {}
    },
    {
     "output_type": "stream",
     "name": "stdout",
     "text": "\n"
    },
    {
     "output_type": "display_data",
     "data": {
      "text/plain": "HBox(children=(FloatProgress(value=0.0, description='3/30(v)', max=33.0, style=ProgressStyle(description_width…",
      "application/vnd.jupyter.widget-view+json": {
       "version_major": 2,
       "version_minor": 0,
       "model_id": "e8542ff959cd49f9a28f215987bc3d84"
      }
     },
     "metadata": {}
    },
    {
     "output_type": "stream",
     "name": "stdout",
     "text": "\n"
    },
    {
     "output_type": "display_data",
     "data": {
      "text/plain": "HBox(children=(FloatProgress(value=0.0, description='4/30(t)', max=51.0, style=ProgressStyle(description_width…",
      "application/vnd.jupyter.widget-view+json": {
       "version_major": 2,
       "version_minor": 0,
       "model_id": "0de6a880d88948eca88f380993f7b7fa"
      }
     },
     "metadata": {}
    },
    {
     "output_type": "stream",
     "name": "stdout",
     "text": "\n"
    },
    {
     "output_type": "display_data",
     "data": {
      "text/plain": "HBox(children=(FloatProgress(value=0.0, description='4/30(v)', max=33.0, style=ProgressStyle(description_width…",
      "application/vnd.jupyter.widget-view+json": {
       "version_major": 2,
       "version_minor": 0,
       "model_id": "ef8381d5c54f4f408b6736c343fa4a19"
      }
     },
     "metadata": {}
    },
    {
     "output_type": "stream",
     "name": "stdout",
     "text": "\n"
    },
    {
     "output_type": "display_data",
     "data": {
      "text/plain": "HBox(children=(FloatProgress(value=0.0, description='5/30(t)', max=51.0, style=ProgressStyle(description_width…",
      "application/vnd.jupyter.widget-view+json": {
       "version_major": 2,
       "version_minor": 0,
       "model_id": "5f830c2120284d338ba8a50f4a919061"
      }
     },
     "metadata": {}
    },
    {
     "output_type": "stream",
     "name": "stdout",
     "text": "\n"
    },
    {
     "output_type": "display_data",
     "data": {
      "text/plain": "HBox(children=(FloatProgress(value=0.0, description='5/30(v)', max=33.0, style=ProgressStyle(description_width…",
      "application/vnd.jupyter.widget-view+json": {
       "version_major": 2,
       "version_minor": 0,
       "model_id": "f7bb50aec7fb4d36b8cba6b16f16bfff"
      }
     },
     "metadata": {}
    },
    {
     "output_type": "stream",
     "name": "stdout",
     "text": "\n"
    },
    {
     "output_type": "display_data",
     "data": {
      "text/plain": "HBox(children=(FloatProgress(value=0.0, description='6/30(t)', max=51.0, style=ProgressStyle(description_width…",
      "application/vnd.jupyter.widget-view+json": {
       "version_major": 2,
       "version_minor": 0,
       "model_id": "2924d4ffcc774da89a7784e3989b447a"
      }
     },
     "metadata": {}
    },
    {
     "output_type": "stream",
     "name": "stdout",
     "text": "\n"
    },
    {
     "output_type": "display_data",
     "data": {
      "text/plain": "HBox(children=(FloatProgress(value=0.0, description='6/30(v)', max=33.0, style=ProgressStyle(description_width…",
      "application/vnd.jupyter.widget-view+json": {
       "version_major": 2,
       "version_minor": 0,
       "model_id": "785a41bd1f3046b4a1d81044507fbfbf"
      }
     },
     "metadata": {}
    },
    {
     "output_type": "stream",
     "name": "stdout",
     "text": "\n"
    },
    {
     "output_type": "display_data",
     "data": {
      "text/plain": "HBox(children=(FloatProgress(value=0.0, description='7/30(t)', max=51.0, style=ProgressStyle(description_width…",
      "application/vnd.jupyter.widget-view+json": {
       "version_major": 2,
       "version_minor": 0,
       "model_id": "bf860cdc8fc5425bb4a3d7dfe59f3a9d"
      }
     },
     "metadata": {}
    },
    {
     "output_type": "stream",
     "name": "stdout",
     "text": "\n"
    },
    {
     "output_type": "display_data",
     "data": {
      "text/plain": "HBox(children=(FloatProgress(value=0.0, description='7/30(v)', max=33.0, style=ProgressStyle(description_width…",
      "application/vnd.jupyter.widget-view+json": {
       "version_major": 2,
       "version_minor": 0,
       "model_id": "542dedd19d444b76a72af11478bfeee6"
      }
     },
     "metadata": {}
    },
    {
     "output_type": "stream",
     "name": "stdout",
     "text": "\n"
    },
    {
     "output_type": "display_data",
     "data": {
      "text/plain": "HBox(children=(FloatProgress(value=0.0, description='8/30(t)', max=51.0, style=ProgressStyle(description_width…",
      "application/vnd.jupyter.widget-view+json": {
       "version_major": 2,
       "version_minor": 0,
       "model_id": "28e3f695680c4f75b27fc91fc393eedb"
      }
     },
     "metadata": {}
    },
    {
     "output_type": "stream",
     "name": "stdout",
     "text": "\n"
    },
    {
     "output_type": "display_data",
     "data": {
      "text/plain": "HBox(children=(FloatProgress(value=0.0, description='8/30(v)', max=33.0, style=ProgressStyle(description_width…",
      "application/vnd.jupyter.widget-view+json": {
       "version_major": 2,
       "version_minor": 0,
       "model_id": "e679eb4ad31c4e2d963d865f796eaa52"
      }
     },
     "metadata": {}
    },
    {
     "output_type": "stream",
     "name": "stdout",
     "text": "\n"
    },
    {
     "output_type": "display_data",
     "data": {
      "text/plain": "HBox(children=(FloatProgress(value=0.0, description='9/30(t)', max=51.0, style=ProgressStyle(description_width…",
      "application/vnd.jupyter.widget-view+json": {
       "version_major": 2,
       "version_minor": 0,
       "model_id": "469b5719d6b944ef9590e56dfdccd8cf"
      }
     },
     "metadata": {}
    },
    {
     "output_type": "stream",
     "name": "stdout",
     "text": "\n"
    },
    {
     "output_type": "display_data",
     "data": {
      "text/plain": "HBox(children=(FloatProgress(value=0.0, description='9/30(v)', max=33.0, style=ProgressStyle(description_width…",
      "application/vnd.jupyter.widget-view+json": {
       "version_major": 2,
       "version_minor": 0,
       "model_id": "52ce50d11e5b45cc9f4b0437fb3ef2c6"
      }
     },
     "metadata": {}
    },
    {
     "output_type": "stream",
     "name": "stdout",
     "text": "\n"
    },
    {
     "output_type": "display_data",
     "data": {
      "text/plain": "HBox(children=(FloatProgress(value=0.0, description='10/30(t)', max=51.0, style=ProgressStyle(description_widt…",
      "application/vnd.jupyter.widget-view+json": {
       "version_major": 2,
       "version_minor": 0,
       "model_id": "76a3522d3cf04f998a73dbefd6884c8d"
      }
     },
     "metadata": {}
    },
    {
     "output_type": "stream",
     "name": "stdout",
     "text": "\n"
    },
    {
     "output_type": "display_data",
     "data": {
      "text/plain": "HBox(children=(FloatProgress(value=0.0, description='10/30(v)', max=33.0, style=ProgressStyle(description_widt…",
      "application/vnd.jupyter.widget-view+json": {
       "version_major": 2,
       "version_minor": 0,
       "model_id": "78b3eb9a6f4f457296941dcef6221e92"
      }
     },
     "metadata": {}
    },
    {
     "output_type": "stream",
     "name": "stdout",
     "text": "\n"
    },
    {
     "output_type": "display_data",
     "data": {
      "text/plain": "HBox(children=(FloatProgress(value=0.0, description='11/30(t)', max=51.0, style=ProgressStyle(description_widt…",
      "application/vnd.jupyter.widget-view+json": {
       "version_major": 2,
       "version_minor": 0,
       "model_id": "099e43faefb84d74b02bc23a704404b2"
      }
     },
     "metadata": {}
    },
    {
     "output_type": "stream",
     "name": "stdout",
     "text": "\n"
    },
    {
     "output_type": "display_data",
     "data": {
      "text/plain": "HBox(children=(FloatProgress(value=0.0, description='11/30(v)', max=33.0, style=ProgressStyle(description_widt…",
      "application/vnd.jupyter.widget-view+json": {
       "version_major": 2,
       "version_minor": 0,
       "model_id": "a0099583c5154c11b72c2d80921824ad"
      }
     },
     "metadata": {}
    },
    {
     "output_type": "stream",
     "name": "stdout",
     "text": "\n"
    },
    {
     "output_type": "display_data",
     "data": {
      "text/plain": "HBox(children=(FloatProgress(value=0.0, description='12/30(t)', max=51.0, style=ProgressStyle(description_widt…",
      "application/vnd.jupyter.widget-view+json": {
       "version_major": 2,
       "version_minor": 0,
       "model_id": "98e8c5a3c8ae4d04a5e82a1fae357509"
      }
     },
     "metadata": {}
    },
    {
     "output_type": "stream",
     "name": "stdout",
     "text": "\n"
    },
    {
     "output_type": "display_data",
     "data": {
      "text/plain": "HBox(children=(FloatProgress(value=0.0, description='12/30(v)', max=33.0, style=ProgressStyle(description_widt…",
      "application/vnd.jupyter.widget-view+json": {
       "version_major": 2,
       "version_minor": 0,
       "model_id": "b7d535f711b14711b095f03c04e76ed5"
      }
     },
     "metadata": {}
    },
    {
     "output_type": "stream",
     "name": "stdout",
     "text": "\n"
    },
    {
     "output_type": "display_data",
     "data": {
      "text/plain": "HBox(children=(FloatProgress(value=0.0, description='13/30(t)', max=51.0, style=ProgressStyle(description_widt…",
      "application/vnd.jupyter.widget-view+json": {
       "version_major": 2,
       "version_minor": 0,
       "model_id": "4f813b66e9b7462a97365cf3828cd895"
      }
     },
     "metadata": {}
    },
    {
     "output_type": "stream",
     "name": "stdout",
     "text": "\n"
    },
    {
     "output_type": "display_data",
     "data": {
      "text/plain": "HBox(children=(FloatProgress(value=0.0, description='13/30(v)', max=33.0, style=ProgressStyle(description_widt…",
      "application/vnd.jupyter.widget-view+json": {
       "version_major": 2,
       "version_minor": 0,
       "model_id": "194f3872ac63444b9ae1d86f5c5c9c45"
      }
     },
     "metadata": {}
    },
    {
     "output_type": "stream",
     "name": "stdout",
     "text": "\n"
    },
    {
     "output_type": "display_data",
     "data": {
      "text/plain": "HBox(children=(FloatProgress(value=0.0, description='14/30(t)', max=51.0, style=ProgressStyle(description_widt…",
      "application/vnd.jupyter.widget-view+json": {
       "version_major": 2,
       "version_minor": 0,
       "model_id": "ea54affb729f4990b3ec8c19299752c4"
      }
     },
     "metadata": {}
    },
    {
     "output_type": "stream",
     "name": "stdout",
     "text": "\n"
    },
    {
     "output_type": "display_data",
     "data": {
      "text/plain": "HBox(children=(FloatProgress(value=0.0, description='14/30(v)', max=33.0, style=ProgressStyle(description_widt…",
      "application/vnd.jupyter.widget-view+json": {
       "version_major": 2,
       "version_minor": 0,
       "model_id": "2a5bf1f080f9419092753e0d05928c10"
      }
     },
     "metadata": {}
    },
    {
     "output_type": "stream",
     "name": "stdout",
     "text": "\n"
    },
    {
     "output_type": "display_data",
     "data": {
      "text/plain": "HBox(children=(FloatProgress(value=0.0, description='15/30(t)', max=51.0, style=ProgressStyle(description_widt…",
      "application/vnd.jupyter.widget-view+json": {
       "version_major": 2,
       "version_minor": 0,
       "model_id": "12ee6c23aaad44caa588796cc834bbdd"
      }
     },
     "metadata": {}
    },
    {
     "output_type": "stream",
     "name": "stdout",
     "text": "\n"
    },
    {
     "output_type": "display_data",
     "data": {
      "text/plain": "HBox(children=(FloatProgress(value=0.0, description='15/30(v)', max=33.0, style=ProgressStyle(description_widt…",
      "application/vnd.jupyter.widget-view+json": {
       "version_major": 2,
       "version_minor": 0,
       "model_id": "d9d3006cd6394528a44b3949d0a230b4"
      }
     },
     "metadata": {}
    },
    {
     "output_type": "stream",
     "name": "stdout",
     "text": "\n"
    },
    {
     "output_type": "display_data",
     "data": {
      "text/plain": "HBox(children=(FloatProgress(value=0.0, description='16/30(t)', max=51.0, style=ProgressStyle(description_widt…",
      "application/vnd.jupyter.widget-view+json": {
       "version_major": 2,
       "version_minor": 0,
       "model_id": "b574f82ca16e48128286bed83633e9db"
      }
     },
     "metadata": {}
    },
    {
     "output_type": "stream",
     "name": "stdout",
     "text": "\n"
    },
    {
     "output_type": "display_data",
     "data": {
      "text/plain": "HBox(children=(FloatProgress(value=0.0, description='16/30(v)', max=33.0, style=ProgressStyle(description_widt…",
      "application/vnd.jupyter.widget-view+json": {
       "version_major": 2,
       "version_minor": 0,
       "model_id": "9470c95cce974e40986fc8633fae0f20"
      }
     },
     "metadata": {}
    },
    {
     "output_type": "stream",
     "name": "stdout",
     "text": "\n"
    },
    {
     "output_type": "display_data",
     "data": {
      "text/plain": "HBox(children=(FloatProgress(value=0.0, description='17/30(t)', max=51.0, style=ProgressStyle(description_widt…",
      "application/vnd.jupyter.widget-view+json": {
       "version_major": 2,
       "version_minor": 0,
       "model_id": "5c6e97236f704c5d8f52b64d57c53bc7"
      }
     },
     "metadata": {}
    },
    {
     "output_type": "stream",
     "name": "stdout",
     "text": "\n"
    },
    {
     "output_type": "display_data",
     "data": {
      "text/plain": "HBox(children=(FloatProgress(value=0.0, description='17/30(v)', max=33.0, style=ProgressStyle(description_widt…",
      "application/vnd.jupyter.widget-view+json": {
       "version_major": 2,
       "version_minor": 0,
       "model_id": "b07a6f1c54044584b3dbdb7a00b99be2"
      }
     },
     "metadata": {}
    },
    {
     "output_type": "stream",
     "name": "stdout",
     "text": "\n"
    },
    {
     "output_type": "display_data",
     "data": {
      "text/plain": "HBox(children=(FloatProgress(value=0.0, description='18/30(t)', max=51.0, style=ProgressStyle(description_widt…",
      "application/vnd.jupyter.widget-view+json": {
       "version_major": 2,
       "version_minor": 0,
       "model_id": "60489b13170746f1bc4737a8d301f23c"
      }
     },
     "metadata": {}
    },
    {
     "output_type": "stream",
     "name": "stdout",
     "text": "\n"
    },
    {
     "output_type": "display_data",
     "data": {
      "text/plain": "HBox(children=(FloatProgress(value=0.0, description='18/30(v)', max=33.0, style=ProgressStyle(description_widt…",
      "application/vnd.jupyter.widget-view+json": {
       "version_major": 2,
       "version_minor": 0,
       "model_id": "77225c284f5941d7b6bb4c6b1490c479"
      }
     },
     "metadata": {}
    },
    {
     "output_type": "stream",
     "name": "stdout",
     "text": "\n"
    },
    {
     "output_type": "display_data",
     "data": {
      "text/plain": "HBox(children=(FloatProgress(value=0.0, description='19/30(t)', max=51.0, style=ProgressStyle(description_widt…",
      "application/vnd.jupyter.widget-view+json": {
       "version_major": 2,
       "version_minor": 0,
       "model_id": "c59196d19731419893e19a9b06bf9e34"
      }
     },
     "metadata": {}
    },
    {
     "output_type": "stream",
     "name": "stdout",
     "text": "\n"
    },
    {
     "output_type": "display_data",
     "data": {
      "text/plain": "HBox(children=(FloatProgress(value=0.0, description='19/30(v)', max=33.0, style=ProgressStyle(description_widt…",
      "application/vnd.jupyter.widget-view+json": {
       "version_major": 2,
       "version_minor": 0,
       "model_id": "f48e3c640ad04c2983bf1cd92e5155fe"
      }
     },
     "metadata": {}
    },
    {
     "output_type": "stream",
     "name": "stdout",
     "text": "\n"
    },
    {
     "output_type": "display_data",
     "data": {
      "text/plain": "HBox(children=(FloatProgress(value=0.0, description='20/30(t)', max=51.0, style=ProgressStyle(description_widt…",
      "application/vnd.jupyter.widget-view+json": {
       "version_major": 2,
       "version_minor": 0,
       "model_id": "605e44d27a4a4fb48fac0bd45eebbf23"
      }
     },
     "metadata": {}
    },
    {
     "output_type": "stream",
     "name": "stdout",
     "text": "\n"
    },
    {
     "output_type": "display_data",
     "data": {
      "text/plain": "HBox(children=(FloatProgress(value=0.0, description='20/30(v)', max=33.0, style=ProgressStyle(description_widt…",
      "application/vnd.jupyter.widget-view+json": {
       "version_major": 2,
       "version_minor": 0,
       "model_id": "8280884f7f3c445bacc73d46248ac4a2"
      }
     },
     "metadata": {}
    },
    {
     "output_type": "stream",
     "name": "stdout",
     "text": "\n"
    },
    {
     "output_type": "display_data",
     "data": {
      "text/plain": "HBox(children=(FloatProgress(value=0.0, description='21/30(t)', max=51.0, style=ProgressStyle(description_widt…",
      "application/vnd.jupyter.widget-view+json": {
       "version_major": 2,
       "version_minor": 0,
       "model_id": "334db4ca98594bd38a0a3f9e404f4663"
      }
     },
     "metadata": {}
    },
    {
     "output_type": "stream",
     "name": "stdout",
     "text": "\n"
    },
    {
     "output_type": "display_data",
     "data": {
      "text/plain": "HBox(children=(FloatProgress(value=0.0, description='21/30(v)', max=33.0, style=ProgressStyle(description_widt…",
      "application/vnd.jupyter.widget-view+json": {
       "version_major": 2,
       "version_minor": 0,
       "model_id": "fc77a6149346442c8a523fb13a7bb6b9"
      }
     },
     "metadata": {}
    },
    {
     "output_type": "stream",
     "name": "stdout",
     "text": "\n"
    },
    {
     "output_type": "display_data",
     "data": {
      "text/plain": "HBox(children=(FloatProgress(value=0.0, description='22/30(t)', max=51.0, style=ProgressStyle(description_widt…",
      "application/vnd.jupyter.widget-view+json": {
       "version_major": 2,
       "version_minor": 0,
       "model_id": "3f8f91c38e0343d59ef0c3a94a517f4e"
      }
     },
     "metadata": {}
    },
    {
     "output_type": "stream",
     "name": "stdout",
     "text": "No improvement, stop early!\n\n"
    }
   ],
   "source": [
    "out = m.run(30,tr_loader=tr_loader,val_loader= val_loader, t_loader=t_loader,val_steps=None)\n",
    "writer.close()"
   ]
  },
  {
   "cell_type": "code",
   "execution_count": 9,
   "metadata": {},
   "outputs": [
    {
     "output_type": "execute_result",
     "data": {
      "text/plain": "{'stop_rounds': 1000, 'best_step': 153, 'c_val_loss': tensor(0.6530)}"
     },
     "metadata": {},
     "execution_count": 9
    }
   ],
   "source": [
    "settings"
   ]
  },
  {
   "cell_type": "code",
   "execution_count": 12,
   "metadata": {},
   "outputs": [],
   "source": [
    "import pickle\n",
    "with open(os.path.join(log_path,'loss_his'), 'wb') as f:\n",
    "    pickle.dump(loss_his, f)   \n",
    "with open(os.path.join(log_path,'val_loss'), 'wb') as f:\n",
    "    pickle.dump(val_loss, f)"
   ]
  },
  {
   "cell_type": "code",
   "execution_count": 20,
   "metadata": {},
   "outputs": [],
   "source": [
    "import pickle\n",
    "loss_his =  pickle.load(open(os.path.join(log_path,'loss_his'),\"rb\"))\n",
    "val_loss =  pickle.load(open(os.path.join(log_path,'val_loss'),\"rb\"))"
   ]
  },
  {
   "cell_type": "code",
   "execution_count": 14,
   "metadata": {},
   "outputs": [
    {
     "output_type": "stream",
     "name": "stderr",
     "text": "No handles with labels found to put in legend.\n"
    },
    {
     "output_type": "display_data",
     "data": {
      "text/plain": "<Figure size 432x288 with 1 Axes>",
      "image/svg+xml": "<?xml version=\"1.0\" encoding=\"utf-8\" standalone=\"no\"?>\r\n<!DOCTYPE svg PUBLIC \"-//W3C//DTD SVG 1.1//EN\"\r\n  \"http://www.w3.org/Graphics/SVG/1.1/DTD/svg11.dtd\">\r\n<!-- Created with matplotlib (https://matplotlib.org/) -->\r\n<svg height=\"277.314375pt\" version=\"1.1\" viewBox=\"0 0 392.14375 277.314375\" width=\"392.14375pt\" xmlns=\"http://www.w3.org/2000/svg\" xmlns:xlink=\"http://www.w3.org/1999/xlink\">\r\n <defs>\r\n  <style type=\"text/css\">\r\n*{stroke-linecap:butt;stroke-linejoin:round;}\r\n  </style>\r\n </defs>\r\n <g id=\"figure_1\">\r\n  <g id=\"patch_1\">\r\n   <path d=\"M 0 277.314375 \r\nL 392.14375 277.314375 \r\nL 392.14375 0 \r\nL 0 0 \r\nz\r\n\" style=\"fill:none;\"/>\r\n  </g>\r\n  <g id=\"axes_1\">\r\n   <g id=\"patch_2\">\r\n    <path d=\"M 50.14375 239.758125 \r\nL 384.94375 239.758125 \r\nL 384.94375 22.318125 \r\nL 50.14375 22.318125 \r\nz\r\n\" style=\"fill:#ffffff;\"/>\r\n   </g>\r\n   <g id=\"matplotlib.axis_1\">\r\n    <g id=\"xtick_1\">\r\n     <g id=\"line2d_1\">\r\n      <defs>\r\n       <path d=\"M 0 0 \r\nL 0 3.5 \r\n\" id=\"m803fe45cb5\" style=\"stroke:#000000;stroke-width:0.8;\"/>\r\n      </defs>\r\n      <g>\r\n       <use style=\"stroke:#000000;stroke-width:0.8;\" x=\"65.361932\" xlink:href=\"#m803fe45cb5\" y=\"239.758125\"/>\r\n      </g>\r\n     </g>\r\n     <g id=\"text_1\">\r\n      <!-- 0 -->\r\n      <defs>\r\n       <path d=\"M 31.78125 66.40625 \r\nQ 24.171875 66.40625 20.328125 58.90625 \r\nQ 16.5 51.421875 16.5 36.375 \r\nQ 16.5 21.390625 20.328125 13.890625 \r\nQ 24.171875 6.390625 31.78125 6.390625 \r\nQ 39.453125 6.390625 43.28125 13.890625 \r\nQ 47.125 21.390625 47.125 36.375 \r\nQ 47.125 51.421875 43.28125 58.90625 \r\nQ 39.453125 66.40625 31.78125 66.40625 \r\nz\r\nM 31.78125 74.21875 \r\nQ 44.046875 74.21875 50.515625 64.515625 \r\nQ 56.984375 54.828125 56.984375 36.375 \r\nQ 56.984375 17.96875 50.515625 8.265625 \r\nQ 44.046875 -1.421875 31.78125 -1.421875 \r\nQ 19.53125 -1.421875 13.0625 8.265625 \r\nQ 6.59375 17.96875 6.59375 36.375 \r\nQ 6.59375 54.828125 13.0625 64.515625 \r\nQ 19.53125 74.21875 31.78125 74.21875 \r\nz\r\n\" id=\"DejaVuSans-48\"/>\r\n      </defs>\r\n      <g transform=\"translate(62.180682 254.356562)scale(0.1 -0.1)\">\r\n       <use xlink:href=\"#DejaVuSans-48\"/>\r\n      </g>\r\n     </g>\r\n    </g>\r\n    <g id=\"xtick_2\">\r\n     <g id=\"line2d_2\">\r\n      <g>\r\n       <use style=\"stroke:#000000;stroke-width:0.8;\" x=\"115.920675\" xlink:href=\"#m803fe45cb5\" y=\"239.758125\"/>\r\n      </g>\r\n     </g>\r\n     <g id=\"text_2\">\r\n      <!-- 200 -->\r\n      <defs>\r\n       <path d=\"M 19.1875 8.296875 \r\nL 53.609375 8.296875 \r\nL 53.609375 0 \r\nL 7.328125 0 \r\nL 7.328125 8.296875 \r\nQ 12.9375 14.109375 22.625 23.890625 \r\nQ 32.328125 33.6875 34.8125 36.53125 \r\nQ 39.546875 41.84375 41.421875 45.53125 \r\nQ 43.3125 49.21875 43.3125 52.78125 \r\nQ 43.3125 58.59375 39.234375 62.25 \r\nQ 35.15625 65.921875 28.609375 65.921875 \r\nQ 23.96875 65.921875 18.8125 64.3125 \r\nQ 13.671875 62.703125 7.8125 59.421875 \r\nL 7.8125 69.390625 \r\nQ 13.765625 71.78125 18.9375 73 \r\nQ 24.125 74.21875 28.421875 74.21875 \r\nQ 39.75 74.21875 46.484375 68.546875 \r\nQ 53.21875 62.890625 53.21875 53.421875 \r\nQ 53.21875 48.921875 51.53125 44.890625 \r\nQ 49.859375 40.875 45.40625 35.40625 \r\nQ 44.1875 33.984375 37.640625 27.21875 \r\nQ 31.109375 20.453125 19.1875 8.296875 \r\nz\r\n\" id=\"DejaVuSans-50\"/>\r\n      </defs>\r\n      <g transform=\"translate(106.376925 254.356562)scale(0.1 -0.1)\">\r\n       <use xlink:href=\"#DejaVuSans-50\"/>\r\n       <use x=\"63.623047\" xlink:href=\"#DejaVuSans-48\"/>\r\n       <use x=\"127.246094\" xlink:href=\"#DejaVuSans-48\"/>\r\n      </g>\r\n     </g>\r\n    </g>\r\n    <g id=\"xtick_3\">\r\n     <g id=\"line2d_3\">\r\n      <g>\r\n       <use style=\"stroke:#000000;stroke-width:0.8;\" x=\"166.479419\" xlink:href=\"#m803fe45cb5\" y=\"239.758125\"/>\r\n      </g>\r\n     </g>\r\n     <g id=\"text_3\">\r\n      <!-- 400 -->\r\n      <defs>\r\n       <path d=\"M 37.796875 64.3125 \r\nL 12.890625 25.390625 \r\nL 37.796875 25.390625 \r\nz\r\nM 35.203125 72.90625 \r\nL 47.609375 72.90625 \r\nL 47.609375 25.390625 \r\nL 58.015625 25.390625 \r\nL 58.015625 17.1875 \r\nL 47.609375 17.1875 \r\nL 47.609375 0 \r\nL 37.796875 0 \r\nL 37.796875 17.1875 \r\nL 4.890625 17.1875 \r\nL 4.890625 26.703125 \r\nz\r\n\" id=\"DejaVuSans-52\"/>\r\n      </defs>\r\n      <g transform=\"translate(156.935669 254.356562)scale(0.1 -0.1)\">\r\n       <use xlink:href=\"#DejaVuSans-52\"/>\r\n       <use x=\"63.623047\" xlink:href=\"#DejaVuSans-48\"/>\r\n       <use x=\"127.246094\" xlink:href=\"#DejaVuSans-48\"/>\r\n      </g>\r\n     </g>\r\n    </g>\r\n    <g id=\"xtick_4\">\r\n     <g id=\"line2d_4\">\r\n      <g>\r\n       <use style=\"stroke:#000000;stroke-width:0.8;\" x=\"217.038163\" xlink:href=\"#m803fe45cb5\" y=\"239.758125\"/>\r\n      </g>\r\n     </g>\r\n     <g id=\"text_4\">\r\n      <!-- 600 -->\r\n      <defs>\r\n       <path d=\"M 33.015625 40.375 \r\nQ 26.375 40.375 22.484375 35.828125 \r\nQ 18.609375 31.296875 18.609375 23.390625 \r\nQ 18.609375 15.53125 22.484375 10.953125 \r\nQ 26.375 6.390625 33.015625 6.390625 \r\nQ 39.65625 6.390625 43.53125 10.953125 \r\nQ 47.40625 15.53125 47.40625 23.390625 \r\nQ 47.40625 31.296875 43.53125 35.828125 \r\nQ 39.65625 40.375 33.015625 40.375 \r\nz\r\nM 52.59375 71.296875 \r\nL 52.59375 62.3125 \r\nQ 48.875 64.0625 45.09375 64.984375 \r\nQ 41.3125 65.921875 37.59375 65.921875 \r\nQ 27.828125 65.921875 22.671875 59.328125 \r\nQ 17.53125 52.734375 16.796875 39.40625 \r\nQ 19.671875 43.65625 24.015625 45.921875 \r\nQ 28.375 48.1875 33.59375 48.1875 \r\nQ 44.578125 48.1875 50.953125 41.515625 \r\nQ 57.328125 34.859375 57.328125 23.390625 \r\nQ 57.328125 12.15625 50.6875 5.359375 \r\nQ 44.046875 -1.421875 33.015625 -1.421875 \r\nQ 20.359375 -1.421875 13.671875 8.265625 \r\nQ 6.984375 17.96875 6.984375 36.375 \r\nQ 6.984375 53.65625 15.1875 63.9375 \r\nQ 23.390625 74.21875 37.203125 74.21875 \r\nQ 40.921875 74.21875 44.703125 73.484375 \r\nQ 48.484375 72.75 52.59375 71.296875 \r\nz\r\n\" id=\"DejaVuSans-54\"/>\r\n      </defs>\r\n      <g transform=\"translate(207.494413 254.356562)scale(0.1 -0.1)\">\r\n       <use xlink:href=\"#DejaVuSans-54\"/>\r\n       <use x=\"63.623047\" xlink:href=\"#DejaVuSans-48\"/>\r\n       <use x=\"127.246094\" xlink:href=\"#DejaVuSans-48\"/>\r\n      </g>\r\n     </g>\r\n    </g>\r\n    <g id=\"xtick_5\">\r\n     <g id=\"line2d_5\">\r\n      <g>\r\n       <use style=\"stroke:#000000;stroke-width:0.8;\" x=\"267.596906\" xlink:href=\"#m803fe45cb5\" y=\"239.758125\"/>\r\n      </g>\r\n     </g>\r\n     <g id=\"text_5\">\r\n      <!-- 800 -->\r\n      <defs>\r\n       <path d=\"M 31.78125 34.625 \r\nQ 24.75 34.625 20.71875 30.859375 \r\nQ 16.703125 27.09375 16.703125 20.515625 \r\nQ 16.703125 13.921875 20.71875 10.15625 \r\nQ 24.75 6.390625 31.78125 6.390625 \r\nQ 38.8125 6.390625 42.859375 10.171875 \r\nQ 46.921875 13.96875 46.921875 20.515625 \r\nQ 46.921875 27.09375 42.890625 30.859375 \r\nQ 38.875 34.625 31.78125 34.625 \r\nz\r\nM 21.921875 38.8125 \r\nQ 15.578125 40.375 12.03125 44.71875 \r\nQ 8.5 49.078125 8.5 55.328125 \r\nQ 8.5 64.0625 14.71875 69.140625 \r\nQ 20.953125 74.21875 31.78125 74.21875 \r\nQ 42.671875 74.21875 48.875 69.140625 \r\nQ 55.078125 64.0625 55.078125 55.328125 \r\nQ 55.078125 49.078125 51.53125 44.71875 \r\nQ 48 40.375 41.703125 38.8125 \r\nQ 48.828125 37.15625 52.796875 32.3125 \r\nQ 56.78125 27.484375 56.78125 20.515625 \r\nQ 56.78125 9.90625 50.3125 4.234375 \r\nQ 43.84375 -1.421875 31.78125 -1.421875 \r\nQ 19.734375 -1.421875 13.25 4.234375 \r\nQ 6.78125 9.90625 6.78125 20.515625 \r\nQ 6.78125 27.484375 10.78125 32.3125 \r\nQ 14.796875 37.15625 21.921875 38.8125 \r\nz\r\nM 18.3125 54.390625 \r\nQ 18.3125 48.734375 21.84375 45.5625 \r\nQ 25.390625 42.390625 31.78125 42.390625 \r\nQ 38.140625 42.390625 41.71875 45.5625 \r\nQ 45.3125 48.734375 45.3125 54.390625 \r\nQ 45.3125 60.0625 41.71875 63.234375 \r\nQ 38.140625 66.40625 31.78125 66.40625 \r\nQ 25.390625 66.40625 21.84375 63.234375 \r\nQ 18.3125 60.0625 18.3125 54.390625 \r\nz\r\n\" id=\"DejaVuSans-56\"/>\r\n      </defs>\r\n      <g transform=\"translate(258.053156 254.356562)scale(0.1 -0.1)\">\r\n       <use xlink:href=\"#DejaVuSans-56\"/>\r\n       <use x=\"63.623047\" xlink:href=\"#DejaVuSans-48\"/>\r\n       <use x=\"127.246094\" xlink:href=\"#DejaVuSans-48\"/>\r\n      </g>\r\n     </g>\r\n    </g>\r\n    <g id=\"xtick_6\">\r\n     <g id=\"line2d_6\">\r\n      <g>\r\n       <use style=\"stroke:#000000;stroke-width:0.8;\" x=\"318.15565\" xlink:href=\"#m803fe45cb5\" y=\"239.758125\"/>\r\n      </g>\r\n     </g>\r\n     <g id=\"text_6\">\r\n      <!-- 1000 -->\r\n      <defs>\r\n       <path d=\"M 12.40625 8.296875 \r\nL 28.515625 8.296875 \r\nL 28.515625 63.921875 \r\nL 10.984375 60.40625 \r\nL 10.984375 69.390625 \r\nL 28.421875 72.90625 \r\nL 38.28125 72.90625 \r\nL 38.28125 8.296875 \r\nL 54.390625 8.296875 \r\nL 54.390625 0 \r\nL 12.40625 0 \r\nz\r\n\" id=\"DejaVuSans-49\"/>\r\n      </defs>\r\n      <g transform=\"translate(305.43065 254.356562)scale(0.1 -0.1)\">\r\n       <use xlink:href=\"#DejaVuSans-49\"/>\r\n       <use x=\"63.623047\" xlink:href=\"#DejaVuSans-48\"/>\r\n       <use x=\"127.246094\" xlink:href=\"#DejaVuSans-48\"/>\r\n       <use x=\"190.869141\" xlink:href=\"#DejaVuSans-48\"/>\r\n      </g>\r\n     </g>\r\n    </g>\r\n    <g id=\"xtick_7\">\r\n     <g id=\"line2d_7\">\r\n      <g>\r\n       <use style=\"stroke:#000000;stroke-width:0.8;\" x=\"368.714393\" xlink:href=\"#m803fe45cb5\" y=\"239.758125\"/>\r\n      </g>\r\n     </g>\r\n     <g id=\"text_7\">\r\n      <!-- 1200 -->\r\n      <g transform=\"translate(355.989393 254.356562)scale(0.1 -0.1)\">\r\n       <use xlink:href=\"#DejaVuSans-49\"/>\r\n       <use x=\"63.623047\" xlink:href=\"#DejaVuSans-50\"/>\r\n       <use x=\"127.246094\" xlink:href=\"#DejaVuSans-48\"/>\r\n       <use x=\"190.869141\" xlink:href=\"#DejaVuSans-48\"/>\r\n      </g>\r\n     </g>\r\n    </g>\r\n    <g id=\"text_8\">\r\n     <!-- data num -->\r\n     <defs>\r\n      <path d=\"M 45.40625 46.390625 \r\nL 45.40625 75.984375 \r\nL 54.390625 75.984375 \r\nL 54.390625 0 \r\nL 45.40625 0 \r\nL 45.40625 8.203125 \r\nQ 42.578125 3.328125 38.25 0.953125 \r\nQ 33.9375 -1.421875 27.875 -1.421875 \r\nQ 17.96875 -1.421875 11.734375 6.484375 \r\nQ 5.515625 14.40625 5.515625 27.296875 \r\nQ 5.515625 40.1875 11.734375 48.09375 \r\nQ 17.96875 56 27.875 56 \r\nQ 33.9375 56 38.25 53.625 \r\nQ 42.578125 51.265625 45.40625 46.390625 \r\nz\r\nM 14.796875 27.296875 \r\nQ 14.796875 17.390625 18.875 11.75 \r\nQ 22.953125 6.109375 30.078125 6.109375 \r\nQ 37.203125 6.109375 41.296875 11.75 \r\nQ 45.40625 17.390625 45.40625 27.296875 \r\nQ 45.40625 37.203125 41.296875 42.84375 \r\nQ 37.203125 48.484375 30.078125 48.484375 \r\nQ 22.953125 48.484375 18.875 42.84375 \r\nQ 14.796875 37.203125 14.796875 27.296875 \r\nz\r\n\" id=\"DejaVuSans-100\"/>\r\n      <path d=\"M 34.28125 27.484375 \r\nQ 23.390625 27.484375 19.1875 25 \r\nQ 14.984375 22.515625 14.984375 16.5 \r\nQ 14.984375 11.71875 18.140625 8.90625 \r\nQ 21.296875 6.109375 26.703125 6.109375 \r\nQ 34.1875 6.109375 38.703125 11.40625 \r\nQ 43.21875 16.703125 43.21875 25.484375 \r\nL 43.21875 27.484375 \r\nz\r\nM 52.203125 31.203125 \r\nL 52.203125 0 \r\nL 43.21875 0 \r\nL 43.21875 8.296875 \r\nQ 40.140625 3.328125 35.546875 0.953125 \r\nQ 30.953125 -1.421875 24.3125 -1.421875 \r\nQ 15.921875 -1.421875 10.953125 3.296875 \r\nQ 6 8.015625 6 15.921875 \r\nQ 6 25.140625 12.171875 29.828125 \r\nQ 18.359375 34.515625 30.609375 34.515625 \r\nL 43.21875 34.515625 \r\nL 43.21875 35.40625 \r\nQ 43.21875 41.609375 39.140625 45 \r\nQ 35.0625 48.390625 27.6875 48.390625 \r\nQ 23 48.390625 18.546875 47.265625 \r\nQ 14.109375 46.140625 10.015625 43.890625 \r\nL 10.015625 52.203125 \r\nQ 14.9375 54.109375 19.578125 55.046875 \r\nQ 24.21875 56 28.609375 56 \r\nQ 40.484375 56 46.34375 49.84375 \r\nQ 52.203125 43.703125 52.203125 31.203125 \r\nz\r\n\" id=\"DejaVuSans-97\"/>\r\n      <path d=\"M 18.3125 70.21875 \r\nL 18.3125 54.6875 \r\nL 36.8125 54.6875 \r\nL 36.8125 47.703125 \r\nL 18.3125 47.703125 \r\nL 18.3125 18.015625 \r\nQ 18.3125 11.328125 20.140625 9.421875 \r\nQ 21.96875 7.515625 27.59375 7.515625 \r\nL 36.8125 7.515625 \r\nL 36.8125 0 \r\nL 27.59375 0 \r\nQ 17.1875 0 13.234375 3.875 \r\nQ 9.28125 7.765625 9.28125 18.015625 \r\nL 9.28125 47.703125 \r\nL 2.6875 47.703125 \r\nL 2.6875 54.6875 \r\nL 9.28125 54.6875 \r\nL 9.28125 70.21875 \r\nz\r\n\" id=\"DejaVuSans-116\"/>\r\n      <path id=\"DejaVuSans-32\"/>\r\n      <path d=\"M 54.890625 33.015625 \r\nL 54.890625 0 \r\nL 45.90625 0 \r\nL 45.90625 32.71875 \r\nQ 45.90625 40.484375 42.875 44.328125 \r\nQ 39.84375 48.1875 33.796875 48.1875 \r\nQ 26.515625 48.1875 22.3125 43.546875 \r\nQ 18.109375 38.921875 18.109375 30.90625 \r\nL 18.109375 0 \r\nL 9.078125 0 \r\nL 9.078125 54.6875 \r\nL 18.109375 54.6875 \r\nL 18.109375 46.1875 \r\nQ 21.34375 51.125 25.703125 53.5625 \r\nQ 30.078125 56 35.796875 56 \r\nQ 45.21875 56 50.046875 50.171875 \r\nQ 54.890625 44.34375 54.890625 33.015625 \r\nz\r\n\" id=\"DejaVuSans-110\"/>\r\n      <path d=\"M 8.5 21.578125 \r\nL 8.5 54.6875 \r\nL 17.484375 54.6875 \r\nL 17.484375 21.921875 \r\nQ 17.484375 14.15625 20.5 10.265625 \r\nQ 23.53125 6.390625 29.59375 6.390625 \r\nQ 36.859375 6.390625 41.078125 11.03125 \r\nQ 45.3125 15.671875 45.3125 23.6875 \r\nL 45.3125 54.6875 \r\nL 54.296875 54.6875 \r\nL 54.296875 0 \r\nL 45.3125 0 \r\nL 45.3125 8.40625 \r\nQ 42.046875 3.421875 37.71875 1 \r\nQ 33.40625 -1.421875 27.6875 -1.421875 \r\nQ 18.265625 -1.421875 13.375 4.4375 \r\nQ 8.5 10.296875 8.5 21.578125 \r\nz\r\nM 31.109375 56 \r\nz\r\n\" id=\"DejaVuSans-117\"/>\r\n      <path d=\"M 52 44.1875 \r\nQ 55.375 50.25 60.0625 53.125 \r\nQ 64.75 56 71.09375 56 \r\nQ 79.640625 56 84.28125 50.015625 \r\nQ 88.921875 44.046875 88.921875 33.015625 \r\nL 88.921875 0 \r\nL 79.890625 0 \r\nL 79.890625 32.71875 \r\nQ 79.890625 40.578125 77.09375 44.375 \r\nQ 74.3125 48.1875 68.609375 48.1875 \r\nQ 61.625 48.1875 57.5625 43.546875 \r\nQ 53.515625 38.921875 53.515625 30.90625 \r\nL 53.515625 0 \r\nL 44.484375 0 \r\nL 44.484375 32.71875 \r\nQ 44.484375 40.625 41.703125 44.40625 \r\nQ 38.921875 48.1875 33.109375 48.1875 \r\nQ 26.21875 48.1875 22.15625 43.53125 \r\nQ 18.109375 38.875 18.109375 30.90625 \r\nL 18.109375 0 \r\nL 9.078125 0 \r\nL 9.078125 54.6875 \r\nL 18.109375 54.6875 \r\nL 18.109375 46.1875 \r\nQ 21.1875 51.21875 25.484375 53.609375 \r\nQ 29.78125 56 35.6875 56 \r\nQ 41.65625 56 45.828125 52.96875 \r\nQ 50 49.953125 52 44.1875 \r\nz\r\n\" id=\"DejaVuSans-109\"/>\r\n     </defs>\r\n     <g transform=\"translate(193.484375 268.034687)scale(0.1 -0.1)\">\r\n      <use xlink:href=\"#DejaVuSans-100\"/>\r\n      <use x=\"63.476562\" xlink:href=\"#DejaVuSans-97\"/>\r\n      <use x=\"124.755859\" xlink:href=\"#DejaVuSans-116\"/>\r\n      <use x=\"163.964844\" xlink:href=\"#DejaVuSans-97\"/>\r\n      <use x=\"225.244141\" xlink:href=\"#DejaVuSans-32\"/>\r\n      <use x=\"257.03125\" xlink:href=\"#DejaVuSans-110\"/>\r\n      <use x=\"320.410156\" xlink:href=\"#DejaVuSans-117\"/>\r\n      <use x=\"383.789062\" xlink:href=\"#DejaVuSans-109\"/>\r\n     </g>\r\n    </g>\r\n   </g>\r\n   <g id=\"matplotlib.axis_2\">\r\n    <g id=\"ytick_1\">\r\n     <g id=\"line2d_8\">\r\n      <defs>\r\n       <path d=\"M 0 0 \r\nL -3.5 0 \r\n\" id=\"mb6b8d22edc\" style=\"stroke:#000000;stroke-width:0.8;\"/>\r\n      </defs>\r\n      <g>\r\n       <use style=\"stroke:#000000;stroke-width:0.8;\" x=\"50.14375\" xlink:href=\"#mb6b8d22edc\" y=\"231.345225\"/>\r\n      </g>\r\n     </g>\r\n     <g id=\"text_9\">\r\n      <!-- 0.15 -->\r\n      <defs>\r\n       <path d=\"M 10.6875 12.40625 \r\nL 21 12.40625 \r\nL 21 0 \r\nL 10.6875 0 \r\nz\r\n\" id=\"DejaVuSans-46\"/>\r\n       <path d=\"M 10.796875 72.90625 \r\nL 49.515625 72.90625 \r\nL 49.515625 64.59375 \r\nL 19.828125 64.59375 \r\nL 19.828125 46.734375 \r\nQ 21.96875 47.46875 24.109375 47.828125 \r\nQ 26.265625 48.1875 28.421875 48.1875 \r\nQ 40.625 48.1875 47.75 41.5 \r\nQ 54.890625 34.8125 54.890625 23.390625 \r\nQ 54.890625 11.625 47.5625 5.09375 \r\nQ 40.234375 -1.421875 26.90625 -1.421875 \r\nQ 22.3125 -1.421875 17.546875 -0.640625 \r\nQ 12.796875 0.140625 7.71875 1.703125 \r\nL 7.71875 11.625 \r\nQ 12.109375 9.234375 16.796875 8.0625 \r\nQ 21.484375 6.890625 26.703125 6.890625 \r\nQ 35.15625 6.890625 40.078125 11.328125 \r\nQ 45.015625 15.765625 45.015625 23.390625 \r\nQ 45.015625 31 40.078125 35.4375 \r\nQ 35.15625 39.890625 26.703125 39.890625 \r\nQ 22.75 39.890625 18.8125 39.015625 \r\nQ 14.890625 38.140625 10.796875 36.28125 \r\nz\r\n\" id=\"DejaVuSans-53\"/>\r\n      </defs>\r\n      <g transform=\"translate(20.878125 235.144443)scale(0.1 -0.1)\">\r\n       <use xlink:href=\"#DejaVuSans-48\"/>\r\n       <use x=\"63.623047\" xlink:href=\"#DejaVuSans-46\"/>\r\n       <use x=\"95.410156\" xlink:href=\"#DejaVuSans-49\"/>\r\n       <use x=\"159.033203\" xlink:href=\"#DejaVuSans-53\"/>\r\n      </g>\r\n     </g>\r\n    </g>\r\n    <g id=\"ytick_2\">\r\n     <g id=\"line2d_9\">\r\n      <g>\r\n       <use style=\"stroke:#000000;stroke-width:0.8;\" x=\"50.14375\" xlink:href=\"#mb6b8d22edc\" y=\"204.873806\"/>\r\n      </g>\r\n     </g>\r\n     <g id=\"text_10\">\r\n      <!-- 0.20 -->\r\n      <g transform=\"translate(20.878125 208.673025)scale(0.1 -0.1)\">\r\n       <use xlink:href=\"#DejaVuSans-48\"/>\r\n       <use x=\"63.623047\" xlink:href=\"#DejaVuSans-46\"/>\r\n       <use x=\"95.410156\" xlink:href=\"#DejaVuSans-50\"/>\r\n       <use x=\"159.033203\" xlink:href=\"#DejaVuSans-48\"/>\r\n      </g>\r\n     </g>\r\n    </g>\r\n    <g id=\"ytick_3\">\r\n     <g id=\"line2d_10\">\r\n      <g>\r\n       <use style=\"stroke:#000000;stroke-width:0.8;\" x=\"50.14375\" xlink:href=\"#mb6b8d22edc\" y=\"178.402388\"/>\r\n      </g>\r\n     </g>\r\n     <g id=\"text_11\">\r\n      <!-- 0.25 -->\r\n      <g transform=\"translate(20.878125 182.201607)scale(0.1 -0.1)\">\r\n       <use xlink:href=\"#DejaVuSans-48\"/>\r\n       <use x=\"63.623047\" xlink:href=\"#DejaVuSans-46\"/>\r\n       <use x=\"95.410156\" xlink:href=\"#DejaVuSans-50\"/>\r\n       <use x=\"159.033203\" xlink:href=\"#DejaVuSans-53\"/>\r\n      </g>\r\n     </g>\r\n    </g>\r\n    <g id=\"ytick_4\">\r\n     <g id=\"line2d_11\">\r\n      <g>\r\n       <use style=\"stroke:#000000;stroke-width:0.8;\" x=\"50.14375\" xlink:href=\"#mb6b8d22edc\" y=\"151.93097\"/>\r\n      </g>\r\n     </g>\r\n     <g id=\"text_12\">\r\n      <!-- 0.30 -->\r\n      <defs>\r\n       <path d=\"M 40.578125 39.3125 \r\nQ 47.65625 37.796875 51.625 33 \r\nQ 55.609375 28.21875 55.609375 21.1875 \r\nQ 55.609375 10.40625 48.1875 4.484375 \r\nQ 40.765625 -1.421875 27.09375 -1.421875 \r\nQ 22.515625 -1.421875 17.65625 -0.515625 \r\nQ 12.796875 0.390625 7.625 2.203125 \r\nL 7.625 11.71875 \r\nQ 11.71875 9.328125 16.59375 8.109375 \r\nQ 21.484375 6.890625 26.8125 6.890625 \r\nQ 36.078125 6.890625 40.9375 10.546875 \r\nQ 45.796875 14.203125 45.796875 21.1875 \r\nQ 45.796875 27.640625 41.28125 31.265625 \r\nQ 36.765625 34.90625 28.71875 34.90625 \r\nL 20.21875 34.90625 \r\nL 20.21875 43.015625 \r\nL 29.109375 43.015625 \r\nQ 36.375 43.015625 40.234375 45.921875 \r\nQ 44.09375 48.828125 44.09375 54.296875 \r\nQ 44.09375 59.90625 40.109375 62.90625 \r\nQ 36.140625 65.921875 28.71875 65.921875 \r\nQ 24.65625 65.921875 20.015625 65.03125 \r\nQ 15.375 64.15625 9.8125 62.3125 \r\nL 9.8125 71.09375 \r\nQ 15.4375 72.65625 20.34375 73.4375 \r\nQ 25.25 74.21875 29.59375 74.21875 \r\nQ 40.828125 74.21875 47.359375 69.109375 \r\nQ 53.90625 64.015625 53.90625 55.328125 \r\nQ 53.90625 49.265625 50.4375 45.09375 \r\nQ 46.96875 40.921875 40.578125 39.3125 \r\nz\r\n\" id=\"DejaVuSans-51\"/>\r\n      </defs>\r\n      <g transform=\"translate(20.878125 155.730189)scale(0.1 -0.1)\">\r\n       <use xlink:href=\"#DejaVuSans-48\"/>\r\n       <use x=\"63.623047\" xlink:href=\"#DejaVuSans-46\"/>\r\n       <use x=\"95.410156\" xlink:href=\"#DejaVuSans-51\"/>\r\n       <use x=\"159.033203\" xlink:href=\"#DejaVuSans-48\"/>\r\n      </g>\r\n     </g>\r\n    </g>\r\n    <g id=\"ytick_5\">\r\n     <g id=\"line2d_12\">\r\n      <g>\r\n       <use style=\"stroke:#000000;stroke-width:0.8;\" x=\"50.14375\" xlink:href=\"#mb6b8d22edc\" y=\"125.459552\"/>\r\n      </g>\r\n     </g>\r\n     <g id=\"text_13\">\r\n      <!-- 0.35 -->\r\n      <g transform=\"translate(20.878125 129.25877)scale(0.1 -0.1)\">\r\n       <use xlink:href=\"#DejaVuSans-48\"/>\r\n       <use x=\"63.623047\" xlink:href=\"#DejaVuSans-46\"/>\r\n       <use x=\"95.410156\" xlink:href=\"#DejaVuSans-51\"/>\r\n       <use x=\"159.033203\" xlink:href=\"#DejaVuSans-53\"/>\r\n      </g>\r\n     </g>\r\n    </g>\r\n    <g id=\"ytick_6\">\r\n     <g id=\"line2d_13\">\r\n      <g>\r\n       <use style=\"stroke:#000000;stroke-width:0.8;\" x=\"50.14375\" xlink:href=\"#mb6b8d22edc\" y=\"98.988133\"/>\r\n      </g>\r\n     </g>\r\n     <g id=\"text_14\">\r\n      <!-- 0.40 -->\r\n      <g transform=\"translate(20.878125 102.787352)scale(0.1 -0.1)\">\r\n       <use xlink:href=\"#DejaVuSans-48\"/>\r\n       <use x=\"63.623047\" xlink:href=\"#DejaVuSans-46\"/>\r\n       <use x=\"95.410156\" xlink:href=\"#DejaVuSans-52\"/>\r\n       <use x=\"159.033203\" xlink:href=\"#DejaVuSans-48\"/>\r\n      </g>\r\n     </g>\r\n    </g>\r\n    <g id=\"ytick_7\">\r\n     <g id=\"line2d_14\">\r\n      <g>\r\n       <use style=\"stroke:#000000;stroke-width:0.8;\" x=\"50.14375\" xlink:href=\"#mb6b8d22edc\" y=\"72.516715\"/>\r\n      </g>\r\n     </g>\r\n     <g id=\"text_15\">\r\n      <!-- 0.45 -->\r\n      <g transform=\"translate(20.878125 76.315934)scale(0.1 -0.1)\">\r\n       <use xlink:href=\"#DejaVuSans-48\"/>\r\n       <use x=\"63.623047\" xlink:href=\"#DejaVuSans-46\"/>\r\n       <use x=\"95.410156\" xlink:href=\"#DejaVuSans-52\"/>\r\n       <use x=\"159.033203\" xlink:href=\"#DejaVuSans-53\"/>\r\n      </g>\r\n     </g>\r\n    </g>\r\n    <g id=\"ytick_8\">\r\n     <g id=\"line2d_15\">\r\n      <g>\r\n       <use style=\"stroke:#000000;stroke-width:0.8;\" x=\"50.14375\" xlink:href=\"#mb6b8d22edc\" y=\"46.045297\"/>\r\n      </g>\r\n     </g>\r\n     <g id=\"text_16\">\r\n      <!-- 0.50 -->\r\n      <g transform=\"translate(20.878125 49.844516)scale(0.1 -0.1)\">\r\n       <use xlink:href=\"#DejaVuSans-48\"/>\r\n       <use x=\"63.623047\" xlink:href=\"#DejaVuSans-46\"/>\r\n       <use x=\"95.410156\" xlink:href=\"#DejaVuSans-53\"/>\r\n       <use x=\"159.033203\" xlink:href=\"#DejaVuSans-48\"/>\r\n      </g>\r\n     </g>\r\n    </g>\r\n    <g id=\"text_17\">\r\n     <!-- loss -->\r\n     <defs>\r\n      <path d=\"M 9.421875 75.984375 \r\nL 18.40625 75.984375 \r\nL 18.40625 0 \r\nL 9.421875 0 \r\nz\r\n\" id=\"DejaVuSans-108\"/>\r\n      <path d=\"M 30.609375 48.390625 \r\nQ 23.390625 48.390625 19.1875 42.75 \r\nQ 14.984375 37.109375 14.984375 27.296875 \r\nQ 14.984375 17.484375 19.15625 11.84375 \r\nQ 23.34375 6.203125 30.609375 6.203125 \r\nQ 37.796875 6.203125 41.984375 11.859375 \r\nQ 46.1875 17.53125 46.1875 27.296875 \r\nQ 46.1875 37.015625 41.984375 42.703125 \r\nQ 37.796875 48.390625 30.609375 48.390625 \r\nz\r\nM 30.609375 56 \r\nQ 42.328125 56 49.015625 48.375 \r\nQ 55.71875 40.765625 55.71875 27.296875 \r\nQ 55.71875 13.875 49.015625 6.21875 \r\nQ 42.328125 -1.421875 30.609375 -1.421875 \r\nQ 18.84375 -1.421875 12.171875 6.21875 \r\nQ 5.515625 13.875 5.515625 27.296875 \r\nQ 5.515625 40.765625 12.171875 48.375 \r\nQ 18.84375 56 30.609375 56 \r\nz\r\n\" id=\"DejaVuSans-111\"/>\r\n      <path d=\"M 44.28125 53.078125 \r\nL 44.28125 44.578125 \r\nQ 40.484375 46.53125 36.375 47.5 \r\nQ 32.28125 48.484375 27.875 48.484375 \r\nQ 21.1875 48.484375 17.84375 46.4375 \r\nQ 14.5 44.390625 14.5 40.28125 \r\nQ 14.5 37.15625 16.890625 35.375 \r\nQ 19.28125 33.59375 26.515625 31.984375 \r\nL 29.59375 31.296875 \r\nQ 39.15625 29.25 43.1875 25.515625 \r\nQ 47.21875 21.78125 47.21875 15.09375 \r\nQ 47.21875 7.46875 41.1875 3.015625 \r\nQ 35.15625 -1.421875 24.609375 -1.421875 \r\nQ 20.21875 -1.421875 15.453125 -0.5625 \r\nQ 10.6875 0.296875 5.421875 2 \r\nL 5.421875 11.28125 \r\nQ 10.40625 8.6875 15.234375 7.390625 \r\nQ 20.0625 6.109375 24.8125 6.109375 \r\nQ 31.15625 6.109375 34.5625 8.28125 \r\nQ 37.984375 10.453125 37.984375 14.40625 \r\nQ 37.984375 18.0625 35.515625 20.015625 \r\nQ 33.0625 21.96875 24.703125 23.78125 \r\nL 21.578125 24.515625 \r\nQ 13.234375 26.265625 9.515625 29.90625 \r\nQ 5.8125 33.546875 5.8125 39.890625 \r\nQ 5.8125 47.609375 11.28125 51.796875 \r\nQ 16.75 56 26.8125 56 \r\nQ 31.78125 56 36.171875 55.265625 \r\nQ 40.578125 54.546875 44.28125 53.078125 \r\nz\r\n\" id=\"DejaVuSans-115\"/>\r\n     </defs>\r\n     <g transform=\"translate(14.798438 140.695937)rotate(-90)scale(0.1 -0.1)\">\r\n      <use xlink:href=\"#DejaVuSans-108\"/>\r\n      <use x=\"27.783203\" xlink:href=\"#DejaVuSans-111\"/>\r\n      <use x=\"88.964844\" xlink:href=\"#DejaVuSans-115\"/>\r\n      <use x=\"141.064453\" xlink:href=\"#DejaVuSans-115\"/>\r\n     </g>\r\n    </g>\r\n   </g>\r\n   <g id=\"line2d_16\">\r\n    <path clip-path=\"url(#p690bf1f829)\" d=\"M 65.361932 108.309272 \r\nL 65.614726 58.466271 \r\nL 65.867519 70.945403 \r\nL 66.120313 57.42603 \r\nL 66.373107 71.470028 \r\nL 66.6259 43.075557 \r\nL 66.878694 77.780927 \r\nL 67.131488 50.164353 \r\nL 67.384282 37.197864 \r\nL 67.889869 129.260191 \r\nL 68.142663 111.456123 \r\nL 68.64825 58.484873 \r\nL 69.406631 112.407248 \r\nL 69.659425 54.113524 \r\nL 69.912219 64.393539 \r\nL 70.165012 101.092768 \r\nL 70.417806 59.459445 \r\nL 70.6706 105.876149 \r\nL 70.923394 58.644911 \r\nL 71.176187 96.217495 \r\nL 71.681775 53.183068 \r\nL 71.934568 126.60166 \r\nL 72.187362 75.228993 \r\nL 72.440156 87.107465 \r\nL 72.69295 89.131602 \r\nL 72.945743 74.536047 \r\nL 73.198537 97.063364 \r\nL 73.704125 73.238637 \r\nL 73.956918 88.157031 \r\nL 74.209712 93.001426 \r\nL 74.462506 121.129655 \r\nL 74.715299 66.23315 \r\nL 74.968093 100.672942 \r\nL 75.220887 104.298534 \r\nL 75.473681 89.4744 \r\nL 75.726474 65.976739 \r\nL 75.979268 85.833266 \r\nL 76.232062 87.127788 \r\nL 76.484855 38.44229 \r\nL 76.737649 58.293263 \r\nL 77.243237 112.138167 \r\nL 77.49603 88.431587 \r\nL 77.748824 89.180247 \r\nL 78.001618 60.385688 \r\nL 78.254411 66.349151 \r\nL 78.507205 58.953202 \r\nL 78.759999 102.450923 \r\nL 79.012793 118.891108 \r\nL 79.265586 121.564755 \r\nL 79.51838 46.749257 \r\nL 79.771174 75.843791 \r\nL 80.023967 87.103095 \r\nL 80.276761 80.624978 \r\nL 80.529555 123.868971 \r\nL 80.782349 78.860361 \r\nL 81.035142 64.745093 \r\nL 81.287936 78.129767 \r\nL 81.54073 69.698357 \r\nL 81.793523 110.726413 \r\nL 82.046317 71.029532 \r\nL 82.299111 100.610965 \r\nL 82.551905 101.463997 \r\nL 82.804698 81.87398 \r\nL 83.057492 118.21465 \r\nL 83.56308 60.649452 \r\nL 83.815873 104.807428 \r\nL 84.068667 116.370005 \r\nL 84.321461 94.860318 \r\nL 84.574254 89.290789 \r\nL 84.827048 115.727738 \r\nL 85.079842 128.092557 \r\nL 85.332636 96.395457 \r\nL 85.585429 105.3632 \r\nL 85.838223 72.262914 \r\nL 86.091017 74.96919 \r\nL 86.34381 90.629237 \r\nL 86.596604 117.356616 \r\nL 86.849398 79.643353 \r\nL 87.102192 100.145098 \r\nL 87.354985 83.019935 \r\nL 87.607779 106.792956 \r\nL 88.113366 65.381317 \r\nL 88.36616 99.142599 \r\nL 88.618954 77.279496 \r\nL 89.124541 94.836651 \r\nL 89.377335 131.723987 \r\nL 89.630129 98.507116 \r\nL 89.882922 93.888649 \r\nL 90.135716 68.132845 \r\nL 90.38851 88.434553 \r\nL 90.641304 69.070701 \r\nL 90.894097 68.700102 \r\nL 91.146891 92.852953 \r\nL 91.399685 70.042259 \r\nL 91.652478 108.288114 \r\nL 91.905272 123.837288 \r\nL 92.158066 60.49735 \r\nL 92.663653 112.944654 \r\nL 92.916447 94.160492 \r\nL 93.169241 91.75864 \r\nL 93.422035 61.893405 \r\nL 93.674828 118.053949 \r\nL 93.927622 42.250736 \r\nL 94.180416 114.038651 \r\nL 94.433209 87.702193 \r\nL 94.686003 94.598826 \r\nL 94.938797 66.34628 \r\nL 95.444384 107.809135 \r\nL 95.697178 57.859836 \r\nL 95.949972 94.626091 \r\nL 96.202765 54.051327 \r\nL 96.455559 107.150601 \r\nL 96.708353 116.940324 \r\nL 96.961147 115.881323 \r\nL 97.21394 103.799044 \r\nL 97.466734 112.509554 \r\nL 97.719528 125.229288 \r\nL 97.972321 73.282201 \r\nL 98.225115 103.644528 \r\nL 98.477909 105.403245 \r\nL 98.730703 112.543888 \r\nL 98.983496 109.51916 \r\nL 99.23629 41.956189 \r\nL 99.489084 117.567965 \r\nL 99.741877 67.748078 \r\nL 99.994671 115.57297 \r\nL 100.247465 98.130917 \r\nL 100.500259 105.31312 \r\nL 100.753052 91.595731 \r\nL 101.005846 103.2638 \r\nL 101.25864 101.07456 \r\nL 101.511433 111.779292 \r\nL 101.764227 91.057284 \r\nL 102.269815 117.504584 \r\nL 102.522608 69.675021 \r\nL 102.775402 151.649496 \r\nL 103.28099 80.704942 \r\nL 103.533783 82.172756 \r\nL 103.786577 36.580463 \r\nL 104.039371 131.804866 \r\nL 104.292164 101.652326 \r\nL 104.544958 105.060621 \r\nL 104.797752 125.412678 \r\nL 105.050546 93.782257 \r\nL 105.303339 112.683809 \r\nL 105.556133 113.354161 \r\nL 105.808927 109.491059 \r\nL 106.06172 121.226344 \r\nL 106.567308 108.351085 \r\nL 106.820102 108.175473 \r\nL 107.072895 119.140183 \r\nL 107.325689 137.161974 \r\nL 107.578483 99.705139 \r\nL 107.831276 114.434257 \r\nL 108.08407 88.84851 \r\nL 108.336864 97.02679 \r\nL 108.589658 115.169774 \r\nL 108.842451 114.715062 \r\nL 109.348039 155.015475 \r\nL 109.600832 101.144205 \r\nL 109.853626 111.766922 \r\nL 110.10642 74.631915 \r\nL 110.359214 109.89992 \r\nL 110.612007 126.806697 \r\nL 110.864801 100.581854 \r\nL 111.370388 73.118328 \r\nL 111.623182 99.898816 \r\nL 111.875976 76.138985 \r\nL 112.12877 117.09667 \r\nL 112.381563 66.907763 \r\nL 112.634357 124.565767 \r\nL 112.887151 91.718264 \r\nL 113.139945 102.191688 \r\nL 113.392738 81.434573 \r\nL 113.645532 72.087649 \r\nL 113.898326 117.921002 \r\nL 114.151119 130.688054 \r\nL 114.403913 91.573089 \r\nL 114.656707 133.3487 \r\nL 114.909501 72.55096 \r\nL 115.162294 98.133347 \r\nL 115.415088 88.37305 \r\nL 115.667882 121.023247 \r\nL 115.920675 77.046168 \r\nL 116.173469 87.553957 \r\nL 116.426263 91.88272 \r\nL 116.679057 93.478369 \r\nL 116.93185 65.725424 \r\nL 117.437438 129.113075 \r\nL 117.690231 125.00538 \r\nL 117.943025 91.608621 \r\nL 118.195819 146.241883 \r\nL 118.701406 111.167713 \r\nL 118.9542 113.091517 \r\nL 119.206994 97.207971 \r\nL 119.459787 104.46359 \r\nL 119.712581 76.519429 \r\nL 120.218169 120.526928 \r\nL 120.470962 134.349511 \r\nL 120.723756 72.899248 \r\nL 120.97655 119.450177 \r\nL 121.229343 140.425204 \r\nL 121.734931 89.859167 \r\nL 121.987725 121.363709 \r\nL 122.493312 89.088433 \r\nL 122.746106 146.541795 \r\nL 122.9989 110.233266 \r\nL 123.251693 144.962729 \r\nL 123.504487 96.679859 \r\nL 124.010074 69.394233 \r\nL 124.262868 59.912579 \r\nL 124.515662 66.95191 \r\nL 124.768456 141.866621 \r\nL 125.274043 97.116458 \r\nL 125.526837 132.846511 \r\nL 125.77963 81.047487 \r\nL 126.032424 118.021477 \r\nL 126.285218 91.508714 \r\nL 126.538012 94.250128 \r\nL 126.790805 132.518072 \r\nL 127.043599 110.752368 \r\nL 127.296393 32.201761 \r\nL 127.80198 156.766901 \r\nL 128.054774 109.825336 \r\nL 128.307568 93.469975 \r\nL 128.560361 103.610353 \r\nL 128.813155 135.628554 \r\nL 129.065949 136.944598 \r\nL 129.318742 139.493044 \r\nL 129.571536 68.07871 \r\nL 130.077124 130.781871 \r\nL 130.329917 87.733292 \r\nL 130.582711 102.981087 \r\nL 130.835505 171.196928 \r\nL 131.088298 127.876932 \r\nL 131.341092 133.436363 \r\nL 131.593886 67.745758 \r\nL 131.84668 126.081421 \r\nL 132.099473 80.127586 \r\nL 132.352267 121.563161 \r\nL 132.605061 110.092745 \r\nL 132.857855 124.535505 \r\nL 133.110648 114.302809 \r\nL 133.363442 164.513837 \r\nL 133.616236 102.019926 \r\nL 133.869029 73.304874 \r\nL 134.121823 148.664341 \r\nL 134.374617 100.900053 \r\nL 134.627411 120.253603 \r\nL 134.880204 115.26733 \r\nL 135.132998 69.918463 \r\nL 135.385792 76.084014 \r\nL 135.638585 74.219694 \r\nL 135.891379 98.582773 \r\nL 136.144173 106.019588 \r\nL 136.396967 117.858867 \r\nL 136.64976 114.851969 \r\nL 136.902554 149.768925 \r\nL 137.155348 131.339347 \r\nL 137.408141 99.444846 \r\nL 137.660935 91.765393 \r\nL 137.913729 137.051874 \r\nL 138.166523 125.684647 \r\nL 138.419316 140.565583 \r\nL 138.67211 90.53157 \r\nL 139.177697 138.305656 \r\nL 139.430491 80.850938 \r\nL 139.936079 175.999764 \r\nL 140.188872 107.956977 \r\nL 140.69446 157.230433 \r\nL 140.947253 96.309435 \r\nL 141.200047 98.787321 \r\nL 141.452841 108.451055 \r\nL 141.705635 91.451265 \r\nL 141.958428 95.440103 \r\nL 142.211222 117.231873 \r\nL 142.464016 77.144229 \r\nL 142.716809 117.919818 \r\nL 142.969603 120.661958 \r\nL 143.222397 91.837563 \r\nL 143.475191 139.730475 \r\nL 143.727984 103.312287 \r\nL 143.980778 150.657095 \r\nL 144.233572 105.805904 \r\nL 144.486366 86.039928 \r\nL 144.739159 135.834807 \r\nL 144.991953 109.068393 \r\nL 145.244747 109.732371 \r\nL 145.49754 111.782953 \r\nL 145.750334 133.386062 \r\nL 146.255922 97.31793 \r\nL 146.508715 97.214929 \r\nL 146.761509 154.018513 \r\nL 147.014303 101.005262 \r\nL 147.51989 93.80239 \r\nL 147.772684 116.692022 \r\nL 148.025478 127.790673 \r\nL 148.278271 90.326517 \r\nL 148.531065 154.768924 \r\nL 148.783859 139.87191 \r\nL 149.036652 132.986906 \r\nL 149.289446 75.112803 \r\nL 149.54224 153.700173 \r\nL 149.795034 64.562744 \r\nL 150.047827 107.574656 \r\nL 150.300621 122.879378 \r\nL 150.553415 149.524189 \r\nL 150.806208 110.719329 \r\nL 151.059002 152.798938 \r\nL 151.817383 87.444629 \r\nL 152.070177 112.84017 \r\nL 152.575764 131.375873 \r\nL 152.828558 150.62658 \r\nL 153.334146 113.591923 \r\nL 153.839733 143.487831 \r\nL 154.092527 123.585058 \r\nL 154.345321 113.751519 \r\nL 154.598114 138.799182 \r\nL 154.850908 102.544993 \r\nL 155.103702 109.592024 \r\nL 155.356495 160.323859 \r\nL 155.862083 129.130273 \r\nL 156.114877 136.455426 \r\nL 156.36767 124.944192 \r\nL 156.620464 152.317624 \r\nL 156.873258 105.837571 \r\nL 157.126051 124.069543 \r\nL 157.378845 128.103523 \r\nL 157.631639 146.942119 \r\nL 157.884433 122.670033 \r\nL 158.39002 139.621132 \r\nL 158.642814 123.036356 \r\nL 158.895607 122.207716 \r\nL 159.148401 152.653952 \r\nL 159.401195 119.988355 \r\nL 159.653989 136.432106 \r\nL 159.906782 139.897897 \r\nL 160.159576 134.782654 \r\nL 160.41237 145.352151 \r\nL 160.665163 114.842802 \r\nL 160.917957 129.395126 \r\nL 161.170751 95.893474 \r\nL 161.423545 123.315472 \r\nL 161.676338 116.119353 \r\nL 161.929132 105.459888 \r\nL 162.181926 115.611421 \r\nL 162.434719 138.145429 \r\nL 162.687513 146.997027 \r\nL 162.940307 104.551995 \r\nL 163.445894 144.295264 \r\nL 163.698688 150.232189 \r\nL 163.951482 111.954256 \r\nL 164.457069 160.132233 \r\nL 164.709863 147.94282 \r\nL 164.962657 107.997243 \r\nL 165.21545 91.824246 \r\nL 165.468244 92.696118 \r\nL 165.721038 120.588447 \r\nL 165.973832 114.49584 \r\nL 166.226625 116.933918 \r\nL 166.479419 138.531395 \r\nL 166.732213 86.961059 \r\nL 166.985006 153.781225 \r\nL 167.2378 100.687884 \r\nL 167.490594 98.870867 \r\nL 167.743388 108.14114 \r\nL 167.996181 112.152967 \r\nL 168.248975 121.330543 \r\nL 168.501769 116.088175 \r\nL 169.007356 150.241971 \r\nL 169.26015 129.977783 \r\nL 169.512944 150.836541 \r\nL 169.765737 137.871582 \r\nL 170.018531 146.417621 \r\nL 170.271325 109.050295 \r\nL 170.524118 172.237264 \r\nL 170.776912 129.666101 \r\nL 171.029706 159.884436 \r\nL 171.2825 170.943972 \r\nL 171.535293 133.176938 \r\nL 171.788087 127.983135 \r\nL 172.040881 128.863511 \r\nL 172.293674 103.767614 \r\nL 172.546468 104.737563 \r\nL 172.799262 147.873585 \r\nL 173.052056 147.254401 \r\nL 173.304849 141.281345 \r\nL 173.557643 85.435324 \r\nL 173.810437 141.34329 \r\nL 174.063231 150.111612 \r\nL 174.316024 131.520244 \r\nL 174.821612 115.270012 \r\nL 175.074405 118.565935 \r\nL 175.327199 116.875791 \r\nL 175.579993 135.487055 \r\nL 175.832787 111.471507 \r\nL 176.08558 116.696519 \r\nL 176.338374 132.228148 \r\nL 176.591168 136.138852 \r\nL 176.843961 175.781172 \r\nL 177.096755 116.471412 \r\nL 177.349549 123.078168 \r\nL 177.602343 116.970271 \r\nL 177.855136 146.484425 \r\nL 178.10793 123.072929 \r\nL 178.360724 127.991182 \r\nL 178.613517 137.060725 \r\nL 178.866311 113.958213 \r\nL 179.119105 135.236024 \r\nL 179.371899 126.990182 \r\nL 179.624692 131.020879 \r\nL 179.877486 131.792212 \r\nL 180.13028 130.152069 \r\nL 180.383073 108.170566 \r\nL 180.635867 110.863036 \r\nL 180.888661 103.595695 \r\nL 181.141455 128.087776 \r\nL 181.394248 120.430744 \r\nL 181.647042 170.647879 \r\nL 181.899836 158.936577 \r\nL 182.152629 141.305422 \r\nL 182.405423 112.992714 \r\nL 182.911011 149.896476 \r\nL 183.163804 120.920973 \r\nL 183.416598 113.823105 \r\nL 183.669392 121.512087 \r\nL 183.922186 166.414842 \r\nL 184.174979 169.991601 \r\nL 184.427773 131.274877 \r\nL 184.680567 121.418081 \r\nL 184.93336 129.467453 \r\nL 185.186154 164.680076 \r\nL 185.438948 150.585841 \r\nL 185.691742 113.58872 \r\nL 185.944535 134.198166 \r\nL 186.450123 98.570134 \r\nL 186.95571 144.938699 \r\nL 187.208504 112.801198 \r\nL 187.461298 143.133137 \r\nL 187.714091 134.575391 \r\nL 187.966885 136.818561 \r\nL 188.219679 157.861135 \r\nL 188.472472 121.757911 \r\nL 188.725266 136.183394 \r\nL 188.97806 107.647914 \r\nL 189.230854 130.027121 \r\nL 189.483647 129.424268 \r\nL 189.736441 135.032201 \r\nL 189.989235 151.914128 \r\nL 190.242028 131.729447 \r\nL 190.494822 124.358616 \r\nL 190.747616 123.179653 \r\nL 191.00041 113.487266 \r\nL 191.505997 158.812813 \r\nL 191.758791 149.837891 \r\nL 192.011584 117.450417 \r\nL 192.264378 131.62774 \r\nL 192.517172 116.647922 \r\nL 193.022759 135.400685 \r\nL 193.275553 139.846618 \r\nL 193.528347 125.040407 \r\nL 193.781141 130.604461 \r\nL 194.033934 108.865627 \r\nL 194.286728 140.176966 \r\nL 194.539522 153.409523 \r\nL 194.792315 128.203241 \r\nL 195.045109 134.211578 \r\nL 195.297903 143.997151 \r\nL 195.550697 110.509274 \r\nL 195.80349 143.436488 \r\nL 196.056284 120.851391 \r\nL 196.561871 139.59595 \r\nL 196.814665 143.338727 \r\nL 197.067459 164.732981 \r\nL 197.320253 137.786412 \r\nL 197.573046 138.383821 \r\nL 197.82584 142.46269 \r\nL 198.078634 158.205952 \r\nL 198.331427 159.752767 \r\nL 198.584221 104.788542 \r\nL 199.089809 165.313666 \r\nL 199.342602 152.230765 \r\nL 199.595396 146.105055 \r\nL 199.84819 175.066436 \r\nL 200.100983 122.682577 \r\nL 200.606571 161.198065 \r\nL 200.859365 152.304654 \r\nL 201.112158 138.773464 \r\nL 201.364952 145.611954 \r\nL 201.617746 143.826383 \r\nL 202.123333 109.234206 \r\nL 202.376127 147.384603 \r\nL 202.628921 112.40952 \r\nL 203.387302 172.716432 \r\nL 203.640096 139.682477 \r\nL 203.892889 168.004589 \r\nL 204.145683 126.810957 \r\nL 204.65127 165.377772 \r\nL 204.904064 156.344661 \r\nL 205.409652 92.993615 \r\nL 205.662445 101.993687 \r\nL 205.915239 160.807318 \r\nL 206.168033 95.224132 \r\nL 206.420826 123.981911 \r\nL 206.67362 115.797604 \r\nL 206.926414 163.301867 \r\nL 207.179208 128.856584 \r\nL 207.432001 172.751712 \r\nL 207.684795 144.50808 \r\nL 207.937589 132.443662 \r\nL 208.190382 184.411727 \r\nL 208.443176 146.446495 \r\nL 208.69597 160.869595 \r\nL 208.948764 143.655458 \r\nL 209.201557 163.500151 \r\nL 209.454351 109.311503 \r\nL 209.707145 169.124305 \r\nL 209.959938 142.847299 \r\nL 210.465526 156.215753 \r\nL 210.971113 139.08663 \r\nL 211.476701 159.071733 \r\nL 211.729494 138.619185 \r\nL 211.982288 144.155406 \r\nL 212.235082 152.828112 \r\nL 212.487876 138.624549 \r\nL 212.740669 158.854309 \r\nL 212.993463 139.746221 \r\nL 213.246257 182.222802 \r\nL 213.499051 127.091778 \r\nL 213.751844 152.713404 \r\nL 214.004638 163.349517 \r\nL 214.257432 119.478688 \r\nL 214.510225 157.363759 \r\nL 214.763019 119.596362 \r\nL 215.015813 120.914599 \r\nL 215.268607 144.723658 \r\nL 215.5214 111.444589 \r\nL 215.774194 117.642122 \r\nL 216.026988 143.051169 \r\nL 216.279781 124.841002 \r\nL 216.532575 127.43732 \r\nL 217.038163 176.13107 \r\nL 217.290956 128.016427 \r\nL 217.54375 165.86281 \r\nL 217.796544 96.612313 \r\nL 218.049337 152.102694 \r\nL 218.302131 154.948543 \r\nL 218.554925 154.227464 \r\nL 218.807719 115.497124 \r\nL 219.060512 127.369048 \r\nL 219.313306 115.043359 \r\nL 219.5661 178.45975 \r\nL 219.818893 126.779085 \r\nL 220.071687 151.62332 \r\nL 220.324481 133.43791 \r\nL 220.577275 157.615658 \r\nL 220.830068 131.844375 \r\nL 221.082862 147.825572 \r\nL 221.335656 136.892324 \r\nL 221.588449 162.470104 \r\nL 222.094037 119.896274 \r\nL 222.346831 162.858405 \r\nL 222.599624 105.247877 \r\nL 222.852418 136.555555 \r\nL 223.105212 124.238686 \r\nL 223.358006 164.918012 \r\nL 223.610799 146.320458 \r\nL 223.863593 166.560033 \r\nL 224.116387 173.45138 \r\nL 224.36918 146.806553 \r\nL 224.621974 156.67411 \r\nL 224.874768 180.086403 \r\nL 225.127562 166.824349 \r\nL 225.633149 107.026142 \r\nL 225.885943 163.343537 \r\nL 226.39153 119.839662 \r\nL 226.644324 133.761 \r\nL 226.897118 128.159725 \r\nL 227.149911 116.757297 \r\nL 227.402705 150.219818 \r\nL 227.908292 169.722582 \r\nL 228.161086 163.571832 \r\nL 228.41388 138.454965 \r\nL 228.666674 153.195902 \r\nL 228.919467 155.011751 \r\nL 229.172261 155.097805 \r\nL 229.425055 141.48501 \r\nL 229.677848 149.081437 \r\nL 229.930642 147.119261 \r\nL 230.183436 141.231139 \r\nL 230.43623 92.877472 \r\nL 230.941817 140.04667 \r\nL 231.194611 98.805498 \r\nL 231.447404 151.934971 \r\nL 231.700198 139.987596 \r\nL 231.952992 134.655387 \r\nL 232.205786 144.24165 \r\nL 232.458579 121.44301 \r\nL 232.711373 163.767986 \r\nL 232.964167 162.510212 \r\nL 233.216961 165.44868 \r\nL 233.469754 164.862599 \r\nL 233.722548 152.943024 \r\nL 233.975342 162.567723 \r\nL 234.228135 141.849833 \r\nL 234.480929 156.977351 \r\nL 234.733723 145.575822 \r\nL 234.986517 189.651507 \r\nL 235.23931 140.409947 \r\nL 235.492104 125.617605 \r\nL 235.744898 169.986299 \r\nL 235.997691 176.270959 \r\nL 236.250485 138.590484 \r\nL 236.503279 181.495901 \r\nL 236.756073 146.893254 \r\nL 237.008866 129.282911 \r\nL 237.26166 173.395147 \r\nL 237.514454 143.765685 \r\nL 238.020041 161.404113 \r\nL 238.272835 155.33066 \r\nL 238.778422 95.44673 \r\nL 239.28401 184.823964 \r\nL 239.789597 118.311291 \r\nL 240.042391 147.522536 \r\nL 240.295185 158.540702 \r\nL 240.547978 157.497116 \r\nL 240.800772 145.585889 \r\nL 241.053566 145.380015 \r\nL 241.306359 145.677592 \r\nL 241.811947 208.043029 \r\nL 242.064741 138.001058 \r\nL 242.317534 142.111877 \r\nL 242.570328 169.872791 \r\nL 242.823122 144.15001 \r\nL 243.075916 137.634436 \r\nL 243.328709 124.878712 \r\nL 243.581503 138.225077 \r\nL 243.834297 111.414106 \r\nL 244.339884 166.683607 \r\nL 244.592678 130.240711 \r\nL 244.845472 135.831714 \r\nL 245.098265 155.631092 \r\nL 245.351059 112.04779 \r\nL 245.603853 124.326823 \r\nL 245.856646 168.489958 \r\nL 246.10944 164.214478 \r\nL 246.362234 174.835238 \r\nL 246.615028 156.035156 \r\nL 246.867821 117.541189 \r\nL 247.120615 168.298868 \r\nL 247.373409 170.16961 \r\nL 247.626202 157.530077 \r\nL 247.878996 177.47635 \r\nL 248.13179 182.734323 \r\nL 248.384584 142.527128 \r\nL 248.637377 161.988285 \r\nL 248.890171 162.44691 \r\nL 249.142965 175.512375 \r\nL 249.395758 143.370188 \r\nL 249.648552 142.672082 \r\nL 249.901346 175.503508 \r\nL 250.15414 171.72788 \r\nL 250.406933 133.628479 \r\nL 250.912521 152.126645 \r\nL 251.165314 179.584404 \r\nL 251.418108 183.525355 \r\nL 251.670902 151.79475 \r\nL 251.923696 151.410962 \r\nL 252.176489 190.594247 \r\nL 252.429283 97.120686 \r\nL 252.682077 161.936548 \r\nL 252.934871 145.374051 \r\nL 253.187664 172.675503 \r\nL 253.440458 146.183772 \r\nL 253.693252 143.507206 \r\nL 253.946045 145.347007 \r\nL 254.198839 153.944908 \r\nL 254.451633 127.239509 \r\nL 254.704427 170.408681 \r\nL 254.95722 172.261341 \r\nL 255.210014 137.237078 \r\nL 255.462808 157.555906 \r\nL 255.715601 156.282432 \r\nL 255.968395 140.781523 \r\nL 256.221189 183.765562 \r\nL 256.473983 137.580506 \r\nL 256.726776 118.338635 \r\nL 256.97957 148.108096 \r\nL 257.232364 150.029865 \r\nL 257.485157 125.194245 \r\nL 257.737951 156.996032 \r\nL 257.990745 134.205487 \r\nL 258.243539 164.523162 \r\nL 258.496332 155.019198 \r\nL 259.00192 188.899195 \r\nL 259.254713 162.674715 \r\nL 259.507507 165.158487 \r\nL 259.760301 161.966732 \r\nL 260.265888 167.447335 \r\nL 260.518682 162.516113 \r\nL 260.771476 117.962625 \r\nL 261.277063 173.220466 \r\nL 261.529857 144.649674 \r\nL 261.782651 165.454328 \r\nL 262.035444 167.573277 \r\nL 262.288238 166.108776 \r\nL 262.541032 143.995699 \r\nL 262.793826 162.663781 \r\nL 263.046619 161.902657 \r\nL 263.299413 155.187173 \r\nL 263.552207 170.805471 \r\nL 263.805 141.257709 \r\nL 264.057794 151.11501 \r\nL 264.310588 146.607874 \r\nL 264.563382 154.68448 \r\nL 265.068969 137.837848 \r\nL 265.321763 156.715859 \r\nL 265.82735 161.164994 \r\nL 266.080144 159.878488 \r\nL 266.332938 164.001425 \r\nL 266.585731 178.69935 \r\nL 267.091319 171.522212 \r\nL 267.596906 133.54831 \r\nL 267.8497 172.212886 \r\nL 268.102494 125.377003 \r\nL 268.355287 150.626643 \r\nL 268.608081 160.508653 \r\nL 268.860875 180.92215 \r\nL 269.113668 126.856462 \r\nL 269.366462 190.476857 \r\nL 269.619256 143.146438 \r\nL 269.87205 143.251473 \r\nL 270.124843 128.878674 \r\nL 270.377637 174.069333 \r\nL 270.630431 107.080372 \r\nL 271.136018 170.997681 \r\nL 271.388812 166.489252 \r\nL 271.641606 169.606297 \r\nL 271.894399 182.629051 \r\nL 272.147193 153.523157 \r\nL 272.399987 173.23099 \r\nL 272.652781 167.23048 \r\nL 272.905574 141.754628 \r\nL 273.158368 182.568983 \r\nL 273.411162 175.678441 \r\nL 273.663955 177.87262 \r\nL 273.916749 153.782267 \r\nL 274.169543 176.800176 \r\nL 274.422337 149.987627 \r\nL 274.67513 160.711103 \r\nL 274.927924 182.996162 \r\nL 275.180718 164.572169 \r\nL 275.433511 163.631915 \r\nL 275.686305 148.72272 \r\nL 275.939099 171.812925 \r\nL 276.191893 157.830273 \r\nL 276.444686 163.854561 \r\nL 276.69748 153.507426 \r\nL 276.950274 147.945013 \r\nL 277.203067 170.44546 \r\nL 277.455861 134.142122 \r\nL 277.708655 137.832389 \r\nL 277.961449 150.442512 \r\nL 278.214242 145.785609 \r\nL 278.71983 169.66616 \r\nL 278.972623 143.481456 \r\nL 279.225417 183.709565 \r\nL 279.478211 181.570208 \r\nL 279.731005 195.560875 \r\nL 279.983798 157.042263 \r\nL 280.236592 170.207983 \r\nL 280.489386 166.547883 \r\nL 280.742179 150.687595 \r\nL 280.994973 195.007455 \r\nL 281.247767 193.230381 \r\nL 281.500561 126.745904 \r\nL 281.753354 134.285861 \r\nL 282.006148 145.677039 \r\nL 282.258942 141.02315 \r\nL 282.511736 142.992111 \r\nL 282.764529 160.786065 \r\nL 283.017323 167.738711 \r\nL 283.270117 157.305995 \r\nL 283.52291 135.524024 \r\nL 283.775704 165.617412 \r\nL 284.028498 166.60945 \r\nL 284.281292 152.608085 \r\nL 284.534085 175.756416 \r\nL 284.786879 180.193805 \r\nL 285.039673 187.036232 \r\nL 285.292466 124.065394 \r\nL 285.798054 165.392572 \r\nL 286.050848 167.784499 \r\nL 286.556435 176.39272 \r\nL 286.809229 144.713986 \r\nL 287.062022 180.613947 \r\nL 287.314816 188.804565 \r\nL 287.56761 165.045342 \r\nL 288.073197 143.632391 \r\nL 288.325991 166.830534 \r\nL 288.578785 169.751362 \r\nL 289.084372 156.21487 \r\nL 289.337166 152.444291 \r\nL 289.842753 166.201221 \r\nL 290.095547 194.946386 \r\nL 290.348341 194.311345 \r\nL 290.601134 148.435809 \r\nL 290.853928 172.815613 \r\nL 291.106722 183.085601 \r\nL 291.359516 144.139723 \r\nL 291.612309 155.050628 \r\nL 291.865103 178.564194 \r\nL 292.117897 163.719074 \r\nL 292.370691 161.206885 \r\nL 292.623484 151.874998 \r\nL 292.876278 147.194318 \r\nL 293.129072 176.126526 \r\nL 293.381865 142.350696 \r\nL 293.634659 170.590541 \r\nL 293.887453 123.638578 \r\nL 294.140247 130.415517 \r\nL 294.39304 170.462027 \r\nL 294.645834 159.41341 \r\nL 294.898628 172.717694 \r\nL 295.657009 140.632893 \r\nL 295.909803 169.234973 \r\nL 296.162596 165.120903 \r\nL 296.41539 143.947954 \r\nL 296.668184 179.479502 \r\nL 296.920977 144.390091 \r\nL 297.173771 148.132048 \r\nL 297.679359 175.261565 \r\nL 297.932152 174.595141 \r\nL 298.184946 148.612068 \r\nL 298.43774 178.657056 \r\nL 298.690533 174.912662 \r\nL 298.943327 142.175542 \r\nL 299.196121 158.917769 \r\nL 299.701708 138.526535 \r\nL 299.954502 163.931133 \r\nL 300.207296 148.274588 \r\nL 300.460089 154.887008 \r\nL 300.712883 193.077293 \r\nL 300.965677 194.30471 \r\nL 301.218471 163.91911 \r\nL 301.471264 171.888928 \r\nL 301.724058 162.450965 \r\nL 301.976852 183.867119 \r\nL 302.482439 121.937846 \r\nL 302.735233 150.808803 \r\nL 303.24082 183.44562 \r\nL 303.493614 161.235255 \r\nL 303.746408 159.236142 \r\nL 303.999202 181.753061 \r\nL 304.251995 133.980601 \r\nL 304.757583 186.39279 \r\nL 305.26317 147.422124 \r\nL 305.515964 190.574555 \r\nL 305.768758 153.196627 \r\nL 306.021551 184.578131 \r\nL 306.274345 171.147495 \r\nL 306.527139 173.068412 \r\nL 306.779932 179.858826 \r\nL 307.032726 191.427998 \r\nL 307.538314 150.613153 \r\nL 307.791107 144.171894 \r\nL 308.043901 179.109086 \r\nL 308.549488 155.040373 \r\nL 308.802282 181.227695 \r\nL 309.055076 190.890743 \r\nL 309.560663 142.964089 \r\nL 310.066251 185.266558 \r\nL 310.319044 168.034947 \r\nL 310.571838 160.492117 \r\nL 310.824632 175.430944 \r\nL 311.077426 181.920137 \r\nL 311.330219 157.898356 \r\nL 311.583013 158.912815 \r\nL 311.835807 166.352928 \r\nL 312.0886 136.627724 \r\nL 312.341394 147.791365 \r\nL 312.594188 179.439694 \r\nL 312.846982 162.185575 \r\nL 313.099775 168.226652 \r\nL 313.352569 179.872458 \r\nL 313.605363 165.494705 \r\nL 314.11095 169.584208 \r\nL 314.363744 160.97127 \r\nL 314.616538 170.490886 \r\nL 314.869331 188.664905 \r\nL 315.122125 147.658828 \r\nL 315.374919 186.574483 \r\nL 315.627713 167.813721 \r\nL 315.880506 178.415405 \r\nL 316.1333 182.31527 \r\nL 316.386094 170.174959 \r\nL 316.638887 171.187335 \r\nL 316.891681 188.532865 \r\nL 317.397269 181.928689 \r\nL 317.650062 157.435597 \r\nL 317.902856 156.406212 \r\nL 318.15565 177.311862 \r\nL 318.408443 178.630241 \r\nL 318.661237 191.285978 \r\nL 318.914031 132.888986 \r\nL 319.419618 160.148689 \r\nL 319.672412 216.760261 \r\nL 319.925206 152.284316 \r\nL 320.177999 168.865037 \r\nL 320.430793 197.692336 \r\nL 320.683587 153.068224 \r\nL 320.936381 161.833864 \r\nL 321.189174 164.337516 \r\nL 321.441968 147.502529 \r\nL 321.694762 187.096174 \r\nL 321.947555 184.184071 \r\nL 322.200349 149.925666 \r\nL 322.453143 169.544163 \r\nL 322.705937 160.262923 \r\nL 322.95873 200.926361 \r\nL 323.211524 166.087444 \r\nL 323.464318 164.606992 \r\nL 323.717112 162.201496 \r\nL 323.969905 194.396176 \r\nL 324.222699 180.712458 \r\nL 324.475493 184.372589 \r\nL 324.728286 180.919563 \r\nL 324.98108 156.007576 \r\nL 325.233874 157.21901 \r\nL 325.486668 197.409149 \r\nL 325.739461 170.680508 \r\nL 325.992255 193.866889 \r\nL 326.245049 196.855768 \r\nL 326.497842 167.711194 \r\nL 326.750636 206.567697 \r\nL 327.256224 149.655795 \r\nL 327.509017 149.890827 \r\nL 327.761811 187.688179 \r\nL 328.267398 166.846691 \r\nL 328.520192 160.423703 \r\nL 329.02578 187.852959 \r\nL 329.278573 160.533456 \r\nL 329.531367 148.354126 \r\nL 329.784161 173.276936 \r\nL 330.036954 142.474808 \r\nL 330.289748 141.19436 \r\nL 330.795336 199.800776 \r\nL 331.048129 136.425321 \r\nL 331.300923 203.378213 \r\nL 331.80651 141.573904 \r\nL 332.059304 183.09607 \r\nL 332.312098 157.827938 \r\nL 332.564892 144.157079 \r\nL 332.817685 189.301247 \r\nL 333.070479 182.041826 \r\nL 333.323273 196.601731 \r\nL 333.82886 165.638933 \r\nL 334.081654 142.403269 \r\nL 334.334448 184.52376 \r\nL 334.587241 161.545943 \r\nL 334.840035 200.599957 \r\nL 335.092829 173.453747 \r\nL 335.345623 160.175796 \r\nL 335.598416 188.646807 \r\nL 335.85121 130.047617 \r\nL 336.104004 172.781533 \r\nL 336.356797 185.158706 \r\nL 336.862385 217.915737 \r\nL 337.115179 176.621125 \r\nL 337.367972 207.708145 \r\nL 337.620766 190.045094 \r\nL 337.87356 158.108411 \r\nL 338.126353 203.510932 \r\nL 338.379147 170.82551 \r\nL 338.631941 171.157751 \r\nL 338.884735 174.787746 \r\nL 339.137528 155.061531 \r\nL 339.390322 205.726672 \r\nL 339.643116 179.349514 \r\nL 339.895909 168.255179 \r\nL 340.148703 169.768686 \r\nL 340.401497 161.717563 \r\nL 340.907084 200.672158 \r\nL 341.412672 119.66353 \r\nL 341.665465 201.312848 \r\nL 342.171053 153.656719 \r\nL 342.423847 209.581206 \r\nL 342.67664 142.587432 \r\nL 342.929434 175.798481 \r\nL 343.182228 126.137023 \r\nL 343.435022 145.818901 \r\nL 343.687815 150.657632 \r\nL 343.940609 183.474952 \r\nL 344.193403 144.655259 \r\nL 344.446196 180.24323 \r\nL 344.69899 179.807523 \r\nL 344.951784 160.630019 \r\nL 345.204578 203.248106 \r\nL 345.457371 128.592726 \r\nL 345.710165 183.766375 \r\nL 345.962959 152.253391 \r\nL 346.215752 158.337416 \r\nL 346.468546 192.235818 \r\nL 346.72134 151.487707 \r\nL 346.974134 188.493861 \r\nL 347.226927 176.021001 \r\nL 347.479721 173.585021 \r\nL 347.732515 193.063061 \r\nL 347.985308 148.834982 \r\nL 348.238102 147.003717 \r\nL 348.74369 184.3496 \r\nL 348.996483 156.783469 \r\nL 349.249277 175.215856 \r\nL 349.502071 169.406198 \r\nL 349.754864 179.226326 \r\nL 350.007658 174.7788 \r\nL 350.260452 168.230912 \r\nL 350.513246 156.850226 \r\nL 351.018833 212.348733 \r\nL 351.271627 190.107229 \r\nL 351.52442 198.823072 \r\nL 352.030008 161.741151 \r\nL 352.282802 153.988551 \r\nL 352.535595 210.147627 \r\nL 352.788389 194.783129 \r\nL 353.041183 197.586149 \r\nL 353.293977 157.571227 \r\nL 353.54677 201.13752 \r\nL 353.799564 197.933364 \r\nL 354.305151 139.044754 \r\nL 354.557945 160.856909 \r\nL 354.810739 194.798899 \r\nL 355.063533 178.092978 \r\nL 355.316326 202.295884 \r\nL 355.56912 176.139132 \r\nL 355.821914 173.973875 \r\nL 356.074707 201.508655 \r\nL 356.327501 151.356038 \r\nL 356.580295 153.500784 \r\nL 356.833089 140.987713 \r\nL 357.085882 199.293704 \r\nL 357.338676 172.695888 \r\nL 357.59147 182.739167 \r\nL 357.844263 185.065757 \r\nL 358.097057 172.008575 \r\nL 358.349851 171.884195 \r\nL 358.602645 200.84003 \r\nL 358.855438 157.498805 \r\nL 359.108232 171.727454 \r\nL 359.361026 151.606043 \r\nL 359.613819 162.048132 \r\nL 359.866613 187.901619 \r\nL 360.119407 148.112483 \r\nL 360.372201 165.870778 \r\nL 360.624994 195.273617 \r\nL 360.877788 186.9125 \r\nL 361.130582 183.182574 \r\nL 361.383375 186.797713 \r\nL 361.636169 193.303363 \r\nL 361.888963 229.874489 \r\nL 362.141757 150.349421 \r\nL 362.39455 194.312473 \r\nL 362.647344 167.790321 \r\nL 363.152932 191.96366 \r\nL 363.405725 176.633842 \r\nL 363.658519 198.396367 \r\nL 363.911313 179.042604 \r\nL 364.164106 175.070349 \r\nL 364.669694 200.976157 \r\nL 364.922488 200.773517 \r\nL 365.175281 184.70255 \r\nL 365.428075 204.943292 \r\nL 365.933662 197.501483 \r\nL 366.186456 208.192314 \r\nL 366.43925 172.807677 \r\nL 366.692044 196.027807 \r\nL 366.944837 191.75964 \r\nL 367.197631 163.686161 \r\nL 367.450425 206.285393 \r\nL 367.703218 147.28498 \r\nL 367.956012 194.944768 \r\nL 368.208806 162.984047 \r\nL 368.4616 193.758201 \r\nL 368.714393 172.1209 \r\nL 368.967187 177.124228 \r\nL 369.219981 158.461921 \r\nL 369.472774 189.305641 \r\nL 369.725568 162.056368 \r\nL 369.725568 162.056368 \r\n\" style=\"fill:none;stroke:#1f77b4;stroke-linecap:square;stroke-width:1.5;\"/>\r\n   </g>\r\n   <g id=\"patch_3\">\r\n    <path d=\"M 50.14375 239.758125 \r\nL 50.14375 22.318125 \r\n\" style=\"fill:none;stroke:#000000;stroke-linecap:square;stroke-linejoin:miter;stroke-width:0.8;\"/>\r\n   </g>\r\n   <g id=\"patch_4\">\r\n    <path d=\"M 384.94375 239.758125 \r\nL 384.94375 22.318125 \r\n\" style=\"fill:none;stroke:#000000;stroke-linecap:square;stroke-linejoin:miter;stroke-width:0.8;\"/>\r\n   </g>\r\n   <g id=\"patch_5\">\r\n    <path d=\"M 50.14375 239.758125 \r\nL 384.94375 239.758125 \r\n\" style=\"fill:none;stroke:#000000;stroke-linecap:square;stroke-linejoin:miter;stroke-width:0.8;\"/>\r\n   </g>\r\n   <g id=\"patch_6\">\r\n    <path d=\"M 50.14375 22.318125 \r\nL 384.94375 22.318125 \r\n\" style=\"fill:none;stroke:#000000;stroke-linecap:square;stroke-linejoin:miter;stroke-width:0.8;\"/>\r\n   </g>\r\n   <g id=\"text_18\">\r\n    <!-- train loss -->\r\n    <defs>\r\n     <path d=\"M 41.109375 46.296875 \r\nQ 39.59375 47.171875 37.8125 47.578125 \r\nQ 36.03125 48 33.890625 48 \r\nQ 26.265625 48 22.1875 43.046875 \r\nQ 18.109375 38.09375 18.109375 28.8125 \r\nL 18.109375 0 \r\nL 9.078125 0 \r\nL 9.078125 54.6875 \r\nL 18.109375 54.6875 \r\nL 18.109375 46.1875 \r\nQ 20.953125 51.171875 25.484375 53.578125 \r\nQ 30.03125 56 36.53125 56 \r\nQ 37.453125 56 38.578125 55.875 \r\nQ 39.703125 55.765625 41.0625 55.515625 \r\nz\r\n\" id=\"DejaVuSans-114\"/>\r\n     <path d=\"M 9.421875 54.6875 \r\nL 18.40625 54.6875 \r\nL 18.40625 0 \r\nL 9.421875 0 \r\nz\r\nM 9.421875 75.984375 \r\nL 18.40625 75.984375 \r\nL 18.40625 64.59375 \r\nL 9.421875 64.59375 \r\nz\r\n\" id=\"DejaVuSans-105\"/>\r\n    </defs>\r\n    <g transform=\"translate(190.0825 16.318125)scale(0.12 -0.12)\">\r\n     <use xlink:href=\"#DejaVuSans-116\"/>\r\n     <use x=\"39.208984\" xlink:href=\"#DejaVuSans-114\"/>\r\n     <use x=\"80.322266\" xlink:href=\"#DejaVuSans-97\"/>\r\n     <use x=\"141.601562\" xlink:href=\"#DejaVuSans-105\"/>\r\n     <use x=\"169.384766\" xlink:href=\"#DejaVuSans-110\"/>\r\n     <use x=\"232.763672\" xlink:href=\"#DejaVuSans-32\"/>\r\n     <use x=\"264.550781\" xlink:href=\"#DejaVuSans-108\"/>\r\n     <use x=\"292.333984\" xlink:href=\"#DejaVuSans-111\"/>\r\n     <use x=\"353.515625\" xlink:href=\"#DejaVuSans-115\"/>\r\n     <use x=\"405.615234\" xlink:href=\"#DejaVuSans-115\"/>\r\n    </g>\r\n   </g>\r\n   <g id=\"legend_1\">\r\n    <g id=\"patch_7\">\r\n     <path d=\"M 373.94375 35.318125 \r\nL 377.94375 35.318125 \r\nQ 379.94375 35.318125 379.94375 33.318125 \r\nL 379.94375 29.318125 \r\nQ 379.94375 27.318125 377.94375 27.318125 \r\nL 373.94375 27.318125 \r\nQ 371.94375 27.318125 371.94375 29.318125 \r\nL 371.94375 33.318125 \r\nQ 371.94375 35.318125 373.94375 35.318125 \r\nz\r\n\" style=\"fill:#ffffff;opacity:0.8;stroke:#cccccc;stroke-linejoin:miter;\"/>\r\n    </g>\r\n   </g>\r\n  </g>\r\n </g>\r\n <defs>\r\n  <clipPath id=\"p690bf1f829\">\r\n   <rect height=\"217.44\" width=\"334.8\" x=\"50.14375\" y=\"22.318125\"/>\r\n  </clipPath>\r\n </defs>\r\n</svg>\r\n",
      "image/png": "[encoded data removed]"
     },
     "metadata": {
      "needs_background": "light"
     }
    }
   ],
   "source": [
    "m.plot_loss(loss_his,'train loss','data num')"
   ]
  },
  {
   "cell_type": "code",
   "execution_count": 17,
   "metadata": {},
   "outputs": [
    {
     "output_type": "stream",
     "name": "stderr",
     "text": "No handles with labels found to put in legend.\n"
    },
    {
     "output_type": "display_data",
     "data": {
      "text/plain": "<Figure size 432x288 with 1 Axes>",
      "image/svg+xml": "<?xml version=\"1.0\" encoding=\"utf-8\" standalone=\"no\"?>\r\n<!DOCTYPE svg PUBLIC \"-//W3C//DTD SVG 1.1//EN\"\r\n  \"http://www.w3.org/Graphics/SVG/1.1/DTD/svg11.dtd\">\r\n<!-- Created with matplotlib (https://matplotlib.org/) -->\r\n<svg height=\"277.314375pt\" version=\"1.1\" viewBox=\"0 0 392.14375 277.314375\" width=\"392.14375pt\" xmlns=\"http://www.w3.org/2000/svg\" xmlns:xlink=\"http://www.w3.org/1999/xlink\">\r\n <defs>\r\n  <style type=\"text/css\">\r\n*{stroke-linecap:butt;stroke-linejoin:round;}\r\n  </style>\r\n </defs>\r\n <g id=\"figure_1\">\r\n  <g id=\"patch_1\">\r\n   <path d=\"M 0 277.314375 \r\nL 392.14375 277.314375 \r\nL 392.14375 0 \r\nL 0 0 \r\nz\r\n\" style=\"fill:none;\"/>\r\n  </g>\r\n  <g id=\"axes_1\">\r\n   <g id=\"patch_2\">\r\n    <path d=\"M 50.14375 239.758125 \r\nL 384.94375 239.758125 \r\nL 384.94375 22.318125 \r\nL 50.14375 22.318125 \r\nz\r\n\" style=\"fill:#ffffff;\"/>\r\n   </g>\r\n   <g id=\"matplotlib.axis_1\">\r\n    <g id=\"xtick_1\">\r\n     <g id=\"line2d_1\">\r\n      <defs>\r\n       <path d=\"M 0 0 \r\nL 0 3.5 \r\n\" id=\"m26bf4c75dc\" style=\"stroke:#000000;stroke-width:0.8;\"/>\r\n      </defs>\r\n      <g>\r\n       <use style=\"stroke:#000000;stroke-width:0.8;\" x=\"65.361932\" xlink:href=\"#m26bf4c75dc\" y=\"239.758125\"/>\r\n      </g>\r\n     </g>\r\n     <g id=\"text_1\">\r\n      <!-- 0 -->\r\n      <defs>\r\n       <path d=\"M 31.78125 66.40625 \r\nQ 24.171875 66.40625 20.328125 58.90625 \r\nQ 16.5 51.421875 16.5 36.375 \r\nQ 16.5 21.390625 20.328125 13.890625 \r\nQ 24.171875 6.390625 31.78125 6.390625 \r\nQ 39.453125 6.390625 43.28125 13.890625 \r\nQ 47.125 21.390625 47.125 36.375 \r\nQ 47.125 51.421875 43.28125 58.90625 \r\nQ 39.453125 66.40625 31.78125 66.40625 \r\nz\r\nM 31.78125 74.21875 \r\nQ 44.046875 74.21875 50.515625 64.515625 \r\nQ 56.984375 54.828125 56.984375 36.375 \r\nQ 56.984375 17.96875 50.515625 8.265625 \r\nQ 44.046875 -1.421875 31.78125 -1.421875 \r\nQ 19.53125 -1.421875 13.0625 8.265625 \r\nQ 6.59375 17.96875 6.59375 36.375 \r\nQ 6.59375 54.828125 13.0625 64.515625 \r\nQ 19.53125 74.21875 31.78125 74.21875 \r\nz\r\n\" id=\"DejaVuSans-48\"/>\r\n      </defs>\r\n      <g transform=\"translate(62.180682 254.356562)scale(0.1 -0.1)\">\r\n       <use xlink:href=\"#DejaVuSans-48\"/>\r\n      </g>\r\n     </g>\r\n    </g>\r\n    <g id=\"xtick_2\">\r\n     <g id=\"line2d_2\">\r\n      <g>\r\n       <use style=\"stroke:#000000;stroke-width:0.8;\" x=\"79.196643\" xlink:href=\"#m26bf4c75dc\" y=\"239.758125\"/>\r\n      </g>\r\n     </g>\r\n     <g id=\"text_2\">\r\n      <!-- 1 -->\r\n      <defs>\r\n       <path d=\"M 12.40625 8.296875 \r\nL 28.515625 8.296875 \r\nL 28.515625 63.921875 \r\nL 10.984375 60.40625 \r\nL 10.984375 69.390625 \r\nL 28.421875 72.90625 \r\nL 38.28125 72.90625 \r\nL 38.28125 8.296875 \r\nL 54.390625 8.296875 \r\nL 54.390625 0 \r\nL 12.40625 0 \r\nz\r\n\" id=\"DejaVuSans-49\"/>\r\n      </defs>\r\n      <g transform=\"translate(76.015393 254.356562)scale(0.1 -0.1)\">\r\n       <use xlink:href=\"#DejaVuSans-49\"/>\r\n      </g>\r\n     </g>\r\n    </g>\r\n    <g id=\"xtick_3\">\r\n     <g id=\"line2d_3\">\r\n      <g>\r\n       <use style=\"stroke:#000000;stroke-width:0.8;\" x=\"93.031353\" xlink:href=\"#m26bf4c75dc\" y=\"239.758125\"/>\r\n      </g>\r\n     </g>\r\n     <g id=\"text_3\">\r\n      <!-- 2 -->\r\n      <defs>\r\n       <path d=\"M 19.1875 8.296875 \r\nL 53.609375 8.296875 \r\nL 53.609375 0 \r\nL 7.328125 0 \r\nL 7.328125 8.296875 \r\nQ 12.9375 14.109375 22.625 23.890625 \r\nQ 32.328125 33.6875 34.8125 36.53125 \r\nQ 39.546875 41.84375 41.421875 45.53125 \r\nQ 43.3125 49.21875 43.3125 52.78125 \r\nQ 43.3125 58.59375 39.234375 62.25 \r\nQ 35.15625 65.921875 28.609375 65.921875 \r\nQ 23.96875 65.921875 18.8125 64.3125 \r\nQ 13.671875 62.703125 7.8125 59.421875 \r\nL 7.8125 69.390625 \r\nQ 13.765625 71.78125 18.9375 73 \r\nQ 24.125 74.21875 28.421875 74.21875 \r\nQ 39.75 74.21875 46.484375 68.546875 \r\nQ 53.21875 62.890625 53.21875 53.421875 \r\nQ 53.21875 48.921875 51.53125 44.890625 \r\nQ 49.859375 40.875 45.40625 35.40625 \r\nQ 44.1875 33.984375 37.640625 27.21875 \r\nQ 31.109375 20.453125 19.1875 8.296875 \r\nz\r\n\" id=\"DejaVuSans-50\"/>\r\n      </defs>\r\n      <g transform=\"translate(89.850103 254.356562)scale(0.1 -0.1)\">\r\n       <use xlink:href=\"#DejaVuSans-50\"/>\r\n      </g>\r\n     </g>\r\n    </g>\r\n    <g id=\"xtick_4\">\r\n     <g id=\"line2d_4\">\r\n      <g>\r\n       <use style=\"stroke:#000000;stroke-width:0.8;\" x=\"106.866064\" xlink:href=\"#m26bf4c75dc\" y=\"239.758125\"/>\r\n      </g>\r\n     </g>\r\n     <g id=\"text_4\">\r\n      <!-- 3 -->\r\n      <defs>\r\n       <path d=\"M 40.578125 39.3125 \r\nQ 47.65625 37.796875 51.625 33 \r\nQ 55.609375 28.21875 55.609375 21.1875 \r\nQ 55.609375 10.40625 48.1875 4.484375 \r\nQ 40.765625 -1.421875 27.09375 -1.421875 \r\nQ 22.515625 -1.421875 17.65625 -0.515625 \r\nQ 12.796875 0.390625 7.625 2.203125 \r\nL 7.625 11.71875 \r\nQ 11.71875 9.328125 16.59375 8.109375 \r\nQ 21.484375 6.890625 26.8125 6.890625 \r\nQ 36.078125 6.890625 40.9375 10.546875 \r\nQ 45.796875 14.203125 45.796875 21.1875 \r\nQ 45.796875 27.640625 41.28125 31.265625 \r\nQ 36.765625 34.90625 28.71875 34.90625 \r\nL 20.21875 34.90625 \r\nL 20.21875 43.015625 \r\nL 29.109375 43.015625 \r\nQ 36.375 43.015625 40.234375 45.921875 \r\nQ 44.09375 48.828125 44.09375 54.296875 \r\nQ 44.09375 59.90625 40.109375 62.90625 \r\nQ 36.140625 65.921875 28.71875 65.921875 \r\nQ 24.65625 65.921875 20.015625 65.03125 \r\nQ 15.375 64.15625 9.8125 62.3125 \r\nL 9.8125 71.09375 \r\nQ 15.4375 72.65625 20.34375 73.4375 \r\nQ 25.25 74.21875 29.59375 74.21875 \r\nQ 40.828125 74.21875 47.359375 69.109375 \r\nQ 53.90625 64.015625 53.90625 55.328125 \r\nQ 53.90625 49.265625 50.4375 45.09375 \r\nQ 46.96875 40.921875 40.578125 39.3125 \r\nz\r\n\" id=\"DejaVuSans-51\"/>\r\n      </defs>\r\n      <g transform=\"translate(103.684814 254.356562)scale(0.1 -0.1)\">\r\n       <use xlink:href=\"#DejaVuSans-51\"/>\r\n      </g>\r\n     </g>\r\n    </g>\r\n    <g id=\"xtick_5\">\r\n     <g id=\"line2d_5\">\r\n      <g>\r\n       <use style=\"stroke:#000000;stroke-width:0.8;\" x=\"120.700775\" xlink:href=\"#m26bf4c75dc\" y=\"239.758125\"/>\r\n      </g>\r\n     </g>\r\n     <g id=\"text_5\">\r\n      <!-- 4 -->\r\n      <defs>\r\n       <path d=\"M 37.796875 64.3125 \r\nL 12.890625 25.390625 \r\nL 37.796875 25.390625 \r\nz\r\nM 35.203125 72.90625 \r\nL 47.609375 72.90625 \r\nL 47.609375 25.390625 \r\nL 58.015625 25.390625 \r\nL 58.015625 17.1875 \r\nL 47.609375 17.1875 \r\nL 47.609375 0 \r\nL 37.796875 0 \r\nL 37.796875 17.1875 \r\nL 4.890625 17.1875 \r\nL 4.890625 26.703125 \r\nz\r\n\" id=\"DejaVuSans-52\"/>\r\n      </defs>\r\n      <g transform=\"translate(117.519525 254.356562)scale(0.1 -0.1)\">\r\n       <use xlink:href=\"#DejaVuSans-52\"/>\r\n      </g>\r\n     </g>\r\n    </g>\r\n    <g id=\"xtick_6\">\r\n     <g id=\"line2d_6\">\r\n      <g>\r\n       <use style=\"stroke:#000000;stroke-width:0.8;\" x=\"134.535486\" xlink:href=\"#m26bf4c75dc\" y=\"239.758125\"/>\r\n      </g>\r\n     </g>\r\n     <g id=\"text_6\">\r\n      <!-- 5 -->\r\n      <defs>\r\n       <path d=\"M 10.796875 72.90625 \r\nL 49.515625 72.90625 \r\nL 49.515625 64.59375 \r\nL 19.828125 64.59375 \r\nL 19.828125 46.734375 \r\nQ 21.96875 47.46875 24.109375 47.828125 \r\nQ 26.265625 48.1875 28.421875 48.1875 \r\nQ 40.625 48.1875 47.75 41.5 \r\nQ 54.890625 34.8125 54.890625 23.390625 \r\nQ 54.890625 11.625 47.5625 5.09375 \r\nQ 40.234375 -1.421875 26.90625 -1.421875 \r\nQ 22.3125 -1.421875 17.546875 -0.640625 \r\nQ 12.796875 0.140625 7.71875 1.703125 \r\nL 7.71875 11.625 \r\nQ 12.109375 9.234375 16.796875 8.0625 \r\nQ 21.484375 6.890625 26.703125 6.890625 \r\nQ 35.15625 6.890625 40.078125 11.328125 \r\nQ 45.015625 15.765625 45.015625 23.390625 \r\nQ 45.015625 31 40.078125 35.4375 \r\nQ 35.15625 39.890625 26.703125 39.890625 \r\nQ 22.75 39.890625 18.8125 39.015625 \r\nQ 14.890625 38.140625 10.796875 36.28125 \r\nz\r\n\" id=\"DejaVuSans-53\"/>\r\n      </defs>\r\n      <g transform=\"translate(131.354236 254.356562)scale(0.1 -0.1)\">\r\n       <use xlink:href=\"#DejaVuSans-53\"/>\r\n      </g>\r\n     </g>\r\n    </g>\r\n    <g id=\"xtick_7\">\r\n     <g id=\"line2d_7\">\r\n      <g>\r\n       <use style=\"stroke:#000000;stroke-width:0.8;\" x=\"148.370196\" xlink:href=\"#m26bf4c75dc\" y=\"239.758125\"/>\r\n      </g>\r\n     </g>\r\n     <g id=\"text_7\">\r\n      <!-- 6 -->\r\n      <defs>\r\n       <path d=\"M 33.015625 40.375 \r\nQ 26.375 40.375 22.484375 35.828125 \r\nQ 18.609375 31.296875 18.609375 23.390625 \r\nQ 18.609375 15.53125 22.484375 10.953125 \r\nQ 26.375 6.390625 33.015625 6.390625 \r\nQ 39.65625 6.390625 43.53125 10.953125 \r\nQ 47.40625 15.53125 47.40625 23.390625 \r\nQ 47.40625 31.296875 43.53125 35.828125 \r\nQ 39.65625 40.375 33.015625 40.375 \r\nz\r\nM 52.59375 71.296875 \r\nL 52.59375 62.3125 \r\nQ 48.875 64.0625 45.09375 64.984375 \r\nQ 41.3125 65.921875 37.59375 65.921875 \r\nQ 27.828125 65.921875 22.671875 59.328125 \r\nQ 17.53125 52.734375 16.796875 39.40625 \r\nQ 19.671875 43.65625 24.015625 45.921875 \r\nQ 28.375 48.1875 33.59375 48.1875 \r\nQ 44.578125 48.1875 50.953125 41.515625 \r\nQ 57.328125 34.859375 57.328125 23.390625 \r\nQ 57.328125 12.15625 50.6875 5.359375 \r\nQ 44.046875 -1.421875 33.015625 -1.421875 \r\nQ 20.359375 -1.421875 13.671875 8.265625 \r\nQ 6.984375 17.96875 6.984375 36.375 \r\nQ 6.984375 53.65625 15.1875 63.9375 \r\nQ 23.390625 74.21875 37.203125 74.21875 \r\nQ 40.921875 74.21875 44.703125 73.484375 \r\nQ 48.484375 72.75 52.59375 71.296875 \r\nz\r\n\" id=\"DejaVuSans-54\"/>\r\n      </defs>\r\n      <g transform=\"translate(145.188946 254.356562)scale(0.1 -0.1)\">\r\n       <use xlink:href=\"#DejaVuSans-54\"/>\r\n      </g>\r\n     </g>\r\n    </g>\r\n    <g id=\"xtick_8\">\r\n     <g id=\"line2d_8\">\r\n      <g>\r\n       <use style=\"stroke:#000000;stroke-width:0.8;\" x=\"162.204907\" xlink:href=\"#m26bf4c75dc\" y=\"239.758125\"/>\r\n      </g>\r\n     </g>\r\n     <g id=\"text_8\">\r\n      <!-- 7 -->\r\n      <defs>\r\n       <path d=\"M 8.203125 72.90625 \r\nL 55.078125 72.90625 \r\nL 55.078125 68.703125 \r\nL 28.609375 0 \r\nL 18.3125 0 \r\nL 43.21875 64.59375 \r\nL 8.203125 64.59375 \r\nz\r\n\" id=\"DejaVuSans-55\"/>\r\n      </defs>\r\n      <g transform=\"translate(159.023657 254.356562)scale(0.1 -0.1)\">\r\n       <use xlink:href=\"#DejaVuSans-55\"/>\r\n      </g>\r\n     </g>\r\n    </g>\r\n    <g id=\"xtick_9\">\r\n     <g id=\"line2d_9\">\r\n      <g>\r\n       <use style=\"stroke:#000000;stroke-width:0.8;\" x=\"176.039618\" xlink:href=\"#m26bf4c75dc\" y=\"239.758125\"/>\r\n      </g>\r\n     </g>\r\n     <g id=\"text_9\">\r\n      <!-- 8 -->\r\n      <defs>\r\n       <path d=\"M 31.78125 34.625 \r\nQ 24.75 34.625 20.71875 30.859375 \r\nQ 16.703125 27.09375 16.703125 20.515625 \r\nQ 16.703125 13.921875 20.71875 10.15625 \r\nQ 24.75 6.390625 31.78125 6.390625 \r\nQ 38.8125 6.390625 42.859375 10.171875 \r\nQ 46.921875 13.96875 46.921875 20.515625 \r\nQ 46.921875 27.09375 42.890625 30.859375 \r\nQ 38.875 34.625 31.78125 34.625 \r\nz\r\nM 21.921875 38.8125 \r\nQ 15.578125 40.375 12.03125 44.71875 \r\nQ 8.5 49.078125 8.5 55.328125 \r\nQ 8.5 64.0625 14.71875 69.140625 \r\nQ 20.953125 74.21875 31.78125 74.21875 \r\nQ 42.671875 74.21875 48.875 69.140625 \r\nQ 55.078125 64.0625 55.078125 55.328125 \r\nQ 55.078125 49.078125 51.53125 44.71875 \r\nQ 48 40.375 41.703125 38.8125 \r\nQ 48.828125 37.15625 52.796875 32.3125 \r\nQ 56.78125 27.484375 56.78125 20.515625 \r\nQ 56.78125 9.90625 50.3125 4.234375 \r\nQ 43.84375 -1.421875 31.78125 -1.421875 \r\nQ 19.734375 -1.421875 13.25 4.234375 \r\nQ 6.78125 9.90625 6.78125 20.515625 \r\nQ 6.78125 27.484375 10.78125 32.3125 \r\nQ 14.796875 37.15625 21.921875 38.8125 \r\nz\r\nM 18.3125 54.390625 \r\nQ 18.3125 48.734375 21.84375 45.5625 \r\nQ 25.390625 42.390625 31.78125 42.390625 \r\nQ 38.140625 42.390625 41.71875 45.5625 \r\nQ 45.3125 48.734375 45.3125 54.390625 \r\nQ 45.3125 60.0625 41.71875 63.234375 \r\nQ 38.140625 66.40625 31.78125 66.40625 \r\nQ 25.390625 66.40625 21.84375 63.234375 \r\nQ 18.3125 60.0625 18.3125 54.390625 \r\nz\r\n\" id=\"DejaVuSans-56\"/>\r\n      </defs>\r\n      <g transform=\"translate(172.858368 254.356562)scale(0.1 -0.1)\">\r\n       <use xlink:href=\"#DejaVuSans-56\"/>\r\n      </g>\r\n     </g>\r\n    </g>\r\n    <g id=\"xtick_10\">\r\n     <g id=\"line2d_10\">\r\n      <g>\r\n       <use style=\"stroke:#000000;stroke-width:0.8;\" x=\"189.874329\" xlink:href=\"#m26bf4c75dc\" y=\"239.758125\"/>\r\n      </g>\r\n     </g>\r\n     <g id=\"text_10\">\r\n      <!-- 9 -->\r\n      <defs>\r\n       <path d=\"M 10.984375 1.515625 \r\nL 10.984375 10.5 \r\nQ 14.703125 8.734375 18.5 7.8125 \r\nQ 22.3125 6.890625 25.984375 6.890625 \r\nQ 35.75 6.890625 40.890625 13.453125 \r\nQ 46.046875 20.015625 46.78125 33.40625 \r\nQ 43.953125 29.203125 39.59375 26.953125 \r\nQ 35.25 24.703125 29.984375 24.703125 \r\nQ 19.046875 24.703125 12.671875 31.3125 \r\nQ 6.296875 37.9375 6.296875 49.421875 \r\nQ 6.296875 60.640625 12.9375 67.421875 \r\nQ 19.578125 74.21875 30.609375 74.21875 \r\nQ 43.265625 74.21875 49.921875 64.515625 \r\nQ 56.59375 54.828125 56.59375 36.375 \r\nQ 56.59375 19.140625 48.40625 8.859375 \r\nQ 40.234375 -1.421875 26.421875 -1.421875 \r\nQ 22.703125 -1.421875 18.890625 -0.6875 \r\nQ 15.09375 0.046875 10.984375 1.515625 \r\nz\r\nM 30.609375 32.421875 \r\nQ 37.25 32.421875 41.125 36.953125 \r\nQ 45.015625 41.5 45.015625 49.421875 \r\nQ 45.015625 57.28125 41.125 61.84375 \r\nQ 37.25 66.40625 30.609375 66.40625 \r\nQ 23.96875 66.40625 20.09375 61.84375 \r\nQ 16.21875 57.28125 16.21875 49.421875 \r\nQ 16.21875 41.5 20.09375 36.953125 \r\nQ 23.96875 32.421875 30.609375 32.421875 \r\nz\r\n\" id=\"DejaVuSans-57\"/>\r\n      </defs>\r\n      <g transform=\"translate(186.693079 254.356562)scale(0.1 -0.1)\">\r\n       <use xlink:href=\"#DejaVuSans-57\"/>\r\n      </g>\r\n     </g>\r\n    </g>\r\n    <g id=\"xtick_11\">\r\n     <g id=\"line2d_11\">\r\n      <g>\r\n       <use style=\"stroke:#000000;stroke-width:0.8;\" x=\"203.709039\" xlink:href=\"#m26bf4c75dc\" y=\"239.758125\"/>\r\n      </g>\r\n     </g>\r\n     <g id=\"text_11\">\r\n      <!-- 10 -->\r\n      <g transform=\"translate(197.346539 254.356562)scale(0.1 -0.1)\">\r\n       <use xlink:href=\"#DejaVuSans-49\"/>\r\n       <use x=\"63.623047\" xlink:href=\"#DejaVuSans-48\"/>\r\n      </g>\r\n     </g>\r\n    </g>\r\n    <g id=\"xtick_12\">\r\n     <g id=\"line2d_12\">\r\n      <g>\r\n       <use style=\"stroke:#000000;stroke-width:0.8;\" x=\"217.54375\" xlink:href=\"#m26bf4c75dc\" y=\"239.758125\"/>\r\n      </g>\r\n     </g>\r\n     <g id=\"text_12\">\r\n      <!-- 11 -->\r\n      <g transform=\"translate(211.18125 254.356562)scale(0.1 -0.1)\">\r\n       <use xlink:href=\"#DejaVuSans-49\"/>\r\n       <use x=\"63.623047\" xlink:href=\"#DejaVuSans-49\"/>\r\n      </g>\r\n     </g>\r\n    </g>\r\n    <g id=\"xtick_13\">\r\n     <g id=\"line2d_13\">\r\n      <g>\r\n       <use style=\"stroke:#000000;stroke-width:0.8;\" x=\"231.378461\" xlink:href=\"#m26bf4c75dc\" y=\"239.758125\"/>\r\n      </g>\r\n     </g>\r\n     <g id=\"text_13\">\r\n      <!-- 12 -->\r\n      <g transform=\"translate(225.015961 254.356562)scale(0.1 -0.1)\">\r\n       <use xlink:href=\"#DejaVuSans-49\"/>\r\n       <use x=\"63.623047\" xlink:href=\"#DejaVuSans-50\"/>\r\n      </g>\r\n     </g>\r\n    </g>\r\n    <g id=\"xtick_14\">\r\n     <g id=\"line2d_14\">\r\n      <g>\r\n       <use style=\"stroke:#000000;stroke-width:0.8;\" x=\"245.213171\" xlink:href=\"#m26bf4c75dc\" y=\"239.758125\"/>\r\n      </g>\r\n     </g>\r\n     <g id=\"text_14\">\r\n      <!-- 13 -->\r\n      <g transform=\"translate(238.850671 254.356562)scale(0.1 -0.1)\">\r\n       <use xlink:href=\"#DejaVuSans-49\"/>\r\n       <use x=\"63.623047\" xlink:href=\"#DejaVuSans-51\"/>\r\n      </g>\r\n     </g>\r\n    </g>\r\n    <g id=\"xtick_15\">\r\n     <g id=\"line2d_15\">\r\n      <g>\r\n       <use style=\"stroke:#000000;stroke-width:0.8;\" x=\"259.047882\" xlink:href=\"#m26bf4c75dc\" y=\"239.758125\"/>\r\n      </g>\r\n     </g>\r\n     <g id=\"text_15\">\r\n      <!-- 14 -->\r\n      <g transform=\"translate(252.685382 254.356562)scale(0.1 -0.1)\">\r\n       <use xlink:href=\"#DejaVuSans-49\"/>\r\n       <use x=\"63.623047\" xlink:href=\"#DejaVuSans-52\"/>\r\n      </g>\r\n     </g>\r\n    </g>\r\n    <g id=\"xtick_16\">\r\n     <g id=\"line2d_16\">\r\n      <g>\r\n       <use style=\"stroke:#000000;stroke-width:0.8;\" x=\"272.882593\" xlink:href=\"#m26bf4c75dc\" y=\"239.758125\"/>\r\n      </g>\r\n     </g>\r\n     <g id=\"text_16\">\r\n      <!-- 15 -->\r\n      <g transform=\"translate(266.520093 254.356562)scale(0.1 -0.1)\">\r\n       <use xlink:href=\"#DejaVuSans-49\"/>\r\n       <use x=\"63.623047\" xlink:href=\"#DejaVuSans-53\"/>\r\n      </g>\r\n     </g>\r\n    </g>\r\n    <g id=\"xtick_17\">\r\n     <g id=\"line2d_17\">\r\n      <g>\r\n       <use style=\"stroke:#000000;stroke-width:0.8;\" x=\"286.717304\" xlink:href=\"#m26bf4c75dc\" y=\"239.758125\"/>\r\n      </g>\r\n     </g>\r\n     <g id=\"text_17\">\r\n      <!-- 16 -->\r\n      <g transform=\"translate(280.354804 254.356562)scale(0.1 -0.1)\">\r\n       <use xlink:href=\"#DejaVuSans-49\"/>\r\n       <use x=\"63.623047\" xlink:href=\"#DejaVuSans-54\"/>\r\n      </g>\r\n     </g>\r\n    </g>\r\n    <g id=\"xtick_18\">\r\n     <g id=\"line2d_18\">\r\n      <g>\r\n       <use style=\"stroke:#000000;stroke-width:0.8;\" x=\"300.552014\" xlink:href=\"#m26bf4c75dc\" y=\"239.758125\"/>\r\n      </g>\r\n     </g>\r\n     <g id=\"text_18\">\r\n      <!-- 17 -->\r\n      <g transform=\"translate(294.189514 254.356562)scale(0.1 -0.1)\">\r\n       <use xlink:href=\"#DejaVuSans-49\"/>\r\n       <use x=\"63.623047\" xlink:href=\"#DejaVuSans-55\"/>\r\n      </g>\r\n     </g>\r\n    </g>\r\n    <g id=\"xtick_19\">\r\n     <g id=\"line2d_19\">\r\n      <g>\r\n       <use style=\"stroke:#000000;stroke-width:0.8;\" x=\"314.386725\" xlink:href=\"#m26bf4c75dc\" y=\"239.758125\"/>\r\n      </g>\r\n     </g>\r\n     <g id=\"text_19\">\r\n      <!-- 18 -->\r\n      <g transform=\"translate(308.024225 254.356562)scale(0.1 -0.1)\">\r\n       <use xlink:href=\"#DejaVuSans-49\"/>\r\n       <use x=\"63.623047\" xlink:href=\"#DejaVuSans-56\"/>\r\n      </g>\r\n     </g>\r\n    </g>\r\n    <g id=\"xtick_20\">\r\n     <g id=\"line2d_20\">\r\n      <g>\r\n       <use style=\"stroke:#000000;stroke-width:0.8;\" x=\"328.221436\" xlink:href=\"#m26bf4c75dc\" y=\"239.758125\"/>\r\n      </g>\r\n     </g>\r\n     <g id=\"text_20\">\r\n      <!-- 19 -->\r\n      <g transform=\"translate(321.858936 254.356562)scale(0.1 -0.1)\">\r\n       <use xlink:href=\"#DejaVuSans-49\"/>\r\n       <use x=\"63.623047\" xlink:href=\"#DejaVuSans-57\"/>\r\n      </g>\r\n     </g>\r\n    </g>\r\n    <g id=\"xtick_21\">\r\n     <g id=\"line2d_21\">\r\n      <g>\r\n       <use style=\"stroke:#000000;stroke-width:0.8;\" x=\"342.056147\" xlink:href=\"#m26bf4c75dc\" y=\"239.758125\"/>\r\n      </g>\r\n     </g>\r\n     <g id=\"text_21\">\r\n      <!-- 20 -->\r\n      <g transform=\"translate(335.693647 254.356562)scale(0.1 -0.1)\">\r\n       <use xlink:href=\"#DejaVuSans-50\"/>\r\n       <use x=\"63.623047\" xlink:href=\"#DejaVuSans-48\"/>\r\n      </g>\r\n     </g>\r\n    </g>\r\n    <g id=\"xtick_22\">\r\n     <g id=\"line2d_22\">\r\n      <g>\r\n       <use style=\"stroke:#000000;stroke-width:0.8;\" x=\"355.890857\" xlink:href=\"#m26bf4c75dc\" y=\"239.758125\"/>\r\n      </g>\r\n     </g>\r\n     <g id=\"text_22\">\r\n      <!-- 21 -->\r\n      <g transform=\"translate(349.528357 254.356562)scale(0.1 -0.1)\">\r\n       <use xlink:href=\"#DejaVuSans-50\"/>\r\n       <use x=\"63.623047\" xlink:href=\"#DejaVuSans-49\"/>\r\n      </g>\r\n     </g>\r\n    </g>\r\n    <g id=\"xtick_23\">\r\n     <g id=\"line2d_23\">\r\n      <g>\r\n       <use style=\"stroke:#000000;stroke-width:0.8;\" x=\"369.725568\" xlink:href=\"#m26bf4c75dc\" y=\"239.758125\"/>\r\n      </g>\r\n     </g>\r\n     <g id=\"text_23\">\r\n      <!-- 22 -->\r\n      <g transform=\"translate(363.363068 254.356562)scale(0.1 -0.1)\">\r\n       <use xlink:href=\"#DejaVuSans-50\"/>\r\n       <use x=\"63.623047\" xlink:href=\"#DejaVuSans-50\"/>\r\n      </g>\r\n     </g>\r\n    </g>\r\n    <g id=\"text_24\">\r\n     <!-- Epoch -->\r\n     <defs>\r\n      <path d=\"M 9.8125 72.90625 \r\nL 55.90625 72.90625 \r\nL 55.90625 64.59375 \r\nL 19.671875 64.59375 \r\nL 19.671875 43.015625 \r\nL 54.390625 43.015625 \r\nL 54.390625 34.71875 \r\nL 19.671875 34.71875 \r\nL 19.671875 8.296875 \r\nL 56.78125 8.296875 \r\nL 56.78125 0 \r\nL 9.8125 0 \r\nz\r\n\" id=\"DejaVuSans-69\"/>\r\n      <path d=\"M 18.109375 8.203125 \r\nL 18.109375 -20.796875 \r\nL 9.078125 -20.796875 \r\nL 9.078125 54.6875 \r\nL 18.109375 54.6875 \r\nL 18.109375 46.390625 \r\nQ 20.953125 51.265625 25.265625 53.625 \r\nQ 29.59375 56 35.59375 56 \r\nQ 45.5625 56 51.78125 48.09375 \r\nQ 58.015625 40.1875 58.015625 27.296875 \r\nQ 58.015625 14.40625 51.78125 6.484375 \r\nQ 45.5625 -1.421875 35.59375 -1.421875 \r\nQ 29.59375 -1.421875 25.265625 0.953125 \r\nQ 20.953125 3.328125 18.109375 8.203125 \r\nz\r\nM 48.6875 27.296875 \r\nQ 48.6875 37.203125 44.609375 42.84375 \r\nQ 40.53125 48.484375 33.40625 48.484375 \r\nQ 26.265625 48.484375 22.1875 42.84375 \r\nQ 18.109375 37.203125 18.109375 27.296875 \r\nQ 18.109375 17.390625 22.1875 11.75 \r\nQ 26.265625 6.109375 33.40625 6.109375 \r\nQ 40.53125 6.109375 44.609375 11.75 \r\nQ 48.6875 17.390625 48.6875 27.296875 \r\nz\r\n\" id=\"DejaVuSans-112\"/>\r\n      <path d=\"M 30.609375 48.390625 \r\nQ 23.390625 48.390625 19.1875 42.75 \r\nQ 14.984375 37.109375 14.984375 27.296875 \r\nQ 14.984375 17.484375 19.15625 11.84375 \r\nQ 23.34375 6.203125 30.609375 6.203125 \r\nQ 37.796875 6.203125 41.984375 11.859375 \r\nQ 46.1875 17.53125 46.1875 27.296875 \r\nQ 46.1875 37.015625 41.984375 42.703125 \r\nQ 37.796875 48.390625 30.609375 48.390625 \r\nz\r\nM 30.609375 56 \r\nQ 42.328125 56 49.015625 48.375 \r\nQ 55.71875 40.765625 55.71875 27.296875 \r\nQ 55.71875 13.875 49.015625 6.21875 \r\nQ 42.328125 -1.421875 30.609375 -1.421875 \r\nQ 18.84375 -1.421875 12.171875 6.21875 \r\nQ 5.515625 13.875 5.515625 27.296875 \r\nQ 5.515625 40.765625 12.171875 48.375 \r\nQ 18.84375 56 30.609375 56 \r\nz\r\n\" id=\"DejaVuSans-111\"/>\r\n      <path d=\"M 48.78125 52.59375 \r\nL 48.78125 44.1875 \r\nQ 44.96875 46.296875 41.140625 47.34375 \r\nQ 37.3125 48.390625 33.40625 48.390625 \r\nQ 24.65625 48.390625 19.8125 42.84375 \r\nQ 14.984375 37.3125 14.984375 27.296875 \r\nQ 14.984375 17.28125 19.8125 11.734375 \r\nQ 24.65625 6.203125 33.40625 6.203125 \r\nQ 37.3125 6.203125 41.140625 7.25 \r\nQ 44.96875 8.296875 48.78125 10.40625 \r\nL 48.78125 2.09375 \r\nQ 45.015625 0.34375 40.984375 -0.53125 \r\nQ 36.96875 -1.421875 32.421875 -1.421875 \r\nQ 20.0625 -1.421875 12.78125 6.34375 \r\nQ 5.515625 14.109375 5.515625 27.296875 \r\nQ 5.515625 40.671875 12.859375 48.328125 \r\nQ 20.21875 56 33.015625 56 \r\nQ 37.15625 56 41.109375 55.140625 \r\nQ 45.0625 54.296875 48.78125 52.59375 \r\nz\r\n\" id=\"DejaVuSans-99\"/>\r\n      <path d=\"M 54.890625 33.015625 \r\nL 54.890625 0 \r\nL 45.90625 0 \r\nL 45.90625 32.71875 \r\nQ 45.90625 40.484375 42.875 44.328125 \r\nQ 39.84375 48.1875 33.796875 48.1875 \r\nQ 26.515625 48.1875 22.3125 43.546875 \r\nQ 18.109375 38.921875 18.109375 30.90625 \r\nL 18.109375 0 \r\nL 9.078125 0 \r\nL 9.078125 75.984375 \r\nL 18.109375 75.984375 \r\nL 18.109375 46.1875 \r\nQ 21.34375 51.125 25.703125 53.5625 \r\nQ 30.078125 56 35.796875 56 \r\nQ 45.21875 56 50.046875 50.171875 \r\nQ 54.890625 44.34375 54.890625 33.015625 \r\nz\r\n\" id=\"DejaVuSans-104\"/>\r\n     </defs>\r\n     <g transform=\"translate(202.232813 268.034687)scale(0.1 -0.1)\">\r\n      <use xlink:href=\"#DejaVuSans-69\"/>\r\n      <use x=\"63.183594\" xlink:href=\"#DejaVuSans-112\"/>\r\n      <use x=\"126.660156\" xlink:href=\"#DejaVuSans-111\"/>\r\n      <use x=\"187.841797\" xlink:href=\"#DejaVuSans-99\"/>\r\n      <use x=\"242.822266\" xlink:href=\"#DejaVuSans-104\"/>\r\n     </g>\r\n    </g>\r\n   </g>\r\n   <g id=\"matplotlib.axis_2\">\r\n    <g id=\"ytick_1\">\r\n     <g id=\"line2d_24\">\r\n      <defs>\r\n       <path d=\"M 0 0 \r\nL -3.5 0 \r\n\" id=\"m80547ace25\" style=\"stroke:#000000;stroke-width:0.8;\"/>\r\n      </defs>\r\n      <g>\r\n       <use style=\"stroke:#000000;stroke-width:0.8;\" x=\"50.14375\" xlink:href=\"#m80547ace25\" y=\"213.515505\"/>\r\n      </g>\r\n     </g>\r\n     <g id=\"text_25\">\r\n      <!-- 0.65 -->\r\n      <defs>\r\n       <path d=\"M 10.6875 12.40625 \r\nL 21 12.40625 \r\nL 21 0 \r\nL 10.6875 0 \r\nz\r\n\" id=\"DejaVuSans-46\"/>\r\n      </defs>\r\n      <g transform=\"translate(20.878125 217.314724)scale(0.1 -0.1)\">\r\n       <use xlink:href=\"#DejaVuSans-48\"/>\r\n       <use x=\"63.623047\" xlink:href=\"#DejaVuSans-46\"/>\r\n       <use x=\"95.410156\" xlink:href=\"#DejaVuSans-54\"/>\r\n       <use x=\"159.033203\" xlink:href=\"#DejaVuSans-53\"/>\r\n      </g>\r\n     </g>\r\n    </g>\r\n    <g id=\"ytick_2\">\r\n     <g id=\"line2d_25\">\r\n      <g>\r\n       <use style=\"stroke:#000000;stroke-width:0.8;\" x=\"50.14375\" xlink:href=\"#m80547ace25\" y=\"175.819697\"/>\r\n      </g>\r\n     </g>\r\n     <g id=\"text_26\">\r\n      <!-- 0.70 -->\r\n      <g transform=\"translate(20.878125 179.618915)scale(0.1 -0.1)\">\r\n       <use xlink:href=\"#DejaVuSans-48\"/>\r\n       <use x=\"63.623047\" xlink:href=\"#DejaVuSans-46\"/>\r\n       <use x=\"95.410156\" xlink:href=\"#DejaVuSans-55\"/>\r\n       <use x=\"159.033203\" xlink:href=\"#DejaVuSans-48\"/>\r\n      </g>\r\n     </g>\r\n    </g>\r\n    <g id=\"ytick_3\">\r\n     <g id=\"line2d_26\">\r\n      <g>\r\n       <use style=\"stroke:#000000;stroke-width:0.8;\" x=\"50.14375\" xlink:href=\"#m80547ace25\" y=\"138.123889\"/>\r\n      </g>\r\n     </g>\r\n     <g id=\"text_27\">\r\n      <!-- 0.75 -->\r\n      <g transform=\"translate(20.878125 141.923107)scale(0.1 -0.1)\">\r\n       <use xlink:href=\"#DejaVuSans-48\"/>\r\n       <use x=\"63.623047\" xlink:href=\"#DejaVuSans-46\"/>\r\n       <use x=\"95.410156\" xlink:href=\"#DejaVuSans-55\"/>\r\n       <use x=\"159.033203\" xlink:href=\"#DejaVuSans-53\"/>\r\n      </g>\r\n     </g>\r\n    </g>\r\n    <g id=\"ytick_4\">\r\n     <g id=\"line2d_27\">\r\n      <g>\r\n       <use style=\"stroke:#000000;stroke-width:0.8;\" x=\"50.14375\" xlink:href=\"#m80547ace25\" y=\"100.42808\"/>\r\n      </g>\r\n     </g>\r\n     <g id=\"text_28\">\r\n      <!-- 0.80 -->\r\n      <g transform=\"translate(20.878125 104.227299)scale(0.1 -0.1)\">\r\n       <use xlink:href=\"#DejaVuSans-48\"/>\r\n       <use x=\"63.623047\" xlink:href=\"#DejaVuSans-46\"/>\r\n       <use x=\"95.410156\" xlink:href=\"#DejaVuSans-56\"/>\r\n       <use x=\"159.033203\" xlink:href=\"#DejaVuSans-48\"/>\r\n      </g>\r\n     </g>\r\n    </g>\r\n    <g id=\"ytick_5\">\r\n     <g id=\"line2d_28\">\r\n      <g>\r\n       <use style=\"stroke:#000000;stroke-width:0.8;\" x=\"50.14375\" xlink:href=\"#m80547ace25\" y=\"62.732272\"/>\r\n      </g>\r\n     </g>\r\n     <g id=\"text_29\">\r\n      <!-- 0.85 -->\r\n      <g transform=\"translate(20.878125 66.531491)scale(0.1 -0.1)\">\r\n       <use xlink:href=\"#DejaVuSans-48\"/>\r\n       <use x=\"63.623047\" xlink:href=\"#DejaVuSans-46\"/>\r\n       <use x=\"95.410156\" xlink:href=\"#DejaVuSans-56\"/>\r\n       <use x=\"159.033203\" xlink:href=\"#DejaVuSans-53\"/>\r\n      </g>\r\n     </g>\r\n    </g>\r\n    <g id=\"ytick_6\">\r\n     <g id=\"line2d_29\">\r\n      <g>\r\n       <use style=\"stroke:#000000;stroke-width:0.8;\" x=\"50.14375\" xlink:href=\"#m80547ace25\" y=\"25.036464\"/>\r\n      </g>\r\n     </g>\r\n     <g id=\"text_30\">\r\n      <!-- 0.90 -->\r\n      <g transform=\"translate(20.878125 28.835683)scale(0.1 -0.1)\">\r\n       <use xlink:href=\"#DejaVuSans-48\"/>\r\n       <use x=\"63.623047\" xlink:href=\"#DejaVuSans-46\"/>\r\n       <use x=\"95.410156\" xlink:href=\"#DejaVuSans-57\"/>\r\n       <use x=\"159.033203\" xlink:href=\"#DejaVuSans-48\"/>\r\n      </g>\r\n     </g>\r\n    </g>\r\n    <g id=\"text_31\">\r\n     <!-- loss -->\r\n     <defs>\r\n      <path d=\"M 9.421875 75.984375 \r\nL 18.40625 75.984375 \r\nL 18.40625 0 \r\nL 9.421875 0 \r\nz\r\n\" id=\"DejaVuSans-108\"/>\r\n      <path d=\"M 44.28125 53.078125 \r\nL 44.28125 44.578125 \r\nQ 40.484375 46.53125 36.375 47.5 \r\nQ 32.28125 48.484375 27.875 48.484375 \r\nQ 21.1875 48.484375 17.84375 46.4375 \r\nQ 14.5 44.390625 14.5 40.28125 \r\nQ 14.5 37.15625 16.890625 35.375 \r\nQ 19.28125 33.59375 26.515625 31.984375 \r\nL 29.59375 31.296875 \r\nQ 39.15625 29.25 43.1875 25.515625 \r\nQ 47.21875 21.78125 47.21875 15.09375 \r\nQ 47.21875 7.46875 41.1875 3.015625 \r\nQ 35.15625 -1.421875 24.609375 -1.421875 \r\nQ 20.21875 -1.421875 15.453125 -0.5625 \r\nQ 10.6875 0.296875 5.421875 2 \r\nL 5.421875 11.28125 \r\nQ 10.40625 8.6875 15.234375 7.390625 \r\nQ 20.0625 6.109375 24.8125 6.109375 \r\nQ 31.15625 6.109375 34.5625 8.28125 \r\nQ 37.984375 10.453125 37.984375 14.40625 \r\nQ 37.984375 18.0625 35.515625 20.015625 \r\nQ 33.0625 21.96875 24.703125 23.78125 \r\nL 21.578125 24.515625 \r\nQ 13.234375 26.265625 9.515625 29.90625 \r\nQ 5.8125 33.546875 5.8125 39.890625 \r\nQ 5.8125 47.609375 11.28125 51.796875 \r\nQ 16.75 56 26.8125 56 \r\nQ 31.78125 56 36.171875 55.265625 \r\nQ 40.578125 54.546875 44.28125 53.078125 \r\nz\r\n\" id=\"DejaVuSans-115\"/>\r\n     </defs>\r\n     <g transform=\"translate(14.798438 140.695937)rotate(-90)scale(0.1 -0.1)\">\r\n      <use xlink:href=\"#DejaVuSans-108\"/>\r\n      <use x=\"27.783203\" xlink:href=\"#DejaVuSans-111\"/>\r\n      <use x=\"88.964844\" xlink:href=\"#DejaVuSans-115\"/>\r\n      <use x=\"141.064453\" xlink:href=\"#DejaVuSans-115\"/>\r\n     </g>\r\n    </g>\r\n   </g>\r\n   <g id=\"line2d_30\">\r\n    <path clip-path=\"url(#pc9f07c4350)\" d=\"M 65.361932 193.558774 \r\nL 79.196643 223.830879 \r\nL 93.031353 191.641316 \r\nL 106.866064 229.874489 \r\nL 120.700775 196.722781 \r\nL 134.535486 145.258611 \r\nL 148.370196 148.88421 \r\nL 162.204907 147.838618 \r\nL 176.039618 189.414468 \r\nL 189.874329 149.5464 \r\nL 203.709039 149.054881 \r\nL 217.54375 133.494354 \r\nL 231.378461 159.274387 \r\nL 245.213171 139.564431 \r\nL 259.047882 119.650956 \r\nL 272.882593 157.767158 \r\nL 286.717304 100.17629 \r\nL 300.552014 98.127841 \r\nL 314.386725 36.948671 \r\nL 328.221436 92.09996 \r\nL 342.056147 119.805584 \r\nL 355.890857 32.201761 \r\nL 369.725568 43.348136 \r\n\" style=\"fill:none;stroke:#1f77b4;stroke-linecap:square;stroke-width:1.5;\"/>\r\n   </g>\r\n   <g id=\"patch_3\">\r\n    <path d=\"M 50.14375 239.758125 \r\nL 50.14375 22.318125 \r\n\" style=\"fill:none;stroke:#000000;stroke-linecap:square;stroke-linejoin:miter;stroke-width:0.8;\"/>\r\n   </g>\r\n   <g id=\"patch_4\">\r\n    <path d=\"M 384.94375 239.758125 \r\nL 384.94375 22.318125 \r\n\" style=\"fill:none;stroke:#000000;stroke-linecap:square;stroke-linejoin:miter;stroke-width:0.8;\"/>\r\n   </g>\r\n   <g id=\"patch_5\">\r\n    <path d=\"M 50.14375 239.758125 \r\nL 384.94375 239.758125 \r\n\" style=\"fill:none;stroke:#000000;stroke-linecap:square;stroke-linejoin:miter;stroke-width:0.8;\"/>\r\n   </g>\r\n   <g id=\"patch_6\">\r\n    <path d=\"M 50.14375 22.318125 \r\nL 384.94375 22.318125 \r\n\" style=\"fill:none;stroke:#000000;stroke-linecap:square;stroke-linejoin:miter;stroke-width:0.8;\"/>\r\n   </g>\r\n   <g id=\"text_32\">\r\n    <!-- val loss -->\r\n    <defs>\r\n     <path d=\"M 2.984375 54.6875 \r\nL 12.5 54.6875 \r\nL 29.59375 8.796875 \r\nL 46.6875 54.6875 \r\nL 56.203125 54.6875 \r\nL 35.6875 0 \r\nL 23.484375 0 \r\nz\r\n\" id=\"DejaVuSans-118\"/>\r\n     <path d=\"M 34.28125 27.484375 \r\nQ 23.390625 27.484375 19.1875 25 \r\nQ 14.984375 22.515625 14.984375 16.5 \r\nQ 14.984375 11.71875 18.140625 8.90625 \r\nQ 21.296875 6.109375 26.703125 6.109375 \r\nQ 34.1875 6.109375 38.703125 11.40625 \r\nQ 43.21875 16.703125 43.21875 25.484375 \r\nL 43.21875 27.484375 \r\nz\r\nM 52.203125 31.203125 \r\nL 52.203125 0 \r\nL 43.21875 0 \r\nL 43.21875 8.296875 \r\nQ 40.140625 3.328125 35.546875 0.953125 \r\nQ 30.953125 -1.421875 24.3125 -1.421875 \r\nQ 15.921875 -1.421875 10.953125 3.296875 \r\nQ 6 8.015625 6 15.921875 \r\nQ 6 25.140625 12.171875 29.828125 \r\nQ 18.359375 34.515625 30.609375 34.515625 \r\nL 43.21875 34.515625 \r\nL 43.21875 35.40625 \r\nQ 43.21875 41.609375 39.140625 45 \r\nQ 35.0625 48.390625 27.6875 48.390625 \r\nQ 23 48.390625 18.546875 47.265625 \r\nQ 14.109375 46.140625 10.015625 43.890625 \r\nL 10.015625 52.203125 \r\nQ 14.9375 54.109375 19.578125 55.046875 \r\nQ 24.21875 56 28.609375 56 \r\nQ 40.484375 56 46.34375 49.84375 \r\nQ 52.203125 43.703125 52.203125 31.203125 \r\nz\r\n\" id=\"DejaVuSans-97\"/>\r\n     <path id=\"DejaVuSans-32\"/>\r\n    </defs>\r\n    <g transform=\"translate(195.1525 16.318125)scale(0.12 -0.12)\">\r\n     <use xlink:href=\"#DejaVuSans-118\"/>\r\n     <use x=\"59.179688\" xlink:href=\"#DejaVuSans-97\"/>\r\n     <use x=\"120.458984\" xlink:href=\"#DejaVuSans-108\"/>\r\n     <use x=\"148.242188\" xlink:href=\"#DejaVuSans-32\"/>\r\n     <use x=\"180.029297\" xlink:href=\"#DejaVuSans-108\"/>\r\n     <use x=\"207.8125\" xlink:href=\"#DejaVuSans-111\"/>\r\n     <use x=\"268.994141\" xlink:href=\"#DejaVuSans-115\"/>\r\n     <use x=\"321.09375\" xlink:href=\"#DejaVuSans-115\"/>\r\n    </g>\r\n   </g>\r\n   <g id=\"legend_1\">\r\n    <g id=\"patch_7\">\r\n     <path d=\"M 373.94375 35.318125 \r\nL 377.94375 35.318125 \r\nQ 379.94375 35.318125 379.94375 33.318125 \r\nL 379.94375 29.318125 \r\nQ 379.94375 27.318125 377.94375 27.318125 \r\nL 373.94375 27.318125 \r\nQ 371.94375 27.318125 371.94375 29.318125 \r\nL 371.94375 33.318125 \r\nQ 371.94375 35.318125 373.94375 35.318125 \r\nz\r\n\" style=\"fill:#ffffff;opacity:0.8;stroke:#cccccc;stroke-linejoin:miter;\"/>\r\n    </g>\r\n   </g>\r\n  </g>\r\n </g>\r\n <defs>\r\n  <clipPath id=\"pc9f07c4350\">\r\n   <rect height=\"217.44\" width=\"334.8\" x=\"50.14375\" y=\"22.318125\"/>\r\n  </clipPath>\r\n </defs>\r\n</svg>\r\n",
      "image/png": "[encoded data removed]"
     },
     "metadata": {
      "needs_background": "light"
     }
    }
   ],
   "source": [
    "m.plot_loss(val_loss,'val loss','Epoch', x_all=True)"
   ]
  },
  {
   "cell_type": "code",
   "execution_count": 18,
   "metadata": {},
   "outputs": [
    {
     "output_type": "stream",
     "name": "stdout",
     "text": "0.24178439803439802   0.4281643409971711\n"
    }
   ],
   "source": [
    "mu, std = data['y_train'].mean(), data['y_train'].std()\n",
    "print(mu, ' ', std)"
   ]
  },
  {
   "cell_type": "code",
   "execution_count": 8,
   "metadata": {},
   "outputs": [],
   "source": [
    "m.load_model('best')"
   ]
  },
  {
   "cell_type": "code",
   "execution_count": 19,
   "metadata": {},
   "outputs": [
    {
     "output_type": "execute_result",
     "data": {
      "text/plain": "204"
     },
     "metadata": {},
     "execution_count": 19
    }
   ],
   "source": [
    "m.best_step"
   ]
  },
  {
   "cell_type": "code",
   "execution_count": 15,
   "metadata": {},
   "outputs": [
    {
     "output_type": "display_data",
     "data": {
      "text/plain": "HBox(children=(FloatProgress(value=0.0, description='0/1(e)', max=32.0, style=ProgressStyle(description_width=…",
      "application/vnd.jupyter.widget-view+json": {
       "version_major": 2,
       "version_minor": 0,
       "model_id": "ee7c4738a7af4d1faa6ae3db2fff0d54"
      }
     },
     "metadata": {}
    },
    {
     "output_type": "stream",
     "name": "stdout",
     "text": "\n"
    }
   ],
   "source": [
    "m.trial.with_test_generator(t_loader)\n",
    "t = m.trial.evaluate(data_key=torchbearer.TEST_DATA)"
   ]
  },
  {
   "cell_type": "code",
   "execution_count": 16,
   "metadata": {},
   "outputs": [
    {
     "output_type": "execute_result",
     "data": {
      "text/plain": "{'test_loss': 0.5931424498558044, 'test_mse': 0.5928422212600708}"
     },
     "metadata": {},
     "execution_count": 16
    }
   ],
   "source": [
    "t"
   ]
  },
  {
   "cell_type": "code",
   "execution_count": 19,
   "metadata": {},
   "outputs": [
    {
     "output_type": "execute_result",
     "data": {
      "text/plain": "0.1086826240799926"
     },
     "metadata": {},
     "execution_count": 19
    }
   ],
   "source": [
    "t['test_mse'] * std ** 2"
   ]
  },
  {
   "cell_type": "code",
   "execution_count": null,
   "metadata": {},
   "outputs": [],
   "source": []
  }
 ],
 "metadata": {
  "language_info": {
   "codemirror_mode": {
    "name": "ipython",
    "version": 3
   },
   "file_extension": ".py",
   "mimetype": "text/x-python",
   "name": "python",
   "nbconvert_exporter": "python",
   "pygments_lexer": "ipython3",
   "version": "3.8.2-final"
  },
  "orig_nbformat": 2,
  "kernelspec": {
   "name": "python3",
   "display_name": "Python 3"
  }
 },
 "nbformat": 4,
 "nbformat_minor": 2
}